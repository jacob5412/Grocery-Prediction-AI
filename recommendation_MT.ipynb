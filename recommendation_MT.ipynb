{
  "nbformat": 4,
  "nbformat_minor": 0,
  "metadata": {
    "colab": {
      "name": "recommendation-MT.ipynb",
      "version": "0.3.2",
      "provenance": [],
      "collapsed_sections": [
        "evvWEIOxCUef",
        "l3nED9v1CUey"
      ]
    },
    "kernelspec": {
      "display_name": "Python 3",
      "language": "python",
      "name": "python3"
    }
  },
  "cells": [
    {
      "metadata": {
        "id": "nMV34hhuCUb-",
        "colab_type": "text"
      },
      "cell_type": "markdown",
      "source": [
        "# How to Build a Recommendation System for Purchase Data (Step-by-Step)\n",
        "* Description: A documentation on building collaborative filtering models for recommending products to customers\n",
        "* Link: https://medium.com/datadriveninvestor/how-to-build-a-recommendation-system-for-purchase-data-step-by-step-d6d7a78800b6\n",
        "* Author: Moorissa Tjokro\n",
        "\n",
        "## Problem statement\n",
        "In this data challenge, we are building collaborative filtering models for recommending product items. The steps below aim to recommend users their top 10 items to place into their basket. The final output will be a csv file in the `output` folder, and a function that searches for a recommendation list based on a speficied user:\n",
        "* Input: user - customer ID\n",
        "* Returns: ranked list of items (product IDs), that the user is most likely to want to put in his/her (empty) \"basket\"\n",
        "\n",
        "## 1. Import modules\n",
        "* `pandas` and `numpy` for data manipulation\n",
        "* `turicreate` for performing model selection and evaluation\n",
        "* `sklearn` for splitting the data into train and test set"
      ]
    },
    {
      "metadata": {
        "id": "d3E45SLpCeMP",
        "colab_type": "code",
        "outputId": "d159868a-f605-4132-d32a-26705064f276",
        "colab": {
          "base_uri": "https://localhost:8080/",
          "height": 615
        }
      },
      "cell_type": "code",
      "source": [
        "!pip install turicreate\n",
        "!pip install sklearn\n",
        "!pip install scripts"
      ],
      "execution_count": 0,
      "outputs": [
        {
          "output_type": "stream",
          "text": [
            "Requirement already satisfied: turicreate in /usr/local/lib/python3.6/dist-packages (5.4)\n",
            "Requirement already satisfied: resampy==0.2.1 in /usr/local/lib/python3.6/dist-packages (from turicreate) (0.2.1)\n",
            "Requirement already satisfied: six>=1.10.0 in /usr/local/lib/python3.6/dist-packages (from turicreate) (1.11.0)\n",
            "Requirement already satisfied: pandas>=0.19.0 in /usr/local/lib/python3.6/dist-packages (from turicreate) (0.22.0)\n",
            "Requirement already satisfied: numpy in /usr/local/lib/python3.6/dist-packages (from turicreate) (1.14.6)\n",
            "Requirement already satisfied: prettytable==0.7.2 in /usr/local/lib/python3.6/dist-packages (from turicreate) (0.7.2)\n",
            "Requirement already satisfied: mxnet<1.2.0,>=1.1.0 in /usr/local/lib/python3.6/dist-packages (from turicreate) (1.1.0.post0)\n",
            "Requirement already satisfied: pillow>=3.3.0 in /usr/local/lib/python3.6/dist-packages (from turicreate) (4.1.1)\n",
            "Requirement already satisfied: scipy>=0.14.0 in /usr/local/lib/python3.6/dist-packages (from turicreate) (1.1.0)\n",
            "Requirement already satisfied: decorator>=4.0.9 in /usr/local/lib/python3.6/dist-packages (from turicreate) (4.4.0)\n",
            "Requirement already satisfied: coremltools==2.1.0 in /usr/local/lib/python3.6/dist-packages (from turicreate) (2.1.0)\n",
            "Requirement already satisfied: requests>=2.9.1 in /usr/local/lib/python3.6/dist-packages (from turicreate) (2.18.4)\n",
            "Requirement already satisfied: numba>=0.32 in /usr/local/lib/python3.6/dist-packages (from resampy==0.2.1->turicreate) (0.40.1)\n",
            "Requirement already satisfied: python-dateutil>=2 in /usr/local/lib/python3.6/dist-packages (from pandas>=0.19.0->turicreate) (2.5.3)\n",
            "Requirement already satisfied: pytz>=2011k in /usr/local/lib/python3.6/dist-packages (from pandas>=0.19.0->turicreate) (2018.9)\n",
            "Requirement already satisfied: graphviz<0.9.0,>=0.8.1 in /usr/local/lib/python3.6/dist-packages (from mxnet<1.2.0,>=1.1.0->turicreate) (0.8.4)\n",
            "Requirement already satisfied: olefile in /usr/local/lib/python3.6/dist-packages (from pillow>=3.3.0->turicreate) (0.46)\n",
            "Requirement already satisfied: protobuf>=3.1.0 in /usr/local/lib/python3.6/dist-packages (from coremltools==2.1.0->turicreate) (3.7.1)\n",
            "Requirement already satisfied: idna<2.7,>=2.5 in /usr/local/lib/python3.6/dist-packages (from requests>=2.9.1->turicreate) (2.6)\n",
            "Requirement already satisfied: chardet<3.1.0,>=3.0.2 in /usr/local/lib/python3.6/dist-packages (from requests>=2.9.1->turicreate) (3.0.4)\n",
            "Requirement already satisfied: urllib3<1.23,>=1.21.1 in /usr/local/lib/python3.6/dist-packages (from requests>=2.9.1->turicreate) (1.22)\n",
            "Requirement already satisfied: certifi>=2017.4.17 in /usr/local/lib/python3.6/dist-packages (from requests>=2.9.1->turicreate) (2019.3.9)\n",
            "Requirement already satisfied: llvmlite>=0.25.0dev0 in /usr/local/lib/python3.6/dist-packages (from numba>=0.32->resampy==0.2.1->turicreate) (0.28.0)\n",
            "Requirement already satisfied: setuptools in /usr/local/lib/python3.6/dist-packages (from protobuf>=3.1.0->coremltools==2.1.0->turicreate) (40.8.0)\n",
            "Requirement already satisfied: sklearn in /usr/local/lib/python3.6/dist-packages (0.0)\n",
            "Requirement already satisfied: scikit-learn in /usr/local/lib/python3.6/dist-packages (from sklearn) (0.20.3)\n",
            "Requirement already satisfied: scipy>=0.13.3 in /usr/local/lib/python3.6/dist-packages (from scikit-learn->sklearn) (1.1.0)\n",
            "Requirement already satisfied: numpy>=1.8.2 in /usr/local/lib/python3.6/dist-packages (from scikit-learn->sklearn) (1.14.6)\n",
            "Collecting scripts\n",
            "  Downloading https://files.pythonhosted.org/packages/c2/32/9f51fd5beb6d537443307d39a223857853460b50f28da17363adc7885e88/scripts-2.0-py2.py3-none-any.whl\n",
            "Collecting stua (from scripts)\n",
            "  Downloading https://files.pythonhosted.org/packages/28/14/229f03e6dbacd177579f08ee339c0da399ce56471bbf671c8e33908f827c/stua-0.2-py2.py3-none-any.whl\n",
            "Installing collected packages: stua, scripts\n",
            "Successfully installed scripts-2.0 stua-0.2\n"
          ],
          "name": "stdout"
        }
      ]
    },
    {
      "metadata": {
        "id": "Nn4NuXdJCUb_",
        "colab_type": "code",
        "outputId": "18e188d0-52b6-4e97-dd0f-5f240bf5d303",
        "colab": {
          "base_uri": "https://localhost:8080/",
          "height": 51
        }
      },
      "cell_type": "code",
      "source": [
        "%load_ext autoreload\n",
        "%autoreload 2\n",
        "\n",
        "import pandas as pd\n",
        "import numpy as np\n",
        "import time\n",
        "import turicreate as tc\n",
        "from sklearn.model_selection import train_test_split"
      ],
      "execution_count": 0,
      "outputs": [
        {
          "output_type": "stream",
          "text": [
            "The autoreload extension is already loaded. To reload it, use:\n",
            "  %reload_ext autoreload\n"
          ],
          "name": "stdout"
        }
      ]
    },
    {
      "metadata": {
        "id": "CddK7Pw_Cg7L",
        "colab_type": "code",
        "outputId": "64b7cbbc-f65c-4a1b-c363-059effec93e6",
        "colab": {
          "resources": {
            "http://localhost:8080/nbextensions/google.colab/files.js": {
              "data": "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",
              "ok": true,
              "headers": [
                [
                  "content-type",
                  "application/javascript"
                ]
              ],
              "status": 200,
              "status_text": ""
            }
          },
          "base_uri": "https://localhost:8080/",
          "height": 105
        }
      },
      "cell_type": "code",
      "source": [
        "from google.colab import files\n",
        "uploaded = files.upload()"
      ],
      "execution_count": 0,
      "outputs": [
        {
          "output_type": "display_data",
          "data": {
            "text/html": [
              "\n",
              "     <input type=\"file\" id=\"files-a8d3114e-7a8b-4a5a-b547-9ba70be3b90f\" name=\"files[]\" multiple disabled />\n",
              "     <output id=\"result-a8d3114e-7a8b-4a5a-b547-9ba70be3b90f\">\n",
              "      Upload widget is only available when the cell has been executed in the\n",
              "      current browser session. Please rerun this cell to enable.\n",
              "      </output>\n",
              "      <script src=\"/nbextensions/google.colab/files.js\"></script> "
            ],
            "text/plain": [
              "<IPython.core.display.HTML object>"
            ]
          },
          "metadata": {
            "tags": []
          }
        },
        {
          "output_type": "stream",
          "text": [
            "Saving recommend_1.csv to recommend_1.csv\n",
            "Saving trx_data.csv to trx_data.csv\n"
          ],
          "name": "stdout"
        }
      ]
    },
    {
      "metadata": {
        "id": "S06EW7SjCUcG",
        "colab_type": "text"
      },
      "cell_type": "markdown",
      "source": [
        "## 2. Load data\n",
        "Two datasets are used in this exercise, which can be found in `data` folder: \n",
        "* `recommend_1.csv` consisting of a list of 1000 customer IDs to recommend as output\n",
        "* `trx_data.csv` consisting of user transactions\n",
        "\n",
        "The format is as follows."
      ]
    },
    {
      "metadata": {
        "id": "Fy-nPpIkCUcH",
        "colab_type": "code",
        "colab": {}
      },
      "cell_type": "code",
      "source": [
        "import io\n",
        "\n",
        "customers = pd.read_csv(io.BytesIO(uploaded['recommend_1.csv'])) \n",
        "transactions = pd.read_csv(io.BytesIO(uploaded['trx_data.csv']))"
      ],
      "execution_count": 0,
      "outputs": []
    },
    {
      "metadata": {
        "id": "0rtpOVwRCUcJ",
        "colab_type": "code",
        "outputId": "54ba6079-8e1f-41de-fc03-ecda9a5d3cb4",
        "colab": {
          "base_uri": "https://localhost:8080/",
          "height": 221
        }
      },
      "cell_type": "code",
      "source": [
        "print(customers.shape)\n",
        "customers.head()"
      ],
      "execution_count": 0,
      "outputs": [
        {
          "output_type": "stream",
          "text": [
            "(1000, 1)\n"
          ],
          "name": "stdout"
        },
        {
          "output_type": "execute_result",
          "data": {
            "text/html": [
              "<div>\n",
              "<style scoped>\n",
              "    .dataframe tbody tr th:only-of-type {\n",
              "        vertical-align: middle;\n",
              "    }\n",
              "\n",
              "    .dataframe tbody tr th {\n",
              "        vertical-align: top;\n",
              "    }\n",
              "\n",
              "    .dataframe thead th {\n",
              "        text-align: right;\n",
              "    }\n",
              "</style>\n",
              "<table border=\"1\" class=\"dataframe\">\n",
              "  <thead>\n",
              "    <tr style=\"text-align: right;\">\n",
              "      <th></th>\n",
              "      <th>customerId</th>\n",
              "    </tr>\n",
              "  </thead>\n",
              "  <tbody>\n",
              "    <tr>\n",
              "      <th>0</th>\n",
              "      <td>1553</td>\n",
              "    </tr>\n",
              "    <tr>\n",
              "      <th>1</th>\n",
              "      <td>20400</td>\n",
              "    </tr>\n",
              "    <tr>\n",
              "      <th>2</th>\n",
              "      <td>19750</td>\n",
              "    </tr>\n",
              "    <tr>\n",
              "      <th>3</th>\n",
              "      <td>6334</td>\n",
              "    </tr>\n",
              "    <tr>\n",
              "      <th>4</th>\n",
              "      <td>27773</td>\n",
              "    </tr>\n",
              "  </tbody>\n",
              "</table>\n",
              "</div>"
            ],
            "text/plain": [
              "   customerId\n",
              "0        1553\n",
              "1       20400\n",
              "2       19750\n",
              "3        6334\n",
              "4       27773"
            ]
          },
          "metadata": {
            "tags": []
          },
          "execution_count": 11
        }
      ]
    },
    {
      "metadata": {
        "id": "4xMEaxvJCUcN",
        "colab_type": "code",
        "outputId": "fbc99145-a92b-48ac-b7ce-9c8bb40980cd",
        "colab": {
          "base_uri": "https://localhost:8080/",
          "height": 221
        }
      },
      "cell_type": "code",
      "source": [
        "print(transactions.shape)\n",
        "transactions.head()"
      ],
      "execution_count": 0,
      "outputs": [
        {
          "output_type": "stream",
          "text": [
            "(62483, 2)\n"
          ],
          "name": "stdout"
        },
        {
          "output_type": "execute_result",
          "data": {
            "text/html": [
              "<div>\n",
              "<style scoped>\n",
              "    .dataframe tbody tr th:only-of-type {\n",
              "        vertical-align: middle;\n",
              "    }\n",
              "\n",
              "    .dataframe tbody tr th {\n",
              "        vertical-align: top;\n",
              "    }\n",
              "\n",
              "    .dataframe thead th {\n",
              "        text-align: right;\n",
              "    }\n",
              "</style>\n",
              "<table border=\"1\" class=\"dataframe\">\n",
              "  <thead>\n",
              "    <tr style=\"text-align: right;\">\n",
              "      <th></th>\n",
              "      <th>customerId</th>\n",
              "      <th>products</th>\n",
              "    </tr>\n",
              "  </thead>\n",
              "  <tbody>\n",
              "    <tr>\n",
              "      <th>0</th>\n",
              "      <td>0</td>\n",
              "      <td>20</td>\n",
              "    </tr>\n",
              "    <tr>\n",
              "      <th>1</th>\n",
              "      <td>1</td>\n",
              "      <td>2|2|23|68|68|111|29|86|107|152</td>\n",
              "    </tr>\n",
              "    <tr>\n",
              "      <th>2</th>\n",
              "      <td>2</td>\n",
              "      <td>111|107|29|11|11|11|33|23</td>\n",
              "    </tr>\n",
              "    <tr>\n",
              "      <th>3</th>\n",
              "      <td>3</td>\n",
              "      <td>164|227</td>\n",
              "    </tr>\n",
              "    <tr>\n",
              "      <th>4</th>\n",
              "      <td>5</td>\n",
              "      <td>2|2</td>\n",
              "    </tr>\n",
              "  </tbody>\n",
              "</table>\n",
              "</div>"
            ],
            "text/plain": [
              "   customerId                        products\n",
              "0           0                              20\n",
              "1           1  2|2|23|68|68|111|29|86|107|152\n",
              "2           2       111|107|29|11|11|11|33|23\n",
              "3           3                         164|227\n",
              "4           5                             2|2"
            ]
          },
          "metadata": {
            "tags": []
          },
          "execution_count": 12
        }
      ]
    },
    {
      "metadata": {
        "id": "dyTOB-unCUcQ",
        "colab_type": "text"
      },
      "cell_type": "markdown",
      "source": [
        "## 3. Data preparation\n",
        "* Our goal here is to break down each list of items in the `products` column into rows and count the number of products bought by a user"
      ]
    },
    {
      "metadata": {
        "id": "xqLU9FU0CUcR",
        "colab_type": "code",
        "outputId": "4eac1aab-9ddf-40b3-acde-c0a9d9759348",
        "colab": {
          "base_uri": "https://localhost:8080/",
          "height": 111
        }
      },
      "cell_type": "code",
      "source": [
        "# example 1: split product items\n",
        "transactions['products'] = transactions['products'].apply(lambda x: [int(i) for i in x.split('|')])\n",
        "transactions.head(2).set_index('customerId')['products'].apply(pd.Series).reset_index()"
      ],
      "execution_count": 0,
      "outputs": [
        {
          "output_type": "execute_result",
          "data": {
            "text/html": [
              "<div>\n",
              "<style scoped>\n",
              "    .dataframe tbody tr th:only-of-type {\n",
              "        vertical-align: middle;\n",
              "    }\n",
              "\n",
              "    .dataframe tbody tr th {\n",
              "        vertical-align: top;\n",
              "    }\n",
              "\n",
              "    .dataframe thead th {\n",
              "        text-align: right;\n",
              "    }\n",
              "</style>\n",
              "<table border=\"1\" class=\"dataframe\">\n",
              "  <thead>\n",
              "    <tr style=\"text-align: right;\">\n",
              "      <th></th>\n",
              "      <th>customerId</th>\n",
              "      <th>0</th>\n",
              "      <th>1</th>\n",
              "      <th>2</th>\n",
              "      <th>3</th>\n",
              "      <th>4</th>\n",
              "      <th>5</th>\n",
              "      <th>6</th>\n",
              "      <th>7</th>\n",
              "      <th>8</th>\n",
              "      <th>9</th>\n",
              "    </tr>\n",
              "  </thead>\n",
              "  <tbody>\n",
              "    <tr>\n",
              "      <th>0</th>\n",
              "      <td>0</td>\n",
              "      <td>20.0</td>\n",
              "      <td>NaN</td>\n",
              "      <td>NaN</td>\n",
              "      <td>NaN</td>\n",
              "      <td>NaN</td>\n",
              "      <td>NaN</td>\n",
              "      <td>NaN</td>\n",
              "      <td>NaN</td>\n",
              "      <td>NaN</td>\n",
              "      <td>NaN</td>\n",
              "    </tr>\n",
              "    <tr>\n",
              "      <th>1</th>\n",
              "      <td>1</td>\n",
              "      <td>2.0</td>\n",
              "      <td>2.0</td>\n",
              "      <td>23.0</td>\n",
              "      <td>68.0</td>\n",
              "      <td>68.0</td>\n",
              "      <td>111.0</td>\n",
              "      <td>29.0</td>\n",
              "      <td>86.0</td>\n",
              "      <td>107.0</td>\n",
              "      <td>152.0</td>\n",
              "    </tr>\n",
              "  </tbody>\n",
              "</table>\n",
              "</div>"
            ],
            "text/plain": [
              "   customerId     0    1     2     3     4      5     6     7      8      9\n",
              "0           0  20.0  NaN   NaN   NaN   NaN    NaN   NaN   NaN    NaN    NaN\n",
              "1           1   2.0  2.0  23.0  68.0  68.0  111.0  29.0  86.0  107.0  152.0"
            ]
          },
          "metadata": {
            "tags": []
          },
          "execution_count": 13
        }
      ]
    },
    {
      "metadata": {
        "id": "32dLq9gqCUcU",
        "colab_type": "code",
        "outputId": "ef0a9e16-59be-4bfc-b28f-6f6225a46102",
        "colab": {
          "base_uri": "https://localhost:8080/",
          "height": 328
        }
      },
      "cell_type": "code",
      "source": [
        "# example 2: organize a given table into a dataframe with customerId, single productId, and purchase count\n",
        "pd.melt(transactions.head(2).set_index('customerId')['products'].apply(pd.Series).reset_index(), \n",
        "             id_vars=['customerId'],\n",
        "             value_name='products') \\\n",
        "    .dropna().drop(['variable'], axis=1) \\\n",
        "    .groupby(['customerId', 'products']) \\\n",
        "    .agg({'products': 'count'}) \\\n",
        "    .rename(columns={'products': 'purchase_count'}) \\\n",
        "    .reset_index() \\\n",
        "    .rename(columns={'products': 'productId'})"
      ],
      "execution_count": 0,
      "outputs": [
        {
          "output_type": "execute_result",
          "data": {
            "text/html": [
              "<div>\n",
              "<style scoped>\n",
              "    .dataframe tbody tr th:only-of-type {\n",
              "        vertical-align: middle;\n",
              "    }\n",
              "\n",
              "    .dataframe tbody tr th {\n",
              "        vertical-align: top;\n",
              "    }\n",
              "\n",
              "    .dataframe thead th {\n",
              "        text-align: right;\n",
              "    }\n",
              "</style>\n",
              "<table border=\"1\" class=\"dataframe\">\n",
              "  <thead>\n",
              "    <tr style=\"text-align: right;\">\n",
              "      <th></th>\n",
              "      <th>customerId</th>\n",
              "      <th>productId</th>\n",
              "      <th>purchase_count</th>\n",
              "    </tr>\n",
              "  </thead>\n",
              "  <tbody>\n",
              "    <tr>\n",
              "      <th>0</th>\n",
              "      <td>0</td>\n",
              "      <td>20.0</td>\n",
              "      <td>1</td>\n",
              "    </tr>\n",
              "    <tr>\n",
              "      <th>1</th>\n",
              "      <td>1</td>\n",
              "      <td>2.0</td>\n",
              "      <td>2</td>\n",
              "    </tr>\n",
              "    <tr>\n",
              "      <th>2</th>\n",
              "      <td>1</td>\n",
              "      <td>23.0</td>\n",
              "      <td>1</td>\n",
              "    </tr>\n",
              "    <tr>\n",
              "      <th>3</th>\n",
              "      <td>1</td>\n",
              "      <td>29.0</td>\n",
              "      <td>1</td>\n",
              "    </tr>\n",
              "    <tr>\n",
              "      <th>4</th>\n",
              "      <td>1</td>\n",
              "      <td>68.0</td>\n",
              "      <td>2</td>\n",
              "    </tr>\n",
              "    <tr>\n",
              "      <th>5</th>\n",
              "      <td>1</td>\n",
              "      <td>86.0</td>\n",
              "      <td>1</td>\n",
              "    </tr>\n",
              "    <tr>\n",
              "      <th>6</th>\n",
              "      <td>1</td>\n",
              "      <td>107.0</td>\n",
              "      <td>1</td>\n",
              "    </tr>\n",
              "    <tr>\n",
              "      <th>7</th>\n",
              "      <td>1</td>\n",
              "      <td>111.0</td>\n",
              "      <td>1</td>\n",
              "    </tr>\n",
              "    <tr>\n",
              "      <th>8</th>\n",
              "      <td>1</td>\n",
              "      <td>152.0</td>\n",
              "      <td>1</td>\n",
              "    </tr>\n",
              "  </tbody>\n",
              "</table>\n",
              "</div>"
            ],
            "text/plain": [
              "   customerId  productId  purchase_count\n",
              "0           0       20.0               1\n",
              "1           1        2.0               2\n",
              "2           1       23.0               1\n",
              "3           1       29.0               1\n",
              "4           1       68.0               2\n",
              "5           1       86.0               1\n",
              "6           1      107.0               1\n",
              "7           1      111.0               1\n",
              "8           1      152.0               1"
            ]
          },
          "metadata": {
            "tags": []
          },
          "execution_count": 14
        }
      ]
    },
    {
      "metadata": {
        "id": "kXbxE4gBCUcY",
        "colab_type": "text"
      },
      "cell_type": "markdown",
      "source": [
        "### 3.1. Create data with user, item, and target field\n",
        "* This table will be an input for our modeling later\n",
        "    * In this case, our user is `customerId`, `productId`, and `purchase_count`"
      ]
    },
    {
      "metadata": {
        "id": "HIazLOMpCUcZ",
        "colab_type": "code",
        "outputId": "f90abdcb-49c6-44ee-978c-a011caa681ef",
        "colab": {
          "base_uri": "https://localhost:8080/",
          "height": 34
        }
      },
      "cell_type": "code",
      "source": [
        "s=time.time()\n",
        "\n",
        "data = pd.melt(transactions.set_index('customerId')['products'].apply(pd.Series).reset_index(), \n",
        "             id_vars=['customerId'],\n",
        "             value_name='products') \\\n",
        "    .dropna().drop(['variable'], axis=1) \\\n",
        "    .groupby(['customerId', 'products']) \\\n",
        "    .agg({'products': 'count'}) \\\n",
        "    .rename(columns={'products': 'purchase_count'}) \\\n",
        "    .reset_index() \\\n",
        "    .rename(columns={'products': 'productId'})\n",
        "data['productId'] = data['productId'].astype(np.int64)\n",
        "\n",
        "print(\"Execution time:\", round((time.time()-s)/60,2), \"minutes\")"
      ],
      "execution_count": 0,
      "outputs": [
        {
          "output_type": "stream",
          "text": [
            "Execution time: 0.2 minutes\n"
          ],
          "name": "stdout"
        }
      ]
    },
    {
      "metadata": {
        "id": "VT8LtZIWCUce",
        "colab_type": "code",
        "outputId": "8bbe911d-98a2-4fa6-9425-acff687347ac",
        "colab": {
          "base_uri": "https://localhost:8080/",
          "height": 221
        }
      },
      "cell_type": "code",
      "source": [
        "print(data.shape)\n",
        "data.head()"
      ],
      "execution_count": 0,
      "outputs": [
        {
          "output_type": "stream",
          "text": [
            "(133585, 3)\n"
          ],
          "name": "stdout"
        },
        {
          "output_type": "execute_result",
          "data": {
            "text/html": [
              "<div>\n",
              "<style scoped>\n",
              "    .dataframe tbody tr th:only-of-type {\n",
              "        vertical-align: middle;\n",
              "    }\n",
              "\n",
              "    .dataframe tbody tr th {\n",
              "        vertical-align: top;\n",
              "    }\n",
              "\n",
              "    .dataframe thead th {\n",
              "        text-align: right;\n",
              "    }\n",
              "</style>\n",
              "<table border=\"1\" class=\"dataframe\">\n",
              "  <thead>\n",
              "    <tr style=\"text-align: right;\">\n",
              "      <th></th>\n",
              "      <th>customerId</th>\n",
              "      <th>productId</th>\n",
              "      <th>purchase_count</th>\n",
              "    </tr>\n",
              "  </thead>\n",
              "  <tbody>\n",
              "    <tr>\n",
              "      <th>0</th>\n",
              "      <td>0</td>\n",
              "      <td>1</td>\n",
              "      <td>2</td>\n",
              "    </tr>\n",
              "    <tr>\n",
              "      <th>1</th>\n",
              "      <td>0</td>\n",
              "      <td>13</td>\n",
              "      <td>1</td>\n",
              "    </tr>\n",
              "    <tr>\n",
              "      <th>2</th>\n",
              "      <td>0</td>\n",
              "      <td>19</td>\n",
              "      <td>3</td>\n",
              "    </tr>\n",
              "    <tr>\n",
              "      <th>3</th>\n",
              "      <td>0</td>\n",
              "      <td>20</td>\n",
              "      <td>1</td>\n",
              "    </tr>\n",
              "    <tr>\n",
              "      <th>4</th>\n",
              "      <td>0</td>\n",
              "      <td>31</td>\n",
              "      <td>2</td>\n",
              "    </tr>\n",
              "  </tbody>\n",
              "</table>\n",
              "</div>"
            ],
            "text/plain": [
              "   customerId  productId  purchase_count\n",
              "0           0          1               2\n",
              "1           0         13               1\n",
              "2           0         19               3\n",
              "3           0         20               1\n",
              "4           0         31               2"
            ]
          },
          "metadata": {
            "tags": []
          },
          "execution_count": 16
        }
      ]
    },
    {
      "metadata": {
        "id": "oV2dqLPuCUcj",
        "colab_type": "text"
      },
      "cell_type": "markdown",
      "source": [
        "### 3.2. Create dummy\n",
        "* Dummy for marking whether a customer bought that item or not.\n",
        "* If one buys an item, then `purchase_dummy` are marked as 1\n",
        "* Why create a dummy instead of normalizing it, you ask?\n",
        "    * Normalizing the purchase count, say by each user, would not work because customers may have different buying frequency don't have the same taste\n",
        "    * However, we can normalize items by purchase frequency across all users, which is done in section 3.3. below."
      ]
    },
    {
      "metadata": {
        "id": "xZ_uxAL0CUck",
        "colab_type": "code",
        "colab": {}
      },
      "cell_type": "code",
      "source": [
        "def create_data_dummy(data):\n",
        "    data_dummy = data.copy()\n",
        "    data_dummy['purchase_dummy'] = 1\n",
        "    return data_dummy"
      ],
      "execution_count": 0,
      "outputs": []
    },
    {
      "metadata": {
        "id": "6A6xUzo3CUcm",
        "colab_type": "code",
        "colab": {}
      },
      "cell_type": "code",
      "source": [
        "data_dummy = create_data_dummy(data)"
      ],
      "execution_count": 0,
      "outputs": []
    },
    {
      "metadata": {
        "id": "AZeOasQfCUcp",
        "colab_type": "text"
      },
      "cell_type": "markdown",
      "source": [
        "### 3.3. Normalize item values across users\n",
        "* To do this, we normalize purchase frequency of each item across users by first creating a user-item matrix as follows"
      ]
    },
    {
      "metadata": {
        "id": "Is9j-uSXCUcp",
        "colab_type": "code",
        "outputId": "3d5653f3-7a3c-4f72-c248-c01d5132ff57",
        "colab": {
          "base_uri": "https://localhost:8080/",
          "height": 264
        }
      },
      "cell_type": "code",
      "source": [
        "df_matrix = pd.pivot_table(data, values='purchase_count', index='customerId', columns='productId')\n",
        "df_matrix.head()"
      ],
      "execution_count": 0,
      "outputs": [
        {
          "output_type": "execute_result",
          "data": {
            "text/html": [
              "<div>\n",
              "<style scoped>\n",
              "    .dataframe tbody tr th:only-of-type {\n",
              "        vertical-align: middle;\n",
              "    }\n",
              "\n",
              "    .dataframe tbody tr th {\n",
              "        vertical-align: top;\n",
              "    }\n",
              "\n",
              "    .dataframe thead th {\n",
              "        text-align: right;\n",
              "    }\n",
              "</style>\n",
              "<table border=\"1\" class=\"dataframe\">\n",
              "  <thead>\n",
              "    <tr style=\"text-align: right;\">\n",
              "      <th>productId</th>\n",
              "      <th>0</th>\n",
              "      <th>1</th>\n",
              "      <th>2</th>\n",
              "      <th>3</th>\n",
              "      <th>4</th>\n",
              "      <th>5</th>\n",
              "      <th>6</th>\n",
              "      <th>7</th>\n",
              "      <th>8</th>\n",
              "      <th>9</th>\n",
              "      <th>...</th>\n",
              "      <th>290</th>\n",
              "      <th>291</th>\n",
              "      <th>292</th>\n",
              "      <th>293</th>\n",
              "      <th>294</th>\n",
              "      <th>295</th>\n",
              "      <th>296</th>\n",
              "      <th>297</th>\n",
              "      <th>298</th>\n",
              "      <th>299</th>\n",
              "    </tr>\n",
              "    <tr>\n",
              "      <th>customerId</th>\n",
              "      <th></th>\n",
              "      <th></th>\n",
              "      <th></th>\n",
              "      <th></th>\n",
              "      <th></th>\n",
              "      <th></th>\n",
              "      <th></th>\n",
              "      <th></th>\n",
              "      <th></th>\n",
              "      <th></th>\n",
              "      <th></th>\n",
              "      <th></th>\n",
              "      <th></th>\n",
              "      <th></th>\n",
              "      <th></th>\n",
              "      <th></th>\n",
              "      <th></th>\n",
              "      <th></th>\n",
              "      <th></th>\n",
              "      <th></th>\n",
              "      <th></th>\n",
              "    </tr>\n",
              "  </thead>\n",
              "  <tbody>\n",
              "    <tr>\n",
              "      <th>0</th>\n",
              "      <td>NaN</td>\n",
              "      <td>2.0</td>\n",
              "      <td>NaN</td>\n",
              "      <td>NaN</td>\n",
              "      <td>NaN</td>\n",
              "      <td>NaN</td>\n",
              "      <td>NaN</td>\n",
              "      <td>NaN</td>\n",
              "      <td>NaN</td>\n",
              "      <td>NaN</td>\n",
              "      <td>...</td>\n",
              "      <td>NaN</td>\n",
              "      <td>NaN</td>\n",
              "      <td>NaN</td>\n",
              "      <td>NaN</td>\n",
              "      <td>NaN</td>\n",
              "      <td>NaN</td>\n",
              "      <td>NaN</td>\n",
              "      <td>NaN</td>\n",
              "      <td>NaN</td>\n",
              "      <td>NaN</td>\n",
              "    </tr>\n",
              "    <tr>\n",
              "      <th>1</th>\n",
              "      <td>NaN</td>\n",
              "      <td>NaN</td>\n",
              "      <td>6.0</td>\n",
              "      <td>NaN</td>\n",
              "      <td>NaN</td>\n",
              "      <td>NaN</td>\n",
              "      <td>NaN</td>\n",
              "      <td>NaN</td>\n",
              "      <td>NaN</td>\n",
              "      <td>NaN</td>\n",
              "      <td>...</td>\n",
              "      <td>NaN</td>\n",
              "      <td>NaN</td>\n",
              "      <td>NaN</td>\n",
              "      <td>1.0</td>\n",
              "      <td>NaN</td>\n",
              "      <td>NaN</td>\n",
              "      <td>1.0</td>\n",
              "      <td>NaN</td>\n",
              "      <td>NaN</td>\n",
              "      <td>NaN</td>\n",
              "    </tr>\n",
              "    <tr>\n",
              "      <th>2</th>\n",
              "      <td>NaN</td>\n",
              "      <td>NaN</td>\n",
              "      <td>NaN</td>\n",
              "      <td>NaN</td>\n",
              "      <td>NaN</td>\n",
              "      <td>NaN</td>\n",
              "      <td>NaN</td>\n",
              "      <td>NaN</td>\n",
              "      <td>NaN</td>\n",
              "      <td>NaN</td>\n",
              "      <td>...</td>\n",
              "      <td>NaN</td>\n",
              "      <td>NaN</td>\n",
              "      <td>NaN</td>\n",
              "      <td>NaN</td>\n",
              "      <td>NaN</td>\n",
              "      <td>NaN</td>\n",
              "      <td>NaN</td>\n",
              "      <td>NaN</td>\n",
              "      <td>NaN</td>\n",
              "      <td>NaN</td>\n",
              "    </tr>\n",
              "    <tr>\n",
              "      <th>3</th>\n",
              "      <td>NaN</td>\n",
              "      <td>NaN</td>\n",
              "      <td>NaN</td>\n",
              "      <td>NaN</td>\n",
              "      <td>NaN</td>\n",
              "      <td>NaN</td>\n",
              "      <td>NaN</td>\n",
              "      <td>NaN</td>\n",
              "      <td>NaN</td>\n",
              "      <td>NaN</td>\n",
              "      <td>...</td>\n",
              "      <td>NaN</td>\n",
              "      <td>NaN</td>\n",
              "      <td>NaN</td>\n",
              "      <td>NaN</td>\n",
              "      <td>NaN</td>\n",
              "      <td>NaN</td>\n",
              "      <td>NaN</td>\n",
              "      <td>NaN</td>\n",
              "      <td>NaN</td>\n",
              "      <td>NaN</td>\n",
              "    </tr>\n",
              "    <tr>\n",
              "      <th>4</th>\n",
              "      <td>NaN</td>\n",
              "      <td>NaN</td>\n",
              "      <td>NaN</td>\n",
              "      <td>NaN</td>\n",
              "      <td>NaN</td>\n",
              "      <td>NaN</td>\n",
              "      <td>NaN</td>\n",
              "      <td>NaN</td>\n",
              "      <td>NaN</td>\n",
              "      <td>NaN</td>\n",
              "      <td>...</td>\n",
              "      <td>NaN</td>\n",
              "      <td>NaN</td>\n",
              "      <td>NaN</td>\n",
              "      <td>NaN</td>\n",
              "      <td>NaN</td>\n",
              "      <td>NaN</td>\n",
              "      <td>NaN</td>\n",
              "      <td>NaN</td>\n",
              "      <td>NaN</td>\n",
              "      <td>NaN</td>\n",
              "    </tr>\n",
              "  </tbody>\n",
              "</table>\n",
              "<p>5 rows × 300 columns</p>\n",
              "</div>"
            ],
            "text/plain": [
              "productId   0    1    2    3    4    5    6    7    8    9   ...   290  291  \\\n",
              "customerId                                                   ...              \n",
              "0           NaN  2.0  NaN  NaN  NaN  NaN  NaN  NaN  NaN  NaN ...   NaN  NaN   \n",
              "1           NaN  NaN  6.0  NaN  NaN  NaN  NaN  NaN  NaN  NaN ...   NaN  NaN   \n",
              "2           NaN  NaN  NaN  NaN  NaN  NaN  NaN  NaN  NaN  NaN ...   NaN  NaN   \n",
              "3           NaN  NaN  NaN  NaN  NaN  NaN  NaN  NaN  NaN  NaN ...   NaN  NaN   \n",
              "4           NaN  NaN  NaN  NaN  NaN  NaN  NaN  NaN  NaN  NaN ...   NaN  NaN   \n",
              "\n",
              "productId   292  293  294  295  296  297  298  299  \n",
              "customerId                                          \n",
              "0           NaN  NaN  NaN  NaN  NaN  NaN  NaN  NaN  \n",
              "1           NaN  1.0  NaN  NaN  1.0  NaN  NaN  NaN  \n",
              "2           NaN  NaN  NaN  NaN  NaN  NaN  NaN  NaN  \n",
              "3           NaN  NaN  NaN  NaN  NaN  NaN  NaN  NaN  \n",
              "4           NaN  NaN  NaN  NaN  NaN  NaN  NaN  NaN  \n",
              "\n",
              "[5 rows x 300 columns]"
            ]
          },
          "metadata": {
            "tags": []
          },
          "execution_count": 19
        }
      ]
    },
    {
      "metadata": {
        "id": "ItOkKf07CUct",
        "colab_type": "code",
        "outputId": "8c358136-0cc9-4723-ab3d-5df88b71b71a",
        "colab": {
          "base_uri": "https://localhost:8080/",
          "height": 34
        }
      },
      "cell_type": "code",
      "source": [
        "(df_matrix.shape)"
      ],
      "execution_count": 0,
      "outputs": [
        {
          "output_type": "execute_result",
          "data": {
            "text/plain": [
              "(24429, 300)"
            ]
          },
          "metadata": {
            "tags": []
          },
          "execution_count": 20
        }
      ]
    },
    {
      "metadata": {
        "id": "eYjaO40_CUcx",
        "colab_type": "code",
        "outputId": "658351ee-07e3-4279-f5aa-6a674e5cc8b8",
        "colab": {
          "base_uri": "https://localhost:8080/",
          "height": 281
        }
      },
      "cell_type": "code",
      "source": [
        "df_matrix_norm = (df_matrix-df_matrix.min())/(df_matrix.max()-df_matrix.min())\n",
        "print(df_matrix_norm.shape)\n",
        "df_matrix_norm.head()"
      ],
      "execution_count": 0,
      "outputs": [
        {
          "output_type": "stream",
          "text": [
            "(24429, 300)\n"
          ],
          "name": "stdout"
        },
        {
          "output_type": "execute_result",
          "data": {
            "text/html": [
              "<div>\n",
              "<style scoped>\n",
              "    .dataframe tbody tr th:only-of-type {\n",
              "        vertical-align: middle;\n",
              "    }\n",
              "\n",
              "    .dataframe tbody tr th {\n",
              "        vertical-align: top;\n",
              "    }\n",
              "\n",
              "    .dataframe thead th {\n",
              "        text-align: right;\n",
              "    }\n",
              "</style>\n",
              "<table border=\"1\" class=\"dataframe\">\n",
              "  <thead>\n",
              "    <tr style=\"text-align: right;\">\n",
              "      <th>productId</th>\n",
              "      <th>0</th>\n",
              "      <th>1</th>\n",
              "      <th>2</th>\n",
              "      <th>3</th>\n",
              "      <th>4</th>\n",
              "      <th>5</th>\n",
              "      <th>6</th>\n",
              "      <th>7</th>\n",
              "      <th>8</th>\n",
              "      <th>9</th>\n",
              "      <th>...</th>\n",
              "      <th>290</th>\n",
              "      <th>291</th>\n",
              "      <th>292</th>\n",
              "      <th>293</th>\n",
              "      <th>294</th>\n",
              "      <th>295</th>\n",
              "      <th>296</th>\n",
              "      <th>297</th>\n",
              "      <th>298</th>\n",
              "      <th>299</th>\n",
              "    </tr>\n",
              "    <tr>\n",
              "      <th>customerId</th>\n",
              "      <th></th>\n",
              "      <th></th>\n",
              "      <th></th>\n",
              "      <th></th>\n",
              "      <th></th>\n",
              "      <th></th>\n",
              "      <th></th>\n",
              "      <th></th>\n",
              "      <th></th>\n",
              "      <th></th>\n",
              "      <th></th>\n",
              "      <th></th>\n",
              "      <th></th>\n",
              "      <th></th>\n",
              "      <th></th>\n",
              "      <th></th>\n",
              "      <th></th>\n",
              "      <th></th>\n",
              "      <th></th>\n",
              "      <th></th>\n",
              "      <th></th>\n",
              "    </tr>\n",
              "  </thead>\n",
              "  <tbody>\n",
              "    <tr>\n",
              "      <th>0</th>\n",
              "      <td>NaN</td>\n",
              "      <td>0.1</td>\n",
              "      <td>NaN</td>\n",
              "      <td>NaN</td>\n",
              "      <td>NaN</td>\n",
              "      <td>NaN</td>\n",
              "      <td>NaN</td>\n",
              "      <td>NaN</td>\n",
              "      <td>NaN</td>\n",
              "      <td>NaN</td>\n",
              "      <td>...</td>\n",
              "      <td>NaN</td>\n",
              "      <td>NaN</td>\n",
              "      <td>NaN</td>\n",
              "      <td>NaN</td>\n",
              "      <td>NaN</td>\n",
              "      <td>NaN</td>\n",
              "      <td>NaN</td>\n",
              "      <td>NaN</td>\n",
              "      <td>NaN</td>\n",
              "      <td>NaN</td>\n",
              "    </tr>\n",
              "    <tr>\n",
              "      <th>1</th>\n",
              "      <td>NaN</td>\n",
              "      <td>NaN</td>\n",
              "      <td>0.166667</td>\n",
              "      <td>NaN</td>\n",
              "      <td>NaN</td>\n",
              "      <td>NaN</td>\n",
              "      <td>NaN</td>\n",
              "      <td>NaN</td>\n",
              "      <td>NaN</td>\n",
              "      <td>NaN</td>\n",
              "      <td>...</td>\n",
              "      <td>NaN</td>\n",
              "      <td>NaN</td>\n",
              "      <td>NaN</td>\n",
              "      <td>0.0</td>\n",
              "      <td>NaN</td>\n",
              "      <td>NaN</td>\n",
              "      <td>0.0</td>\n",
              "      <td>NaN</td>\n",
              "      <td>NaN</td>\n",
              "      <td>NaN</td>\n",
              "    </tr>\n",
              "    <tr>\n",
              "      <th>2</th>\n",
              "      <td>NaN</td>\n",
              "      <td>NaN</td>\n",
              "      <td>NaN</td>\n",
              "      <td>NaN</td>\n",
              "      <td>NaN</td>\n",
              "      <td>NaN</td>\n",
              "      <td>NaN</td>\n",
              "      <td>NaN</td>\n",
              "      <td>NaN</td>\n",
              "      <td>NaN</td>\n",
              "      <td>...</td>\n",
              "      <td>NaN</td>\n",
              "      <td>NaN</td>\n",
              "      <td>NaN</td>\n",
              "      <td>NaN</td>\n",
              "      <td>NaN</td>\n",
              "      <td>NaN</td>\n",
              "      <td>NaN</td>\n",
              "      <td>NaN</td>\n",
              "      <td>NaN</td>\n",
              "      <td>NaN</td>\n",
              "    </tr>\n",
              "    <tr>\n",
              "      <th>3</th>\n",
              "      <td>NaN</td>\n",
              "      <td>NaN</td>\n",
              "      <td>NaN</td>\n",
              "      <td>NaN</td>\n",
              "      <td>NaN</td>\n",
              "      <td>NaN</td>\n",
              "      <td>NaN</td>\n",
              "      <td>NaN</td>\n",
              "      <td>NaN</td>\n",
              "      <td>NaN</td>\n",
              "      <td>...</td>\n",
              "      <td>NaN</td>\n",
              "      <td>NaN</td>\n",
              "      <td>NaN</td>\n",
              "      <td>NaN</td>\n",
              "      <td>NaN</td>\n",
              "      <td>NaN</td>\n",
              "      <td>NaN</td>\n",
              "      <td>NaN</td>\n",
              "      <td>NaN</td>\n",
              "      <td>NaN</td>\n",
              "    </tr>\n",
              "    <tr>\n",
              "      <th>4</th>\n",
              "      <td>NaN</td>\n",
              "      <td>NaN</td>\n",
              "      <td>NaN</td>\n",
              "      <td>NaN</td>\n",
              "      <td>NaN</td>\n",
              "      <td>NaN</td>\n",
              "      <td>NaN</td>\n",
              "      <td>NaN</td>\n",
              "      <td>NaN</td>\n",
              "      <td>NaN</td>\n",
              "      <td>...</td>\n",
              "      <td>NaN</td>\n",
              "      <td>NaN</td>\n",
              "      <td>NaN</td>\n",
              "      <td>NaN</td>\n",
              "      <td>NaN</td>\n",
              "      <td>NaN</td>\n",
              "      <td>NaN</td>\n",
              "      <td>NaN</td>\n",
              "      <td>NaN</td>\n",
              "      <td>NaN</td>\n",
              "    </tr>\n",
              "  </tbody>\n",
              "</table>\n",
              "<p>5 rows × 300 columns</p>\n",
              "</div>"
            ],
            "text/plain": [
              "productId   0    1         2    3    4    5    6    7    8    9   ...   290  \\\n",
              "customerId                                                        ...         \n",
              "0           NaN  0.1       NaN  NaN  NaN  NaN  NaN  NaN  NaN  NaN ...   NaN   \n",
              "1           NaN  NaN  0.166667  NaN  NaN  NaN  NaN  NaN  NaN  NaN ...   NaN   \n",
              "2           NaN  NaN       NaN  NaN  NaN  NaN  NaN  NaN  NaN  NaN ...   NaN   \n",
              "3           NaN  NaN       NaN  NaN  NaN  NaN  NaN  NaN  NaN  NaN ...   NaN   \n",
              "4           NaN  NaN       NaN  NaN  NaN  NaN  NaN  NaN  NaN  NaN ...   NaN   \n",
              "\n",
              "productId   291  292  293  294  295  296  297  298  299  \n",
              "customerId                                               \n",
              "0           NaN  NaN  NaN  NaN  NaN  NaN  NaN  NaN  NaN  \n",
              "1           NaN  NaN  0.0  NaN  NaN  0.0  NaN  NaN  NaN  \n",
              "2           NaN  NaN  NaN  NaN  NaN  NaN  NaN  NaN  NaN  \n",
              "3           NaN  NaN  NaN  NaN  NaN  NaN  NaN  NaN  NaN  \n",
              "4           NaN  NaN  NaN  NaN  NaN  NaN  NaN  NaN  NaN  \n",
              "\n",
              "[5 rows x 300 columns]"
            ]
          },
          "metadata": {
            "tags": []
          },
          "execution_count": 21
        }
      ]
    },
    {
      "metadata": {
        "id": "3sqnIAGmCUc2",
        "colab_type": "code",
        "outputId": "fd9d8b63-8b5f-4259-c9d8-7743383c6b49",
        "colab": {
          "base_uri": "https://localhost:8080/",
          "height": 221
        }
      },
      "cell_type": "code",
      "source": [
        "# create a table for input to the modeling\n",
        "\n",
        "d = df_matrix_norm.reset_index()\n",
        "d.index.names = ['scaled_purchase_freq']\n",
        "data_norm = pd.melt(d, id_vars=['customerId'], value_name='scaled_purchase_freq').dropna()\n",
        "print(data_norm.shape)\n",
        "data_norm.head()"
      ],
      "execution_count": 0,
      "outputs": [
        {
          "output_type": "stream",
          "text": [
            "(133585, 3)\n"
          ],
          "name": "stdout"
        },
        {
          "output_type": "execute_result",
          "data": {
            "text/html": [
              "<div>\n",
              "<style scoped>\n",
              "    .dataframe tbody tr th:only-of-type {\n",
              "        vertical-align: middle;\n",
              "    }\n",
              "\n",
              "    .dataframe tbody tr th {\n",
              "        vertical-align: top;\n",
              "    }\n",
              "\n",
              "    .dataframe thead th {\n",
              "        text-align: right;\n",
              "    }\n",
              "</style>\n",
              "<table border=\"1\" class=\"dataframe\">\n",
              "  <thead>\n",
              "    <tr style=\"text-align: right;\">\n",
              "      <th></th>\n",
              "      <th>customerId</th>\n",
              "      <th>productId</th>\n",
              "      <th>scaled_purchase_freq</th>\n",
              "    </tr>\n",
              "  </thead>\n",
              "  <tbody>\n",
              "    <tr>\n",
              "      <th>9</th>\n",
              "      <td>9</td>\n",
              "      <td>0</td>\n",
              "      <td>0.133333</td>\n",
              "    </tr>\n",
              "    <tr>\n",
              "      <th>25</th>\n",
              "      <td>25</td>\n",
              "      <td>0</td>\n",
              "      <td>0.133333</td>\n",
              "    </tr>\n",
              "    <tr>\n",
              "      <th>32</th>\n",
              "      <td>33</td>\n",
              "      <td>0</td>\n",
              "      <td>0.133333</td>\n",
              "    </tr>\n",
              "    <tr>\n",
              "      <th>35</th>\n",
              "      <td>36</td>\n",
              "      <td>0</td>\n",
              "      <td>0.133333</td>\n",
              "    </tr>\n",
              "    <tr>\n",
              "      <th>43</th>\n",
              "      <td>44</td>\n",
              "      <td>0</td>\n",
              "      <td>0.133333</td>\n",
              "    </tr>\n",
              "  </tbody>\n",
              "</table>\n",
              "</div>"
            ],
            "text/plain": [
              "    customerId productId  scaled_purchase_freq\n",
              "9            9         0              0.133333\n",
              "25          25         0              0.133333\n",
              "32          33         0              0.133333\n",
              "35          36         0              0.133333\n",
              "43          44         0              0.133333"
            ]
          },
          "metadata": {
            "tags": []
          },
          "execution_count": 22
        }
      ]
    },
    {
      "metadata": {
        "id": "KabT5XgJCUc7",
        "colab_type": "text"
      },
      "cell_type": "markdown",
      "source": [
        "#### Define a function for normalizing data"
      ]
    },
    {
      "metadata": {
        "id": "NqMK2h71CUc8",
        "colab_type": "code",
        "colab": {}
      },
      "cell_type": "code",
      "source": [
        "def normalize_data(data):\n",
        "    df_matrix = pd.pivot_table(data, values='purchase_count', index='customerId', columns='productId')\n",
        "    df_matrix_norm = (df_matrix-df_matrix.min())/(df_matrix.max()-df_matrix.min())\n",
        "    d = df_matrix_norm.reset_index()\n",
        "    d.index.names = ['scaled_purchase_freq']\n",
        "    return pd.melt(d, id_vars=['customerId'], value_name='scaled_purchase_freq').dropna()"
      ],
      "execution_count": 0,
      "outputs": []
    },
    {
      "metadata": {
        "id": "68onjjUACUdD",
        "colab_type": "text"
      },
      "cell_type": "markdown",
      "source": [
        "* We can normalize the their purchase history, from 0-1 (with 1 being the most number of purchase for an item and 0 being 0 purchase count for that item)."
      ]
    },
    {
      "metadata": {
        "id": "79aNn7VqCUdE",
        "colab_type": "text"
      },
      "cell_type": "markdown",
      "source": [
        "## 4. Split train and test set\n",
        "* Splitting the data into training and testing sets is an important part of evaluating predictive modeling, in this case a collaborative filtering model. Typically, we use a larger portion of the data for training and a smaller portion for testing. \n",
        "* We use 80:20 ratio for our train-test set size.\n",
        "* Our training portion will be used to develop a predictive model, while the other to evaluate the model's performance.\n",
        "* Now that we have three datasets with purchase counts, purchase dummy, and scaled purchase counts, we would like to split each."
      ]
    },
    {
      "metadata": {
        "id": "F1YI0l2ICUdF",
        "colab_type": "code",
        "outputId": "efec4320-714f-40ff-f693-4c000440a9ff",
        "colab": {
          "base_uri": "https://localhost:8080/",
          "height": 34
        }
      },
      "cell_type": "code",
      "source": [
        "train, test = train_test_split(data, test_size = .2)\n",
        "print(train.shape, test.shape)"
      ],
      "execution_count": 0,
      "outputs": [
        {
          "output_type": "stream",
          "text": [
            "(106868, 3) (26717, 3)\n"
          ],
          "name": "stdout"
        }
      ]
    },
    {
      "metadata": {
        "id": "2ykdFz0cCUdI",
        "colab_type": "code",
        "colab": {}
      },
      "cell_type": "code",
      "source": [
        "# Using turicreate library, we convert dataframe to SFrame - this will be useful in the modeling part\n",
        "\n",
        "train_data = tc.SFrame(train)\n",
        "test_data = tc.SFrame(test)"
      ],
      "execution_count": 0,
      "outputs": []
    },
    {
      "metadata": {
        "id": "I8BB_jn0CUdO",
        "colab_type": "code",
        "outputId": "ae574c3e-1ea7-40e4-e4f5-e25628e395e4",
        "colab": {
          "base_uri": "https://localhost:8080/",
          "height": 279
        }
      },
      "cell_type": "code",
      "source": [
        "train_data"
      ],
      "execution_count": 0,
      "outputs": [
        {
          "output_type": "execute_result",
          "data": {
            "text/html": [
              "<div style=\"max-height:1000px;max-width:1500px;overflow:auto;\"><table frame=\"box\" rules=\"cols\">\n",
              "    <tr>\n",
              "        <th style=\"padding-left: 1em; padding-right: 1em; text-align: center\">customerId</th>\n",
              "        <th style=\"padding-left: 1em; padding-right: 1em; text-align: center\">productId</th>\n",
              "        <th style=\"padding-left: 1em; padding-right: 1em; text-align: center\">purchase_count</th>\n",
              "    </tr>\n",
              "    <tr>\n",
              "        <td style=\"padding-left: 1em; padding-right: 1em; text-align: center; vertical-align: top\">6652</td>\n",
              "        <td style=\"padding-left: 1em; padding-right: 1em; text-align: center; vertical-align: top\">2</td>\n",
              "        <td style=\"padding-left: 1em; padding-right: 1em; text-align: center; vertical-align: top\">6</td>\n",
              "    </tr>\n",
              "    <tr>\n",
              "        <td style=\"padding-left: 1em; padding-right: 1em; text-align: center; vertical-align: top\">15801</td>\n",
              "        <td style=\"padding-left: 1em; padding-right: 1em; text-align: center; vertical-align: top\">221</td>\n",
              "        <td style=\"padding-left: 1em; padding-right: 1em; text-align: center; vertical-align: top\">1</td>\n",
              "    </tr>\n",
              "    <tr>\n",
              "        <td style=\"padding-left: 1em; padding-right: 1em; text-align: center; vertical-align: top\">7185</td>\n",
              "        <td style=\"padding-left: 1em; padding-right: 1em; text-align: center; vertical-align: top\">61</td>\n",
              "        <td style=\"padding-left: 1em; padding-right: 1em; text-align: center; vertical-align: top\">1</td>\n",
              "    </tr>\n",
              "    <tr>\n",
              "        <td style=\"padding-left: 1em; padding-right: 1em; text-align: center; vertical-align: top\">19649</td>\n",
              "        <td style=\"padding-left: 1em; padding-right: 1em; text-align: center; vertical-align: top\">49</td>\n",
              "        <td style=\"padding-left: 1em; padding-right: 1em; text-align: center; vertical-align: top\">2</td>\n",
              "    </tr>\n",
              "    <tr>\n",
              "        <td style=\"padding-left: 1em; padding-right: 1em; text-align: center; vertical-align: top\">11918</td>\n",
              "        <td style=\"padding-left: 1em; padding-right: 1em; text-align: center; vertical-align: top\">167</td>\n",
              "        <td style=\"padding-left: 1em; padding-right: 1em; text-align: center; vertical-align: top\">1</td>\n",
              "    </tr>\n",
              "    <tr>\n",
              "        <td style=\"padding-left: 1em; padding-right: 1em; text-align: center; vertical-align: top\">6005</td>\n",
              "        <td style=\"padding-left: 1em; padding-right: 1em; text-align: center; vertical-align: top\">3</td>\n",
              "        <td style=\"padding-left: 1em; padding-right: 1em; text-align: center; vertical-align: top\">3</td>\n",
              "    </tr>\n",
              "    <tr>\n",
              "        <td style=\"padding-left: 1em; padding-right: 1em; text-align: center; vertical-align: top\">15634</td>\n",
              "        <td style=\"padding-left: 1em; padding-right: 1em; text-align: center; vertical-align: top\">66</td>\n",
              "        <td style=\"padding-left: 1em; padding-right: 1em; text-align: center; vertical-align: top\">1</td>\n",
              "    </tr>\n",
              "    <tr>\n",
              "        <td style=\"padding-left: 1em; padding-right: 1em; text-align: center; vertical-align: top\">9065</td>\n",
              "        <td style=\"padding-left: 1em; padding-right: 1em; text-align: center; vertical-align: top\">247</td>\n",
              "        <td style=\"padding-left: 1em; padding-right: 1em; text-align: center; vertical-align: top\">1</td>\n",
              "    </tr>\n",
              "    <tr>\n",
              "        <td style=\"padding-left: 1em; padding-right: 1em; text-align: center; vertical-align: top\">2745</td>\n",
              "        <td style=\"padding-left: 1em; padding-right: 1em; text-align: center; vertical-align: top\">57</td>\n",
              "        <td style=\"padding-left: 1em; padding-right: 1em; text-align: center; vertical-align: top\">4</td>\n",
              "    </tr>\n",
              "    <tr>\n",
              "        <td style=\"padding-left: 1em; padding-right: 1em; text-align: center; vertical-align: top\">2302</td>\n",
              "        <td style=\"padding-left: 1em; padding-right: 1em; text-align: center; vertical-align: top\">72</td>\n",
              "        <td style=\"padding-left: 1em; padding-right: 1em; text-align: center; vertical-align: top\">2</td>\n",
              "    </tr>\n",
              "</table>\n",
              "[106868 rows x 3 columns]<br/>Note: Only the head of the SFrame is printed.<br/>You can use print_rows(num_rows=m, num_columns=n) to print more rows and columns.\n",
              "</div>"
            ],
            "text/plain": [
              "Columns:\n",
              "\tcustomerId\tint\n",
              "\tproductId\tint\n",
              "\tpurchase_count\tint\n",
              "\n",
              "Rows: 106868\n",
              "\n",
              "Data:\n",
              "+------------+-----------+----------------+\n",
              "| customerId | productId | purchase_count |\n",
              "+------------+-----------+----------------+\n",
              "|    6652    |     2     |       6        |\n",
              "|   15801    |    221    |       1        |\n",
              "|    7185    |     61    |       1        |\n",
              "|   19649    |     49    |       2        |\n",
              "|   11918    |    167    |       1        |\n",
              "|    6005    |     3     |       3        |\n",
              "|   15634    |     66    |       1        |\n",
              "|    9065    |    247    |       1        |\n",
              "|    2745    |     57    |       4        |\n",
              "|    2302    |     72    |       2        |\n",
              "+------------+-----------+----------------+\n",
              "[106868 rows x 3 columns]\n",
              "Note: Only the head of the SFrame is printed.\n",
              "You can use print_rows(num_rows=m, num_columns=n) to print more rows and columns."
            ]
          },
          "metadata": {
            "tags": []
          },
          "execution_count": 26
        }
      ]
    },
    {
      "metadata": {
        "id": "5qBo98gaCUdU",
        "colab_type": "code",
        "outputId": "c10cb49d-4648-4ac8-e05c-3c4c29b54544",
        "colab": {
          "base_uri": "https://localhost:8080/",
          "height": 279
        }
      },
      "cell_type": "code",
      "source": [
        "test_data"
      ],
      "execution_count": 0,
      "outputs": [
        {
          "output_type": "execute_result",
          "data": {
            "text/html": [
              "<div style=\"max-height:1000px;max-width:1500px;overflow:auto;\"><table frame=\"box\" rules=\"cols\">\n",
              "    <tr>\n",
              "        <th style=\"padding-left: 1em; padding-right: 1em; text-align: center\">customerId</th>\n",
              "        <th style=\"padding-left: 1em; padding-right: 1em; text-align: center\">productId</th>\n",
              "        <th style=\"padding-left: 1em; padding-right: 1em; text-align: center\">purchase_count</th>\n",
              "    </tr>\n",
              "    <tr>\n",
              "        <td style=\"padding-left: 1em; padding-right: 1em; text-align: center; vertical-align: top\">4210</td>\n",
              "        <td style=\"padding-left: 1em; padding-right: 1em; text-align: center; vertical-align: top\">69</td>\n",
              "        <td style=\"padding-left: 1em; padding-right: 1em; text-align: center; vertical-align: top\">1</td>\n",
              "    </tr>\n",
              "    <tr>\n",
              "        <td style=\"padding-left: 1em; padding-right: 1em; text-align: center; vertical-align: top\">502</td>\n",
              "        <td style=\"padding-left: 1em; padding-right: 1em; text-align: center; vertical-align: top\">95</td>\n",
              "        <td style=\"padding-left: 1em; padding-right: 1em; text-align: center; vertical-align: top\">2</td>\n",
              "    </tr>\n",
              "    <tr>\n",
              "        <td style=\"padding-left: 1em; padding-right: 1em; text-align: center; vertical-align: top\">10230</td>\n",
              "        <td style=\"padding-left: 1em; padding-right: 1em; text-align: center; vertical-align: top\">274</td>\n",
              "        <td style=\"padding-left: 1em; padding-right: 1em; text-align: center; vertical-align: top\">1</td>\n",
              "    </tr>\n",
              "    <tr>\n",
              "        <td style=\"padding-left: 1em; padding-right: 1em; text-align: center; vertical-align: top\">3756</td>\n",
              "        <td style=\"padding-left: 1em; padding-right: 1em; text-align: center; vertical-align: top\">21</td>\n",
              "        <td style=\"padding-left: 1em; padding-right: 1em; text-align: center; vertical-align: top\">1</td>\n",
              "    </tr>\n",
              "    <tr>\n",
              "        <td style=\"padding-left: 1em; padding-right: 1em; text-align: center; vertical-align: top\">14613</td>\n",
              "        <td style=\"padding-left: 1em; padding-right: 1em; text-align: center; vertical-align: top\">116</td>\n",
              "        <td style=\"padding-left: 1em; padding-right: 1em; text-align: center; vertical-align: top\">1</td>\n",
              "    </tr>\n",
              "    <tr>\n",
              "        <td style=\"padding-left: 1em; padding-right: 1em; text-align: center; vertical-align: top\">16462</td>\n",
              "        <td style=\"padding-left: 1em; padding-right: 1em; text-align: center; vertical-align: top\">182</td>\n",
              "        <td style=\"padding-left: 1em; padding-right: 1em; text-align: center; vertical-align: top\">1</td>\n",
              "    </tr>\n",
              "    <tr>\n",
              "        <td style=\"padding-left: 1em; padding-right: 1em; text-align: center; vertical-align: top\">148</td>\n",
              "        <td style=\"padding-left: 1em; padding-right: 1em; text-align: center; vertical-align: top\">288</td>\n",
              "        <td style=\"padding-left: 1em; padding-right: 1em; text-align: center; vertical-align: top\">1</td>\n",
              "    </tr>\n",
              "    <tr>\n",
              "        <td style=\"padding-left: 1em; padding-right: 1em; text-align: center; vertical-align: top\">5727</td>\n",
              "        <td style=\"padding-left: 1em; padding-right: 1em; text-align: center; vertical-align: top\">178</td>\n",
              "        <td style=\"padding-left: 1em; padding-right: 1em; text-align: center; vertical-align: top\">1</td>\n",
              "    </tr>\n",
              "    <tr>\n",
              "        <td style=\"padding-left: 1em; padding-right: 1em; text-align: center; vertical-align: top\">2073</td>\n",
              "        <td style=\"padding-left: 1em; padding-right: 1em; text-align: center; vertical-align: top\">76</td>\n",
              "        <td style=\"padding-left: 1em; padding-right: 1em; text-align: center; vertical-align: top\">2</td>\n",
              "    </tr>\n",
              "    <tr>\n",
              "        <td style=\"padding-left: 1em; padding-right: 1em; text-align: center; vertical-align: top\">16080</td>\n",
              "        <td style=\"padding-left: 1em; padding-right: 1em; text-align: center; vertical-align: top\">15</td>\n",
              "        <td style=\"padding-left: 1em; padding-right: 1em; text-align: center; vertical-align: top\">1</td>\n",
              "    </tr>\n",
              "</table>\n",
              "[26717 rows x 3 columns]<br/>Note: Only the head of the SFrame is printed.<br/>You can use print_rows(num_rows=m, num_columns=n) to print more rows and columns.\n",
              "</div>"
            ],
            "text/plain": [
              "Columns:\n",
              "\tcustomerId\tint\n",
              "\tproductId\tint\n",
              "\tpurchase_count\tint\n",
              "\n",
              "Rows: 26717\n",
              "\n",
              "Data:\n",
              "+------------+-----------+----------------+\n",
              "| customerId | productId | purchase_count |\n",
              "+------------+-----------+----------------+\n",
              "|    4210    |     69    |       1        |\n",
              "|    502     |     95    |       2        |\n",
              "|   10230    |    274    |       1        |\n",
              "|    3756    |     21    |       1        |\n",
              "|   14613    |    116    |       1        |\n",
              "|   16462    |    182    |       1        |\n",
              "|    148     |    288    |       1        |\n",
              "|    5727    |    178    |       1        |\n",
              "|    2073    |     76    |       2        |\n",
              "|   16080    |     15    |       1        |\n",
              "+------------+-----------+----------------+\n",
              "[26717 rows x 3 columns]\n",
              "Note: Only the head of the SFrame is printed.\n",
              "You can use print_rows(num_rows=m, num_columns=n) to print more rows and columns."
            ]
          },
          "metadata": {
            "tags": []
          },
          "execution_count": 27
        }
      ]
    },
    {
      "metadata": {
        "id": "Fga4MgUACUdX",
        "colab_type": "text"
      },
      "cell_type": "markdown",
      "source": [
        "#### Define a `split_data` function for splitting data to training and test set"
      ]
    },
    {
      "metadata": {
        "id": "y_Mvmo9xCUdc",
        "colab_type": "code",
        "colab": {}
      },
      "cell_type": "code",
      "source": [
        "# We can define a function for this step as follows\n",
        "\n",
        "def split_data(data):\n",
        "    '''\n",
        "    Splits dataset into training and test set.\n",
        "    \n",
        "    Args:\n",
        "        data (pandas.DataFrame)\n",
        "        \n",
        "    Returns\n",
        "        train_data (tc.SFrame)\n",
        "        test_data (tc.SFrame)\n",
        "    '''\n",
        "    train, test = train_test_split(data, test_size = .2)\n",
        "    train_data = tc.SFrame(train)\n",
        "    test_data = tc.SFrame(test)\n",
        "    return train_data, test_data"
      ],
      "execution_count": 0,
      "outputs": []
    },
    {
      "metadata": {
        "id": "9JG-09yaCUdg",
        "colab_type": "code",
        "colab": {}
      },
      "cell_type": "code",
      "source": [
        "# lets try with both dummy table and scaled/normalized purchase table\n",
        "\n",
        "train_data_dummy, test_data_dummy = split_data(data_dummy)\n",
        "train_data_norm, test_data_norm = split_data(data_norm)"
      ],
      "execution_count": 0,
      "outputs": []
    },
    {
      "metadata": {
        "collapsed": false,
        "id": "3NyZawpgCUdk",
        "colab_type": "text"
      },
      "cell_type": "markdown",
      "source": [
        "## 5. Baseline Model\n",
        "Before running a more complicated approach such as collaborative filtering, we would like to use a baseline model to compare and evaluate models. Since baseline typically uses a very simple approach, techniques used beyond this approach should be chosen if they show relatively better accuracy and complexity.\n",
        "\n",
        "### 5.1. Using a Popularity model as a baseline\n",
        "* The popularity model takes the most popular items for recommendation. These items are products with the highest number of sells across customers.\n",
        "* We use `turicreate` library for running and evaluating both baseline and collaborative filtering models below\n",
        "* Training data is used for model selection\n",
        "\n",
        "#### Using purchase counts"
      ]
    },
    {
      "metadata": {
        "id": "R4dMbTs7CUdl",
        "colab_type": "code",
        "colab": {}
      },
      "cell_type": "code",
      "source": [
        "# variables to define field names\n",
        "user_id = 'customerId'\n",
        "item_id = 'productId'\n",
        "target = 'purchase_count'\n",
        "users_to_recommend = list(transactions[user_id])\n",
        "n_rec = 10 # number of items to recommend\n",
        "n_display = 30"
      ],
      "execution_count": 0,
      "outputs": []
    },
    {
      "metadata": {
        "id": "b_bag_AtCUdn",
        "colab_type": "code",
        "outputId": "976236a3-357f-45a1-d872-af23120d32b9",
        "colab": {
          "base_uri": "https://localhost:8080/",
          "height": 85
        }
      },
      "cell_type": "code",
      "source": [
        "popularity_model = tc.popularity_recommender.create(train_data, \n",
        "                                                    user_id=user_id, \n",
        "                                                    item_id=item_id, \n",
        "                                                    target=target)"
      ],
      "execution_count": 0,
      "outputs": [
        {
          "output_type": "display_data",
          "data": {
            "text/html": [
              "<pre>Preparing data set.</pre>"
            ],
            "text/plain": [
              "Preparing data set."
            ]
          },
          "metadata": {
            "tags": []
          }
        },
        {
          "output_type": "display_data",
          "data": {
            "text/html": [
              "<pre>    Data has 106868 observations with 23360 users and 300 items.</pre>"
            ],
            "text/plain": [
              "    Data has 106868 observations with 23360 users and 300 items."
            ]
          },
          "metadata": {
            "tags": []
          }
        },
        {
          "output_type": "display_data",
          "data": {
            "text/html": [
              "<pre>    Data prepared in: 0.156313s</pre>"
            ],
            "text/plain": [
              "    Data prepared in: 0.156313s"
            ]
          },
          "metadata": {
            "tags": []
          }
        },
        {
          "output_type": "display_data",
          "data": {
            "text/html": [
              "<pre>106868 observations to process; with 300 unique items.</pre>"
            ],
            "text/plain": [
              "106868 observations to process; with 300 unique items."
            ]
          },
          "metadata": {
            "tags": []
          }
        }
      ]
    },
    {
      "metadata": {
        "id": "Hdtt46IjCUdq",
        "colab_type": "code",
        "outputId": "78100a18-7a23-40a4-c68a-f016a1e9ac5a",
        "colab": {
          "base_uri": "https://localhost:8080/",
          "height": 1683
        }
      },
      "cell_type": "code",
      "source": [
        "# Get recommendations for a list of users to recommend (from customers file)\n",
        "# Printed below is head / top 30 rows for first 3 customers with 10 recommendations each\n",
        "\n",
        "popularity_recomm = popularity_model.recommend(users=users_to_recommend, k=n_rec)\n",
        "popularity_recomm.print_rows(n_display)"
      ],
      "execution_count": 0,
      "outputs": [
        {
          "output_type": "display_data",
          "data": {
            "text/html": [
              "<pre>recommendations finished on 1000/62483 queries. users per second: 89952.3</pre>"
            ],
            "text/plain": [
              "recommendations finished on 1000/62483 queries. users per second: 89952.3"
            ]
          },
          "metadata": {
            "tags": []
          }
        },
        {
          "output_type": "display_data",
          "data": {
            "text/html": [
              "<pre>recommendations finished on 2000/62483 queries. users per second: 88802.1</pre>"
            ],
            "text/plain": [
              "recommendations finished on 2000/62483 queries. users per second: 88802.1"
            ]
          },
          "metadata": {
            "tags": []
          }
        },
        {
          "output_type": "display_data",
          "data": {
            "text/html": [
              "<pre>recommendations finished on 3000/62483 queries. users per second: 86727.8</pre>"
            ],
            "text/plain": [
              "recommendations finished on 3000/62483 queries. users per second: 86727.8"
            ]
          },
          "metadata": {
            "tags": []
          }
        },
        {
          "output_type": "display_data",
          "data": {
            "text/html": [
              "<pre>recommendations finished on 4000/62483 queries. users per second: 87927.5</pre>"
            ],
            "text/plain": [
              "recommendations finished on 4000/62483 queries. users per second: 87927.5"
            ]
          },
          "metadata": {
            "tags": []
          }
        },
        {
          "output_type": "display_data",
          "data": {
            "text/html": [
              "<pre>recommendations finished on 5000/62483 queries. users per second: 87716.2</pre>"
            ],
            "text/plain": [
              "recommendations finished on 5000/62483 queries. users per second: 87716.2"
            ]
          },
          "metadata": {
            "tags": []
          }
        },
        {
          "output_type": "display_data",
          "data": {
            "text/html": [
              "<pre>recommendations finished on 6000/62483 queries. users per second: 88279.4</pre>"
            ],
            "text/plain": [
              "recommendations finished on 6000/62483 queries. users per second: 88279.4"
            ]
          },
          "metadata": {
            "tags": []
          }
        },
        {
          "output_type": "display_data",
          "data": {
            "text/html": [
              "<pre>recommendations finished on 7000/62483 queries. users per second: 88355.9</pre>"
            ],
            "text/plain": [
              "recommendations finished on 7000/62483 queries. users per second: 88355.9"
            ]
          },
          "metadata": {
            "tags": []
          }
        },
        {
          "output_type": "display_data",
          "data": {
            "text/html": [
              "<pre>recommendations finished on 8000/62483 queries. users per second: 87892.8</pre>"
            ],
            "text/plain": [
              "recommendations finished on 8000/62483 queries. users per second: 87892.8"
            ]
          },
          "metadata": {
            "tags": []
          }
        },
        {
          "output_type": "display_data",
          "data": {
            "text/html": [
              "<pre>recommendations finished on 9000/62483 queries. users per second: 87071.8</pre>"
            ],
            "text/plain": [
              "recommendations finished on 9000/62483 queries. users per second: 87071.8"
            ]
          },
          "metadata": {
            "tags": []
          }
        },
        {
          "output_type": "display_data",
          "data": {
            "text/html": [
              "<pre>recommendations finished on 10000/62483 queries. users per second: 88183.4</pre>"
            ],
            "text/plain": [
              "recommendations finished on 10000/62483 queries. users per second: 88183.4"
            ]
          },
          "metadata": {
            "tags": []
          }
        },
        {
          "output_type": "display_data",
          "data": {
            "text/html": [
              "<pre>recommendations finished on 11000/62483 queries. users per second: 87457.1</pre>"
            ],
            "text/plain": [
              "recommendations finished on 11000/62483 queries. users per second: 87457.1"
            ]
          },
          "metadata": {
            "tags": []
          }
        },
        {
          "output_type": "display_data",
          "data": {
            "text/html": [
              "<pre>recommendations finished on 12000/62483 queries. users per second: 87802.1</pre>"
            ],
            "text/plain": [
              "recommendations finished on 12000/62483 queries. users per second: 87802.1"
            ]
          },
          "metadata": {
            "tags": []
          }
        },
        {
          "output_type": "display_data",
          "data": {
            "text/html": [
              "<pre>recommendations finished on 13000/62483 queries. users per second: 87975.7</pre>"
            ],
            "text/plain": [
              "recommendations finished on 13000/62483 queries. users per second: 87975.7"
            ]
          },
          "metadata": {
            "tags": []
          }
        },
        {
          "output_type": "display_data",
          "data": {
            "text/html": [
              "<pre>recommendations finished on 14000/62483 queries. users per second: 88753.1</pre>"
            ],
            "text/plain": [
              "recommendations finished on 14000/62483 queries. users per second: 88753.1"
            ]
          },
          "metadata": {
            "tags": []
          }
        },
        {
          "output_type": "display_data",
          "data": {
            "text/html": [
              "<pre>recommendations finished on 15000/62483 queries. users per second: 88543.6</pre>"
            ],
            "text/plain": [
              "recommendations finished on 15000/62483 queries. users per second: 88543.6"
            ]
          },
          "metadata": {
            "tags": []
          }
        },
        {
          "output_type": "display_data",
          "data": {
            "text/html": [
              "<pre>recommendations finished on 16000/62483 queries. users per second: 88858.3</pre>"
            ],
            "text/plain": [
              "recommendations finished on 16000/62483 queries. users per second: 88858.3"
            ]
          },
          "metadata": {
            "tags": []
          }
        },
        {
          "output_type": "display_data",
          "data": {
            "text/html": [
              "<pre>recommendations finished on 17000/62483 queries. users per second: 87630.2</pre>"
            ],
            "text/plain": [
              "recommendations finished on 17000/62483 queries. users per second: 87630.2"
            ]
          },
          "metadata": {
            "tags": []
          }
        },
        {
          "output_type": "display_data",
          "data": {
            "text/html": [
              "<pre>recommendations finished on 18000/62483 queries. users per second: 87885.5</pre>"
            ],
            "text/plain": [
              "recommendations finished on 18000/62483 queries. users per second: 87885.5"
            ]
          },
          "metadata": {
            "tags": []
          }
        },
        {
          "output_type": "display_data",
          "data": {
            "text/html": [
              "<pre>recommendations finished on 19000/62483 queries. users per second: 88062.8</pre>"
            ],
            "text/plain": [
              "recommendations finished on 19000/62483 queries. users per second: 88062.8"
            ]
          },
          "metadata": {
            "tags": []
          }
        },
        {
          "output_type": "display_data",
          "data": {
            "text/html": [
              "<pre>recommendations finished on 20000/62483 queries. users per second: 88098.7</pre>"
            ],
            "text/plain": [
              "recommendations finished on 20000/62483 queries. users per second: 88098.7"
            ]
          },
          "metadata": {
            "tags": []
          }
        },
        {
          "output_type": "display_data",
          "data": {
            "text/html": [
              "<pre>recommendations finished on 21000/62483 queries. users per second: 88326.6</pre>"
            ],
            "text/plain": [
              "recommendations finished on 21000/62483 queries. users per second: 88326.6"
            ]
          },
          "metadata": {
            "tags": []
          }
        },
        {
          "output_type": "display_data",
          "data": {
            "text/html": [
              "<pre>recommendations finished on 22000/62483 queries. users per second: 88453.9</pre>"
            ],
            "text/plain": [
              "recommendations finished on 22000/62483 queries. users per second: 88453.9"
            ]
          },
          "metadata": {
            "tags": []
          }
        },
        {
          "output_type": "display_data",
          "data": {
            "text/html": [
              "<pre>recommendations finished on 23000/62483 queries. users per second: 87196.5</pre>"
            ],
            "text/plain": [
              "recommendations finished on 23000/62483 queries. users per second: 87196.5"
            ]
          },
          "metadata": {
            "tags": []
          }
        },
        {
          "output_type": "display_data",
          "data": {
            "text/html": [
              "<pre>recommendations finished on 24000/62483 queries. users per second: 86474.6</pre>"
            ],
            "text/plain": [
              "recommendations finished on 24000/62483 queries. users per second: 86474.6"
            ]
          },
          "metadata": {
            "tags": []
          }
        },
        {
          "output_type": "display_data",
          "data": {
            "text/html": [
              "<pre>recommendations finished on 25000/62483 queries. users per second: 86106.8</pre>"
            ],
            "text/plain": [
              "recommendations finished on 25000/62483 queries. users per second: 86106.8"
            ]
          },
          "metadata": {
            "tags": []
          }
        },
        {
          "output_type": "display_data",
          "data": {
            "text/html": [
              "<pre>recommendations finished on 26000/62483 queries. users per second: 86554.4</pre>"
            ],
            "text/plain": [
              "recommendations finished on 26000/62483 queries. users per second: 86554.4"
            ]
          },
          "metadata": {
            "tags": []
          }
        },
        {
          "output_type": "display_data",
          "data": {
            "text/html": [
              "<pre>recommendations finished on 27000/62483 queries. users per second: 86667.9</pre>"
            ],
            "text/plain": [
              "recommendations finished on 27000/62483 queries. users per second: 86667.9"
            ]
          },
          "metadata": {
            "tags": []
          }
        },
        {
          "output_type": "display_data",
          "data": {
            "text/html": [
              "<pre>recommendations finished on 28000/62483 queries. users per second: 86906.1</pre>"
            ],
            "text/plain": [
              "recommendations finished on 28000/62483 queries. users per second: 86906.1"
            ]
          },
          "metadata": {
            "tags": []
          }
        },
        {
          "output_type": "display_data",
          "data": {
            "text/html": [
              "<pre>recommendations finished on 29000/62483 queries. users per second: 87001.1</pre>"
            ],
            "text/plain": [
              "recommendations finished on 29000/62483 queries. users per second: 87001.1"
            ]
          },
          "metadata": {
            "tags": []
          }
        },
        {
          "output_type": "display_data",
          "data": {
            "text/html": [
              "<pre>recommendations finished on 30000/62483 queries. users per second: 86756.4</pre>"
            ],
            "text/plain": [
              "recommendations finished on 30000/62483 queries. users per second: 86756.4"
            ]
          },
          "metadata": {
            "tags": []
          }
        },
        {
          "output_type": "display_data",
          "data": {
            "text/html": [
              "<pre>recommendations finished on 31000/62483 queries. users per second: 86825.5</pre>"
            ],
            "text/plain": [
              "recommendations finished on 31000/62483 queries. users per second: 86825.5"
            ]
          },
          "metadata": {
            "tags": []
          }
        },
        {
          "output_type": "display_data",
          "data": {
            "text/html": [
              "<pre>recommendations finished on 32000/62483 queries. users per second: 85859</pre>"
            ],
            "text/plain": [
              "recommendations finished on 32000/62483 queries. users per second: 85859"
            ]
          },
          "metadata": {
            "tags": []
          }
        },
        {
          "output_type": "display_data",
          "data": {
            "text/html": [
              "<pre>recommendations finished on 33000/62483 queries. users per second: 85880.2</pre>"
            ],
            "text/plain": [
              "recommendations finished on 33000/62483 queries. users per second: 85880.2"
            ]
          },
          "metadata": {
            "tags": []
          }
        },
        {
          "output_type": "display_data",
          "data": {
            "text/html": [
              "<pre>recommendations finished on 34000/62483 queries. users per second: 86096.7</pre>"
            ],
            "text/plain": [
              "recommendations finished on 34000/62483 queries. users per second: 86096.7"
            ]
          },
          "metadata": {
            "tags": []
          }
        },
        {
          "output_type": "display_data",
          "data": {
            "text/html": [
              "<pre>recommendations finished on 35000/62483 queries. users per second: 86304.7</pre>"
            ],
            "text/plain": [
              "recommendations finished on 35000/62483 queries. users per second: 86304.7"
            ]
          },
          "metadata": {
            "tags": []
          }
        },
        {
          "output_type": "display_data",
          "data": {
            "text/html": [
              "<pre>recommendations finished on 36000/62483 queries. users per second: 86647.8</pre>"
            ],
            "text/plain": [
              "recommendations finished on 36000/62483 queries. users per second: 86647.8"
            ]
          },
          "metadata": {
            "tags": []
          }
        },
        {
          "output_type": "display_data",
          "data": {
            "text/html": [
              "<pre>recommendations finished on 37000/62483 queries. users per second: 86700.6</pre>"
            ],
            "text/plain": [
              "recommendations finished on 37000/62483 queries. users per second: 86700.6"
            ]
          },
          "metadata": {
            "tags": []
          }
        },
        {
          "output_type": "display_data",
          "data": {
            "text/html": [
              "<pre>recommendations finished on 38000/62483 queries. users per second: 86405.3</pre>"
            ],
            "text/plain": [
              "recommendations finished on 38000/62483 queries. users per second: 86405.3"
            ]
          },
          "metadata": {
            "tags": []
          }
        },
        {
          "output_type": "display_data",
          "data": {
            "text/html": [
              "<pre>recommendations finished on 39000/62483 queries. users per second: 86539</pre>"
            ],
            "text/plain": [
              "recommendations finished on 39000/62483 queries. users per second: 86539"
            ]
          },
          "metadata": {
            "tags": []
          }
        },
        {
          "output_type": "display_data",
          "data": {
            "text/html": [
              "<pre>recommendations finished on 40000/62483 queries. users per second: 86692.1</pre>"
            ],
            "text/plain": [
              "recommendations finished on 40000/62483 queries. users per second: 86692.1"
            ]
          },
          "metadata": {
            "tags": []
          }
        },
        {
          "output_type": "display_data",
          "data": {
            "text/html": [
              "<pre>recommendations finished on 41000/62483 queries. users per second: 86144</pre>"
            ],
            "text/plain": [
              "recommendations finished on 41000/62483 queries. users per second: 86144"
            ]
          },
          "metadata": {
            "tags": []
          }
        },
        {
          "output_type": "display_data",
          "data": {
            "text/html": [
              "<pre>recommendations finished on 42000/62483 queries. users per second: 86174</pre>"
            ],
            "text/plain": [
              "recommendations finished on 42000/62483 queries. users per second: 86174"
            ]
          },
          "metadata": {
            "tags": []
          }
        },
        {
          "output_type": "display_data",
          "data": {
            "text/html": [
              "<pre>recommendations finished on 43000/62483 queries. users per second: 86262.6</pre>"
            ],
            "text/plain": [
              "recommendations finished on 43000/62483 queries. users per second: 86262.6"
            ]
          },
          "metadata": {
            "tags": []
          }
        },
        {
          "output_type": "display_data",
          "data": {
            "text/html": [
              "<pre>recommendations finished on 44000/62483 queries. users per second: 86567.3</pre>"
            ],
            "text/plain": [
              "recommendations finished on 44000/62483 queries. users per second: 86567.3"
            ]
          },
          "metadata": {
            "tags": []
          }
        },
        {
          "output_type": "display_data",
          "data": {
            "text/html": [
              "<pre>recommendations finished on 45000/62483 queries. users per second: 86534.3</pre>"
            ],
            "text/plain": [
              "recommendations finished on 45000/62483 queries. users per second: 86534.3"
            ]
          },
          "metadata": {
            "tags": []
          }
        },
        {
          "output_type": "display_data",
          "data": {
            "text/html": [
              "<pre>recommendations finished on 46000/62483 queries. users per second: 86521.9</pre>"
            ],
            "text/plain": [
              "recommendations finished on 46000/62483 queries. users per second: 86521.9"
            ]
          },
          "metadata": {
            "tags": []
          }
        },
        {
          "output_type": "display_data",
          "data": {
            "text/html": [
              "<pre>recommendations finished on 47000/62483 queries. users per second: 86684.4</pre>"
            ],
            "text/plain": [
              "recommendations finished on 47000/62483 queries. users per second: 86684.4"
            ]
          },
          "metadata": {
            "tags": []
          }
        },
        {
          "output_type": "display_data",
          "data": {
            "text/html": [
              "<pre>recommendations finished on 48000/62483 queries. users per second: 86942.3</pre>"
            ],
            "text/plain": [
              "recommendations finished on 48000/62483 queries. users per second: 86942.3"
            ]
          },
          "metadata": {
            "tags": []
          }
        },
        {
          "output_type": "display_data",
          "data": {
            "text/html": [
              "<pre>recommendations finished on 49000/62483 queries. users per second: 86900.2</pre>"
            ],
            "text/plain": [
              "recommendations finished on 49000/62483 queries. users per second: 86900.2"
            ]
          },
          "metadata": {
            "tags": []
          }
        },
        {
          "output_type": "display_data",
          "data": {
            "text/html": [
              "<pre>recommendations finished on 50000/62483 queries. users per second: 87013.9</pre>"
            ],
            "text/plain": [
              "recommendations finished on 50000/62483 queries. users per second: 87013.9"
            ]
          },
          "metadata": {
            "tags": []
          }
        },
        {
          "output_type": "display_data",
          "data": {
            "text/html": [
              "<pre>recommendations finished on 51000/62483 queries. users per second: 86884.4</pre>"
            ],
            "text/plain": [
              "recommendations finished on 51000/62483 queries. users per second: 86884.4"
            ]
          },
          "metadata": {
            "tags": []
          }
        },
        {
          "output_type": "display_data",
          "data": {
            "text/html": [
              "<pre>recommendations finished on 52000/62483 queries. users per second: 86932.2</pre>"
            ],
            "text/plain": [
              "recommendations finished on 52000/62483 queries. users per second: 86932.2"
            ]
          },
          "metadata": {
            "tags": []
          }
        },
        {
          "output_type": "display_data",
          "data": {
            "text/html": [
              "<pre>recommendations finished on 53000/62483 queries. users per second: 86989.2</pre>"
            ],
            "text/plain": [
              "recommendations finished on 53000/62483 queries. users per second: 86989.2"
            ]
          },
          "metadata": {
            "tags": []
          }
        },
        {
          "output_type": "display_data",
          "data": {
            "text/html": [
              "<pre>recommendations finished on 54000/62483 queries. users per second: 87090.5</pre>"
            ],
            "text/plain": [
              "recommendations finished on 54000/62483 queries. users per second: 87090.5"
            ]
          },
          "metadata": {
            "tags": []
          }
        },
        {
          "output_type": "display_data",
          "data": {
            "text/html": [
              "<pre>recommendations finished on 55000/62483 queries. users per second: 87099.6</pre>"
            ],
            "text/plain": [
              "recommendations finished on 55000/62483 queries. users per second: 87099.6"
            ]
          },
          "metadata": {
            "tags": []
          }
        },
        {
          "output_type": "display_data",
          "data": {
            "text/html": [
              "<pre>recommendations finished on 56000/62483 queries. users per second: 87294.9</pre>"
            ],
            "text/plain": [
              "recommendations finished on 56000/62483 queries. users per second: 87294.9"
            ]
          },
          "metadata": {
            "tags": []
          }
        },
        {
          "output_type": "display_data",
          "data": {
            "text/html": [
              "<pre>recommendations finished on 57000/62483 queries. users per second: 86058.8</pre>"
            ],
            "text/plain": [
              "recommendations finished on 57000/62483 queries. users per second: 86058.8"
            ]
          },
          "metadata": {
            "tags": []
          }
        },
        {
          "output_type": "display_data",
          "data": {
            "text/html": [
              "<pre>recommendations finished on 58000/62483 queries. users per second: 84766.3</pre>"
            ],
            "text/plain": [
              "recommendations finished on 58000/62483 queries. users per second: 84766.3"
            ]
          },
          "metadata": {
            "tags": []
          }
        },
        {
          "output_type": "display_data",
          "data": {
            "text/html": [
              "<pre>recommendations finished on 59000/62483 queries. users per second: 84516</pre>"
            ],
            "text/plain": [
              "recommendations finished on 59000/62483 queries. users per second: 84516"
            ]
          },
          "metadata": {
            "tags": []
          }
        },
        {
          "output_type": "display_data",
          "data": {
            "text/html": [
              "<pre>recommendations finished on 60000/62483 queries. users per second: 84394</pre>"
            ],
            "text/plain": [
              "recommendations finished on 60000/62483 queries. users per second: 84394"
            ]
          },
          "metadata": {
            "tags": []
          }
        },
        {
          "output_type": "display_data",
          "data": {
            "text/html": [
              "<pre>recommendations finished on 61000/62483 queries. users per second: 84179.4</pre>"
            ],
            "text/plain": [
              "recommendations finished on 61000/62483 queries. users per second: 84179.4"
            ]
          },
          "metadata": {
            "tags": []
          }
        },
        {
          "output_type": "display_data",
          "data": {
            "text/html": [
              "<pre>recommendations finished on 62000/62483 queries. users per second: 84101.3</pre>"
            ],
            "text/plain": [
              "recommendations finished on 62000/62483 queries. users per second: 84101.3"
            ]
          },
          "metadata": {
            "tags": []
          }
        },
        {
          "output_type": "stream",
          "text": [
            "+------------+-----------+--------------------+------+\n",
            "| customerId | productId |       score        | rank |\n",
            "+------------+-----------+--------------------+------+\n",
            "|     0      |    132    | 3.1206896551724137 |  1   |\n",
            "|     0      |    248    | 3.111111111111111  |  2   |\n",
            "|     0      |     0     | 2.995164410058027  |  3   |\n",
            "|     0      |     37    | 2.9808429118773945 |  4   |\n",
            "|     0      |     34    | 2.973384030418251  |  5   |\n",
            "|     0      |     27    | 2.8461538461538463 |  6   |\n",
            "|     0      |     3     | 2.814814814814815  |  7   |\n",
            "|     0      |    110    | 2.701863354037267  |  8   |\n",
            "|     0      |     32    | 2.6778846153846154 |  9   |\n",
            "|     0      |    230    | 2.6343283582089554 |  10  |\n",
            "|     1      |    132    | 3.1206896551724137 |  1   |\n",
            "|     1      |    248    | 3.111111111111111  |  2   |\n",
            "|     1      |     0     | 2.995164410058027  |  3   |\n",
            "|     1      |     37    | 2.9808429118773945 |  4   |\n",
            "|     1      |     34    | 2.973384030418251  |  5   |\n",
            "|     1      |     27    | 2.8461538461538463 |  6   |\n",
            "|     1      |     3     | 2.814814814814815  |  7   |\n",
            "|     1      |    110    | 2.701863354037267  |  8   |\n",
            "|     1      |     32    | 2.6778846153846154 |  9   |\n",
            "|     1      |    230    | 2.6343283582089554 |  10  |\n",
            "|     2      |    132    | 3.1206896551724137 |  1   |\n",
            "|     2      |    248    | 3.111111111111111  |  2   |\n",
            "|     2      |     0     | 2.995164410058027  |  3   |\n",
            "|     2      |     37    | 2.9808429118773945 |  4   |\n",
            "|     2      |     34    | 2.973384030418251  |  5   |\n",
            "|     2      |     27    | 2.8461538461538463 |  6   |\n",
            "|     2      |     3     | 2.814814814814815  |  7   |\n",
            "|     2      |    110    | 2.701863354037267  |  8   |\n",
            "|     2      |     32    | 2.6778846153846154 |  9   |\n",
            "|     2      |    230    | 2.6343283582089554 |  10  |\n",
            "+------------+-----------+--------------------+------+\n",
            "[624830 rows x 4 columns]\n",
            "\n"
          ],
          "name": "stdout"
        }
      ]
    },
    {
      "metadata": {
        "id": "KSf_owRnCUds",
        "colab_type": "text"
      },
      "cell_type": "markdown",
      "source": [
        "#### Define a `model` function for model selection"
      ]
    },
    {
      "metadata": {
        "id": "hLW3y4MHCUdt",
        "colab_type": "code",
        "colab": {}
      },
      "cell_type": "code",
      "source": [
        "# Since turicreate is very accessible library, we can define a model selection function as below\n",
        "\n",
        "def model(train_data, name, user_id, item_id, target, users_to_recommend, n_rec, n_display):\n",
        "    if name == 'popularity':\n",
        "        model = tc.popularity_recommender.create(train_data, \n",
        "                                                    user_id=user_id, \n",
        "                                                    item_id=item_id, \n",
        "                                                    target=target)\n",
        "    elif name == 'cosine':\n",
        "        model = tc.item_similarity_recommender.create(train_data, \n",
        "                                                    user_id=user_id, \n",
        "                                                    item_id=item_id, \n",
        "                                                    target=target, \n",
        "                                                    similarity_type='cosine')\n",
        "    elif name == 'pearson':\n",
        "        model = tc.item_similarity_recommender.create(train_data, \n",
        "                                                    user_id=user_id, \n",
        "                                                    item_id=item_id, \n",
        "                                                    target=target, \n",
        "                                                    similarity_type='pearson')\n",
        "        \n",
        "    recom = model.recommend(users=users_to_recommend, k=n_rec)\n",
        "    recom.print_rows(n_display)\n",
        "    return model"
      ],
      "execution_count": 0,
      "outputs": []
    },
    {
      "metadata": {
        "id": "D0RaEWy4CUdw",
        "colab_type": "code",
        "colab": {}
      },
      "cell_type": "code",
      "source": [
        "# variables to define field names\n",
        "# constant variables include:\n",
        "user_id = 'customerId'\n",
        "item_id = 'productId'\n",
        "users_to_recommend = list(customers[user_id])\n",
        "n_rec = 10 # number of items to recommend\n",
        "n_display = 30 # to print the head / first few rows in a defined dataset"
      ],
      "execution_count": 0,
      "outputs": []
    },
    {
      "metadata": {
        "id": "d3NQWs26CUdz",
        "colab_type": "text"
      },
      "cell_type": "markdown",
      "source": [
        "#### Using purchase dummy"
      ]
    },
    {
      "metadata": {
        "id": "32o0oTwKCUd1",
        "colab_type": "code",
        "outputId": "abac4efd-7237-481d-d633-794e44d0cf48",
        "colab": {
          "base_uri": "https://localhost:8080/",
          "height": 748
        }
      },
      "cell_type": "code",
      "source": [
        "# these variables will change accordingly\n",
        "name = 'popularity'\n",
        "target = 'purchase_dummy'\n",
        "pop_dummy = model(train_data_dummy, name, user_id, item_id, target, users_to_recommend, n_rec, n_display)"
      ],
      "execution_count": 0,
      "outputs": [
        {
          "output_type": "display_data",
          "data": {
            "text/html": [
              "<pre>Warning: Ignoring columns purchase_count;</pre>"
            ],
            "text/plain": [
              "Warning: Ignoring columns purchase_count;"
            ]
          },
          "metadata": {
            "tags": []
          }
        },
        {
          "output_type": "display_data",
          "data": {
            "text/html": [
              "<pre>    To use these columns in scoring predictions, use a model that allows the use of additional features.</pre>"
            ],
            "text/plain": [
              "    To use these columns in scoring predictions, use a model that allows the use of additional features."
            ]
          },
          "metadata": {
            "tags": []
          }
        },
        {
          "output_type": "display_data",
          "data": {
            "text/html": [
              "<pre>Preparing data set.</pre>"
            ],
            "text/plain": [
              "Preparing data set."
            ]
          },
          "metadata": {
            "tags": []
          }
        },
        {
          "output_type": "display_data",
          "data": {
            "text/html": [
              "<pre>    Data has 106868 observations with 23300 users and 300 items.</pre>"
            ],
            "text/plain": [
              "    Data has 106868 observations with 23300 users and 300 items."
            ]
          },
          "metadata": {
            "tags": []
          }
        },
        {
          "output_type": "display_data",
          "data": {
            "text/html": [
              "<pre>    Data prepared in: 0.155083s</pre>"
            ],
            "text/plain": [
              "    Data prepared in: 0.155083s"
            ]
          },
          "metadata": {
            "tags": []
          }
        },
        {
          "output_type": "display_data",
          "data": {
            "text/html": [
              "<pre>106868 observations to process; with 300 unique items.</pre>"
            ],
            "text/plain": [
              "106868 observations to process; with 300 unique items."
            ]
          },
          "metadata": {
            "tags": []
          }
        },
        {
          "output_type": "display_data",
          "data": {
            "text/html": [
              "<pre>recommendations finished on 1000/1000 queries. users per second: 92618.3</pre>"
            ],
            "text/plain": [
              "recommendations finished on 1000/1000 queries. users per second: 92618.3"
            ]
          },
          "metadata": {
            "tags": []
          }
        },
        {
          "output_type": "stream",
          "text": [
            "+------------+-----------+-------+------+\n",
            "| customerId | productId | score | rank |\n",
            "+------------+-----------+-------+------+\n",
            "|    1553    |     57    |  1.0  |  1   |\n",
            "|    1553    |     63    |  1.0  |  2   |\n",
            "|    1553    |    299    |  1.0  |  3   |\n",
            "|    1553    |    203    |  1.0  |  4   |\n",
            "|    1553    |     48    |  1.0  |  5   |\n",
            "|    1553    |    206    |  1.0  |  6   |\n",
            "|    1553    |     71    |  1.0  |  7   |\n",
            "|    1553    |    209    |  1.0  |  8   |\n",
            "|    1553    |    260    |  1.0  |  9   |\n",
            "|    1553    |     26    |  1.0  |  10  |\n",
            "|   20400    |     57    |  1.0  |  1   |\n",
            "|   20400    |     63    |  1.0  |  2   |\n",
            "|   20400    |    299    |  1.0  |  3   |\n",
            "|   20400    |    203    |  1.0  |  4   |\n",
            "|   20400    |     48    |  1.0  |  5   |\n",
            "|   20400    |    206    |  1.0  |  6   |\n",
            "|   20400    |     71    |  1.0  |  7   |\n",
            "|   20400    |    209    |  1.0  |  8   |\n",
            "|   20400    |    260    |  1.0  |  9   |\n",
            "|   20400    |     26    |  1.0  |  10  |\n",
            "|   19750    |     57    |  1.0  |  1   |\n",
            "|   19750    |     63    |  1.0  |  2   |\n",
            "|   19750    |    299    |  1.0  |  3   |\n",
            "|   19750    |    203    |  1.0  |  4   |\n",
            "|   19750    |     48    |  1.0  |  5   |\n",
            "|   19750    |    206    |  1.0  |  6   |\n",
            "|   19750    |     71    |  1.0  |  7   |\n",
            "|   19750    |    209    |  1.0  |  8   |\n",
            "|   19750    |    260    |  1.0  |  9   |\n",
            "|   19750    |     26    |  1.0  |  10  |\n",
            "+------------+-----------+-------+------+\n",
            "[10000 rows x 4 columns]\n",
            "\n"
          ],
          "name": "stdout"
        }
      ]
    },
    {
      "metadata": {
        "id": "dbI1oIQkCUd3",
        "colab_type": "text"
      },
      "cell_type": "markdown",
      "source": [
        "#### Using normalized purchase count"
      ]
    },
    {
      "metadata": {
        "id": "PKVu6lSmCUd4",
        "colab_type": "code",
        "outputId": "20a165dd-71b4-4316-8f3c-cac96fdfdc56",
        "colab": {
          "base_uri": "https://localhost:8080/",
          "height": 714
        }
      },
      "cell_type": "code",
      "source": [
        "name = 'popularity'\n",
        "target = 'scaled_purchase_freq'\n",
        "pop_norm = model(train_data_norm, name, user_id, item_id, target, users_to_recommend, n_rec, n_display)"
      ],
      "execution_count": 0,
      "outputs": [
        {
          "output_type": "display_data",
          "data": {
            "text/html": [
              "<pre>Preparing data set.</pre>"
            ],
            "text/plain": [
              "Preparing data set."
            ]
          },
          "metadata": {
            "tags": []
          }
        },
        {
          "output_type": "display_data",
          "data": {
            "text/html": [
              "<pre>    Data has 106868 observations with 23251 users and 300 items.</pre>"
            ],
            "text/plain": [
              "    Data has 106868 observations with 23251 users and 300 items."
            ]
          },
          "metadata": {
            "tags": []
          }
        },
        {
          "output_type": "display_data",
          "data": {
            "text/html": [
              "<pre>    Data prepared in: 0.16011s</pre>"
            ],
            "text/plain": [
              "    Data prepared in: 0.16011s"
            ]
          },
          "metadata": {
            "tags": []
          }
        },
        {
          "output_type": "display_data",
          "data": {
            "text/html": [
              "<pre>106868 observations to process; with 300 unique items.</pre>"
            ],
            "text/plain": [
              "106868 observations to process; with 300 unique items."
            ]
          },
          "metadata": {
            "tags": []
          }
        },
        {
          "output_type": "display_data",
          "data": {
            "text/html": [
              "<pre>recommendations finished on 1000/1000 queries. users per second: 80723.3</pre>"
            ],
            "text/plain": [
              "recommendations finished on 1000/1000 queries. users per second: 80723.3"
            ]
          },
          "metadata": {
            "tags": []
          }
        },
        {
          "output_type": "stream",
          "text": [
            "+------------+-----------+---------------------+------+\n",
            "| customerId | productId |        score        | rank |\n",
            "+------------+-----------+---------------------+------+\n",
            "|    1553    |    226    |  0.7647058823529411 |  1   |\n",
            "|    1553    |    247    |  0.3387096774193547 |  2   |\n",
            "|    1553    |    230    |  0.3230769230769226 |  3   |\n",
            "|    1553    |    294    | 0.26315789473684187 |  4   |\n",
            "|    1553    |    125    |  0.2558139534883717 |  5   |\n",
            "|    1553    |    204    | 0.25054945054945027 |  6   |\n",
            "|    1553    |    248    |       0.234375      |  7   |\n",
            "|    1553    |    276    | 0.23295454545454544 |  8   |\n",
            "|    1553    |    155    | 0.23272727272727264 |  9   |\n",
            "|    1553    |     72    |  0.2310838445807771 |  10  |\n",
            "|   20400    |    226    |  0.7647058823529411 |  1   |\n",
            "|   20400    |    247    |  0.3387096774193547 |  2   |\n",
            "|   20400    |    230    |  0.3230769230769226 |  3   |\n",
            "|   20400    |    294    | 0.26315789473684187 |  4   |\n",
            "|   20400    |    125    |  0.2558139534883717 |  5   |\n",
            "|   20400    |    204    | 0.25054945054945027 |  6   |\n",
            "|   20400    |    248    |       0.234375      |  7   |\n",
            "|   20400    |    276    | 0.23295454545454544 |  8   |\n",
            "|   20400    |    155    | 0.23272727272727264 |  9   |\n",
            "|   20400    |     72    |  0.2310838445807771 |  10  |\n",
            "|   19750    |    226    |  0.7647058823529411 |  1   |\n",
            "|   19750    |    230    |  0.3230769230769226 |  2   |\n",
            "|   19750    |    294    | 0.26315789473684187 |  3   |\n",
            "|   19750    |    125    |  0.2558139534883717 |  4   |\n",
            "|   19750    |    204    | 0.25054945054945027 |  5   |\n",
            "|   19750    |    248    |       0.234375      |  6   |\n",
            "|   19750    |    276    | 0.23295454545454544 |  7   |\n",
            "|   19750    |    155    | 0.23272727272727264 |  8   |\n",
            "|   19750    |     72    |  0.2310838445807771 |  9   |\n",
            "|   19750    |     83    |  0.2222222222222222 |  10  |\n",
            "+------------+-----------+---------------------+------+\n",
            "[10000 rows x 4 columns]\n",
            "\n"
          ],
          "name": "stdout"
        }
      ]
    },
    {
      "metadata": {
        "id": "HqlfHSNmCUd6",
        "colab_type": "text"
      },
      "cell_type": "markdown",
      "source": [
        "#### Notes\n",
        "* Once we created the model, we predicted the recommendation items using scores by popularity. As you can tell for each model results above, the rows show the first 30 records from 1000 users with 10 recommendations. These 30 records include 3 users and their recommended items, along with score and descending ranks. \n",
        "* In the result, although different models have different recommendation list, each user is recommended the same list of 10 items. This is because popularity is calculated by taking the most popular items across all users.\n",
        "* If a grouping example below, products 132, 248, 37, and 34 are the most popular (best-selling) across customers. Using their purchase counts divided by the number of customers, we see that these products are at least bought 3 times on average in the training set of transactions (same as the first popularity measure on `purchase_count` variable)"
      ]
    },
    {
      "metadata": {
        "id": "SDherWuhCUd7",
        "colab_type": "code",
        "outputId": "cd04ca0c-a471-4170-c6ae-3310fde9d8c1",
        "colab": {
          "base_uri": "https://localhost:8080/",
          "height": 391
        }
      },
      "cell_type": "code",
      "source": [
        "train.groupby(by=item_id)['purchase_count'].mean().sort_values(ascending=False).head(20)"
      ],
      "execution_count": 0,
      "outputs": [
        {
          "output_type": "execute_result",
          "data": {
            "text/plain": [
              "productId\n",
              "132    3.120690\n",
              "248    3.111111\n",
              "0      2.995164\n",
              "37     2.980843\n",
              "34     2.973384\n",
              "27     2.846154\n",
              "3      2.814815\n",
              "110    2.701863\n",
              "32     2.677885\n",
              "230    2.634328\n",
              "10     2.610119\n",
              "82     2.579167\n",
              "226    2.539474\n",
              "245    2.534091\n",
              "83     2.444444\n",
              "91     2.442623\n",
              "41     2.432099\n",
              "58     2.428571\n",
              "129    2.427746\n",
              "87     2.399177\n",
              "Name: purchase_count, dtype: float64"
            ]
          },
          "metadata": {
            "tags": []
          },
          "execution_count": 37
        }
      ]
    },
    {
      "metadata": {
        "id": "b7Ho9FFeCUd9",
        "colab_type": "text"
      },
      "cell_type": "markdown",
      "source": [
        "## 6. Collaborative Filtering Model\n",
        "\n",
        "* In collaborative filtering, we would recommend items based on how similar users purchase items. For instance, if customer 1 and customer 2 bought similar items, e.g. 1 bought X, Y, Z and 2 bought X, Y, we would recommend an item Z to customer 2.\n",
        "\n",
        "* To define similarity across users, we use the following steps:\n",
        "    1. Create a user-item matrix, where index values represent unique customer IDs and column values represent unique product IDs\n",
        "    \n",
        "    2. Create an item-to-item similarity matrix. The idea is to calculate how similar a product is to another product. There are a number of ways of calculating this. In steps 6.1 and 6.2, we use cosine and pearson similarity measure, respectively.  \n",
        "    \n",
        "        * To calculate similarity between products X and Y, look at all customers who have rated both these items. For example, both X and Y have been rated by customers 1 and 2. \n",
        "        * We then create two item-vectors, v1 for item X and v2 for item Y, in the user-space of (1, 2) and then find the `cosine` or `pearson` angle/distance between these vectors. A zero angle or overlapping vectors with cosine value of 1 means total similarity (or per user, across all items, there is same rating) and an angle of 90 degree would mean cosine of 0 or no similarity.\n",
        "        \n",
        "    3. For each customer, we then predict his likelihood to buy a product (or his purchase counts) for products that he had not bought. \n",
        "    \n",
        "        * For our example, we will calculate rating for user 2 in the case of item Z (target item). To calculate this we weigh the just-calculated similarity-measure between the target item and other items that customer has already bought. The weighing factor is the purchase counts given by the user to items already bought by him. \n",
        "        * We then scale this weighted sum with the sum of similarity-measures so that the calculated rating remains within a predefined limits. Thus, the predicted rating for item Z for user 2 would be calculated using similarity measures.\n",
        "\n",
        "* While I wrote python scripts for all the process including finding similarity using python scripts (which can be found in `scripts` folder, we can use `turicreate` library for now to capture different measures like using `cosine` and `pearson` distance, and evaluate the best model."
      ]
    },
    {
      "metadata": {
        "id": "9c48rwm5CUd_",
        "colab_type": "text"
      },
      "cell_type": "markdown",
      "source": [
        "### 6.1. `Cosine` similarity\n",
        "* Similarity is the cosine of the angle between the 2 vectors of the item vectors of A and B\n",
        "* It is defined by the following formula\n",
        "![](https://encrypted-tbn0.gstatic.com/images?q=tbn:ANd9GcTnRHSAx1c084UXF2wIHYwaHJLmq2qKtNk_YIv3RjHUO00xwlkt)\n",
        "* Closer the vectors, smaller will be the angle and larger the cosine"
      ]
    },
    {
      "metadata": {
        "id": "8Cs60-U_CUeA",
        "colab_type": "text"
      },
      "cell_type": "markdown",
      "source": [
        "#### Using purchase count"
      ]
    },
    {
      "metadata": {
        "id": "qd49e9TJCUeB",
        "colab_type": "code",
        "outputId": "bdd35452-ea79-4684-d909-a53535a49e8e",
        "colab": {
          "base_uri": "https://localhost:8080/",
          "height": 1020
        }
      },
      "cell_type": "code",
      "source": [
        "# these variables will change accordingly\n",
        "name = 'cosine'\n",
        "target = 'purchase_count'\n",
        "cos = model(train_data, name, user_id, item_id, target, users_to_recommend, n_rec, n_display)"
      ],
      "execution_count": 0,
      "outputs": [
        {
          "output_type": "display_data",
          "data": {
            "text/html": [
              "<pre>Preparing data set.</pre>"
            ],
            "text/plain": [
              "Preparing data set."
            ]
          },
          "metadata": {
            "tags": []
          }
        },
        {
          "output_type": "display_data",
          "data": {
            "text/html": [
              "<pre>    Data has 106868 observations with 23360 users and 300 items.</pre>"
            ],
            "text/plain": [
              "    Data has 106868 observations with 23360 users and 300 items."
            ]
          },
          "metadata": {
            "tags": []
          }
        },
        {
          "output_type": "display_data",
          "data": {
            "text/html": [
              "<pre>    Data prepared in: 0.150669s</pre>"
            ],
            "text/plain": [
              "    Data prepared in: 0.150669s"
            ]
          },
          "metadata": {
            "tags": []
          }
        },
        {
          "output_type": "display_data",
          "data": {
            "text/html": [
              "<pre>Training model from provided data.</pre>"
            ],
            "text/plain": [
              "Training model from provided data."
            ]
          },
          "metadata": {
            "tags": []
          }
        },
        {
          "output_type": "display_data",
          "data": {
            "text/html": [
              "<pre>Gathering per-item and per-user statistics.</pre>"
            ],
            "text/plain": [
              "Gathering per-item and per-user statistics."
            ]
          },
          "metadata": {
            "tags": []
          }
        },
        {
          "output_type": "display_data",
          "data": {
            "text/html": [
              "<pre>+--------------------------------+------------+</pre>"
            ],
            "text/plain": [
              "+--------------------------------+------------+"
            ]
          },
          "metadata": {
            "tags": []
          }
        },
        {
          "output_type": "display_data",
          "data": {
            "text/html": [
              "<pre>| Elapsed Time (Item Statistics) | % Complete |</pre>"
            ],
            "text/plain": [
              "| Elapsed Time (Item Statistics) | % Complete |"
            ]
          },
          "metadata": {
            "tags": []
          }
        },
        {
          "output_type": "display_data",
          "data": {
            "text/html": [
              "<pre>+--------------------------------+------------+</pre>"
            ],
            "text/plain": [
              "+--------------------------------+------------+"
            ]
          },
          "metadata": {
            "tags": []
          }
        },
        {
          "output_type": "display_data",
          "data": {
            "text/html": [
              "<pre>| 1.282ms                        | 4.25       |</pre>"
            ],
            "text/plain": [
              "| 1.282ms                        | 4.25       |"
            ]
          },
          "metadata": {
            "tags": []
          }
        },
        {
          "output_type": "display_data",
          "data": {
            "text/html": [
              "<pre>| 12.573ms                       | 100        |</pre>"
            ],
            "text/plain": [
              "| 12.573ms                       | 100        |"
            ]
          },
          "metadata": {
            "tags": []
          }
        },
        {
          "output_type": "display_data",
          "data": {
            "text/html": [
              "<pre>+--------------------------------+------------+</pre>"
            ],
            "text/plain": [
              "+--------------------------------+------------+"
            ]
          },
          "metadata": {
            "tags": []
          }
        },
        {
          "output_type": "display_data",
          "data": {
            "text/html": [
              "<pre>Setting up lookup tables.</pre>"
            ],
            "text/plain": [
              "Setting up lookup tables."
            ]
          },
          "metadata": {
            "tags": []
          }
        },
        {
          "output_type": "display_data",
          "data": {
            "text/html": [
              "<pre>Processing data in one pass using dense lookup tables.</pre>"
            ],
            "text/plain": [
              "Processing data in one pass using dense lookup tables."
            ]
          },
          "metadata": {
            "tags": []
          }
        },
        {
          "output_type": "display_data",
          "data": {
            "text/html": [
              "<pre>+-------------------------------------+------------------+-----------------+</pre>"
            ],
            "text/plain": [
              "+-------------------------------------+------------------+-----------------+"
            ]
          },
          "metadata": {
            "tags": []
          }
        },
        {
          "output_type": "display_data",
          "data": {
            "text/html": [
              "<pre>| Elapsed Time (Constructing Lookups) | Total % Complete | Items Processed |</pre>"
            ],
            "text/plain": [
              "| Elapsed Time (Constructing Lookups) | Total % Complete | Items Processed |"
            ]
          },
          "metadata": {
            "tags": []
          }
        },
        {
          "output_type": "display_data",
          "data": {
            "text/html": [
              "<pre>+-------------------------------------+------------------+-----------------+</pre>"
            ],
            "text/plain": [
              "+-------------------------------------+------------------+-----------------+"
            ]
          },
          "metadata": {
            "tags": []
          }
        },
        {
          "output_type": "display_data",
          "data": {
            "text/html": [
              "<pre>| 13.603ms                            | 0                | 0               |</pre>"
            ],
            "text/plain": [
              "| 13.603ms                            | 0                | 0               |"
            ]
          },
          "metadata": {
            "tags": []
          }
        },
        {
          "output_type": "display_data",
          "data": {
            "text/html": [
              "<pre>| 48.397ms                            | 100              | 300             |</pre>"
            ],
            "text/plain": [
              "| 48.397ms                            | 100              | 300             |"
            ]
          },
          "metadata": {
            "tags": []
          }
        },
        {
          "output_type": "display_data",
          "data": {
            "text/html": [
              "<pre>+-------------------------------------+------------------+-----------------+</pre>"
            ],
            "text/plain": [
              "+-------------------------------------+------------------+-----------------+"
            ]
          },
          "metadata": {
            "tags": []
          }
        },
        {
          "output_type": "display_data",
          "data": {
            "text/html": [
              "<pre>Finalizing lookup tables.</pre>"
            ],
            "text/plain": [
              "Finalizing lookup tables."
            ]
          },
          "metadata": {
            "tags": []
          }
        },
        {
          "output_type": "display_data",
          "data": {
            "text/html": [
              "<pre>Generating candidate set for working with new users.</pre>"
            ],
            "text/plain": [
              "Generating candidate set for working with new users."
            ]
          },
          "metadata": {
            "tags": []
          }
        },
        {
          "output_type": "display_data",
          "data": {
            "text/html": [
              "<pre>Finished training in 1.0688s</pre>"
            ],
            "text/plain": [
              "Finished training in 1.0688s"
            ]
          },
          "metadata": {
            "tags": []
          }
        },
        {
          "output_type": "display_data",
          "data": {
            "text/html": [
              "<pre>recommendations finished on 1000/1000 queries. users per second: 50854.4</pre>"
            ],
            "text/plain": [
              "recommendations finished on 1000/1000 queries. users per second: 50854.4"
            ]
          },
          "metadata": {
            "tags": []
          }
        },
        {
          "output_type": "stream",
          "text": [
            "+------------+-----------+----------------------+------+\n",
            "| customerId | productId |        score         | rank |\n",
            "+------------+-----------+----------------------+------+\n",
            "|    1553    |     2     | 0.11276702880859375  |  1   |\n",
            "|    1553    |     35    | 0.08033981323242187  |  2   |\n",
            "|    1553    |     1     | 0.07192964553833008  |  3   |\n",
            "|    1553    |     5     |  0.0660744309425354  |  4   |\n",
            "|    1553    |     21    | 0.05912514925003052  |  5   |\n",
            "|    1553    |     8     | 0.058310282230377194 |  6   |\n",
            "|    1553    |     17    | 0.05692689418792725  |  7   |\n",
            "|    1553    |     33    | 0.04889466762542725  |  8   |\n",
            "|    1553    |     15    | 0.04863626956939697  |  9   |\n",
            "|    1553    |     41    | 0.048443269729614255 |  10  |\n",
            "|   20400    |    182    | 0.03934735059738159  |  1   |\n",
            "|   20400    |     9     | 0.039135098457336426 |  2   |\n",
            "|   20400    |     75    | 0.03855240345001221  |  3   |\n",
            "|   20400    |    122    | 0.03753024339675903  |  4   |\n",
            "|   20400    |     6     | 0.036900103092193604 |  5   |\n",
            "|   20400    |    215    |  0.0365481972694397  |  6   |\n",
            "|   20400    |     54    | 0.03609895706176758  |  7   |\n",
            "|   20400    |     31    | 0.035347700119018555 |  8   |\n",
            "|   20400    |    160    | 0.034797072410583496 |  9   |\n",
            "|   20400    |     13    | 0.034072935581207275 |  10  |\n",
            "|   19750    |     1     | 0.07890254259109497  |  1   |\n",
            "|   19750    |     21    | 0.057069092988967896 |  2   |\n",
            "|   19750    |     61    |  0.0506463348865509  |  3   |\n",
            "|   19750    |     5     | 0.05007191002368927  |  4   |\n",
            "|   19750    |     0     |  0.0480351597070694  |  5   |\n",
            "|   19750    |     30    |  0.0478205680847168  |  6   |\n",
            "|   19750    |     35    | 0.04722796380519867  |  7   |\n",
            "|   19750    |    112    | 0.04717172682285309  |  8   |\n",
            "|   19750    |     2     | 0.044894322752952576 |  9   |\n",
            "|   19750    |     76    | 0.04332040250301361  |  10  |\n",
            "+------------+-----------+----------------------+------+\n",
            "[10000 rows x 4 columns]\n",
            "\n"
          ],
          "name": "stdout"
        }
      ]
    },
    {
      "metadata": {
        "id": "yGz1HFHOCUeH",
        "colab_type": "text"
      },
      "cell_type": "markdown",
      "source": [
        "#### Using purchase dummy"
      ]
    },
    {
      "metadata": {
        "id": "vRg-GZQtCUeI",
        "colab_type": "code",
        "outputId": "0d896457-3887-42c3-fdb0-6b34bc3ecbaa",
        "colab": {
          "base_uri": "https://localhost:8080/",
          "height": 1054
        }
      },
      "cell_type": "code",
      "source": [
        "# these variables will change accordingly\n",
        "name = 'cosine'\n",
        "target = 'purchase_dummy'\n",
        "cos_dummy = model(train_data_dummy, name, user_id, item_id, target, users_to_recommend, n_rec, n_display)"
      ],
      "execution_count": 0,
      "outputs": [
        {
          "output_type": "display_data",
          "data": {
            "text/html": [
              "<pre>Warning: Ignoring columns purchase_count;</pre>"
            ],
            "text/plain": [
              "Warning: Ignoring columns purchase_count;"
            ]
          },
          "metadata": {
            "tags": []
          }
        },
        {
          "output_type": "display_data",
          "data": {
            "text/html": [
              "<pre>    To use these columns in scoring predictions, use a model that allows the use of additional features.</pre>"
            ],
            "text/plain": [
              "    To use these columns in scoring predictions, use a model that allows the use of additional features."
            ]
          },
          "metadata": {
            "tags": []
          }
        },
        {
          "output_type": "display_data",
          "data": {
            "text/html": [
              "<pre>Preparing data set.</pre>"
            ],
            "text/plain": [
              "Preparing data set."
            ]
          },
          "metadata": {
            "tags": []
          }
        },
        {
          "output_type": "display_data",
          "data": {
            "text/html": [
              "<pre>    Data has 106868 observations with 23300 users and 300 items.</pre>"
            ],
            "text/plain": [
              "    Data has 106868 observations with 23300 users and 300 items."
            ]
          },
          "metadata": {
            "tags": []
          }
        },
        {
          "output_type": "display_data",
          "data": {
            "text/html": [
              "<pre>    Data prepared in: 0.145507s</pre>"
            ],
            "text/plain": [
              "    Data prepared in: 0.145507s"
            ]
          },
          "metadata": {
            "tags": []
          }
        },
        {
          "output_type": "display_data",
          "data": {
            "text/html": [
              "<pre>Training model from provided data.</pre>"
            ],
            "text/plain": [
              "Training model from provided data."
            ]
          },
          "metadata": {
            "tags": []
          }
        },
        {
          "output_type": "display_data",
          "data": {
            "text/html": [
              "<pre>Gathering per-item and per-user statistics.</pre>"
            ],
            "text/plain": [
              "Gathering per-item and per-user statistics."
            ]
          },
          "metadata": {
            "tags": []
          }
        },
        {
          "output_type": "display_data",
          "data": {
            "text/html": [
              "<pre>+--------------------------------+------------+</pre>"
            ],
            "text/plain": [
              "+--------------------------------+------------+"
            ]
          },
          "metadata": {
            "tags": []
          }
        },
        {
          "output_type": "display_data",
          "data": {
            "text/html": [
              "<pre>| Elapsed Time (Item Statistics) | % Complete |</pre>"
            ],
            "text/plain": [
              "| Elapsed Time (Item Statistics) | % Complete |"
            ]
          },
          "metadata": {
            "tags": []
          }
        },
        {
          "output_type": "display_data",
          "data": {
            "text/html": [
              "<pre>+--------------------------------+------------+</pre>"
            ],
            "text/plain": [
              "+--------------------------------+------------+"
            ]
          },
          "metadata": {
            "tags": []
          }
        },
        {
          "output_type": "display_data",
          "data": {
            "text/html": [
              "<pre>| 787us                          | 4.25       |</pre>"
            ],
            "text/plain": [
              "| 787us                          | 4.25       |"
            ]
          },
          "metadata": {
            "tags": []
          }
        },
        {
          "output_type": "display_data",
          "data": {
            "text/html": [
              "<pre>| 11.392ms                       | 100        |</pre>"
            ],
            "text/plain": [
              "| 11.392ms                       | 100        |"
            ]
          },
          "metadata": {
            "tags": []
          }
        },
        {
          "output_type": "display_data",
          "data": {
            "text/html": [
              "<pre>+--------------------------------+------------+</pre>"
            ],
            "text/plain": [
              "+--------------------------------+------------+"
            ]
          },
          "metadata": {
            "tags": []
          }
        },
        {
          "output_type": "display_data",
          "data": {
            "text/html": [
              "<pre>Setting up lookup tables.</pre>"
            ],
            "text/plain": [
              "Setting up lookup tables."
            ]
          },
          "metadata": {
            "tags": []
          }
        },
        {
          "output_type": "display_data",
          "data": {
            "text/html": [
              "<pre>Processing data in one pass using dense lookup tables.</pre>"
            ],
            "text/plain": [
              "Processing data in one pass using dense lookup tables."
            ]
          },
          "metadata": {
            "tags": []
          }
        },
        {
          "output_type": "display_data",
          "data": {
            "text/html": [
              "<pre>+-------------------------------------+------------------+-----------------+</pre>"
            ],
            "text/plain": [
              "+-------------------------------------+------------------+-----------------+"
            ]
          },
          "metadata": {
            "tags": []
          }
        },
        {
          "output_type": "display_data",
          "data": {
            "text/html": [
              "<pre>| Elapsed Time (Constructing Lookups) | Total % Complete | Items Processed |</pre>"
            ],
            "text/plain": [
              "| Elapsed Time (Constructing Lookups) | Total % Complete | Items Processed |"
            ]
          },
          "metadata": {
            "tags": []
          }
        },
        {
          "output_type": "display_data",
          "data": {
            "text/html": [
              "<pre>+-------------------------------------+------------------+-----------------+</pre>"
            ],
            "text/plain": [
              "+-------------------------------------+------------------+-----------------+"
            ]
          },
          "metadata": {
            "tags": []
          }
        },
        {
          "output_type": "display_data",
          "data": {
            "text/html": [
              "<pre>| 12.084ms                            | 0                | 0               |</pre>"
            ],
            "text/plain": [
              "| 12.084ms                            | 0                | 0               |"
            ]
          },
          "metadata": {
            "tags": []
          }
        },
        {
          "output_type": "display_data",
          "data": {
            "text/html": [
              "<pre>| 43.49ms                             | 100              | 300             |</pre>"
            ],
            "text/plain": [
              "| 43.49ms                             | 100              | 300             |"
            ]
          },
          "metadata": {
            "tags": []
          }
        },
        {
          "output_type": "display_data",
          "data": {
            "text/html": [
              "<pre>+-------------------------------------+------------------+-----------------+</pre>"
            ],
            "text/plain": [
              "+-------------------------------------+------------------+-----------------+"
            ]
          },
          "metadata": {
            "tags": []
          }
        },
        {
          "output_type": "display_data",
          "data": {
            "text/html": [
              "<pre>Finalizing lookup tables.</pre>"
            ],
            "text/plain": [
              "Finalizing lookup tables."
            ]
          },
          "metadata": {
            "tags": []
          }
        },
        {
          "output_type": "display_data",
          "data": {
            "text/html": [
              "<pre>Generating candidate set for working with new users.</pre>"
            ],
            "text/plain": [
              "Generating candidate set for working with new users."
            ]
          },
          "metadata": {
            "tags": []
          }
        },
        {
          "output_type": "display_data",
          "data": {
            "text/html": [
              "<pre>Finished training in 0.062704s</pre>"
            ],
            "text/plain": [
              "Finished training in 0.062704s"
            ]
          },
          "metadata": {
            "tags": []
          }
        },
        {
          "output_type": "display_data",
          "data": {
            "text/html": [
              "<pre>recommendations finished on 1000/1000 queries. users per second: 28282.9</pre>"
            ],
            "text/plain": [
              "recommendations finished on 1000/1000 queries. users per second: 28282.9"
            ]
          },
          "metadata": {
            "tags": []
          }
        },
        {
          "output_type": "stream",
          "text": [
            "+------------+-----------+----------------------+------+\n",
            "| customerId | productId |        score         | rank |\n",
            "+------------+-----------+----------------------+------+\n",
            "|    1553    |     2     |  0.1002994179725647  |  1   |\n",
            "|    1553    |     35    | 0.08169955015182495  |  2   |\n",
            "|    1553    |     1     | 0.07999366521835327  |  3   |\n",
            "|    1553    |     5     | 0.07133170366287231  |  4   |\n",
            "|    1553    |     21    | 0.06368176937103272  |  5   |\n",
            "|    1553    |     17    |  0.0635490894317627  |  6   |\n",
            "|    1553    |     61    |  0.0536016583442688  |  7   |\n",
            "|    1553    |     33    | 0.050506067276000974 |  8   |\n",
            "|    1553    |     8     | 0.049720931053161624 |  9   |\n",
            "|    1553    |     96    | 0.045212066173553465 |  10  |\n",
            "|   20400    |     57    |         0.0          |  1   |\n",
            "|   20400    |     63    |         0.0          |  2   |\n",
            "|   20400    |    299    |         0.0          |  3   |\n",
            "|   20400    |    203    |         0.0          |  4   |\n",
            "|   20400    |     48    |         0.0          |  5   |\n",
            "|   20400    |    206    |         0.0          |  6   |\n",
            "|   20400    |     71    |         0.0          |  7   |\n",
            "|   20400    |    209    |         0.0          |  8   |\n",
            "|   20400    |    260    |         0.0          |  9   |\n",
            "|   20400    |     26    |         0.0          |  10  |\n",
            "|   19750    |     48    | 0.13515083491802216  |  1   |\n",
            "|   19750    |     38    | 0.11911831796169281  |  2   |\n",
            "|   19750    |     36    | 0.11536552011966705  |  3   |\n",
            "|   19750    |     79    | 0.10041511058807373  |  4   |\n",
            "|   19750    |     1     | 0.08551476895809174  |  5   |\n",
            "|   19750    |     2     |  0.073127880692482   |  6   |\n",
            "|   19750    |    194    |  0.071905717253685   |  7   |\n",
            "|   19750    |     44    | 0.060318201780319214 |  8   |\n",
            "|   19750    |     35    |  0.0550001859664917  |  9   |\n",
            "|   19750    |     14    | 0.05411398410797119  |  10  |\n",
            "+------------+-----------+----------------------+------+\n",
            "[10000 rows x 4 columns]\n",
            "\n"
          ],
          "name": "stdout"
        }
      ]
    },
    {
      "metadata": {
        "id": "Z1Frcqw0CUeN",
        "colab_type": "text"
      },
      "cell_type": "markdown",
      "source": [
        "#### Using normalized purchase count"
      ]
    },
    {
      "metadata": {
        "id": "RPApoe8NCUeO",
        "colab_type": "code",
        "outputId": "0b33ee00-15e0-4d2d-9184-ac88515a5163",
        "colab": {
          "base_uri": "https://localhost:8080/",
          "height": 1020
        }
      },
      "cell_type": "code",
      "source": [
        "name = 'cosine'\n",
        "target = 'scaled_purchase_freq'\n",
        "cos_norm = model(train_data_norm, name, user_id, item_id, target, users_to_recommend, n_rec, n_display)"
      ],
      "execution_count": 0,
      "outputs": [
        {
          "output_type": "display_data",
          "data": {
            "text/html": [
              "<pre>Preparing data set.</pre>"
            ],
            "text/plain": [
              "Preparing data set."
            ]
          },
          "metadata": {
            "tags": []
          }
        },
        {
          "output_type": "display_data",
          "data": {
            "text/html": [
              "<pre>    Data has 106868 observations with 23251 users and 300 items.</pre>"
            ],
            "text/plain": [
              "    Data has 106868 observations with 23251 users and 300 items."
            ]
          },
          "metadata": {
            "tags": []
          }
        },
        {
          "output_type": "display_data",
          "data": {
            "text/html": [
              "<pre>    Data prepared in: 0.162553s</pre>"
            ],
            "text/plain": [
              "    Data prepared in: 0.162553s"
            ]
          },
          "metadata": {
            "tags": []
          }
        },
        {
          "output_type": "display_data",
          "data": {
            "text/html": [
              "<pre>Training model from provided data.</pre>"
            ],
            "text/plain": [
              "Training model from provided data."
            ]
          },
          "metadata": {
            "tags": []
          }
        },
        {
          "output_type": "display_data",
          "data": {
            "text/html": [
              "<pre>Gathering per-item and per-user statistics.</pre>"
            ],
            "text/plain": [
              "Gathering per-item and per-user statistics."
            ]
          },
          "metadata": {
            "tags": []
          }
        },
        {
          "output_type": "display_data",
          "data": {
            "text/html": [
              "<pre>+--------------------------------+------------+</pre>"
            ],
            "text/plain": [
              "+--------------------------------+------------+"
            ]
          },
          "metadata": {
            "tags": []
          }
        },
        {
          "output_type": "display_data",
          "data": {
            "text/html": [
              "<pre>| Elapsed Time (Item Statistics) | % Complete |</pre>"
            ],
            "text/plain": [
              "| Elapsed Time (Item Statistics) | % Complete |"
            ]
          },
          "metadata": {
            "tags": []
          }
        },
        {
          "output_type": "display_data",
          "data": {
            "text/html": [
              "<pre>+--------------------------------+------------+</pre>"
            ],
            "text/plain": [
              "+--------------------------------+------------+"
            ]
          },
          "metadata": {
            "tags": []
          }
        },
        {
          "output_type": "display_data",
          "data": {
            "text/html": [
              "<pre>| 1.303ms                        | 4.25       |</pre>"
            ],
            "text/plain": [
              "| 1.303ms                        | 4.25       |"
            ]
          },
          "metadata": {
            "tags": []
          }
        },
        {
          "output_type": "display_data",
          "data": {
            "text/html": [
              "<pre>| 12.055ms                       | 100        |</pre>"
            ],
            "text/plain": [
              "| 12.055ms                       | 100        |"
            ]
          },
          "metadata": {
            "tags": []
          }
        },
        {
          "output_type": "display_data",
          "data": {
            "text/html": [
              "<pre>+--------------------------------+------------+</pre>"
            ],
            "text/plain": [
              "+--------------------------------+------------+"
            ]
          },
          "metadata": {
            "tags": []
          }
        },
        {
          "output_type": "display_data",
          "data": {
            "text/html": [
              "<pre>Setting up lookup tables.</pre>"
            ],
            "text/plain": [
              "Setting up lookup tables."
            ]
          },
          "metadata": {
            "tags": []
          }
        },
        {
          "output_type": "display_data",
          "data": {
            "text/html": [
              "<pre>Processing data in one pass using dense lookup tables.</pre>"
            ],
            "text/plain": [
              "Processing data in one pass using dense lookup tables."
            ]
          },
          "metadata": {
            "tags": []
          }
        },
        {
          "output_type": "display_data",
          "data": {
            "text/html": [
              "<pre>+-------------------------------------+------------------+-----------------+</pre>"
            ],
            "text/plain": [
              "+-------------------------------------+------------------+-----------------+"
            ]
          },
          "metadata": {
            "tags": []
          }
        },
        {
          "output_type": "display_data",
          "data": {
            "text/html": [
              "<pre>| Elapsed Time (Constructing Lookups) | Total % Complete | Items Processed |</pre>"
            ],
            "text/plain": [
              "| Elapsed Time (Constructing Lookups) | Total % Complete | Items Processed |"
            ]
          },
          "metadata": {
            "tags": []
          }
        },
        {
          "output_type": "display_data",
          "data": {
            "text/html": [
              "<pre>+-------------------------------------+------------------+-----------------+</pre>"
            ],
            "text/plain": [
              "+-------------------------------------+------------------+-----------------+"
            ]
          },
          "metadata": {
            "tags": []
          }
        },
        {
          "output_type": "display_data",
          "data": {
            "text/html": [
              "<pre>| 12.931ms                            | 0                | 0               |</pre>"
            ],
            "text/plain": [
              "| 12.931ms                            | 0                | 0               |"
            ]
          },
          "metadata": {
            "tags": []
          }
        },
        {
          "output_type": "display_data",
          "data": {
            "text/html": [
              "<pre>| 44.748ms                            | 100              | 300             |</pre>"
            ],
            "text/plain": [
              "| 44.748ms                            | 100              | 300             |"
            ]
          },
          "metadata": {
            "tags": []
          }
        },
        {
          "output_type": "display_data",
          "data": {
            "text/html": [
              "<pre>+-------------------------------------+------------------+-----------------+</pre>"
            ],
            "text/plain": [
              "+-------------------------------------+------------------+-----------------+"
            ]
          },
          "metadata": {
            "tags": []
          }
        },
        {
          "output_type": "display_data",
          "data": {
            "text/html": [
              "<pre>Finalizing lookup tables.</pre>"
            ],
            "text/plain": [
              "Finalizing lookup tables."
            ]
          },
          "metadata": {
            "tags": []
          }
        },
        {
          "output_type": "display_data",
          "data": {
            "text/html": [
              "<pre>Generating candidate set for working with new users.</pre>"
            ],
            "text/plain": [
              "Generating candidate set for working with new users."
            ]
          },
          "metadata": {
            "tags": []
          }
        },
        {
          "output_type": "display_data",
          "data": {
            "text/html": [
              "<pre>Finished training in 0.069365s</pre>"
            ],
            "text/plain": [
              "Finished training in 0.069365s"
            ]
          },
          "metadata": {
            "tags": []
          }
        },
        {
          "output_type": "display_data",
          "data": {
            "text/html": [
              "<pre>recommendations finished on 1000/1000 queries. users per second: 40394.2</pre>"
            ],
            "text/plain": [
              "recommendations finished on 1000/1000 queries. users per second: 40394.2"
            ]
          },
          "metadata": {
            "tags": []
          }
        },
        {
          "output_type": "stream",
          "text": [
            "+------------+-----------+-----------------------+------+\n",
            "| customerId | productId |         score         | rank |\n",
            "+------------+-----------+-----------------------+------+\n",
            "|    1553    |     53    |          0.0          |  1   |\n",
            "|    1553    |     63    |          0.0          |  2   |\n",
            "|    1553    |    202    |          0.0          |  3   |\n",
            "|    1553    |    297    |          0.0          |  4   |\n",
            "|    1553    |    153    |          0.0          |  5   |\n",
            "|    1553    |    258    |          0.0          |  6   |\n",
            "|    1553    |     7     |          0.0          |  7   |\n",
            "|    1553    |    108    |          0.0          |  8   |\n",
            "|    1553    |     97    |          0.0          |  9   |\n",
            "|    1553    |    210    |          0.0          |  10  |\n",
            "|   20400    |     1     |  0.003668515682220459 |  1   |\n",
            "|   20400    |     2     |  0.003234623670578003 |  2   |\n",
            "|   20400    |     8     | 0.0027580273151397703 |  3   |\n",
            "|   20400    |     0     |  0.002273153066635132 |  4   |\n",
            "|   20400    |     38    | 0.0021234452724456787 |  5   |\n",
            "|   20400    |     79    |  0.002019612789154053 |  6   |\n",
            "|   20400    |     11    | 0.0018320322036743165 |  7   |\n",
            "|   20400    |     9     | 0.0018259942531585692 |  8   |\n",
            "|   20400    |     72    | 0.0017469561100006104 |  9   |\n",
            "|   20400    |    107    |  0.001742755174636841 |  10  |\n",
            "|   19750    |    225    |  0.003025263547897339 |  1   |\n",
            "|   19750    |    134    |  0.002459069093068441 |  2   |\n",
            "|   19750    |    181    |  0.00241092840830485  |  3   |\n",
            "|   19750    |    222    | 0.0021239022413889566 |  4   |\n",
            "|   19750    |    187    |  0.001996388037999471 |  5   |\n",
            "|   19750    |    232    | 0.0018875797589619954 |  6   |\n",
            "|   19750    |    208    | 0.0017495453357696533 |  7   |\n",
            "|   19750    |     3     | 0.0015694300333658855 |  8   |\n",
            "|   19750    |    103    | 0.0014982223510742188 |  9   |\n",
            "|   19750    |    254    | 0.0013676782449086506 |  10  |\n",
            "+------------+-----------+-----------------------+------+\n",
            "[10000 rows x 4 columns]\n",
            "\n"
          ],
          "name": "stdout"
        }
      ]
    },
    {
      "metadata": {
        "id": "JK1OtIqJCUeQ",
        "colab_type": "text"
      },
      "cell_type": "markdown",
      "source": [
        "### 6.2. `Pearson` similarity\n",
        "* Similarity is the pearson coefficient between the two vectors.\n",
        "* It is defined by the following formula\n",
        "![](http://critical-numbers.group.shef.ac.uk/glossary/images/correlationKT1.png)"
      ]
    },
    {
      "metadata": {
        "id": "rvKvJBRfCUeR",
        "colab_type": "text"
      },
      "cell_type": "markdown",
      "source": [
        "#### Using purchase count"
      ]
    },
    {
      "metadata": {
        "id": "v7v9rWUiCUeS",
        "colab_type": "code",
        "outputId": "0bd47ff1-9906-40e3-bb0f-5ab2ce5eb3df",
        "colab": {
          "base_uri": "https://localhost:8080/",
          "height": 1020
        }
      },
      "cell_type": "code",
      "source": [
        "# these variables will change accordingly\n",
        "name = 'pearson'\n",
        "target = 'purchase_count'\n",
        "pear = model(train_data, name, user_id, item_id, target, users_to_recommend, n_rec, n_display)"
      ],
      "execution_count": 0,
      "outputs": [
        {
          "output_type": "display_data",
          "data": {
            "text/html": [
              "<pre>Preparing data set.</pre>"
            ],
            "text/plain": [
              "Preparing data set."
            ]
          },
          "metadata": {
            "tags": []
          }
        },
        {
          "output_type": "display_data",
          "data": {
            "text/html": [
              "<pre>    Data has 106868 observations with 23360 users and 300 items.</pre>"
            ],
            "text/plain": [
              "    Data has 106868 observations with 23360 users and 300 items."
            ]
          },
          "metadata": {
            "tags": []
          }
        },
        {
          "output_type": "display_data",
          "data": {
            "text/html": [
              "<pre>    Data prepared in: 0.149624s</pre>"
            ],
            "text/plain": [
              "    Data prepared in: 0.149624s"
            ]
          },
          "metadata": {
            "tags": []
          }
        },
        {
          "output_type": "display_data",
          "data": {
            "text/html": [
              "<pre>Training model from provided data.</pre>"
            ],
            "text/plain": [
              "Training model from provided data."
            ]
          },
          "metadata": {
            "tags": []
          }
        },
        {
          "output_type": "display_data",
          "data": {
            "text/html": [
              "<pre>Gathering per-item and per-user statistics.</pre>"
            ],
            "text/plain": [
              "Gathering per-item and per-user statistics."
            ]
          },
          "metadata": {
            "tags": []
          }
        },
        {
          "output_type": "display_data",
          "data": {
            "text/html": [
              "<pre>+--------------------------------+------------+</pre>"
            ],
            "text/plain": [
              "+--------------------------------+------------+"
            ]
          },
          "metadata": {
            "tags": []
          }
        },
        {
          "output_type": "display_data",
          "data": {
            "text/html": [
              "<pre>| Elapsed Time (Item Statistics) | % Complete |</pre>"
            ],
            "text/plain": [
              "| Elapsed Time (Item Statistics) | % Complete |"
            ]
          },
          "metadata": {
            "tags": []
          }
        },
        {
          "output_type": "display_data",
          "data": {
            "text/html": [
              "<pre>+--------------------------------+------------+</pre>"
            ],
            "text/plain": [
              "+--------------------------------+------------+"
            ]
          },
          "metadata": {
            "tags": []
          }
        },
        {
          "output_type": "display_data",
          "data": {
            "text/html": [
              "<pre>| 1.491ms                        | 4.25       |</pre>"
            ],
            "text/plain": [
              "| 1.491ms                        | 4.25       |"
            ]
          },
          "metadata": {
            "tags": []
          }
        },
        {
          "output_type": "display_data",
          "data": {
            "text/html": [
              "<pre>| 20.854ms                       | 100        |</pre>"
            ],
            "text/plain": [
              "| 20.854ms                       | 100        |"
            ]
          },
          "metadata": {
            "tags": []
          }
        },
        {
          "output_type": "display_data",
          "data": {
            "text/html": [
              "<pre>+--------------------------------+------------+</pre>"
            ],
            "text/plain": [
              "+--------------------------------+------------+"
            ]
          },
          "metadata": {
            "tags": []
          }
        },
        {
          "output_type": "display_data",
          "data": {
            "text/html": [
              "<pre>Setting up lookup tables.</pre>"
            ],
            "text/plain": [
              "Setting up lookup tables."
            ]
          },
          "metadata": {
            "tags": []
          }
        },
        {
          "output_type": "display_data",
          "data": {
            "text/html": [
              "<pre>Processing data in one pass using dense lookup tables.</pre>"
            ],
            "text/plain": [
              "Processing data in one pass using dense lookup tables."
            ]
          },
          "metadata": {
            "tags": []
          }
        },
        {
          "output_type": "display_data",
          "data": {
            "text/html": [
              "<pre>+-------------------------------------+------------------+-----------------+</pre>"
            ],
            "text/plain": [
              "+-------------------------------------+------------------+-----------------+"
            ]
          },
          "metadata": {
            "tags": []
          }
        },
        {
          "output_type": "display_data",
          "data": {
            "text/html": [
              "<pre>| Elapsed Time (Constructing Lookups) | Total % Complete | Items Processed |</pre>"
            ],
            "text/plain": [
              "| Elapsed Time (Constructing Lookups) | Total % Complete | Items Processed |"
            ]
          },
          "metadata": {
            "tags": []
          }
        },
        {
          "output_type": "display_data",
          "data": {
            "text/html": [
              "<pre>+-------------------------------------+------------------+-----------------+</pre>"
            ],
            "text/plain": [
              "+-------------------------------------+------------------+-----------------+"
            ]
          },
          "metadata": {
            "tags": []
          }
        },
        {
          "output_type": "display_data",
          "data": {
            "text/html": [
              "<pre>| 29.292ms                            | 0                | 0               |</pre>"
            ],
            "text/plain": [
              "| 29.292ms                            | 0                | 0               |"
            ]
          },
          "metadata": {
            "tags": []
          }
        },
        {
          "output_type": "display_data",
          "data": {
            "text/html": [
              "<pre>| 83.158ms                            | 100              | 300             |</pre>"
            ],
            "text/plain": [
              "| 83.158ms                            | 100              | 300             |"
            ]
          },
          "metadata": {
            "tags": []
          }
        },
        {
          "output_type": "display_data",
          "data": {
            "text/html": [
              "<pre>+-------------------------------------+------------------+-----------------+</pre>"
            ],
            "text/plain": [
              "+-------------------------------------+------------------+-----------------+"
            ]
          },
          "metadata": {
            "tags": []
          }
        },
        {
          "output_type": "display_data",
          "data": {
            "text/html": [
              "<pre>Finalizing lookup tables.</pre>"
            ],
            "text/plain": [
              "Finalizing lookup tables."
            ]
          },
          "metadata": {
            "tags": []
          }
        },
        {
          "output_type": "display_data",
          "data": {
            "text/html": [
              "<pre>Generating candidate set for working with new users.</pre>"
            ],
            "text/plain": [
              "Generating candidate set for working with new users."
            ]
          },
          "metadata": {
            "tags": []
          }
        },
        {
          "output_type": "display_data",
          "data": {
            "text/html": [
              "<pre>Finished training in 0.106142s</pre>"
            ],
            "text/plain": [
              "Finished training in 0.106142s"
            ]
          },
          "metadata": {
            "tags": []
          }
        },
        {
          "output_type": "display_data",
          "data": {
            "text/html": [
              "<pre>recommendations finished on 1000/1000 queries. users per second: 62270.4</pre>"
            ],
            "text/plain": [
              "recommendations finished on 1000/1000 queries. users per second: 62270.4"
            ]
          },
          "metadata": {
            "tags": []
          }
        },
        {
          "output_type": "stream",
          "text": [
            "+------------+-----------+--------------------+------+\n",
            "| customerId | productId |       score        | rank |\n",
            "+------------+-----------+--------------------+------+\n",
            "|    1553    |    132    | 3.1206896551724137 |  1   |\n",
            "|    1553    |    248    | 3.1084946102566193 |  2   |\n",
            "|    1553    |     0     | 2.9932216205034314 |  3   |\n",
            "|    1553    |     37    | 2.979803561844588  |  4   |\n",
            "|    1553    |     34    | 2.9559458213613987 |  5   |\n",
            "|    1553    |     27    | 2.846153846153846  |  6   |\n",
            "|    1553    |     3     | 2.8143691151230428 |  7   |\n",
            "|    1553    |    110    | 2.6935129340390978 |  8   |\n",
            "|    1553    |     32    | 2.6778846153846163 |  9   |\n",
            "|    1553    |    230    | 2.6287490058301097 |  10  |\n",
            "|   20400    |    248    | 3.1111111111111116 |  1   |\n",
            "|   20400    |    132    | 3.1104909428234757 |  2   |\n",
            "|   20400    |     0     | 2.9928007878694594 |  3   |\n",
            "|   20400    |     37    | 2.9808429118773945 |  4   |\n",
            "|   20400    |     34    | 2.973384030418253  |  5   |\n",
            "|   20400    |     27    | 2.846153846153846  |  6   |\n",
            "|   20400    |     3     | 2.8148148148148153 |  7   |\n",
            "|   20400    |    110    | 2.7018633540372665 |  8   |\n",
            "|   20400    |     32    | 2.6778846153846163 |  9   |\n",
            "|   20400    |    230    | 2.634328358208955  |  10  |\n",
            "|   19750    |    132    | 3.119004989492482  |  1   |\n",
            "|   19750    |    248    | 3.109754673308797  |  2   |\n",
            "|   19750    |     0     | 2.993544102493292  |  3   |\n",
            "|   19750    |     37    | 2.9808429118773945 |  4   |\n",
            "|   19750    |     34    | 2.963192068295336  |  5   |\n",
            "|   19750    |     27    | 2.846153846153846  |  6   |\n",
            "|   19750    |     3     | 2.8135681538670156 |  7   |\n",
            "|   19750    |    110    | 2.7014838512639816 |  8   |\n",
            "|   19750    |     32    |  2.67727256508974  |  9   |\n",
            "|   19750    |    230    | 2.634328358208955  |  10  |\n",
            "+------------+-----------+--------------------+------+\n",
            "[10000 rows x 4 columns]\n",
            "\n"
          ],
          "name": "stdout"
        }
      ]
    },
    {
      "metadata": {
        "id": "X-od4Pp2CUeV",
        "colab_type": "text"
      },
      "cell_type": "markdown",
      "source": [
        "#### Using purchase dummy"
      ]
    },
    {
      "metadata": {
        "id": "R9l8U-AcCUeW",
        "colab_type": "code",
        "outputId": "bfe415a7-e6cf-4cec-dcdf-73976e7d9dc0",
        "colab": {
          "base_uri": "https://localhost:8080/",
          "height": 1054
        }
      },
      "cell_type": "code",
      "source": [
        "# these variables will change accordingly\n",
        "name = 'pearson'\n",
        "target = 'purchase_dummy'\n",
        "pear_dummy = model(train_data_dummy, name, user_id, item_id, target, users_to_recommend, n_rec, n_display)"
      ],
      "execution_count": 0,
      "outputs": [
        {
          "output_type": "display_data",
          "data": {
            "text/html": [
              "<pre>Warning: Ignoring columns purchase_count;</pre>"
            ],
            "text/plain": [
              "Warning: Ignoring columns purchase_count;"
            ]
          },
          "metadata": {
            "tags": []
          }
        },
        {
          "output_type": "display_data",
          "data": {
            "text/html": [
              "<pre>    To use these columns in scoring predictions, use a model that allows the use of additional features.</pre>"
            ],
            "text/plain": [
              "    To use these columns in scoring predictions, use a model that allows the use of additional features."
            ]
          },
          "metadata": {
            "tags": []
          }
        },
        {
          "output_type": "display_data",
          "data": {
            "text/html": [
              "<pre>Preparing data set.</pre>"
            ],
            "text/plain": [
              "Preparing data set."
            ]
          },
          "metadata": {
            "tags": []
          }
        },
        {
          "output_type": "display_data",
          "data": {
            "text/html": [
              "<pre>    Data has 106868 observations with 23300 users and 300 items.</pre>"
            ],
            "text/plain": [
              "    Data has 106868 observations with 23300 users and 300 items."
            ]
          },
          "metadata": {
            "tags": []
          }
        },
        {
          "output_type": "display_data",
          "data": {
            "text/html": [
              "<pre>    Data prepared in: 0.14787s</pre>"
            ],
            "text/plain": [
              "    Data prepared in: 0.14787s"
            ]
          },
          "metadata": {
            "tags": []
          }
        },
        {
          "output_type": "display_data",
          "data": {
            "text/html": [
              "<pre>Training model from provided data.</pre>"
            ],
            "text/plain": [
              "Training model from provided data."
            ]
          },
          "metadata": {
            "tags": []
          }
        },
        {
          "output_type": "display_data",
          "data": {
            "text/html": [
              "<pre>Gathering per-item and per-user statistics.</pre>"
            ],
            "text/plain": [
              "Gathering per-item and per-user statistics."
            ]
          },
          "metadata": {
            "tags": []
          }
        },
        {
          "output_type": "display_data",
          "data": {
            "text/html": [
              "<pre>+--------------------------------+------------+</pre>"
            ],
            "text/plain": [
              "+--------------------------------+------------+"
            ]
          },
          "metadata": {
            "tags": []
          }
        },
        {
          "output_type": "display_data",
          "data": {
            "text/html": [
              "<pre>| Elapsed Time (Item Statistics) | % Complete |</pre>"
            ],
            "text/plain": [
              "| Elapsed Time (Item Statistics) | % Complete |"
            ]
          },
          "metadata": {
            "tags": []
          }
        },
        {
          "output_type": "display_data",
          "data": {
            "text/html": [
              "<pre>+--------------------------------+------------+</pre>"
            ],
            "text/plain": [
              "+--------------------------------+------------+"
            ]
          },
          "metadata": {
            "tags": []
          }
        },
        {
          "output_type": "display_data",
          "data": {
            "text/html": [
              "<pre>| 12.146ms                       | 4.25       |</pre>"
            ],
            "text/plain": [
              "| 12.146ms                       | 4.25       |"
            ]
          },
          "metadata": {
            "tags": []
          }
        },
        {
          "output_type": "display_data",
          "data": {
            "text/html": [
              "<pre>| 21.263ms                       | 100        |</pre>"
            ],
            "text/plain": [
              "| 21.263ms                       | 100        |"
            ]
          },
          "metadata": {
            "tags": []
          }
        },
        {
          "output_type": "display_data",
          "data": {
            "text/html": [
              "<pre>+--------------------------------+------------+</pre>"
            ],
            "text/plain": [
              "+--------------------------------+------------+"
            ]
          },
          "metadata": {
            "tags": []
          }
        },
        {
          "output_type": "display_data",
          "data": {
            "text/html": [
              "<pre>Setting up lookup tables.</pre>"
            ],
            "text/plain": [
              "Setting up lookup tables."
            ]
          },
          "metadata": {
            "tags": []
          }
        },
        {
          "output_type": "display_data",
          "data": {
            "text/html": [
              "<pre>Processing data in one pass using dense lookup tables.</pre>"
            ],
            "text/plain": [
              "Processing data in one pass using dense lookup tables."
            ]
          },
          "metadata": {
            "tags": []
          }
        },
        {
          "output_type": "display_data",
          "data": {
            "text/html": [
              "<pre>+-------------------------------------+------------------+-----------------+</pre>"
            ],
            "text/plain": [
              "+-------------------------------------+------------------+-----------------+"
            ]
          },
          "metadata": {
            "tags": []
          }
        },
        {
          "output_type": "display_data",
          "data": {
            "text/html": [
              "<pre>| Elapsed Time (Constructing Lookups) | Total % Complete | Items Processed |</pre>"
            ],
            "text/plain": [
              "| Elapsed Time (Constructing Lookups) | Total % Complete | Items Processed |"
            ]
          },
          "metadata": {
            "tags": []
          }
        },
        {
          "output_type": "display_data",
          "data": {
            "text/html": [
              "<pre>+-------------------------------------+------------------+-----------------+</pre>"
            ],
            "text/plain": [
              "+-------------------------------------+------------------+-----------------+"
            ]
          },
          "metadata": {
            "tags": []
          }
        },
        {
          "output_type": "display_data",
          "data": {
            "text/html": [
              "<pre>| 25.003ms                            | 0                | 0               |</pre>"
            ],
            "text/plain": [
              "| 25.003ms                            | 0                | 0               |"
            ]
          },
          "metadata": {
            "tags": []
          }
        },
        {
          "output_type": "display_data",
          "data": {
            "text/html": [
              "<pre>| 69.733ms                            | 100              | 300             |</pre>"
            ],
            "text/plain": [
              "| 69.733ms                            | 100              | 300             |"
            ]
          },
          "metadata": {
            "tags": []
          }
        },
        {
          "output_type": "display_data",
          "data": {
            "text/html": [
              "<pre>+-------------------------------------+------------------+-----------------+</pre>"
            ],
            "text/plain": [
              "+-------------------------------------+------------------+-----------------+"
            ]
          },
          "metadata": {
            "tags": []
          }
        },
        {
          "output_type": "display_data",
          "data": {
            "text/html": [
              "<pre>Finalizing lookup tables.</pre>"
            ],
            "text/plain": [
              "Finalizing lookup tables."
            ]
          },
          "metadata": {
            "tags": []
          }
        },
        {
          "output_type": "display_data",
          "data": {
            "text/html": [
              "<pre>Generating candidate set for working with new users.</pre>"
            ],
            "text/plain": [
              "Generating candidate set for working with new users."
            ]
          },
          "metadata": {
            "tags": []
          }
        },
        {
          "output_type": "display_data",
          "data": {
            "text/html": [
              "<pre>Finished training in 0.082016s</pre>"
            ],
            "text/plain": [
              "Finished training in 0.082016s"
            ]
          },
          "metadata": {
            "tags": []
          }
        },
        {
          "output_type": "display_data",
          "data": {
            "text/html": [
              "<pre>recommendations finished on 1000/1000 queries. users per second: 53954.9</pre>"
            ],
            "text/plain": [
              "recommendations finished on 1000/1000 queries. users per second: 53954.9"
            ]
          },
          "metadata": {
            "tags": []
          }
        },
        {
          "output_type": "stream",
          "text": [
            "+------------+-----------+-------+------+\n",
            "| customerId | productId | score | rank |\n",
            "+------------+-----------+-------+------+\n",
            "|    1553    |     57    |  0.0  |  1   |\n",
            "|    1553    |     63    |  0.0  |  2   |\n",
            "|    1553    |    299    |  0.0  |  3   |\n",
            "|    1553    |    203    |  0.0  |  4   |\n",
            "|    1553    |     48    |  0.0  |  5   |\n",
            "|    1553    |    206    |  0.0  |  6   |\n",
            "|    1553    |     71    |  0.0  |  7   |\n",
            "|    1553    |    209    |  0.0  |  8   |\n",
            "|    1553    |    260    |  0.0  |  9   |\n",
            "|    1553    |     26    |  0.0  |  10  |\n",
            "|   20400    |     57    |  0.0  |  1   |\n",
            "|   20400    |     63    |  0.0  |  2   |\n",
            "|   20400    |    299    |  0.0  |  3   |\n",
            "|   20400    |    203    |  0.0  |  4   |\n",
            "|   20400    |     48    |  0.0  |  5   |\n",
            "|   20400    |    206    |  0.0  |  6   |\n",
            "|   20400    |     71    |  0.0  |  7   |\n",
            "|   20400    |    209    |  0.0  |  8   |\n",
            "|   20400    |    260    |  0.0  |  9   |\n",
            "|   20400    |     26    |  0.0  |  10  |\n",
            "|   19750    |     57    |  0.0  |  1   |\n",
            "|   19750    |     63    |  0.0  |  2   |\n",
            "|   19750    |    299    |  0.0  |  3   |\n",
            "|   19750    |    203    |  0.0  |  4   |\n",
            "|   19750    |     48    |  0.0  |  5   |\n",
            "|   19750    |    206    |  0.0  |  6   |\n",
            "|   19750    |     71    |  0.0  |  7   |\n",
            "|   19750    |    209    |  0.0  |  8   |\n",
            "|   19750    |    260    |  0.0  |  9   |\n",
            "|   19750    |     26    |  0.0  |  10  |\n",
            "+------------+-----------+-------+------+\n",
            "[10000 rows x 4 columns]\n",
            "\n"
          ],
          "name": "stdout"
        }
      ]
    },
    {
      "metadata": {
        "id": "T69YaH5RCUeY",
        "colab_type": "text"
      },
      "cell_type": "markdown",
      "source": [
        "#### Using normalized purchase count"
      ]
    },
    {
      "metadata": {
        "id": "YuqypC9HCUeZ",
        "colab_type": "code",
        "outputId": "ab00e184-f211-41f1-c898-6b817d5abf77",
        "colab": {
          "base_uri": "https://localhost:8080/",
          "height": 1020
        }
      },
      "cell_type": "code",
      "source": [
        "name = 'pearson'\n",
        "target = 'scaled_purchase_freq'\n",
        "pear_norm = model(train_data_norm, name, user_id, item_id, target, users_to_recommend, n_rec, n_display)"
      ],
      "execution_count": 0,
      "outputs": [
        {
          "output_type": "display_data",
          "data": {
            "text/html": [
              "<pre>Preparing data set.</pre>"
            ],
            "text/plain": [
              "Preparing data set."
            ]
          },
          "metadata": {
            "tags": []
          }
        },
        {
          "output_type": "display_data",
          "data": {
            "text/html": [
              "<pre>    Data has 106868 observations with 23251 users and 300 items.</pre>"
            ],
            "text/plain": [
              "    Data has 106868 observations with 23251 users and 300 items."
            ]
          },
          "metadata": {
            "tags": []
          }
        },
        {
          "output_type": "display_data",
          "data": {
            "text/html": [
              "<pre>    Data prepared in: 0.153997s</pre>"
            ],
            "text/plain": [
              "    Data prepared in: 0.153997s"
            ]
          },
          "metadata": {
            "tags": []
          }
        },
        {
          "output_type": "display_data",
          "data": {
            "text/html": [
              "<pre>Training model from provided data.</pre>"
            ],
            "text/plain": [
              "Training model from provided data."
            ]
          },
          "metadata": {
            "tags": []
          }
        },
        {
          "output_type": "display_data",
          "data": {
            "text/html": [
              "<pre>Gathering per-item and per-user statistics.</pre>"
            ],
            "text/plain": [
              "Gathering per-item and per-user statistics."
            ]
          },
          "metadata": {
            "tags": []
          }
        },
        {
          "output_type": "display_data",
          "data": {
            "text/html": [
              "<pre>+--------------------------------+------------+</pre>"
            ],
            "text/plain": [
              "+--------------------------------+------------+"
            ]
          },
          "metadata": {
            "tags": []
          }
        },
        {
          "output_type": "display_data",
          "data": {
            "text/html": [
              "<pre>| Elapsed Time (Item Statistics) | % Complete |</pre>"
            ],
            "text/plain": [
              "| Elapsed Time (Item Statistics) | % Complete |"
            ]
          },
          "metadata": {
            "tags": []
          }
        },
        {
          "output_type": "display_data",
          "data": {
            "text/html": [
              "<pre>+--------------------------------+------------+</pre>"
            ],
            "text/plain": [
              "+--------------------------------+------------+"
            ]
          },
          "metadata": {
            "tags": []
          }
        },
        {
          "output_type": "display_data",
          "data": {
            "text/html": [
              "<pre>| 1.73ms                         | 4.25       |</pre>"
            ],
            "text/plain": [
              "| 1.73ms                         | 4.25       |"
            ]
          },
          "metadata": {
            "tags": []
          }
        },
        {
          "output_type": "display_data",
          "data": {
            "text/html": [
              "<pre>| 19.758ms                       | 100        |</pre>"
            ],
            "text/plain": [
              "| 19.758ms                       | 100        |"
            ]
          },
          "metadata": {
            "tags": []
          }
        },
        {
          "output_type": "display_data",
          "data": {
            "text/html": [
              "<pre>+--------------------------------+------------+</pre>"
            ],
            "text/plain": [
              "+--------------------------------+------------+"
            ]
          },
          "metadata": {
            "tags": []
          }
        },
        {
          "output_type": "display_data",
          "data": {
            "text/html": [
              "<pre>Setting up lookup tables.</pre>"
            ],
            "text/plain": [
              "Setting up lookup tables."
            ]
          },
          "metadata": {
            "tags": []
          }
        },
        {
          "output_type": "display_data",
          "data": {
            "text/html": [
              "<pre>Processing data in one pass using dense lookup tables.</pre>"
            ],
            "text/plain": [
              "Processing data in one pass using dense lookup tables."
            ]
          },
          "metadata": {
            "tags": []
          }
        },
        {
          "output_type": "display_data",
          "data": {
            "text/html": [
              "<pre>+-------------------------------------+------------------+-----------------+</pre>"
            ],
            "text/plain": [
              "+-------------------------------------+------------------+-----------------+"
            ]
          },
          "metadata": {
            "tags": []
          }
        },
        {
          "output_type": "display_data",
          "data": {
            "text/html": [
              "<pre>| Elapsed Time (Constructing Lookups) | Total % Complete | Items Processed |</pre>"
            ],
            "text/plain": [
              "| Elapsed Time (Constructing Lookups) | Total % Complete | Items Processed |"
            ]
          },
          "metadata": {
            "tags": []
          }
        },
        {
          "output_type": "display_data",
          "data": {
            "text/html": [
              "<pre>+-------------------------------------+------------------+-----------------+</pre>"
            ],
            "text/plain": [
              "+-------------------------------------+------------------+-----------------+"
            ]
          },
          "metadata": {
            "tags": []
          }
        },
        {
          "output_type": "display_data",
          "data": {
            "text/html": [
              "<pre>| 21.468ms                            | 0                | 0               |</pre>"
            ],
            "text/plain": [
              "| 21.468ms                            | 0                | 0               |"
            ]
          },
          "metadata": {
            "tags": []
          }
        },
        {
          "output_type": "display_data",
          "data": {
            "text/html": [
              "<pre>| 78.231ms                            | 100              | 300             |</pre>"
            ],
            "text/plain": [
              "| 78.231ms                            | 100              | 300             |"
            ]
          },
          "metadata": {
            "tags": []
          }
        },
        {
          "output_type": "display_data",
          "data": {
            "text/html": [
              "<pre>+-------------------------------------+------------------+-----------------+</pre>"
            ],
            "text/plain": [
              "+-------------------------------------+------------------+-----------------+"
            ]
          },
          "metadata": {
            "tags": []
          }
        },
        {
          "output_type": "display_data",
          "data": {
            "text/html": [
              "<pre>Finalizing lookup tables.</pre>"
            ],
            "text/plain": [
              "Finalizing lookup tables."
            ]
          },
          "metadata": {
            "tags": []
          }
        },
        {
          "output_type": "display_data",
          "data": {
            "text/html": [
              "<pre>Generating candidate set for working with new users.</pre>"
            ],
            "text/plain": [
              "Generating candidate set for working with new users."
            ]
          },
          "metadata": {
            "tags": []
          }
        },
        {
          "output_type": "display_data",
          "data": {
            "text/html": [
              "<pre>Finished training in 0.102272s</pre>"
            ],
            "text/plain": [
              "Finished training in 0.102272s"
            ]
          },
          "metadata": {
            "tags": []
          }
        },
        {
          "output_type": "display_data",
          "data": {
            "text/html": [
              "<pre>recommendations finished on 1000/1000 queries. users per second: 59673</pre>"
            ],
            "text/plain": [
              "recommendations finished on 1000/1000 queries. users per second: 59673"
            ]
          },
          "metadata": {
            "tags": []
          }
        },
        {
          "output_type": "stream",
          "text": [
            "+------------+-----------+---------------------+------+\n",
            "| customerId | productId |        score        | rank |\n",
            "+------------+-----------+---------------------+------+\n",
            "|    1553    |    226    |  0.7645709612790277 |  1   |\n",
            "|    1553    |    247    |  0.3387096774193547 |  2   |\n",
            "|    1553    |    230    |  0.3230769230769232 |  3   |\n",
            "|    1553    |    294    | 0.26315789473684204 |  4   |\n",
            "|    1553    |    125    |  0.255813953488372  |  5   |\n",
            "|    1553    |    204    | 0.25054945054945055 |  6   |\n",
            "|    1553    |    248    | 0.23385876417160034 |  7   |\n",
            "|    1553    |    276    |  0.2327507929368452 |  8   |\n",
            "|    1553    |    155    |  0.2327272727272727 |  9   |\n",
            "|    1553    |     72    |  0.231083844580777  |  10  |\n",
            "|   20400    |    226    |   0.76469501284992  |  1   |\n",
            "|   20400    |    247    | 0.33870578881232954 |  2   |\n",
            "|   20400    |    230    | 0.32306969303351196 |  3   |\n",
            "|   20400    |    294    |  0.2631339610877789 |  4   |\n",
            "|   20400    |    125    | 0.25580356201460186 |  5   |\n",
            "|   20400    |    204    |  0.2505358547299773 |  6   |\n",
            "|   20400    |    248    | 0.23436233282089233 |  7   |\n",
            "|   20400    |    276    | 0.23292709632353342 |  8   |\n",
            "|   20400    |    155    | 0.23271625659682532 |  9   |\n",
            "|   20400    |     72    | 0.23101483193887026 |  10  |\n",
            "|   19750    |    226    |  0.7644284525338342 |  1   |\n",
            "|   19750    |    230    |  0.3230769230769232 |  2   |\n",
            "|   19750    |    294    | 0.26315789473684204 |  3   |\n",
            "|   19750    |    125    |  0.2555414907229962 |  4   |\n",
            "|   19750    |    204    |  0.2504488577772846 |  5   |\n",
            "|   19750    |    248    |  0.2341474990049998 |  6   |\n",
            "|   19750    |    276    |  0.2329545454545454 |  7   |\n",
            "|   19750    |    155    |  0.2327272727272727 |  8   |\n",
            "|   19750    |     72    | 0.23081013011786095 |  9   |\n",
            "|   19750    |     83    | 0.22194503082169426 |  10  |\n",
            "+------------+-----------+---------------------+------+\n",
            "[10000 rows x 4 columns]\n",
            "\n"
          ],
          "name": "stdout"
        }
      ]
    },
    {
      "metadata": {
        "id": "evvWEIOxCUef",
        "colab_type": "text"
      },
      "cell_type": "markdown",
      "source": [
        "#### Note\n",
        "* In collaborative filtering above, we used two approaches: cosine and pearson distance. We also got to apply them to three training datasets with normal counts, dummy, or normalized counts of items purchase.\n",
        "* We can see that the recommendations are different for each user. This suggests that personalization does exist. \n",
        "* But how good is this model compared to the baseline, and to each other? We need some means of evaluating a recommendation engine. Lets focus on that in the next section."
      ]
    },
    {
      "metadata": {
        "id": "PkL0n-QtCUei",
        "colab_type": "text"
      },
      "cell_type": "markdown",
      "source": [
        "## 7. Model Evaluation\n",
        "For evaluating recommendation engines, we can use the concept of precision-recall.\n",
        "\n",
        "* RMSE (Root Mean Squared Errors)\n",
        "    * Measures the error of predicted values\n",
        "    * Lesser the RMSE value, better the recommendations\n",
        "* Recall\n",
        "    * What percentage of products that a user buys are actually recommended?\n",
        "    * If a customer buys 5 products and the recommendation decided to show 3 of them, then the recall is 0.6\n",
        "* Precision\n",
        "    * Out of all the recommended items, how many the user actually liked?\n",
        "    * If 5 products were recommended to the customer out of which he buys 4 of them, then precision is 0.8\n",
        "    \n",
        "* Why are both recall and precision important?\n",
        "    * Consider a case where we recommend all products, so our customers will surely cover the items that they liked and bought. In this case, we have 100% recall! Does this mean our model is good?\n",
        "    * We have to consider precision. If we recommend 300 items but user likes and buys only 3 of them, then precision is 0.1%! This very low precision indicates that the model is not great, despite their excellent recall.\n",
        "    * So our aim has to be optimizing both recall and precision (to be close to 1 as possible).\n",
        "\n",
        "Lets compare all the models we have built based on precision-recall characteristics:"
      ]
    },
    {
      "metadata": {
        "id": "_dbRXb8WCUej",
        "colab_type": "code",
        "colab": {}
      },
      "cell_type": "code",
      "source": [
        "# create initial callable variables\n",
        "\n",
        "models_w_counts = [popularity_model, cos, pear]\n",
        "models_w_dummy = [pop_dummy, cos_dummy, pear_dummy]\n",
        "models_w_norm = [pop_norm, cos_norm, pear_norm]\n",
        "\n",
        "names_w_counts = ['Popularity Model on Purchase Counts', 'Cosine Similarity on Purchase Counts', 'Pearson Similarity on Purchase Counts']\n",
        "names_w_dummy = ['Popularity Model on Purchase Dummy', 'Cosine Similarity on Purchase Dummy', 'Pearson Similarity on Purchase Dummy']\n",
        "names_w_norm = ['Popularity Model on Scaled Purchase Counts', 'Cosine Similarity on Scaled Purchase Counts', 'Pearson Similarity on Scaled Purchase Counts']"
      ],
      "execution_count": 0,
      "outputs": []
    },
    {
      "metadata": {
        "id": "S5DWlwkMCUen",
        "colab_type": "text"
      },
      "cell_type": "markdown",
      "source": [
        "#### Models on purchase counts"
      ]
    },
    {
      "metadata": {
        "scrolled": false,
        "id": "V2Ra80KPCUeo",
        "colab_type": "code",
        "outputId": "08cf683e-a1d7-4190-bba8-55abd6acf1a1",
        "colab": {
          "base_uri": "https://localhost:8080/",
          "height": 3587
        }
      },
      "cell_type": "code",
      "source": [
        "eval_counts = tc.recommender.util.compare_models(test_data, models_w_counts, model_names=names_w_counts)"
      ],
      "execution_count": 0,
      "outputs": [
        {
          "output_type": "stream",
          "text": [
            "PROGRESS: Evaluate model Popularity Model on Purchase Counts\n"
          ],
          "name": "stdout"
        },
        {
          "output_type": "display_data",
          "data": {
            "text/html": [
              "<pre>recommendations finished on 1000/13858 queries. users per second: 48906.9</pre>"
            ],
            "text/plain": [
              "recommendations finished on 1000/13858 queries. users per second: 48906.9"
            ]
          },
          "metadata": {
            "tags": []
          }
        },
        {
          "output_type": "display_data",
          "data": {
            "text/html": [
              "<pre>recommendations finished on 2000/13858 queries. users per second: 45413.3</pre>"
            ],
            "text/plain": [
              "recommendations finished on 2000/13858 queries. users per second: 45413.3"
            ]
          },
          "metadata": {
            "tags": []
          }
        },
        {
          "output_type": "display_data",
          "data": {
            "text/html": [
              "<pre>recommendations finished on 3000/13858 queries. users per second: 47023.4</pre>"
            ],
            "text/plain": [
              "recommendations finished on 3000/13858 queries. users per second: 47023.4"
            ]
          },
          "metadata": {
            "tags": []
          }
        },
        {
          "output_type": "display_data",
          "data": {
            "text/html": [
              "<pre>recommendations finished on 4000/13858 queries. users per second: 47789.2</pre>"
            ],
            "text/plain": [
              "recommendations finished on 4000/13858 queries. users per second: 47789.2"
            ]
          },
          "metadata": {
            "tags": []
          }
        },
        {
          "output_type": "display_data",
          "data": {
            "text/html": [
              "<pre>recommendations finished on 5000/13858 queries. users per second: 47057.1</pre>"
            ],
            "text/plain": [
              "recommendations finished on 5000/13858 queries. users per second: 47057.1"
            ]
          },
          "metadata": {
            "tags": []
          }
        },
        {
          "output_type": "display_data",
          "data": {
            "text/html": [
              "<pre>recommendations finished on 6000/13858 queries. users per second: 48001.5</pre>"
            ],
            "text/plain": [
              "recommendations finished on 6000/13858 queries. users per second: 48001.5"
            ]
          },
          "metadata": {
            "tags": []
          }
        },
        {
          "output_type": "display_data",
          "data": {
            "text/html": [
              "<pre>recommendations finished on 7000/13858 queries. users per second: 45108.3</pre>"
            ],
            "text/plain": [
              "recommendations finished on 7000/13858 queries. users per second: 45108.3"
            ]
          },
          "metadata": {
            "tags": []
          }
        },
        {
          "output_type": "display_data",
          "data": {
            "text/html": [
              "<pre>recommendations finished on 8000/13858 queries. users per second: 45256.8</pre>"
            ],
            "text/plain": [
              "recommendations finished on 8000/13858 queries. users per second: 45256.8"
            ]
          },
          "metadata": {
            "tags": []
          }
        },
        {
          "output_type": "display_data",
          "data": {
            "text/html": [
              "<pre>recommendations finished on 9000/13858 queries. users per second: 46418.1</pre>"
            ],
            "text/plain": [
              "recommendations finished on 9000/13858 queries. users per second: 46418.1"
            ]
          },
          "metadata": {
            "tags": []
          }
        },
        {
          "output_type": "display_data",
          "data": {
            "text/html": [
              "<pre>recommendations finished on 10000/13858 queries. users per second: 46781.4</pre>"
            ],
            "text/plain": [
              "recommendations finished on 10000/13858 queries. users per second: 46781.4"
            ]
          },
          "metadata": {
            "tags": []
          }
        },
        {
          "output_type": "display_data",
          "data": {
            "text/html": [
              "<pre>recommendations finished on 11000/13858 queries. users per second: 47252.9</pre>"
            ],
            "text/plain": [
              "recommendations finished on 11000/13858 queries. users per second: 47252.9"
            ]
          },
          "metadata": {
            "tags": []
          }
        },
        {
          "output_type": "display_data",
          "data": {
            "text/html": [
              "<pre>recommendations finished on 12000/13858 queries. users per second: 47742.8</pre>"
            ],
            "text/plain": [
              "recommendations finished on 12000/13858 queries. users per second: 47742.8"
            ]
          },
          "metadata": {
            "tags": []
          }
        },
        {
          "output_type": "display_data",
          "data": {
            "text/html": [
              "<pre>recommendations finished on 13000/13858 queries. users per second: 44393.3</pre>"
            ],
            "text/plain": [
              "recommendations finished on 13000/13858 queries. users per second: 44393.3"
            ]
          },
          "metadata": {
            "tags": []
          }
        },
        {
          "output_type": "stream",
          "text": [
            "\n",
            "Precision and recall summary statistics by cutoff\n",
            "+--------+-----------------------+-----------------------+\n",
            "| cutoff |     mean_precision    |      mean_recall      |\n",
            "+--------+-----------------------+-----------------------+\n",
            "|   1    | 0.0010824072737768795 | 0.0006506470390147675 |\n",
            "|   2    | 0.0009020060614807331 | 0.0009783759080194364 |\n",
            "|   3    |  0.007240101986818706 |  0.01155947570653876  |\n",
            "|   4    | 0.0067289652186462556 |  0.014321160550775251 |\n",
            "|   5    |  0.006018184442199446 |  0.016090495551817446 |\n",
            "|   6    |  0.005496223601289268 |  0.01770253787680553  |\n",
            "|   7    |  0.005906851122610987 |  0.021837878130272548 |\n",
            "|   8    |  0.005619497763024961 |  0.023648275883447038 |\n",
            "|   9    |  0.005379965042253972 |  0.026143680608610585 |\n",
            "|   10   |  0.005166690720161649 |  0.028125087256996677 |\n",
            "+--------+-----------------------+-----------------------+\n",
            "[10 rows x 3 columns]\n",
            "\n",
            "\n",
            "Overall RMSE: 1.0582111043219309\n",
            "\n",
            "Per User RMSE (best)\n",
            "+------------+------+-------+\n",
            "| customerId | rmse | count |\n",
            "+------------+------+-------+\n",
            "|    7685    | 0.0  |   1   |\n",
            "+------------+------+-------+\n",
            "[1 rows x 3 columns]\n",
            "\n",
            "\n",
            "Per User RMSE (worst)\n",
            "+------------+-------------------+-------+\n",
            "| customerId |        rmse       | count |\n",
            "+------------+-------------------+-------+\n",
            "|    1404    | 19.96013736317095 |   2   |\n",
            "+------------+-------------------+-------+\n",
            "[1 rows x 3 columns]\n",
            "\n",
            "\n",
            "Per Item RMSE (best)\n",
            "+-----------+---------------------+-------+\n",
            "| productId |         rmse        | count |\n",
            "+-----------+---------------------+-------+\n",
            "|    285    | 0.20473250013084998 |   75  |\n",
            "+-----------+---------------------+-------+\n",
            "[1 rows x 3 columns]\n",
            "\n",
            "\n",
            "Per Item RMSE (worst)\n",
            "+-----------+-------------------+-------+\n",
            "| productId |        rmse       | count |\n",
            "+-----------+-------------------+-------+\n",
            "|     47    | 4.871308742660214 |  135  |\n",
            "+-----------+-------------------+-------+\n",
            "[1 rows x 3 columns]\n",
            "\n",
            "PROGRESS: Evaluate model Cosine Similarity on Purchase Counts\n"
          ],
          "name": "stdout"
        },
        {
          "output_type": "display_data",
          "data": {
            "text/html": [
              "<pre>recommendations finished on 1000/13858 queries. users per second: 36375.5</pre>"
            ],
            "text/plain": [
              "recommendations finished on 1000/13858 queries. users per second: 36375.5"
            ]
          },
          "metadata": {
            "tags": []
          }
        },
        {
          "output_type": "display_data",
          "data": {
            "text/html": [
              "<pre>recommendations finished on 2000/13858 queries. users per second: 33065</pre>"
            ],
            "text/plain": [
              "recommendations finished on 2000/13858 queries. users per second: 33065"
            ]
          },
          "metadata": {
            "tags": []
          }
        },
        {
          "output_type": "display_data",
          "data": {
            "text/html": [
              "<pre>recommendations finished on 3000/13858 queries. users per second: 34135.9</pre>"
            ],
            "text/plain": [
              "recommendations finished on 3000/13858 queries. users per second: 34135.9"
            ]
          },
          "metadata": {
            "tags": []
          }
        },
        {
          "output_type": "display_data",
          "data": {
            "text/html": [
              "<pre>recommendations finished on 4000/13858 queries. users per second: 34944</pre>"
            ],
            "text/plain": [
              "recommendations finished on 4000/13858 queries. users per second: 34944"
            ]
          },
          "metadata": {
            "tags": []
          }
        },
        {
          "output_type": "display_data",
          "data": {
            "text/html": [
              "<pre>recommendations finished on 5000/13858 queries. users per second: 35258.7</pre>"
            ],
            "text/plain": [
              "recommendations finished on 5000/13858 queries. users per second: 35258.7"
            ]
          },
          "metadata": {
            "tags": []
          }
        },
        {
          "output_type": "display_data",
          "data": {
            "text/html": [
              "<pre>recommendations finished on 6000/13858 queries. users per second: 35461.4</pre>"
            ],
            "text/plain": [
              "recommendations finished on 6000/13858 queries. users per second: 35461.4"
            ]
          },
          "metadata": {
            "tags": []
          }
        },
        {
          "output_type": "display_data",
          "data": {
            "text/html": [
              "<pre>recommendations finished on 7000/13858 queries. users per second: 35247.6</pre>"
            ],
            "text/plain": [
              "recommendations finished on 7000/13858 queries. users per second: 35247.6"
            ]
          },
          "metadata": {
            "tags": []
          }
        },
        {
          "output_type": "display_data",
          "data": {
            "text/html": [
              "<pre>recommendations finished on 8000/13858 queries. users per second: 34981.7</pre>"
            ],
            "text/plain": [
              "recommendations finished on 8000/13858 queries. users per second: 34981.7"
            ]
          },
          "metadata": {
            "tags": []
          }
        },
        {
          "output_type": "display_data",
          "data": {
            "text/html": [
              "<pre>recommendations finished on 9000/13858 queries. users per second: 35267</pre>"
            ],
            "text/plain": [
              "recommendations finished on 9000/13858 queries. users per second: 35267"
            ]
          },
          "metadata": {
            "tags": []
          }
        },
        {
          "output_type": "display_data",
          "data": {
            "text/html": [
              "<pre>recommendations finished on 10000/13858 queries. users per second: 35668.9</pre>"
            ],
            "text/plain": [
              "recommendations finished on 10000/13858 queries. users per second: 35668.9"
            ]
          },
          "metadata": {
            "tags": []
          }
        },
        {
          "output_type": "display_data",
          "data": {
            "text/html": [
              "<pre>recommendations finished on 11000/13858 queries. users per second: 35892.7</pre>"
            ],
            "text/plain": [
              "recommendations finished on 11000/13858 queries. users per second: 35892.7"
            ]
          },
          "metadata": {
            "tags": []
          }
        },
        {
          "output_type": "display_data",
          "data": {
            "text/html": [
              "<pre>recommendations finished on 12000/13858 queries. users per second: 35488.7</pre>"
            ],
            "text/plain": [
              "recommendations finished on 12000/13858 queries. users per second: 35488.7"
            ]
          },
          "metadata": {
            "tags": []
          }
        },
        {
          "output_type": "display_data",
          "data": {
            "text/html": [
              "<pre>recommendations finished on 13000/13858 queries. users per second: 35723.1</pre>"
            ],
            "text/plain": [
              "recommendations finished on 13000/13858 queries. users per second: 35723.1"
            ]
          },
          "metadata": {
            "tags": []
          }
        },
        {
          "output_type": "stream",
          "text": [
            "\n",
            "Precision and recall summary statistics by cutoff\n",
            "+--------+----------------------+---------------------+\n",
            "| cutoff |    mean_precision    |     mean_recall     |\n",
            "+--------+----------------------+---------------------+\n",
            "|   1    | 0.11538461538461539  | 0.06645067479224644 |\n",
            "|   2    | 0.09720017318516341  | 0.11034817155631893 |\n",
            "|   3    | 0.08139702698802129  | 0.13760884673047283 |\n",
            "|   4    | 0.07098787703853408  | 0.15879774046049808 |\n",
            "|   5    |  0.0629672391398475  | 0.17433705301850067 |\n",
            "|   6    | 0.057006783085582324 |  0.1882757569918414 |\n",
            "|   7    | 0.052635919427664275 | 0.20151032353496653 |\n",
            "|   8    | 0.04898794919901842  | 0.21323675807042722 |\n",
            "|   9    | 0.04587803274482432  | 0.22370748250402636 |\n",
            "|   10   | 0.043231346514648585 | 0.23303691247496222 |\n",
            "+--------+----------------------+---------------------+\n",
            "[10 rows x 3 columns]\n",
            "\n",
            "\n",
            "Overall RMSE: 1.896385573692405\n",
            "\n",
            "Per User RMSE (best)\n",
            "+------------+---------------------+-------+\n",
            "| customerId |         rmse        | count |\n",
            "+------------+---------------------+-------+\n",
            "|   21415    | 0.34671854972839355 |   1   |\n",
            "+------------+---------------------+-------+\n",
            "[1 rows x 3 columns]\n",
            "\n",
            "\n",
            "Per User RMSE (worst)\n",
            "+------------+--------------------+-------+\n",
            "| customerId |        rmse        | count |\n",
            "+------------+--------------------+-------+\n",
            "|    1404    | 21.164048762059693 |   2   |\n",
            "+------------+--------------------+-------+\n",
            "[1 rows x 3 columns]\n",
            "\n",
            "\n",
            "Per Item RMSE (best)\n",
            "+-----------+-------------------+-------+\n",
            "| productId |        rmse       | count |\n",
            "+-----------+-------------------+-------+\n",
            "|    166    | 1.035667126854955 |   93  |\n",
            "+-----------+-------------------+-------+\n",
            "[1 rows x 3 columns]\n",
            "\n",
            "\n",
            "Per Item RMSE (worst)\n",
            "+-----------+--------------------+-------+\n",
            "| productId |        rmse        | count |\n",
            "+-----------+--------------------+-------+\n",
            "|     47    | 5.1392527595895166 |  135  |\n",
            "+-----------+--------------------+-------+\n",
            "[1 rows x 3 columns]\n",
            "\n",
            "PROGRESS: Evaluate model Pearson Similarity on Purchase Counts\n"
          ],
          "name": "stdout"
        },
        {
          "output_type": "display_data",
          "data": {
            "text/html": [
              "<pre>recommendations finished on 1000/13858 queries. users per second: 36785</pre>"
            ],
            "text/plain": [
              "recommendations finished on 1000/13858 queries. users per second: 36785"
            ]
          },
          "metadata": {
            "tags": []
          }
        },
        {
          "output_type": "display_data",
          "data": {
            "text/html": [
              "<pre>recommendations finished on 2000/13858 queries. users per second: 34767.5</pre>"
            ],
            "text/plain": [
              "recommendations finished on 2000/13858 queries. users per second: 34767.5"
            ]
          },
          "metadata": {
            "tags": []
          }
        },
        {
          "output_type": "display_data",
          "data": {
            "text/html": [
              "<pre>recommendations finished on 3000/13858 queries. users per second: 35615.9</pre>"
            ],
            "text/plain": [
              "recommendations finished on 3000/13858 queries. users per second: 35615.9"
            ]
          },
          "metadata": {
            "tags": []
          }
        },
        {
          "output_type": "display_data",
          "data": {
            "text/html": [
              "<pre>recommendations finished on 4000/13858 queries. users per second: 35782</pre>"
            ],
            "text/plain": [
              "recommendations finished on 4000/13858 queries. users per second: 35782"
            ]
          },
          "metadata": {
            "tags": []
          }
        },
        {
          "output_type": "display_data",
          "data": {
            "text/html": [
              "<pre>recommendations finished on 5000/13858 queries. users per second: 36312.9</pre>"
            ],
            "text/plain": [
              "recommendations finished on 5000/13858 queries. users per second: 36312.9"
            ]
          },
          "metadata": {
            "tags": []
          }
        },
        {
          "output_type": "display_data",
          "data": {
            "text/html": [
              "<pre>recommendations finished on 6000/13858 queries. users per second: 36265.2</pre>"
            ],
            "text/plain": [
              "recommendations finished on 6000/13858 queries. users per second: 36265.2"
            ]
          },
          "metadata": {
            "tags": []
          }
        },
        {
          "output_type": "display_data",
          "data": {
            "text/html": [
              "<pre>recommendations finished on 7000/13858 queries. users per second: 35627.9</pre>"
            ],
            "text/plain": [
              "recommendations finished on 7000/13858 queries. users per second: 35627.9"
            ]
          },
          "metadata": {
            "tags": []
          }
        },
        {
          "output_type": "display_data",
          "data": {
            "text/html": [
              "<pre>recommendations finished on 8000/13858 queries. users per second: 35512.6</pre>"
            ],
            "text/plain": [
              "recommendations finished on 8000/13858 queries. users per second: 35512.6"
            ]
          },
          "metadata": {
            "tags": []
          }
        },
        {
          "output_type": "display_data",
          "data": {
            "text/html": [
              "<pre>recommendations finished on 9000/13858 queries. users per second: 35497.1</pre>"
            ],
            "text/plain": [
              "recommendations finished on 9000/13858 queries. users per second: 35497.1"
            ]
          },
          "metadata": {
            "tags": []
          }
        },
        {
          "output_type": "display_data",
          "data": {
            "text/html": [
              "<pre>recommendations finished on 10000/13858 queries. users per second: 35552.6</pre>"
            ],
            "text/plain": [
              "recommendations finished on 10000/13858 queries. users per second: 35552.6"
            ]
          },
          "metadata": {
            "tags": []
          }
        },
        {
          "output_type": "display_data",
          "data": {
            "text/html": [
              "<pre>recommendations finished on 11000/13858 queries. users per second: 35648.2</pre>"
            ],
            "text/plain": [
              "recommendations finished on 11000/13858 queries. users per second: 35648.2"
            ]
          },
          "metadata": {
            "tags": []
          }
        },
        {
          "output_type": "display_data",
          "data": {
            "text/html": [
              "<pre>recommendations finished on 12000/13858 queries. users per second: 35225.6</pre>"
            ],
            "text/plain": [
              "recommendations finished on 12000/13858 queries. users per second: 35225.6"
            ]
          },
          "metadata": {
            "tags": []
          }
        },
        {
          "output_type": "display_data",
          "data": {
            "text/html": [
              "<pre>recommendations finished on 13000/13858 queries. users per second: 35460.8</pre>"
            ],
            "text/plain": [
              "recommendations finished on 13000/13858 queries. users per second: 35460.8"
            ]
          },
          "metadata": {
            "tags": []
          }
        },
        {
          "output_type": "stream",
          "text": [
            "\n",
            "Precision and recall summary statistics by cutoff\n",
            "+--------+-----------------------+----------------------+\n",
            "| cutoff |     mean_precision    |     mean_recall      |\n",
            "+--------+-----------------------+----------------------+\n",
            "|   1    | 0.0010824072737768778 | 0.000650647039014767 |\n",
            "|   2    | 0.0009020060614807327 | 0.000978375908019435 |\n",
            "|   3    |  0.007312262471737147 | 0.01166531108441918  |\n",
            "|   4    |  0.006728965218646288 | 0.014321160550775166 |\n",
            "|   5    |  0.006032616539183138 | 0.01611454904679024  |\n",
            "|   6    |  0.00549622360128926  | 0.017702537876805424 |\n",
            "|   7    |  0.005948085685421523 | 0.021931085423292078 |\n",
            "|   8    |  0.005682638187328629 | 0.023829503108619775 |\n",
            "|   9    |  0.005412036368884418 | 0.026254465455648787 |\n",
            "|   10   |  0.005181122817145299 | 0.028121618002913875 |\n",
            "+--------+-----------------------+----------------------+\n",
            "[10 rows x 3 columns]\n",
            "\n",
            "\n",
            "Overall RMSE: 1.0553182318397212\n",
            "\n",
            "Per User RMSE (best)\n",
            "+------------+-----------------------+-------+\n",
            "| customerId |          rmse         | count |\n",
            "+------------+-----------------------+-------+\n",
            "|   25364    | 6.661338147750939e-16 |   1   |\n",
            "+------------+-----------------------+-------+\n",
            "[1 rows x 3 columns]\n",
            "\n",
            "\n",
            "Per User RMSE (worst)\n",
            "+------------+--------------------+-------+\n",
            "| customerId |        rmse        | count |\n",
            "+------------+--------------------+-------+\n",
            "|    1404    | 19.954293086370203 |   2   |\n",
            "+------------+--------------------+-------+\n",
            "[1 rows x 3 columns]\n",
            "\n",
            "\n",
            "Per Item RMSE (best)\n",
            "+-----------+--------------------+-------+\n",
            "| productId |        rmse        | count |\n",
            "+-----------+--------------------+-------+\n",
            "|    285    | 0.2038908702377814 |   75  |\n",
            "+-----------+--------------------+-------+\n",
            "[1 rows x 3 columns]\n",
            "\n",
            "\n",
            "Per Item RMSE (worst)\n",
            "+-----------+-------------------+-------+\n",
            "| productId |        rmse       | count |\n",
            "+-----------+-------------------+-------+\n",
            "|     47    | 4.865277520930816 |  135  |\n",
            "+-----------+-------------------+-------+\n",
            "[1 rows x 3 columns]\n",
            "\n"
          ],
          "name": "stdout"
        }
      ]
    },
    {
      "metadata": {
        "id": "2YKrEXXVCUeq",
        "colab_type": "text"
      },
      "cell_type": "markdown",
      "source": [
        "#### Models on purchase dummy"
      ]
    },
    {
      "metadata": {
        "scrolled": false,
        "id": "njTxH2L2CUer",
        "colab_type": "code",
        "outputId": "ebc4f6bc-1748-4955-deb6-6ad0d7f159de",
        "colab": {
          "base_uri": "https://localhost:8080/",
          "height": 3587
        }
      },
      "cell_type": "code",
      "source": [
        "eval_dummy = tc.recommender.util.compare_models(test_data_dummy, models_w_dummy, model_names=names_w_dummy)"
      ],
      "execution_count": 0,
      "outputs": [
        {
          "output_type": "stream",
          "text": [
            "PROGRESS: Evaluate model Popularity Model on Purchase Dummy\n"
          ],
          "name": "stdout"
        },
        {
          "output_type": "display_data",
          "data": {
            "text/html": [
              "<pre>recommendations finished on 1000/13982 queries. users per second: 51216.4</pre>"
            ],
            "text/plain": [
              "recommendations finished on 1000/13982 queries. users per second: 51216.4"
            ]
          },
          "metadata": {
            "tags": []
          }
        },
        {
          "output_type": "display_data",
          "data": {
            "text/html": [
              "<pre>recommendations finished on 2000/13982 queries. users per second: 47760.1</pre>"
            ],
            "text/plain": [
              "recommendations finished on 2000/13982 queries. users per second: 47760.1"
            ]
          },
          "metadata": {
            "tags": []
          }
        },
        {
          "output_type": "display_data",
          "data": {
            "text/html": [
              "<pre>recommendations finished on 3000/13982 queries. users per second: 49386</pre>"
            ],
            "text/plain": [
              "recommendations finished on 3000/13982 queries. users per second: 49386"
            ]
          },
          "metadata": {
            "tags": []
          }
        },
        {
          "output_type": "display_data",
          "data": {
            "text/html": [
              "<pre>recommendations finished on 4000/13982 queries. users per second: 49975</pre>"
            ],
            "text/plain": [
              "recommendations finished on 4000/13982 queries. users per second: 49975"
            ]
          },
          "metadata": {
            "tags": []
          }
        },
        {
          "output_type": "display_data",
          "data": {
            "text/html": [
              "<pre>recommendations finished on 5000/13982 queries. users per second: 51663.6</pre>"
            ],
            "text/plain": [
              "recommendations finished on 5000/13982 queries. users per second: 51663.6"
            ]
          },
          "metadata": {
            "tags": []
          }
        },
        {
          "output_type": "display_data",
          "data": {
            "text/html": [
              "<pre>recommendations finished on 6000/13982 queries. users per second: 51161.4</pre>"
            ],
            "text/plain": [
              "recommendations finished on 6000/13982 queries. users per second: 51161.4"
            ]
          },
          "metadata": {
            "tags": []
          }
        },
        {
          "output_type": "display_data",
          "data": {
            "text/html": [
              "<pre>recommendations finished on 7000/13982 queries. users per second: 48456.3</pre>"
            ],
            "text/plain": [
              "recommendations finished on 7000/13982 queries. users per second: 48456.3"
            ]
          },
          "metadata": {
            "tags": []
          }
        },
        {
          "output_type": "display_data",
          "data": {
            "text/html": [
              "<pre>recommendations finished on 8000/13982 queries. users per second: 47774.6</pre>"
            ],
            "text/plain": [
              "recommendations finished on 8000/13982 queries. users per second: 47774.6"
            ]
          },
          "metadata": {
            "tags": []
          }
        },
        {
          "output_type": "display_data",
          "data": {
            "text/html": [
              "<pre>recommendations finished on 9000/13982 queries. users per second: 47884.8</pre>"
            ],
            "text/plain": [
              "recommendations finished on 9000/13982 queries. users per second: 47884.8"
            ]
          },
          "metadata": {
            "tags": []
          }
        },
        {
          "output_type": "display_data",
          "data": {
            "text/html": [
              "<pre>recommendations finished on 10000/13982 queries. users per second: 48402.9</pre>"
            ],
            "text/plain": [
              "recommendations finished on 10000/13982 queries. users per second: 48402.9"
            ]
          },
          "metadata": {
            "tags": []
          }
        },
        {
          "output_type": "display_data",
          "data": {
            "text/html": [
              "<pre>recommendations finished on 11000/13982 queries. users per second: 49138.1</pre>"
            ],
            "text/plain": [
              "recommendations finished on 11000/13982 queries. users per second: 49138.1"
            ]
          },
          "metadata": {
            "tags": []
          }
        },
        {
          "output_type": "display_data",
          "data": {
            "text/html": [
              "<pre>recommendations finished on 12000/13982 queries. users per second: 49390.4</pre>"
            ],
            "text/plain": [
              "recommendations finished on 12000/13982 queries. users per second: 49390.4"
            ]
          },
          "metadata": {
            "tags": []
          }
        },
        {
          "output_type": "display_data",
          "data": {
            "text/html": [
              "<pre>recommendations finished on 13000/13982 queries. users per second: 46886.4</pre>"
            ],
            "text/plain": [
              "recommendations finished on 13000/13982 queries. users per second: 46886.4"
            ]
          },
          "metadata": {
            "tags": []
          }
        },
        {
          "output_type": "stream",
          "text": [
            "\n",
            "Precision and recall summary statistics by cutoff\n",
            "+--------+----------------------+-----------------------+\n",
            "| cutoff |    mean_precision    |      mean_recall      |\n",
            "+--------+----------------------+-----------------------+\n",
            "|   1    | 0.006508367901587805 | 0.0031807644667035282 |\n",
            "|   2    | 0.006079244743241306 |  0.006144891163128905 |\n",
            "|   3    | 0.005912363514995455 |  0.009036591319168879 |\n",
            "|   4    | 0.005828922900872512 |  0.011584853225891681 |\n",
            "|   5    | 0.005549992847947362 |  0.013664612383850775 |\n",
            "|   6    | 0.005483240356649049 |  0.01653340417947712  |\n",
            "|   7    | 0.005527514968224461 |  0.019800803295203638 |\n",
            "|   8    | 0.005507080532112686 |  0.022668754700244743 |\n",
            "|   9    | 0.005451453456030777 |  0.02532336531298648  |\n",
            "|   10   | 0.00539979974252612  |  0.027947771295281067 |\n",
            "+--------+----------------------+-----------------------+\n",
            "[10 rows x 3 columns]\n",
            "\n",
            "\n",
            "Overall RMSE: 0.0\n",
            "\n",
            "Per User RMSE (best)\n",
            "+------------+------+-------+\n",
            "| customerId | rmse | count |\n",
            "+------------+------+-------+\n",
            "|   10201    | 0.0  |   2   |\n",
            "+------------+------+-------+\n",
            "[1 rows x 3 columns]\n",
            "\n",
            "\n",
            "Per User RMSE (worst)\n",
            "+------------+------+-------+\n",
            "| customerId | rmse | count |\n",
            "+------------+------+-------+\n",
            "|   24527    | 0.0  |   1   |\n",
            "+------------+------+-------+\n",
            "[1 rows x 3 columns]\n",
            "\n",
            "\n",
            "Per Item RMSE (best)\n",
            "+-----------+------+-------+\n",
            "| productId | rmse | count |\n",
            "+-----------+------+-------+\n",
            "|    149    | 0.0  |   94  |\n",
            "+-----------+------+-------+\n",
            "[1 rows x 3 columns]\n",
            "\n",
            "\n",
            "Per Item RMSE (worst)\n",
            "+-----------+------+-------+\n",
            "| productId | rmse | count |\n",
            "+-----------+------+-------+\n",
            "|    118    | 0.0  |   44  |\n",
            "+-----------+------+-------+\n",
            "[1 rows x 3 columns]\n",
            "\n",
            "PROGRESS: Evaluate model Cosine Similarity on Purchase Dummy\n"
          ],
          "name": "stdout"
        },
        {
          "output_type": "display_data",
          "data": {
            "text/html": [
              "<pre>recommendations finished on 1000/13982 queries. users per second: 37584.1</pre>"
            ],
            "text/plain": [
              "recommendations finished on 1000/13982 queries. users per second: 37584.1"
            ]
          },
          "metadata": {
            "tags": []
          }
        },
        {
          "output_type": "display_data",
          "data": {
            "text/html": [
              "<pre>recommendations finished on 2000/13982 queries. users per second: 36899</pre>"
            ],
            "text/plain": [
              "recommendations finished on 2000/13982 queries. users per second: 36899"
            ]
          },
          "metadata": {
            "tags": []
          }
        },
        {
          "output_type": "display_data",
          "data": {
            "text/html": [
              "<pre>recommendations finished on 3000/13982 queries. users per second: 36587.2</pre>"
            ],
            "text/plain": [
              "recommendations finished on 3000/13982 queries. users per second: 36587.2"
            ]
          },
          "metadata": {
            "tags": []
          }
        },
        {
          "output_type": "display_data",
          "data": {
            "text/html": [
              "<pre>recommendations finished on 4000/13982 queries. users per second: 36356.4</pre>"
            ],
            "text/plain": [
              "recommendations finished on 4000/13982 queries. users per second: 36356.4"
            ]
          },
          "metadata": {
            "tags": []
          }
        },
        {
          "output_type": "display_data",
          "data": {
            "text/html": [
              "<pre>recommendations finished on 5000/13982 queries. users per second: 36959.3</pre>"
            ],
            "text/plain": [
              "recommendations finished on 5000/13982 queries. users per second: 36959.3"
            ]
          },
          "metadata": {
            "tags": []
          }
        },
        {
          "output_type": "display_data",
          "data": {
            "text/html": [
              "<pre>recommendations finished on 6000/13982 queries. users per second: 36440.5</pre>"
            ],
            "text/plain": [
              "recommendations finished on 6000/13982 queries. users per second: 36440.5"
            ]
          },
          "metadata": {
            "tags": []
          }
        },
        {
          "output_type": "display_data",
          "data": {
            "text/html": [
              "<pre>recommendations finished on 7000/13982 queries. users per second: 35544</pre>"
            ],
            "text/plain": [
              "recommendations finished on 7000/13982 queries. users per second: 35544"
            ]
          },
          "metadata": {
            "tags": []
          }
        },
        {
          "output_type": "display_data",
          "data": {
            "text/html": [
              "<pre>recommendations finished on 8000/13982 queries. users per second: 35935.4</pre>"
            ],
            "text/plain": [
              "recommendations finished on 8000/13982 queries. users per second: 35935.4"
            ]
          },
          "metadata": {
            "tags": []
          }
        },
        {
          "output_type": "display_data",
          "data": {
            "text/html": [
              "<pre>recommendations finished on 9000/13982 queries. users per second: 36074</pre>"
            ],
            "text/plain": [
              "recommendations finished on 9000/13982 queries. users per second: 36074"
            ]
          },
          "metadata": {
            "tags": []
          }
        },
        {
          "output_type": "display_data",
          "data": {
            "text/html": [
              "<pre>recommendations finished on 10000/13982 queries. users per second: 36240.8</pre>"
            ],
            "text/plain": [
              "recommendations finished on 10000/13982 queries. users per second: 36240.8"
            ]
          },
          "metadata": {
            "tags": []
          }
        },
        {
          "output_type": "display_data",
          "data": {
            "text/html": [
              "<pre>recommendations finished on 11000/13982 queries. users per second: 36289.3</pre>"
            ],
            "text/plain": [
              "recommendations finished on 11000/13982 queries. users per second: 36289.3"
            ]
          },
          "metadata": {
            "tags": []
          }
        },
        {
          "output_type": "display_data",
          "data": {
            "text/html": [
              "<pre>recommendations finished on 12000/13982 queries. users per second: 36438.4</pre>"
            ],
            "text/plain": [
              "recommendations finished on 12000/13982 queries. users per second: 36438.4"
            ]
          },
          "metadata": {
            "tags": []
          }
        },
        {
          "output_type": "display_data",
          "data": {
            "text/html": [
              "<pre>recommendations finished on 13000/13982 queries. users per second: 35615.9</pre>"
            ],
            "text/plain": [
              "recommendations finished on 13000/13982 queries. users per second: 35615.9"
            ]
          },
          "metadata": {
            "tags": []
          }
        },
        {
          "output_type": "stream",
          "text": [
            "\n",
            "Precision and recall summary statistics by cutoff\n",
            "+--------+----------------------+---------------------+\n",
            "| cutoff |    mean_precision    |     mean_recall     |\n",
            "+--------+----------------------+---------------------+\n",
            "|   1    | 0.12265770276069306  | 0.07158838137395632 |\n",
            "|   2    | 0.09626662852238603  | 0.10944527463878934 |\n",
            "|   3    | 0.08179564201592535  |  0.1383759126106434 |\n",
            "|   4    | 0.07205693033900748  |  0.1612084135542878 |\n",
            "|   5    | 0.06401087112001133  |  0.1771002873196775 |\n",
            "|   6    | 0.05800314690316137  | 0.19065995295165036 |\n",
            "|   7    | 0.05320105441690351  | 0.20405645270739758 |\n",
            "|   8    | 0.049134601630667914 | 0.21437931533446614 |\n",
            "|   9    | 0.04583671069152409  | 0.22390709874621267 |\n",
            "|   10   | 0.04316978972965249  | 0.23359038022895057 |\n",
            "+--------+----------------------+---------------------+\n",
            "[10 rows x 3 columns]\n",
            "\n",
            "\n",
            "Overall RMSE: 0.9694470194482094\n",
            "\n",
            "Per User RMSE (best)\n",
            "+------------+---------------------+-------+\n",
            "| customerId |         rmse        | count |\n",
            "+------------+---------------------+-------+\n",
            "|   21934    | 0.43515926599502563 |   1   |\n",
            "+------------+---------------------+-------+\n",
            "[1 rows x 3 columns]\n",
            "\n",
            "\n",
            "Per User RMSE (worst)\n",
            "+------------+------+-------+\n",
            "| customerId | rmse | count |\n",
            "+------------+------+-------+\n",
            "|   24527    | 1.0  |   1   |\n",
            "+------------+------+-------+\n",
            "[1 rows x 3 columns]\n",
            "\n",
            "\n",
            "Per Item RMSE (best)\n",
            "+-----------+--------------------+-------+\n",
            "| productId |        rmse        | count |\n",
            "+-----------+--------------------+-------+\n",
            "|     48    | 0.8736669344312789 |  120  |\n",
            "+-----------+--------------------+-------+\n",
            "[1 rows x 3 columns]\n",
            "\n",
            "\n",
            "Per Item RMSE (worst)\n",
            "+-----------+-------------------+-------+\n",
            "| productId |        rmse       | count |\n",
            "+-----------+-------------------+-------+\n",
            "|    125    | 0.999992896777075 |   38  |\n",
            "+-----------+-------------------+-------+\n",
            "[1 rows x 3 columns]\n",
            "\n",
            "PROGRESS: Evaluate model Pearson Similarity on Purchase Dummy\n"
          ],
          "name": "stdout"
        },
        {
          "output_type": "display_data",
          "data": {
            "text/html": [
              "<pre>recommendations finished on 1000/13982 queries. users per second: 45758.2</pre>"
            ],
            "text/plain": [
              "recommendations finished on 1000/13982 queries. users per second: 45758.2"
            ]
          },
          "metadata": {
            "tags": []
          }
        },
        {
          "output_type": "display_data",
          "data": {
            "text/html": [
              "<pre>recommendations finished on 2000/13982 queries. users per second: 42123</pre>"
            ],
            "text/plain": [
              "recommendations finished on 2000/13982 queries. users per second: 42123"
            ]
          },
          "metadata": {
            "tags": []
          }
        },
        {
          "output_type": "display_data",
          "data": {
            "text/html": [
              "<pre>recommendations finished on 3000/13982 queries. users per second: 43600.8</pre>"
            ],
            "text/plain": [
              "recommendations finished on 3000/13982 queries. users per second: 43600.8"
            ]
          },
          "metadata": {
            "tags": []
          }
        },
        {
          "output_type": "display_data",
          "data": {
            "text/html": [
              "<pre>recommendations finished on 4000/13982 queries. users per second: 44648.3</pre>"
            ],
            "text/plain": [
              "recommendations finished on 4000/13982 queries. users per second: 44648.3"
            ]
          },
          "metadata": {
            "tags": []
          }
        },
        {
          "output_type": "display_data",
          "data": {
            "text/html": [
              "<pre>recommendations finished on 5000/13982 queries. users per second: 45820.7</pre>"
            ],
            "text/plain": [
              "recommendations finished on 5000/13982 queries. users per second: 45820.7"
            ]
          },
          "metadata": {
            "tags": []
          }
        },
        {
          "output_type": "display_data",
          "data": {
            "text/html": [
              "<pre>recommendations finished on 6000/13982 queries. users per second: 45402.6</pre>"
            ],
            "text/plain": [
              "recommendations finished on 6000/13982 queries. users per second: 45402.6"
            ]
          },
          "metadata": {
            "tags": []
          }
        },
        {
          "output_type": "display_data",
          "data": {
            "text/html": [
              "<pre>recommendations finished on 7000/13982 queries. users per second: 43845.1</pre>"
            ],
            "text/plain": [
              "recommendations finished on 7000/13982 queries. users per second: 43845.1"
            ]
          },
          "metadata": {
            "tags": []
          }
        },
        {
          "output_type": "display_data",
          "data": {
            "text/html": [
              "<pre>recommendations finished on 8000/13982 queries. users per second: 43442.1</pre>"
            ],
            "text/plain": [
              "recommendations finished on 8000/13982 queries. users per second: 43442.1"
            ]
          },
          "metadata": {
            "tags": []
          }
        },
        {
          "output_type": "display_data",
          "data": {
            "text/html": [
              "<pre>recommendations finished on 9000/13982 queries. users per second: 43812</pre>"
            ],
            "text/plain": [
              "recommendations finished on 9000/13982 queries. users per second: 43812"
            ]
          },
          "metadata": {
            "tags": []
          }
        },
        {
          "output_type": "display_data",
          "data": {
            "text/html": [
              "<pre>recommendations finished on 10000/13982 queries. users per second: 44085.5</pre>"
            ],
            "text/plain": [
              "recommendations finished on 10000/13982 queries. users per second: 44085.5"
            ]
          },
          "metadata": {
            "tags": []
          }
        },
        {
          "output_type": "display_data",
          "data": {
            "text/html": [
              "<pre>recommendations finished on 11000/13982 queries. users per second: 44726.5</pre>"
            ],
            "text/plain": [
              "recommendations finished on 11000/13982 queries. users per second: 44726.5"
            ]
          },
          "metadata": {
            "tags": []
          }
        },
        {
          "output_type": "display_data",
          "data": {
            "text/html": [
              "<pre>recommendations finished on 12000/13982 queries. users per second: 45339.1</pre>"
            ],
            "text/plain": [
              "recommendations finished on 12000/13982 queries. users per second: 45339.1"
            ]
          },
          "metadata": {
            "tags": []
          }
        },
        {
          "output_type": "display_data",
          "data": {
            "text/html": [
              "<pre>recommendations finished on 13000/13982 queries. users per second: 43162.3</pre>"
            ],
            "text/plain": [
              "recommendations finished on 13000/13982 queries. users per second: 43162.3"
            ]
          },
          "metadata": {
            "tags": []
          }
        },
        {
          "output_type": "stream",
          "text": [
            "\n",
            "Precision and recall summary statistics by cutoff\n",
            "+--------+----------------------+-----------------------+\n",
            "| cutoff |    mean_precision    |      mean_recall      |\n",
            "+--------+----------------------+-----------------------+\n",
            "|   1    | 0.006508367901587766 | 0.0031807644667035217 |\n",
            "|   2    | 0.006079244743241322 |  0.006144891163128905 |\n",
            "|   3    | 0.005912363514995462 |  0.009036591319168901 |\n",
            "|   4    | 0.005828922900872541 |  0.011584853225891662 |\n",
            "|   5    | 0.005549992847947367 |  0.013664612383850767 |\n",
            "|   6    | 0.005483240356649042 |  0.01653340417947707  |\n",
            "|   7    | 0.00552751496822447  |  0.01980080329520372  |\n",
            "|   8    | 0.005507080532112723 |  0.02266875470024475  |\n",
            "|   9    | 0.005451453456030793 |  0.02532336531298653  |\n",
            "|   10   | 0.005399799742526085 |  0.02794777129528115  |\n",
            "+--------+----------------------+-----------------------+\n",
            "[10 rows x 3 columns]\n",
            "\n",
            "\n",
            "Overall RMSE: 1.0\n",
            "\n",
            "Per User RMSE (best)\n",
            "+------------+------+-------+\n",
            "| customerId | rmse | count |\n",
            "+------------+------+-------+\n",
            "|   10201    | 1.0  |   2   |\n",
            "+------------+------+-------+\n",
            "[1 rows x 3 columns]\n",
            "\n",
            "\n",
            "Per User RMSE (worst)\n",
            "+------------+------+-------+\n",
            "| customerId | rmse | count |\n",
            "+------------+------+-------+\n",
            "|   24527    | 1.0  |   1   |\n",
            "+------------+------+-------+\n",
            "[1 rows x 3 columns]\n",
            "\n",
            "\n",
            "Per Item RMSE (best)\n",
            "+-----------+------+-------+\n",
            "| productId | rmse | count |\n",
            "+-----------+------+-------+\n",
            "|    149    | 1.0  |   94  |\n",
            "+-----------+------+-------+\n",
            "[1 rows x 3 columns]\n",
            "\n",
            "\n",
            "Per Item RMSE (worst)\n",
            "+-----------+------+-------+\n",
            "| productId | rmse | count |\n",
            "+-----------+------+-------+\n",
            "|    118    | 1.0  |   44  |\n",
            "+-----------+------+-------+\n",
            "[1 rows x 3 columns]\n",
            "\n"
          ],
          "name": "stdout"
        }
      ]
    },
    {
      "metadata": {
        "id": "xCdXso8TCUeu",
        "colab_type": "text"
      },
      "cell_type": "markdown",
      "source": [
        "#### Models on normalized purchase frequency"
      ]
    },
    {
      "metadata": {
        "scrolled": false,
        "id": "XBY5yfIpCUev",
        "colab_type": "code",
        "outputId": "47cb37a8-cae6-4d77-987f-6e86c7d5f053",
        "colab": {
          "base_uri": "https://localhost:8080/",
          "height": 3587
        }
      },
      "cell_type": "code",
      "source": [
        "eval_norm = tc.recommender.util.compare_models(test_data_norm, models_w_norm, model_names=names_w_norm)"
      ],
      "execution_count": 0,
      "outputs": [
        {
          "output_type": "stream",
          "text": [
            "PROGRESS: Evaluate model Popularity Model on Scaled Purchase Counts\n"
          ],
          "name": "stdout"
        },
        {
          "output_type": "display_data",
          "data": {
            "text/html": [
              "<pre>recommendations finished on 1000/13967 queries. users per second: 46347.8</pre>"
            ],
            "text/plain": [
              "recommendations finished on 1000/13967 queries. users per second: 46347.8"
            ]
          },
          "metadata": {
            "tags": []
          }
        },
        {
          "output_type": "display_data",
          "data": {
            "text/html": [
              "<pre>recommendations finished on 2000/13967 queries. users per second: 43673.8</pre>"
            ],
            "text/plain": [
              "recommendations finished on 2000/13967 queries. users per second: 43673.8"
            ]
          },
          "metadata": {
            "tags": []
          }
        },
        {
          "output_type": "display_data",
          "data": {
            "text/html": [
              "<pre>recommendations finished on 3000/13967 queries. users per second: 44554.7</pre>"
            ],
            "text/plain": [
              "recommendations finished on 3000/13967 queries. users per second: 44554.7"
            ]
          },
          "metadata": {
            "tags": []
          }
        },
        {
          "output_type": "display_data",
          "data": {
            "text/html": [
              "<pre>recommendations finished on 4000/13967 queries. users per second: 44556.8</pre>"
            ],
            "text/plain": [
              "recommendations finished on 4000/13967 queries. users per second: 44556.8"
            ]
          },
          "metadata": {
            "tags": []
          }
        },
        {
          "output_type": "display_data",
          "data": {
            "text/html": [
              "<pre>recommendations finished on 5000/13967 queries. users per second: 45649.2</pre>"
            ],
            "text/plain": [
              "recommendations finished on 5000/13967 queries. users per second: 45649.2"
            ]
          },
          "metadata": {
            "tags": []
          }
        },
        {
          "output_type": "display_data",
          "data": {
            "text/html": [
              "<pre>recommendations finished on 6000/13967 queries. users per second: 44320.7</pre>"
            ],
            "text/plain": [
              "recommendations finished on 6000/13967 queries. users per second: 44320.7"
            ]
          },
          "metadata": {
            "tags": []
          }
        },
        {
          "output_type": "display_data",
          "data": {
            "text/html": [
              "<pre>recommendations finished on 7000/13967 queries. users per second: 42982</pre>"
            ],
            "text/plain": [
              "recommendations finished on 7000/13967 queries. users per second: 42982"
            ]
          },
          "metadata": {
            "tags": []
          }
        },
        {
          "output_type": "display_data",
          "data": {
            "text/html": [
              "<pre>recommendations finished on 8000/13967 queries. users per second: 43179.1</pre>"
            ],
            "text/plain": [
              "recommendations finished on 8000/13967 queries. users per second: 43179.1"
            ]
          },
          "metadata": {
            "tags": []
          }
        },
        {
          "output_type": "display_data",
          "data": {
            "text/html": [
              "<pre>recommendations finished on 9000/13967 queries. users per second: 43955.4</pre>"
            ],
            "text/plain": [
              "recommendations finished on 9000/13967 queries. users per second: 43955.4"
            ]
          },
          "metadata": {
            "tags": []
          }
        },
        {
          "output_type": "display_data",
          "data": {
            "text/html": [
              "<pre>recommendations finished on 10000/13967 queries. users per second: 44605.4</pre>"
            ],
            "text/plain": [
              "recommendations finished on 10000/13967 queries. users per second: 44605.4"
            ]
          },
          "metadata": {
            "tags": []
          }
        },
        {
          "output_type": "display_data",
          "data": {
            "text/html": [
              "<pre>recommendations finished on 11000/13967 queries. users per second: 45164</pre>"
            ],
            "text/plain": [
              "recommendations finished on 11000/13967 queries. users per second: 45164"
            ]
          },
          "metadata": {
            "tags": []
          }
        },
        {
          "output_type": "display_data",
          "data": {
            "text/html": [
              "<pre>recommendations finished on 12000/13967 queries. users per second: 44754.6</pre>"
            ],
            "text/plain": [
              "recommendations finished on 12000/13967 queries. users per second: 44754.6"
            ]
          },
          "metadata": {
            "tags": []
          }
        },
        {
          "output_type": "display_data",
          "data": {
            "text/html": [
              "<pre>recommendations finished on 13000/13967 queries. users per second: 43265.3</pre>"
            ],
            "text/plain": [
              "recommendations finished on 13000/13967 queries. users per second: 43265.3"
            ]
          },
          "metadata": {
            "tags": []
          }
        },
        {
          "output_type": "stream",
          "text": [
            "\n",
            "Precision and recall summary statistics by cutoff\n",
            "+--------+-----------------------+-----------------------+\n",
            "| cutoff |     mean_precision    |      mean_recall      |\n",
            "+--------+-----------------------+-----------------------+\n",
            "|   1    | 0.0019331280876351304 |  0.001011994258575489 |\n",
            "|   2    |  0.002219517433951457 | 0.0019076952974712027 |\n",
            "|   3    | 0.0023627121071096097 |  0.003805024716816777 |\n",
            "|   4    |  0.002326913438820075 | 0.0051696358580442464 |\n",
            "|   5    | 0.0024343094436886908 | 0.0068386493262987845 |\n",
            "|   6    |  0.002255316102240989 | 0.0077002039431336945 |\n",
            "|   7    |  0.00209677914267303  |  0.008310005587516864 |\n",
            "|   8    | 0.0021210710961552235 |  0.009396097407123357 |\n",
            "|   9    |  0.002052456981933606 |   0.0100360838377234  |\n",
            "|   10   |  0.002663420920741729 |  0.014569817289621085 |\n",
            "+--------+-----------------------+-----------------------+\n",
            "[10 rows x 3 columns]\n",
            "\n",
            "\n",
            "Overall RMSE: 0.13223521918371203\n",
            "\n",
            "Per User RMSE (best)\n",
            "+------------+------+-------+\n",
            "| customerId | rmse | count |\n",
            "+------------+------+-------+\n",
            "|   17117    | 0.0  |   1   |\n",
            "+------------+------+-------+\n",
            "[1 rows x 3 columns]\n",
            "\n",
            "\n",
            "Per User RMSE (worst)\n",
            "+------------+--------------------+-------+\n",
            "| customerId |        rmse        | count |\n",
            "+------------+--------------------+-------+\n",
            "|   22548    | 0.9602272727272727 |   1   |\n",
            "+------------+--------------------+-------+\n",
            "[1 rows x 3 columns]\n",
            "\n",
            "\n",
            "Per Item RMSE (best)\n",
            "+-----------+----------------------+-------+\n",
            "| productId |         rmse         | count |\n",
            "+-----------+----------------------+-------+\n",
            "|     47    | 0.015676395745083407 |  118  |\n",
            "+-----------+----------------------+-------+\n",
            "[1 rows x 3 columns]\n",
            "\n",
            "\n",
            "Per Item RMSE (worst)\n",
            "+-----------+--------------------+-------+\n",
            "| productId |        rmse        | count |\n",
            "+-----------+--------------------+-------+\n",
            "|    226    | 0.3411238784496703 |   27  |\n",
            "+-----------+--------------------+-------+\n",
            "[1 rows x 3 columns]\n",
            "\n",
            "PROGRESS: Evaluate model Cosine Similarity on Scaled Purchase Counts\n"
          ],
          "name": "stdout"
        },
        {
          "output_type": "display_data",
          "data": {
            "text/html": [
              "<pre>recommendations finished on 1000/13967 queries. users per second: 38986.4</pre>"
            ],
            "text/plain": [
              "recommendations finished on 1000/13967 queries. users per second: 38986.4"
            ]
          },
          "metadata": {
            "tags": []
          }
        },
        {
          "output_type": "display_data",
          "data": {
            "text/html": [
              "<pre>recommendations finished on 2000/13967 queries. users per second: 39009.2</pre>"
            ],
            "text/plain": [
              "recommendations finished on 2000/13967 queries. users per second: 39009.2"
            ]
          },
          "metadata": {
            "tags": []
          }
        },
        {
          "output_type": "display_data",
          "data": {
            "text/html": [
              "<pre>recommendations finished on 3000/13967 queries. users per second: 37955.9</pre>"
            ],
            "text/plain": [
              "recommendations finished on 3000/13967 queries. users per second: 37955.9"
            ]
          },
          "metadata": {
            "tags": []
          }
        },
        {
          "output_type": "display_data",
          "data": {
            "text/html": [
              "<pre>recommendations finished on 4000/13967 queries. users per second: 38774.7</pre>"
            ],
            "text/plain": [
              "recommendations finished on 4000/13967 queries. users per second: 38774.7"
            ]
          },
          "metadata": {
            "tags": []
          }
        },
        {
          "output_type": "display_data",
          "data": {
            "text/html": [
              "<pre>recommendations finished on 5000/13967 queries. users per second: 39288.4</pre>"
            ],
            "text/plain": [
              "recommendations finished on 5000/13967 queries. users per second: 39288.4"
            ]
          },
          "metadata": {
            "tags": []
          }
        },
        {
          "output_type": "display_data",
          "data": {
            "text/html": [
              "<pre>recommendations finished on 6000/13967 queries. users per second: 37699.8</pre>"
            ],
            "text/plain": [
              "recommendations finished on 6000/13967 queries. users per second: 37699.8"
            ]
          },
          "metadata": {
            "tags": []
          }
        },
        {
          "output_type": "display_data",
          "data": {
            "text/html": [
              "<pre>recommendations finished on 7000/13967 queries. users per second: 37312.2</pre>"
            ],
            "text/plain": [
              "recommendations finished on 7000/13967 queries. users per second: 37312.2"
            ]
          },
          "metadata": {
            "tags": []
          }
        },
        {
          "output_type": "display_data",
          "data": {
            "text/html": [
              "<pre>recommendations finished on 8000/13967 queries. users per second: 37117.5</pre>"
            ],
            "text/plain": [
              "recommendations finished on 8000/13967 queries. users per second: 37117.5"
            ]
          },
          "metadata": {
            "tags": []
          }
        },
        {
          "output_type": "display_data",
          "data": {
            "text/html": [
              "<pre>recommendations finished on 9000/13967 queries. users per second: 36333.8</pre>"
            ],
            "text/plain": [
              "recommendations finished on 9000/13967 queries. users per second: 36333.8"
            ]
          },
          "metadata": {
            "tags": []
          }
        },
        {
          "output_type": "display_data",
          "data": {
            "text/html": [
              "<pre>recommendations finished on 10000/13967 queries. users per second: 36384.4</pre>"
            ],
            "text/plain": [
              "recommendations finished on 10000/13967 queries. users per second: 36384.4"
            ]
          },
          "metadata": {
            "tags": []
          }
        },
        {
          "output_type": "display_data",
          "data": {
            "text/html": [
              "<pre>recommendations finished on 11000/13967 queries. users per second: 36646.3</pre>"
            ],
            "text/plain": [
              "recommendations finished on 11000/13967 queries. users per second: 36646.3"
            ]
          },
          "metadata": {
            "tags": []
          }
        },
        {
          "output_type": "display_data",
          "data": {
            "text/html": [
              "<pre>recommendations finished on 12000/13967 queries. users per second: 36706.9</pre>"
            ],
            "text/plain": [
              "recommendations finished on 12000/13967 queries. users per second: 36706.9"
            ]
          },
          "metadata": {
            "tags": []
          }
        },
        {
          "output_type": "display_data",
          "data": {
            "text/html": [
              "<pre>recommendations finished on 13000/13967 queries. users per second: 36350.9</pre>"
            ],
            "text/plain": [
              "recommendations finished on 13000/13967 queries. users per second: 36350.9"
            ]
          },
          "metadata": {
            "tags": []
          }
        },
        {
          "output_type": "stream",
          "text": [
            "\n",
            "Precision and recall summary statistics by cutoff\n",
            "+--------+----------------------+---------------------+\n",
            "| cutoff |    mean_precision    |     mean_recall     |\n",
            "+--------+----------------------+---------------------+\n",
            "|   1    | 0.06658552301854348  | 0.03792828714666531 |\n",
            "|   2    |  0.0532684184148349  | 0.05976963532061883 |\n",
            "|   3    | 0.04515405360253955  | 0.07483421035243829 |\n",
            "|   4    | 0.03993341447698116  | 0.08719818057869126 |\n",
            "|   5    | 0.03644304431875119  |  0.0986788189629235 |\n",
            "|   6    | 0.03361494952387768  | 0.10808339087980309 |\n",
            "|   7    | 0.031032331311560715 | 0.11524163487676135 |\n",
            "|   8    | 0.029068518651106053 | 0.12216199608401364 |\n",
            "|   9    | 0.027350182573208245 | 0.12910103069362877 |\n",
            "|   10   | 0.026075749982100625 | 0.13644094661090433 |\n",
            "+--------+----------------------+---------------------+\n",
            "[10 rows x 3 columns]\n",
            "\n",
            "\n",
            "Overall RMSE: 0.16029938689507883\n",
            "\n",
            "Per User RMSE (best)\n",
            "+------------+------+-------+\n",
            "| customerId | rmse | count |\n",
            "+------------+------+-------+\n",
            "|   10201    | 0.0  |   1   |\n",
            "+------------+------+-------+\n",
            "[1 rows x 3 columns]\n",
            "\n",
            "\n",
            "Per User RMSE (worst)\n",
            "+------------+------+-------+\n",
            "| customerId | rmse | count |\n",
            "+------------+------+-------+\n",
            "|   13771    | 1.0  |   1   |\n",
            "+------------+------+-------+\n",
            "[1 rows x 3 columns]\n",
            "\n",
            "\n",
            "Per Item RMSE (best)\n",
            "+-----------+----------------------+-------+\n",
            "| productId |         rmse         | count |\n",
            "+-----------+----------------------+-------+\n",
            "|     47    | 0.013955937645705463 |  118  |\n",
            "+-----------+----------------------+-------+\n",
            "[1 rows x 3 columns]\n",
            "\n",
            "\n",
            "Per Item RMSE (worst)\n",
            "+-----------+--------------------+-------+\n",
            "| productId |        rmse        | count |\n",
            "+-----------+--------------------+-------+\n",
            "|    226    | 0.8806460833336123 |   27  |\n",
            "+-----------+--------------------+-------+\n",
            "[1 rows x 3 columns]\n",
            "\n",
            "PROGRESS: Evaluate model Pearson Similarity on Scaled Purchase Counts\n"
          ],
          "name": "stdout"
        },
        {
          "output_type": "display_data",
          "data": {
            "text/html": [
              "<pre>recommendations finished on 1000/13967 queries. users per second: 35597.3</pre>"
            ],
            "text/plain": [
              "recommendations finished on 1000/13967 queries. users per second: 35597.3"
            ]
          },
          "metadata": {
            "tags": []
          }
        },
        {
          "output_type": "display_data",
          "data": {
            "text/html": [
              "<pre>recommendations finished on 2000/13967 queries. users per second: 33339.4</pre>"
            ],
            "text/plain": [
              "recommendations finished on 2000/13967 queries. users per second: 33339.4"
            ]
          },
          "metadata": {
            "tags": []
          }
        },
        {
          "output_type": "display_data",
          "data": {
            "text/html": [
              "<pre>recommendations finished on 3000/13967 queries. users per second: 33190.6</pre>"
            ],
            "text/plain": [
              "recommendations finished on 3000/13967 queries. users per second: 33190.6"
            ]
          },
          "metadata": {
            "tags": []
          }
        },
        {
          "output_type": "display_data",
          "data": {
            "text/html": [
              "<pre>recommendations finished on 4000/13967 queries. users per second: 34359.2</pre>"
            ],
            "text/plain": [
              "recommendations finished on 4000/13967 queries. users per second: 34359.2"
            ]
          },
          "metadata": {
            "tags": []
          }
        },
        {
          "output_type": "display_data",
          "data": {
            "text/html": [
              "<pre>recommendations finished on 5000/13967 queries. users per second: 34808.8</pre>"
            ],
            "text/plain": [
              "recommendations finished on 5000/13967 queries. users per second: 34808.8"
            ]
          },
          "metadata": {
            "tags": []
          }
        },
        {
          "output_type": "display_data",
          "data": {
            "text/html": [
              "<pre>recommendations finished on 6000/13967 queries. users per second: 33899.5</pre>"
            ],
            "text/plain": [
              "recommendations finished on 6000/13967 queries. users per second: 33899.5"
            ]
          },
          "metadata": {
            "tags": []
          }
        },
        {
          "output_type": "display_data",
          "data": {
            "text/html": [
              "<pre>recommendations finished on 7000/13967 queries. users per second: 33693.7</pre>"
            ],
            "text/plain": [
              "recommendations finished on 7000/13967 queries. users per second: 33693.7"
            ]
          },
          "metadata": {
            "tags": []
          }
        },
        {
          "output_type": "display_data",
          "data": {
            "text/html": [
              "<pre>recommendations finished on 8000/13967 queries. users per second: 33731.8</pre>"
            ],
            "text/plain": [
              "recommendations finished on 8000/13967 queries. users per second: 33731.8"
            ]
          },
          "metadata": {
            "tags": []
          }
        },
        {
          "output_type": "display_data",
          "data": {
            "text/html": [
              "<pre>recommendations finished on 9000/13967 queries. users per second: 33725.8</pre>"
            ],
            "text/plain": [
              "recommendations finished on 9000/13967 queries. users per second: 33725.8"
            ]
          },
          "metadata": {
            "tags": []
          }
        },
        {
          "output_type": "display_data",
          "data": {
            "text/html": [
              "<pre>recommendations finished on 10000/13967 queries. users per second: 33893.9</pre>"
            ],
            "text/plain": [
              "recommendations finished on 10000/13967 queries. users per second: 33893.9"
            ]
          },
          "metadata": {
            "tags": []
          }
        },
        {
          "output_type": "display_data",
          "data": {
            "text/html": [
              "<pre>recommendations finished on 11000/13967 queries. users per second: 34161.3</pre>"
            ],
            "text/plain": [
              "recommendations finished on 11000/13967 queries. users per second: 34161.3"
            ]
          },
          "metadata": {
            "tags": []
          }
        },
        {
          "output_type": "display_data",
          "data": {
            "text/html": [
              "<pre>recommendations finished on 12000/13967 queries. users per second: 33837.9</pre>"
            ],
            "text/plain": [
              "recommendations finished on 12000/13967 queries. users per second: 33837.9"
            ]
          },
          "metadata": {
            "tags": []
          }
        },
        {
          "output_type": "display_data",
          "data": {
            "text/html": [
              "<pre>recommendations finished on 13000/13967 queries. users per second: 34093.4</pre>"
            ],
            "text/plain": [
              "recommendations finished on 13000/13967 queries. users per second: 34093.4"
            ]
          },
          "metadata": {
            "tags": []
          }
        },
        {
          "output_type": "stream",
          "text": [
            "\n",
            "Precision and recall summary statistics by cutoff\n",
            "+--------+-----------------------+-----------------------+\n",
            "| cutoff |     mean_precision    |      mean_recall      |\n",
            "+--------+-----------------------+-----------------------+\n",
            "|   1    |  0.001933128087635137 | 0.0010119942585754868 |\n",
            "|   2    |  0.002219517433951469 | 0.0019076952974712033 |\n",
            "|   3    | 0.0023627121071096145 |  0.003805024716816791 |\n",
            "|   4    | 0.0023269134388200674 |  0.005169635858044252 |\n",
            "|   5    | 0.0024343094436886834 |  0.006838649326298788 |\n",
            "|   6    | 0.0022553161022409907 |   0.0077002039431337  |\n",
            "|   7    |  0.002096779142673026 |  0.00834580425580641  |\n",
            "|   8    | 0.0020852724278656947 |  0.009307794025342516 |\n",
            "|   9    | 0.0021001885396529866 |  0.010349918829728374 |\n",
            "|   10   |  0.002670580654399656 |  0.01464141462620021  |\n",
            "+--------+-----------------------+-----------------------+\n",
            "[10 rows x 3 columns]\n",
            "\n",
            "\n",
            "Overall RMSE: 0.13192690523465408\n",
            "\n",
            "Per User RMSE (best)\n",
            "+------------+------------------------+-------+\n",
            "| customerId |          rmse          | count |\n",
            "+------------+------------------------+-------+\n",
            "|   22228    | 2.7755575615628914e-17 |   1   |\n",
            "+------------+------------------------+-------+\n",
            "[1 rows x 3 columns]\n",
            "\n",
            "\n",
            "Per User RMSE (worst)\n",
            "+------------+--------------------+-------+\n",
            "| customerId |        rmse        | count |\n",
            "+------------+--------------------+-------+\n",
            "|   22548    | 0.9602282711050727 |   1   |\n",
            "+------------+--------------------+-------+\n",
            "[1 rows x 3 columns]\n",
            "\n",
            "\n",
            "Per Item RMSE (best)\n",
            "+-----------+----------------------+-------+\n",
            "| productId |         rmse         | count |\n",
            "+-----------+----------------------+-------+\n",
            "|     47    | 0.014265550620509345 |  118  |\n",
            "+-----------+----------------------+-------+\n",
            "[1 rows x 3 columns]\n",
            "\n",
            "\n",
            "Per Item RMSE (worst)\n",
            "+-----------+---------------------+-------+\n",
            "| productId |         rmse        | count |\n",
            "+-----------+---------------------+-------+\n",
            "|    226    | 0.34110975900887197 |   27  |\n",
            "+-----------+---------------------+-------+\n",
            "[1 rows x 3 columns]\n",
            "\n"
          ],
          "name": "stdout"
        }
      ]
    },
    {
      "metadata": {
        "id": "6cPng0rvCUey",
        "colab_type": "text"
      },
      "cell_type": "markdown",
      "source": [
        "## 8. Model Selection\n",
        "### 8.1. Evaluation summary\n",
        "* Based on RMSE\n",
        "\n",
        "\n",
        "    1. Popularity on purchase counts: 1.1111750034210488\n",
        "    2. Cosine similarity on purchase counts: 1.9230643981653215\n",
        "    3. Pearson similarity on purchase counts: 1.9231102838192284\n",
        "    \n",
        "    4. Popularity on purchase dummy: 0.9697374361161925\n",
        "    5. Cosine similarity on purchase dummy: 0.9697509978436404\n",
        "    6. Pearson similarity on purchase dummy: 0.9697745320187097\n",
        "    \n",
        "    7. Popularity on scaled purchase counts: 0.16230660626840343\n",
        "    8. Cosine similarity on scaled purchase counts: 0.16229800354111104\n",
        "    9. Pearson similarity on scaled purchase counts: 0.1622982668334026\n",
        "    \n",
        "* Based on Precision and Recall\n",
        "![](../images/model_comparisons.png)\n"
      ]
    },
    {
      "metadata": {
        "id": "l3nED9v1CUey",
        "colab_type": "text"
      },
      "cell_type": "markdown",
      "source": [
        "#### Notes\n",
        "\n",
        "* Popularity v. Collaborative Filtering: We can see that the collaborative filtering algorithms work better than popularity model for purchase counts. Indeed, popularity model doesn’t give any personalizations as it only gives the same list of recommended items to every user.\n",
        "* Precision and recall: Looking at the summary above, we see that the precision and recall for Purchase Counts > Purchase Dummy > Normalized Purchase Counts. However, because the recommendation scores for the normalized purchase data is zero and constant, we choose the dummy. In fact, the RMSE isn’t much different between models on the dummy and those on the normalized data.\n",
        "* RMSE: Since RMSE is higher using pearson distance thancosine, we would choose model the smaller mean squared errors, which in this case would be cosine.\n",
        "Therefore, we select the Cosine similarity on Purchase Dummy approach as our final model."
      ]
    },
    {
      "metadata": {
        "id": "TZFdEp91CUez",
        "colab_type": "text"
      },
      "cell_type": "markdown",
      "source": [
        "## 8. Final Output\n",
        "* In this step, we would like to manipulate format for recommendation output to one we can export to csv, and also a function that will return recommendation list given a customer ID.\n",
        "* We need to first rerun the model using the whole dataset, as we came to a final model using train data and evaluated with test set."
      ]
    },
    {
      "metadata": {
        "id": "fdyoRpweCUe2",
        "colab_type": "code",
        "outputId": "1cc235b3-7d4a-4d53-8e8e-276d55d238d5",
        "colab": {
          "base_uri": "https://localhost:8080/",
          "height": 1054
        }
      },
      "cell_type": "code",
      "source": [
        "users_to_recommend = list(customers[user_id])\n",
        "\n",
        "final_model = tc.item_similarity_recommender.create(tc.SFrame(data_dummy), \n",
        "                                            user_id=user_id, \n",
        "                                            item_id=item_id, \n",
        "                                            target='purchase_dummy', \n",
        "                                            similarity_type='cosine')\n",
        "\n",
        "recom = final_model.recommend(users=users_to_recommend, k=n_rec)\n",
        "recom.print_rows(n_display)"
      ],
      "execution_count": 0,
      "outputs": [
        {
          "output_type": "display_data",
          "data": {
            "text/html": [
              "<pre>Warning: Ignoring columns purchase_count;</pre>"
            ],
            "text/plain": [
              "Warning: Ignoring columns purchase_count;"
            ]
          },
          "metadata": {
            "tags": []
          }
        },
        {
          "output_type": "display_data",
          "data": {
            "text/html": [
              "<pre>    To use these columns in scoring predictions, use a model that allows the use of additional features.</pre>"
            ],
            "text/plain": [
              "    To use these columns in scoring predictions, use a model that allows the use of additional features."
            ]
          },
          "metadata": {
            "tags": []
          }
        },
        {
          "output_type": "display_data",
          "data": {
            "text/html": [
              "<pre>Preparing data set.</pre>"
            ],
            "text/plain": [
              "Preparing data set."
            ]
          },
          "metadata": {
            "tags": []
          }
        },
        {
          "output_type": "display_data",
          "data": {
            "text/html": [
              "<pre>    Data has 133585 observations with 24429 users and 300 items.</pre>"
            ],
            "text/plain": [
              "    Data has 133585 observations with 24429 users and 300 items."
            ]
          },
          "metadata": {
            "tags": []
          }
        },
        {
          "output_type": "display_data",
          "data": {
            "text/html": [
              "<pre>    Data prepared in: 0.148222s</pre>"
            ],
            "text/plain": [
              "    Data prepared in: 0.148222s"
            ]
          },
          "metadata": {
            "tags": []
          }
        },
        {
          "output_type": "display_data",
          "data": {
            "text/html": [
              "<pre>Training model from provided data.</pre>"
            ],
            "text/plain": [
              "Training model from provided data."
            ]
          },
          "metadata": {
            "tags": []
          }
        },
        {
          "output_type": "display_data",
          "data": {
            "text/html": [
              "<pre>Gathering per-item and per-user statistics.</pre>"
            ],
            "text/plain": [
              "Gathering per-item and per-user statistics."
            ]
          },
          "metadata": {
            "tags": []
          }
        },
        {
          "output_type": "display_data",
          "data": {
            "text/html": [
              "<pre>+--------------------------------+------------+</pre>"
            ],
            "text/plain": [
              "+--------------------------------+------------+"
            ]
          },
          "metadata": {
            "tags": []
          }
        },
        {
          "output_type": "display_data",
          "data": {
            "text/html": [
              "<pre>| Elapsed Time (Item Statistics) | % Complete |</pre>"
            ],
            "text/plain": [
              "| Elapsed Time (Item Statistics) | % Complete |"
            ]
          },
          "metadata": {
            "tags": []
          }
        },
        {
          "output_type": "display_data",
          "data": {
            "text/html": [
              "<pre>+--------------------------------+------------+</pre>"
            ],
            "text/plain": [
              "+--------------------------------+------------+"
            ]
          },
          "metadata": {
            "tags": []
          }
        },
        {
          "output_type": "display_data",
          "data": {
            "text/html": [
              "<pre>| 1.44ms                         | 4          |</pre>"
            ],
            "text/plain": [
              "| 1.44ms                         | 4          |"
            ]
          },
          "metadata": {
            "tags": []
          }
        },
        {
          "output_type": "display_data",
          "data": {
            "text/html": [
              "<pre>| 19.466ms                       | 100        |</pre>"
            ],
            "text/plain": [
              "| 19.466ms                       | 100        |"
            ]
          },
          "metadata": {
            "tags": []
          }
        },
        {
          "output_type": "display_data",
          "data": {
            "text/html": [
              "<pre>+--------------------------------+------------+</pre>"
            ],
            "text/plain": [
              "+--------------------------------+------------+"
            ]
          },
          "metadata": {
            "tags": []
          }
        },
        {
          "output_type": "display_data",
          "data": {
            "text/html": [
              "<pre>Setting up lookup tables.</pre>"
            ],
            "text/plain": [
              "Setting up lookup tables."
            ]
          },
          "metadata": {
            "tags": []
          }
        },
        {
          "output_type": "display_data",
          "data": {
            "text/html": [
              "<pre>Processing data in one pass using dense lookup tables.</pre>"
            ],
            "text/plain": [
              "Processing data in one pass using dense lookup tables."
            ]
          },
          "metadata": {
            "tags": []
          }
        },
        {
          "output_type": "display_data",
          "data": {
            "text/html": [
              "<pre>+-------------------------------------+------------------+-----------------+</pre>"
            ],
            "text/plain": [
              "+-------------------------------------+------------------+-----------------+"
            ]
          },
          "metadata": {
            "tags": []
          }
        },
        {
          "output_type": "display_data",
          "data": {
            "text/html": [
              "<pre>| Elapsed Time (Constructing Lookups) | Total % Complete | Items Processed |</pre>"
            ],
            "text/plain": [
              "| Elapsed Time (Constructing Lookups) | Total % Complete | Items Processed |"
            ]
          },
          "metadata": {
            "tags": []
          }
        },
        {
          "output_type": "display_data",
          "data": {
            "text/html": [
              "<pre>+-------------------------------------+------------------+-----------------+</pre>"
            ],
            "text/plain": [
              "+-------------------------------------+------------------+-----------------+"
            ]
          },
          "metadata": {
            "tags": []
          }
        },
        {
          "output_type": "display_data",
          "data": {
            "text/html": [
              "<pre>| 28.517ms                            | 0                | 0               |</pre>"
            ],
            "text/plain": [
              "| 28.517ms                            | 0                | 0               |"
            ]
          },
          "metadata": {
            "tags": []
          }
        },
        {
          "output_type": "display_data",
          "data": {
            "text/html": [
              "<pre>| 66.824ms                            | 100              | 300             |</pre>"
            ],
            "text/plain": [
              "| 66.824ms                            | 100              | 300             |"
            ]
          },
          "metadata": {
            "tags": []
          }
        },
        {
          "output_type": "display_data",
          "data": {
            "text/html": [
              "<pre>+-------------------------------------+------------------+-----------------+</pre>"
            ],
            "text/plain": [
              "+-------------------------------------+------------------+-----------------+"
            ]
          },
          "metadata": {
            "tags": []
          }
        },
        {
          "output_type": "display_data",
          "data": {
            "text/html": [
              "<pre>Finalizing lookup tables.</pre>"
            ],
            "text/plain": [
              "Finalizing lookup tables."
            ]
          },
          "metadata": {
            "tags": []
          }
        },
        {
          "output_type": "display_data",
          "data": {
            "text/html": [
              "<pre>Generating candidate set for working with new users.</pre>"
            ],
            "text/plain": [
              "Generating candidate set for working with new users."
            ]
          },
          "metadata": {
            "tags": []
          }
        },
        {
          "output_type": "display_data",
          "data": {
            "text/html": [
              "<pre>Finished training in 0.083134s</pre>"
            ],
            "text/plain": [
              "Finished training in 0.083134s"
            ]
          },
          "metadata": {
            "tags": []
          }
        },
        {
          "output_type": "display_data",
          "data": {
            "text/html": [
              "<pre>recommendations finished on 1000/1000 queries. users per second: 39801</pre>"
            ],
            "text/plain": [
              "recommendations finished on 1000/1000 queries. users per second: 39801"
            ]
          },
          "metadata": {
            "tags": []
          }
        },
        {
          "output_type": "stream",
          "text": [
            "+------------+-----------+----------------------+------+\n",
            "| customerId | productId |        score         | rank |\n",
            "+------------+-----------+----------------------+------+\n",
            "|    1553    |     2     | 0.11079320907592774  |  1   |\n",
            "|    1553    |     35    | 0.10447167158126831  |  2   |\n",
            "|    1553    |     1     | 0.10348175764083863  |  3   |\n",
            "|    1553    |     5     | 0.07978436946868897  |  4   |\n",
            "|    1553    |     17    | 0.06781145334243774  |  5   |\n",
            "|    1553    |     33    |  0.0668614387512207  |  6   |\n",
            "|    1553    |     61    | 0.06512556076049805  |  7   |\n",
            "|    1553    |     15    | 0.06476415395736694  |  8   |\n",
            "|    1553    |     21    |  0.063294517993927   |  9   |\n",
            "|    1553    |     11    | 0.05467898845672607  |  10  |\n",
            "|   20400    |     26    | 0.05812269449234009  |  1   |\n",
            "|   20400    |     6     | 0.05361741781234741  |  2   |\n",
            "|   20400    |    113    | 0.05312788486480713  |  3   |\n",
            "|   20400    |     1     | 0.05210459232330322  |  4   |\n",
            "|   20400    |     15    | 0.047683894634246826 |  5   |\n",
            "|   20400    |     27    | 0.044673383235931396 |  6   |\n",
            "|   20400    |     13    | 0.04383981227874756  |  7   |\n",
            "|   20400    |    246    | 0.04373115301132202  |  8   |\n",
            "|   20400    |    160    | 0.04251152276992798  |  9   |\n",
            "|   20400    |     4     | 0.04242873191833496  |  10  |\n",
            "|   19750    |     36    | 0.12405195832252502  |  1   |\n",
            "|   19750    |     48    | 0.11810759703318278  |  2   |\n",
            "|   19750    |     38    |  0.1118616263071696  |  3   |\n",
            "|   19750    |     79    | 0.10431413849194844  |  4   |\n",
            "|   19750    |     1     |  0.1038620372613271  |  5   |\n",
            "|   19750    |     2     | 0.06514749924341838  |  6   |\n",
            "|   19750    |    194    | 0.061924477418263756 |  7   |\n",
            "|   19750    |     13    | 0.06052735447883606  |  8   |\n",
            "|   19750    |     33    | 0.060228586196899414 |  9   |\n",
            "|   19750    |     5     | 0.059651424487431846 |  10  |\n",
            "+------------+-----------+----------------------+------+\n",
            "[10000 rows x 4 columns]\n",
            "\n"
          ],
          "name": "stdout"
        }
      ]
    },
    {
      "metadata": {
        "id": "Ys4iQuTYCUe5",
        "colab_type": "text"
      },
      "cell_type": "markdown",
      "source": [
        "### 8.1. CSV output file"
      ]
    },
    {
      "metadata": {
        "id": "_JEX8SJSCUe6",
        "colab_type": "code",
        "outputId": "92e4c3f0-89f7-4243-a245-edbec36545c7",
        "colab": {
          "base_uri": "https://localhost:8080/",
          "height": 221
        }
      },
      "cell_type": "code",
      "source": [
        "df_rec = recom.to_dataframe()\n",
        "print(df_rec.shape)\n",
        "df_rec.head()"
      ],
      "execution_count": 0,
      "outputs": [
        {
          "output_type": "stream",
          "text": [
            "(10000, 4)\n"
          ],
          "name": "stdout"
        },
        {
          "output_type": "execute_result",
          "data": {
            "text/html": [
              "<div>\n",
              "<style scoped>\n",
              "    .dataframe tbody tr th:only-of-type {\n",
              "        vertical-align: middle;\n",
              "    }\n",
              "\n",
              "    .dataframe tbody tr th {\n",
              "        vertical-align: top;\n",
              "    }\n",
              "\n",
              "    .dataframe thead th {\n",
              "        text-align: right;\n",
              "    }\n",
              "</style>\n",
              "<table border=\"1\" class=\"dataframe\">\n",
              "  <thead>\n",
              "    <tr style=\"text-align: right;\">\n",
              "      <th></th>\n",
              "      <th>customerId</th>\n",
              "      <th>productId</th>\n",
              "      <th>score</th>\n",
              "      <th>rank</th>\n",
              "    </tr>\n",
              "  </thead>\n",
              "  <tbody>\n",
              "    <tr>\n",
              "      <th>0</th>\n",
              "      <td>1553</td>\n",
              "      <td>2</td>\n",
              "      <td>0.110793</td>\n",
              "      <td>1</td>\n",
              "    </tr>\n",
              "    <tr>\n",
              "      <th>1</th>\n",
              "      <td>1553</td>\n",
              "      <td>35</td>\n",
              "      <td>0.104472</td>\n",
              "      <td>2</td>\n",
              "    </tr>\n",
              "    <tr>\n",
              "      <th>2</th>\n",
              "      <td>1553</td>\n",
              "      <td>1</td>\n",
              "      <td>0.103482</td>\n",
              "      <td>3</td>\n",
              "    </tr>\n",
              "    <tr>\n",
              "      <th>3</th>\n",
              "      <td>1553</td>\n",
              "      <td>5</td>\n",
              "      <td>0.079784</td>\n",
              "      <td>4</td>\n",
              "    </tr>\n",
              "    <tr>\n",
              "      <th>4</th>\n",
              "      <td>1553</td>\n",
              "      <td>17</td>\n",
              "      <td>0.067811</td>\n",
              "      <td>5</td>\n",
              "    </tr>\n",
              "  </tbody>\n",
              "</table>\n",
              "</div>"
            ],
            "text/plain": [
              "   customerId  productId     score  rank\n",
              "0        1553          2  0.110793     1\n",
              "1        1553         35  0.104472     2\n",
              "2        1553          1  0.103482     3\n",
              "3        1553          5  0.079784     4\n",
              "4        1553         17  0.067811     5"
            ]
          },
          "metadata": {
            "tags": []
          },
          "execution_count": 49
        }
      ]
    },
    {
      "metadata": {
        "id": "FTuZwjUlCUe9",
        "colab_type": "code",
        "colab": {}
      },
      "cell_type": "code",
      "source": [
        "df_rec['recommendedProducts'] = df_rec.groupby([user_id])[item_id].transform(lambda x: '|'.join(x.astype(str)))\n",
        "df_output = df_rec[['customerId', 'recommendedProducts']].drop_duplicates().sort_values('customerId').set_index('customerId')"
      ],
      "execution_count": 0,
      "outputs": []
    },
    {
      "metadata": {
        "id": "v8Idl-TSCUe_",
        "colab_type": "text"
      },
      "cell_type": "markdown",
      "source": [
        "#### Define a function to create a desired output"
      ]
    },
    {
      "metadata": {
        "id": "_CKII2_cCUfA",
        "colab_type": "code",
        "colab": {}
      },
      "cell_type": "code",
      "source": [
        "def create_output(model, users_to_recommend, n_rec, print_csv=True):\n",
        "    recomendation = model.recommend(users=users_to_recommend, k=n_rec)\n",
        "    df_rec = recomendation.to_dataframe()\n",
        "    df_rec['recommendedProducts'] = df_rec.groupby([user_id])[item_id] \\\n",
        "        .transform(lambda x: '|'.join(x.astype(str)))\n",
        "    df_output = df_rec[['customerId', 'recommendedProducts']].drop_duplicates() \\\n",
        "        .sort_values('customerId').set_index('customerId')\n",
        "    if print_csv:\n",
        "        df_output.to_csv('option1_recommendation.csv')\n",
        "        print(\"An output file can be found in 'output' folder with name 'option1_recommendation.csv'\")\n",
        "    return df_output"
      ],
      "execution_count": 0,
      "outputs": []
    },
    {
      "metadata": {
        "id": "sBpzxLxTCUfB",
        "colab_type": "code",
        "outputId": "6abe3fd3-2068-4229-d65f-73c017a9174f",
        "colab": {
          "base_uri": "https://localhost:8080/",
          "height": 286
        }
      },
      "cell_type": "code",
      "source": [
        "df_output = create_output(pear_norm, users_to_recommend, n_rec, print_csv=True)\n",
        "print(df_output.shape)\n",
        "df_output.head()"
      ],
      "execution_count": 0,
      "outputs": [
        {
          "output_type": "display_data",
          "data": {
            "text/html": [
              "<pre>recommendations finished on 1000/1000 queries. users per second: 51332.1</pre>"
            ],
            "text/plain": [
              "recommendations finished on 1000/1000 queries. users per second: 51332.1"
            ]
          },
          "metadata": {
            "tags": []
          }
        },
        {
          "output_type": "stream",
          "text": [
            "An output file can be found in 'output' folder with name 'option1_recommendation.csv'\n",
            "(1000, 1)\n"
          ],
          "name": "stdout"
        },
        {
          "output_type": "execute_result",
          "data": {
            "text/html": [
              "<div>\n",
              "<style scoped>\n",
              "    .dataframe tbody tr th:only-of-type {\n",
              "        vertical-align: middle;\n",
              "    }\n",
              "\n",
              "    .dataframe tbody tr th {\n",
              "        vertical-align: top;\n",
              "    }\n",
              "\n",
              "    .dataframe thead th {\n",
              "        text-align: right;\n",
              "    }\n",
              "</style>\n",
              "<table border=\"1\" class=\"dataframe\">\n",
              "  <thead>\n",
              "    <tr style=\"text-align: right;\">\n",
              "      <th></th>\n",
              "      <th>recommendedProducts</th>\n",
              "    </tr>\n",
              "    <tr>\n",
              "      <th>customerId</th>\n",
              "      <th></th>\n",
              "    </tr>\n",
              "  </thead>\n",
              "  <tbody>\n",
              "    <tr>\n",
              "      <th>4</th>\n",
              "      <td>226|247|230|294|125|204|248|276|155|72</td>\n",
              "    </tr>\n",
              "    <tr>\n",
              "      <th>11</th>\n",
              "      <td>226|247|230|294|125|204|248|276|155|83</td>\n",
              "    </tr>\n",
              "    <tr>\n",
              "      <th>12</th>\n",
              "      <td>226|247|230|294|125|204|248|276|155|72</td>\n",
              "    </tr>\n",
              "    <tr>\n",
              "      <th>16</th>\n",
              "      <td>226|247|230|294|125|204|248|276|155|72</td>\n",
              "    </tr>\n",
              "    <tr>\n",
              "      <th>21</th>\n",
              "      <td>226|247|230|294|125|204|248|276|155|72</td>\n",
              "    </tr>\n",
              "  </tbody>\n",
              "</table>\n",
              "</div>"
            ],
            "text/plain": [
              "                               recommendedProducts\n",
              "customerId                                        \n",
              "4           226|247|230|294|125|204|248|276|155|72\n",
              "11          226|247|230|294|125|204|248|276|155|83\n",
              "12          226|247|230|294|125|204|248|276|155|72\n",
              "16          226|247|230|294|125|204|248|276|155|72\n",
              "21          226|247|230|294|125|204|248|276|155|72"
            ]
          },
          "metadata": {
            "tags": []
          },
          "execution_count": 54
        }
      ]
    },
    {
      "metadata": {
        "id": "hbFHWCbpCUfG",
        "colab_type": "text"
      },
      "cell_type": "markdown",
      "source": [
        "### 8.2. Customer recommendation function"
      ]
    },
    {
      "metadata": {
        "id": "oWl4u0qmCUfH",
        "colab_type": "code",
        "colab": {}
      },
      "cell_type": "code",
      "source": [
        "def customer_recomendation(customer_id):\n",
        "    if customer_id not in df_output.index:\n",
        "        print('Customer not found.')\n",
        "        return customer_id\n",
        "    return df_output.loc[customer_id]"
      ],
      "execution_count": 0,
      "outputs": []
    },
    {
      "metadata": {
        "id": "UuwUNsGKCUfJ",
        "colab_type": "code",
        "outputId": "2fbc53e0-a407-464f-a77f-d7cbb3a65d42",
        "colab": {
          "base_uri": "https://localhost:8080/",
          "height": 51
        }
      },
      "cell_type": "code",
      "source": [
        "customer_recomendation(4)"
      ],
      "execution_count": 0,
      "outputs": [
        {
          "output_type": "execute_result",
          "data": {
            "text/plain": [
              "recommendedProducts    226|247|230|294|125|204|248|276|155|72\n",
              "Name: 4, dtype: object"
            ]
          },
          "metadata": {
            "tags": []
          },
          "execution_count": 56
        }
      ]
    },
    {
      "metadata": {
        "id": "ZQFBmrceCUfM",
        "colab_type": "code",
        "outputId": "31e6ecb5-3bc8-4ded-d0f7-a39f91f92cf9",
        "colab": {
          "base_uri": "https://localhost:8080/",
          "height": 51
        }
      },
      "cell_type": "code",
      "source": [
        "customer_recomendation(21)"
      ],
      "execution_count": 0,
      "outputs": [
        {
          "output_type": "execute_result",
          "data": {
            "text/plain": [
              "recommendedProducts    226|247|230|294|125|204|248|276|155|72\n",
              "Name: 21, dtype: object"
            ]
          },
          "metadata": {
            "tags": []
          },
          "execution_count": 57
        }
      ]
    },
    {
      "metadata": {
        "collapsed": true,
        "id": "fekvqi4JCUfO",
        "colab_type": "text"
      },
      "cell_type": "markdown",
      "source": [
        "## Summary\n",
        "In this exercise, we were able to traverse a step-by-step process for making recommendations to customers. We used Collaborative Filtering approaches with `cosine` and `pearson` measure and compare the models with our baseline popularity model. We also prepared three sets of data that include regular buying count, buying dummy, as well as normalized purchase frequency as our target variable. Using RMSE, precision and recall, we evaluated our models and observed the impact of personalization. Finally, we selected the Cosine approach in dummy purchase data. "
      ]
    },
    {
      "metadata": {
        "id": "OuIR1TKgCUfO",
        "colab_type": "code",
        "colab": {}
      },
      "cell_type": "code",
      "source": [
        ""
      ],
      "execution_count": 0,
      "outputs": []
    }
  ]
}