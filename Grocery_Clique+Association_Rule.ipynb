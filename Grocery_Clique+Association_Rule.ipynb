{
  "nbformat": 4,
  "nbformat_minor": 0,
  "metadata": {
    "colab": {
      "name": "Grocery-Clique+Association-Rule.ipynb",
      "version": "0.3.2",
      "provenance": [],
      "collapsed_sections": []
    },
    "kernelspec": {
      "name": "python3",
      "display_name": "Python 3"
    },
    "accelerator": "GPU"
  },
  "cells": [
    {
      "metadata": {
        "id": "FvVkC7GiEdce",
        "colab_type": "text"
      },
      "cell_type": "markdown",
      "source": [
        "# Grocery prediction using clique percolation method\n",
        "\n",
        "## 1. Import modules\n",
        "* `pandas` and `numpy` for data manipulation\n",
        "* `turicreate` for performing model selection and evaluation\n",
        "* `sklearn` for splitting the data into train and test set"
      ]
    },
    {
      "metadata": {
        "id": "d3E45SLpCeMP",
        "colab_type": "code",
        "outputId": "59054cf1-0adc-44e2-e311-875066450ead",
        "colab": {
          "base_uri": "https://localhost:8080/",
          "height": 1159
        }
      },
      "cell_type": "code",
      "source": [
        "!pip install turicreate\n",
        "!pip install sklearn\n",
        "!pip install scripts"
      ],
      "execution_count": 0,
      "outputs": [
        {
          "output_type": "stream",
          "text": [
            "Requirement already satisfied: turicreate in /usr/local/lib/python3.6/dist-packages (5.4)\n",
            "Requirement already satisfied: prettytable==0.7.2 in /usr/local/lib/python3.6/dist-packages (from turicreate) (0.7.2)\n",
            "Requirement already satisfied: numpy in /usr/local/lib/python3.6/dist-packages (from turicreate) (1.14.6)\n",
            "Requirement already satisfied: pandas>=0.19.0 in /usr/local/lib/python3.6/dist-packages (from turicreate) (0.22.0)\n",
            "Requirement already satisfied: pillow>=3.3.0 in /usr/local/lib/python3.6/dist-packages (from turicreate) (4.1.1)\n",
            "Requirement already satisfied: mxnet<1.2.0,>=1.1.0 in /usr/local/lib/python3.6/dist-packages (from turicreate) (1.1.0.post0)\n",
            "Requirement already satisfied: scipy>=0.14.0 in /usr/local/lib/python3.6/dist-packages (from turicreate) (1.1.0)\n",
            "Requirement already satisfied: requests>=2.9.1 in /usr/local/lib/python3.6/dist-packages (from turicreate) (2.18.4)\n",
            "Requirement already satisfied: six>=1.10.0 in /usr/local/lib/python3.6/dist-packages (from turicreate) (1.11.0)\n",
            "Requirement already satisfied: coremltools==2.1.0 in /usr/local/lib/python3.6/dist-packages (from turicreate) (2.1.0)\n",
            "Requirement already satisfied: resampy==0.2.1 in /usr/local/lib/python3.6/dist-packages (from turicreate) (0.2.1)\n",
            "Requirement already satisfied: decorator>=4.0.9 in /usr/local/lib/python3.6/dist-packages (from turicreate) (4.4.0)\n",
            "Requirement already satisfied: python-dateutil>=2 in /usr/local/lib/python3.6/dist-packages (from pandas>=0.19.0->turicreate) (2.5.3)\n",
            "Requirement already satisfied: pytz>=2011k in /usr/local/lib/python3.6/dist-packages (from pandas>=0.19.0->turicreate) (2018.9)\n",
            "Requirement already satisfied: olefile in /usr/local/lib/python3.6/dist-packages (from pillow>=3.3.0->turicreate) (0.46)\n",
            "Requirement already satisfied: graphviz<0.9.0,>=0.8.1 in /usr/local/lib/python3.6/dist-packages (from mxnet<1.2.0,>=1.1.0->turicreate) (0.8.4)\n",
            "Requirement already satisfied: chardet<3.1.0,>=3.0.2 in /usr/local/lib/python3.6/dist-packages (from requests>=2.9.1->turicreate) (3.0.4)\n",
            "Requirement already satisfied: idna<2.7,>=2.5 in /usr/local/lib/python3.6/dist-packages (from requests>=2.9.1->turicreate) (2.6)\n",
            "Requirement already satisfied: certifi>=2017.4.17 in /usr/local/lib/python3.6/dist-packages (from requests>=2.9.1->turicreate) (2019.3.9)\n",
            "Requirement already satisfied: urllib3<1.23,>=1.21.1 in /usr/local/lib/python3.6/dist-packages (from requests>=2.9.1->turicreate) (1.22)\n",
            "Requirement already satisfied: protobuf>=3.1.0 in /usr/local/lib/python3.6/dist-packages (from coremltools==2.1.0->turicreate) (3.7.1)\n",
            "Requirement already satisfied: numba>=0.32 in /usr/local/lib/python3.6/dist-packages (from resampy==0.2.1->turicreate) (0.40.1)\n",
            "Requirement already satisfied: setuptools in /usr/local/lib/python3.6/dist-packages (from protobuf>=3.1.0->coremltools==2.1.0->turicreate) (40.8.0)\n",
            "Requirement already satisfied: llvmlite>=0.25.0dev0 in /usr/local/lib/python3.6/dist-packages (from numba>=0.32->resampy==0.2.1->turicreate) (0.28.0)\n",
            "Traceback (most recent call last):\n",
            "  File \"/usr/local/bin/pip3\", line 6, in <module>\n",
            "    from pip._internal import main\n",
            "  File \"/usr/local/lib/python3.6/dist-packages/pip/_internal/__init__.py\", line 40, in <module>\n",
            "    from pip._internal.cli.autocompletion import autocomplete\n",
            "  File \"/usr/local/lib/python3.6/dist-packages/pip/_internal/cli/autocompletion.py\", line 8, in <module>\n",
            "    from pip._internal.cli.main_parser import create_main_parser\n",
            "  File \"/usr/local/lib/python3.6/dist-packages/pip/_internal/cli/main_parser.py\", line 8, in <module>\n",
            "    from pip._internal.cli import cmdoptions\n",
            "  File \"/usr/local/lib/python3.6/dist-packages/pip/_internal/cli/cmdoptions.py\", line 22, in <module>\n",
            "    from pip._internal.utils.hashes import STRONG_HASHES\n",
            "  File \"/usr/local/lib/python3.6/dist-packages/pip/_internal/utils/hashes.py\", line 10, in <module>\n",
            "    from pip._internal.utils.misc import read_chunks\n",
            "  File \"/usr/local/lib/python3.6/dist-packages/pip/_internal/utils/misc.py\", line 21, in <module>\n",
            "    from pip._vendor import pkg_resources\n",
            "  File \"/usr/local/lib/python3.6/dist-packages/pip/_vendor/pkg_resources/__init__.py\", line 3126, in <module>\n",
            "    @_call_aside\n",
            "  File \"/usr/local/lib/python3.6/dist-packages/pip/_vendor/pkg_resources/__init__.py\", line 3110, in _call_aside\n",
            "    f(*args, **kwargs)\n",
            "  File \"/usr/local/lib/python3.6/dist-packages/pip/_vendor/pkg_resources/__init__.py\", line 3162, in _initialize_master_working_set\n",
            "    list(map(working_set.add_entry, sys.path))\n",
            "  File \"/usr/local/lib/python3.6/dist-packages/pip/_vendor/pkg_resources/__init__.py\", line 621, in add_entry\n",
            "    for dist in find_distributions(entry, True):\n",
            "  File \"/usr/local/lib/python3.6/dist-packages/pip/_vendor/pkg_resources/__init__.py\", line 1968, in find_on_path\n",
            "    for dist in factory(fullpath):\n",
            "  File \"/usr/local/lib/python3.6/dist-packages/pip/_vendor/pkg_resources/__init__.py\", line 2038, in distributions_from_metadata\n",
            "    root, entry, metadata, precedence=DEVELOP_DIST,\n",
            "  File \"/usr/local/lib/python3.6/dist-packages/pip/_vendor/pkg_resources/__init__.py\", line 2495, in from_location\n",
            "    py_version=py_version, platform=platform, **kw\n",
            "  File \"/usr/local/lib/python3.6/dist-packages/pip/_vendor/pkg_resources/__init__.py\", line 2870, in _reload_version\n",
            "    md_version = _version_from_file(self._get_metadata(self.PKG_INFO))\n",
            "  File \"/usr/local/lib/python3.6/dist-packages/pip/_vendor/pkg_resources/__init__.py\", line 2459, in _version_from_file\n",
            "    line = next(iter(version_lines), '')\n",
            "  File \"/usr/local/lib/python3.6/dist-packages/pip/_vendor/pkg_resources/__init__.py\", line 2648, in _get_metadata\n",
            "    if self.has_metadata(name):\n",
            "  File \"/usr/local/lib/python3.6/dist-packages/pip/_vendor/pkg_resources/__init__.py\", line 1405, in has_metadata\n",
            "    return self.egg_info and self._has(self._fn(self.egg_info, name))\n",
            "  File \"/usr/local/lib/python3.6/dist-packages/pip/_vendor/pkg_resources/__init__.py\", line 1470, in _fn\n",
            "    return os.path.join(base, *resource_name.split('/'))\n",
            "KeyboardInterrupt\n",
            "Requirement already satisfied: scripts in /usr/local/lib/python3.6/dist-packages (2.0)\n",
            "Requirement already satisfied: stua in /usr/local/lib/python3.6/dist-packages (from scripts) (0.2)\n"
          ],
          "name": "stdout"
        }
      ]
    },
    {
      "metadata": {
        "id": "Nn4NuXdJCUb_",
        "colab_type": "code",
        "colab": {}
      },
      "cell_type": "code",
      "source": [
        "%load_ext autoreload\n",
        "%autoreload 2\n",
        "\n",
        "import pandas as pd\n",
        "import numpy as np\n",
        "import time\n",
        "import turicreate as tc\n",
        "from sklearn.model_selection import train_test_split"
      ],
      "execution_count": 0,
      "outputs": []
    },
    {
      "metadata": {
        "id": "CddK7Pw_Cg7L",
        "colab_type": "code",
        "colab": {}
      },
      "cell_type": "code",
      "source": [
        "from google.colab import files\n",
        "uploaded = files.upload()"
      ],
      "execution_count": 0,
      "outputs": []
    },
    {
      "metadata": {
        "id": "5MwQGbDfEmnF",
        "colab_type": "text"
      },
      "cell_type": "markdown",
      "source": [
        "## 2. Load data\n",
        "Two datasets are used in this exercise, which can be found in `data` folder: \n",
        "* `recommend_1.csv` consisting of a list of 1000 customer IDs to recommend as output\n",
        "* `trx_data.csv` consisting of user transactions\n",
        "\n",
        "The format is as follows."
      ]
    },
    {
      "metadata": {
        "id": "Fy-nPpIkCUcH",
        "colab_type": "code",
        "colab": {}
      },
      "cell_type": "code",
      "source": [
        "import io\n",
        "\n",
        "customers = pd.read_csv(io.BytesIO(uploaded['recommend_1.csv'])) \n",
        "transactions = pd.read_csv(io.BytesIO(uploaded['trx_data.csv']))"
      ],
      "execution_count": 0,
      "outputs": []
    },
    {
      "metadata": {
        "id": "0rtpOVwRCUcJ",
        "colab_type": "code",
        "colab": {}
      },
      "cell_type": "code",
      "source": [
        "print(customers.shape)\n",
        "customers.head()"
      ],
      "execution_count": 0,
      "outputs": []
    },
    {
      "metadata": {
        "id": "4xMEaxvJCUcN",
        "colab_type": "code",
        "colab": {}
      },
      "cell_type": "code",
      "source": [
        "print(transactions.shape)\n",
        "transactions.head()"
      ],
      "execution_count": 0,
      "outputs": []
    },
    {
      "metadata": {
        "id": "jryYKVeqEpZY",
        "colab_type": "text"
      },
      "cell_type": "markdown",
      "source": [
        "## 3. Data preparation\n",
        "* Our goal here is to break down each list of items in the `products` column into rows and count the number of products bought by a user"
      ]
    },
    {
      "metadata": {
        "id": "xqLU9FU0CUcR",
        "colab_type": "code",
        "colab": {}
      },
      "cell_type": "code",
      "source": [
        "# example 1: split product items\n",
        "transactions['products'] = transactions['products'].apply(lambda x: [int(i) for i in x.split('|')])\n",
        "transactions.head(2).set_index('customerId')['products'].apply(pd.Series).reset_index()"
      ],
      "execution_count": 0,
      "outputs": []
    },
    {
      "metadata": {
        "id": "Z5e_UrGgEH6u",
        "colab_type": "code",
        "colab": {}
      },
      "cell_type": "code",
      "source": [
        "transactions.head()"
      ],
      "execution_count": 0,
      "outputs": []
    },
    {
      "metadata": {
        "id": "32dLq9gqCUcU",
        "colab_type": "code",
        "colab": {}
      },
      "cell_type": "code",
      "source": [
        "# example 2: organize a given table into a dataframe with customerId, single productId, and purchase count\n",
        "pd.melt(transactions.head(2).set_index('customerId')['products'].apply(pd.Series).reset_index(), \n",
        "             id_vars=['customerId'],\n",
        "             value_name='products') \\\n",
        "    .dropna().drop(['variable'], axis=1) \\\n",
        "    .groupby(['customerId', 'products']) \\\n",
        "    .agg({'products': 'count'}) \\\n",
        "    .rename(columns={'products': 'purchase_count'}) \\\n",
        "    .reset_index() \\\n",
        "    .rename(columns={'products': 'productId'})"
      ],
      "execution_count": 0,
      "outputs": []
    },
    {
      "metadata": {
        "id": "7EFpTqi8EvT_",
        "colab_type": "text"
      },
      "cell_type": "markdown",
      "source": [
        "### 3.1. Create data with user, item, and target field\n",
        "* This table will be an input for our modeling later\n",
        "    * In this case, our user is `customerId`, `productId`, and `purchase_count`"
      ]
    },
    {
      "metadata": {
        "id": "HIazLOMpCUcZ",
        "colab_type": "code",
        "colab": {}
      },
      "cell_type": "code",
      "source": [
        "s=time.time()\n",
        "\n",
        "data = pd.melt(transactions.set_index('customerId')['products'].apply(pd.Series).reset_index(), \n",
        "             id_vars=['customerId'],\n",
        "             value_name='products') \\\n",
        "    .dropna().drop(['variable'], axis=1) \\\n",
        "    .groupby(['customerId', 'products']) \\\n",
        "    .agg({'products': 'count'}) \\\n",
        "    .rename(columns={'products': 'purchase_count'}) \\\n",
        "    .reset_index() \\\n",
        "    .rename(columns={'products': 'productId'})\n",
        "data['productId'] = data['productId'].astype(np.int64)\n",
        "\n",
        "print(\"Execution time:\", round((time.time()-s)/60,2), \"minutes\")"
      ],
      "execution_count": 0,
      "outputs": []
    },
    {
      "metadata": {
        "id": "VT8LtZIWCUce",
        "colab_type": "code",
        "colab": {}
      },
      "cell_type": "code",
      "source": [
        "print(data.shape)\n",
        "data.head()"
      ],
      "execution_count": 0,
      "outputs": []
    },
    {
      "metadata": {
        "id": "qz9okEvLFNQU",
        "colab_type": "code",
        "colab": {}
      },
      "cell_type": "code",
      "source": [
        "max(data['productId']), min(data['productId'])"
      ],
      "execution_count": 0,
      "outputs": []
    },
    {
      "metadata": {
        "id": "7Fc2QEmVGwIO",
        "colab_type": "text"
      },
      "cell_type": "markdown",
      "source": [
        "###3.2 Creating a NetworkX graph"
      ]
    },
    {
      "metadata": {
        "id": "PiSkFrMtG2ur",
        "colab_type": "code",
        "colab": {}
      },
      "cell_type": "code",
      "source": [
        "import networkx as nx\n",
        "\n",
        "G=nx.Graph()\n",
        "\n",
        "print(G.nodes())\n",
        "print(G.edges())\n",
        "\n",
        "print(type(G.nodes()))\n",
        "print(type(G.edges()))"
      ],
      "execution_count": 0,
      "outputs": []
    },
    {
      "metadata": {
        "id": "Vpvy0J9eG9b1",
        "colab_type": "code",
        "colab": {}
      },
      "cell_type": "code",
      "source": [
        "# a list of nodes:\n",
        "G.add_nodes_from(data['productId'])\n",
        "print(\"Nodes of graph: \")\n",
        "print(G.nodes())"
      ],
      "execution_count": 0,
      "outputs": []
    },
    {
      "metadata": {
        "id": "bhkqUzOOhZ0Z",
        "colab_type": "text"
      },
      "cell_type": "markdown",
      "source": [
        ""
      ]
    },
    {
      "metadata": {
        "id": "8ZxF5JUHHH1N",
        "colab_type": "code",
        "colab": {}
      },
      "cell_type": "code",
      "source": [
        "sdata = data.sort_values('customerId')\n",
        "sdata.head(),sdata.tail()\n",
        "for i in range(len(data)):\n",
        "  for j in range(i,len(data)):\n",
        "    if data['customerId'][i] == data['customerId'][j]:\n",
        "      edge = (data['productId'][i],data['productId'][j])\n",
        "      G.add_edge(*edge)\n",
        "    else:\n",
        "      break"
      ],
      "execution_count": 0,
      "outputs": []
    },
    {
      "metadata": {
        "id": "kswKObek3Yp8",
        "colab_type": "text"
      },
      "cell_type": "markdown",
      "source": [
        "* Nodes of graph for clique percolation method"
      ]
    },
    {
      "metadata": {
        "id": "vXcOzsT4a8rc",
        "colab_type": "code",
        "colab": {}
      },
      "cell_type": "code",
      "source": [
        "print(\"Nodes of graph: \")\n",
        "print(G.nodes())\n",
        "print(\"Edges of graph: \")\n",
        "print(G.edges())"
      ],
      "execution_count": 0,
      "outputs": []
    },
    {
      "metadata": {
        "id": "2a77Ny5y3eTC",
        "colab_type": "text"
      },
      "cell_type": "markdown",
      "source": [
        "* Notice how dense the graph is"
      ]
    },
    {
      "metadata": {
        "id": "6d4XT6isbdPh",
        "colab_type": "code",
        "colab": {}
      },
      "cell_type": "code",
      "source": [
        "nx.draw(G)"
      ],
      "execution_count": 0,
      "outputs": []
    },
    {
      "metadata": {
        "id": "Rj3X1uA84Eve",
        "colab_type": "text"
      },
      "cell_type": "markdown",
      "source": [
        "## 4. Clique Percolation Method\n",
        "* Applying Clique Percolation method on NetworkX graph"
      ]
    },
    {
      "metadata": {
        "id": "aPYqRZ-a3g1s",
        "colab_type": "text"
      },
      "cell_type": "markdown",
      "source": [
        "* Generating max cliques"
      ]
    },
    {
      "metadata": {
        "id": "OUWdnt1pbms-",
        "colab_type": "code",
        "colab": {}
      },
      "cell_type": "code",
      "source": [
        "from networkx.algorithms.approximation import clique \n",
        "\n",
        "c1 = clique.max_clique(G) \n",
        "print(c1)"
      ],
      "execution_count": 0,
      "outputs": []
    },
    {
      "metadata": {
        "id": "o-HxH1q33pxg",
        "colab_type": "text"
      },
      "cell_type": "markdown",
      "source": [
        "* Clique percolation method would not work since Graph has too many nodes"
      ]
    },
    {
      "metadata": {
        "id": "rHH0zNxHhuBZ",
        "colab_type": "text"
      },
      "cell_type": "markdown",
      "source": [
        "# Association Rules Mining/Market Basket Analysis\n",
        "* Source: https://www.kaggle.com/datatheque/association-rules-mining-market-basket-analysis"
      ]
    },
    {
      "metadata": {
        "id": "5ITLbg3qhyvk",
        "colab_type": "text"
      },
      "cell_type": "markdown",
      "source": [
        "## 1 Setting up environment"
      ]
    },
    {
      "metadata": {
        "id": "C6Wakir6eQIU",
        "colab_type": "code",
        "outputId": "5eb42fda-36da-4774-c090-19d92d34814f",
        "colab": {
          "base_uri": "https://localhost:8080/",
          "height": 204
        }
      },
      "cell_type": "code",
      "source": [
        "import os\n",
        "!pip install kaggle"
      ],
      "execution_count": 0,
      "outputs": [
        {
          "output_type": "stream",
          "text": [
            "Requirement already satisfied: kaggle in /usr/local/lib/python3.6/dist-packages (1.5.3)\n",
            "Requirement already satisfied: urllib3<1.25,>=1.21.1 in /usr/local/lib/python3.6/dist-packages (from kaggle) (1.22)\n",
            "Requirement already satisfied: six>=1.10 in /usr/local/lib/python3.6/dist-packages (from kaggle) (1.11.0)\n",
            "Requirement already satisfied: certifi in /usr/local/lib/python3.6/dist-packages (from kaggle) (2019.3.9)\n",
            "Requirement already satisfied: python-dateutil in /usr/local/lib/python3.6/dist-packages (from kaggle) (2.5.3)\n",
            "Requirement already satisfied: requests in /usr/local/lib/python3.6/dist-packages (from kaggle) (2.18.4)\n",
            "Requirement already satisfied: tqdm in /usr/local/lib/python3.6/dist-packages (from kaggle) (4.28.1)\n",
            "Requirement already satisfied: python-slugify in /usr/local/lib/python3.6/dist-packages (from kaggle) (3.0.1)\n",
            "Requirement already satisfied: idna<2.7,>=2.5 in /usr/local/lib/python3.6/dist-packages (from requests->kaggle) (2.6)\n",
            "Requirement already satisfied: chardet<3.1.0,>=3.0.2 in /usr/local/lib/python3.6/dist-packages (from requests->kaggle) (3.0.4)\n",
            "Requirement already satisfied: text-unidecode==1.2 in /usr/local/lib/python3.6/dist-packages (from python-slugify->kaggle) (1.2)\n"
          ],
          "name": "stdout"
        }
      ]
    },
    {
      "metadata": {
        "id": "DqmHM_37hQcO",
        "colab_type": "code",
        "outputId": "ff1bc747-a1cd-4c62-9bcd-b4463ee406c2",
        "colab": {
          "resources": {
            "http://localhost:8080/nbextensions/google.colab/files.js": {
              "data": "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",
              "ok": true,
              "headers": [
                [
                  "content-type",
                  "application/javascript"
                ]
              ],
              "status": 200,
              "status_text": ""
            }
          },
          "base_uri": "https://localhost:8080/",
          "height": 88
        }
      },
      "cell_type": "code",
      "source": [
        "from google.colab import files\n",
        "files.upload()"
      ],
      "execution_count": 0,
      "outputs": [
        {
          "output_type": "display_data",
          "data": {
            "text/html": [
              "\n",
              "     <input type=\"file\" id=\"files-26c619a5-6de2-4237-8ef8-1555aa9d6d75\" name=\"files[]\" multiple disabled />\n",
              "     <output id=\"result-26c619a5-6de2-4237-8ef8-1555aa9d6d75\">\n",
              "      Upload widget is only available when the cell has been executed in the\n",
              "      current browser session. Please rerun this cell to enable.\n",
              "      </output>\n",
              "      <script src=\"/nbextensions/google.colab/files.js\"></script> "
            ],
            "text/plain": [
              "<IPython.core.display.HTML object>"
            ]
          },
          "metadata": {
            "tags": []
          }
        },
        {
          "output_type": "stream",
          "text": [
            "Saving kaggle.json to kaggle.json\n"
          ],
          "name": "stdout"
        },
        {
          "output_type": "execute_result",
          "data": {
            "text/plain": [
              "{'kaggle.json': b'{\"username\":\"jacobjohn2016\",\"key\":\"0206904f95d5d7e082b1af55b711e3f4\"}'}"
            ]
          },
          "metadata": {
            "tags": []
          },
          "execution_count": 16
        }
      ]
    },
    {
      "metadata": {
        "id": "NGHW_KUWhRb0",
        "colab_type": "code",
        "outputId": "bef22878-7257-405e-e719-23028d8a3a42",
        "colab": {
          "base_uri": "https://localhost:8080/",
          "height": 34
        }
      },
      "cell_type": "code",
      "source": [
        "!ls -lha kaggle.json"
      ],
      "execution_count": 0,
      "outputs": [
        {
          "output_type": "stream",
          "text": [
            "-rw-r--r-- 1 root root 69 Apr  3 13:16 kaggle.json\n"
          ],
          "name": "stdout"
        }
      ]
    },
    {
      "metadata": {
        "id": "twJkA5KPhSsh",
        "colab_type": "code",
        "outputId": "f1170c09-93c4-4cea-dcec-6ccd94b9ee8f",
        "colab": {
          "base_uri": "https://localhost:8080/",
          "height": 51
        }
      },
      "cell_type": "code",
      "source": [
        "!ls\n",
        "!pwd\n",
        "!mkdir -p ~/.kaggle\n",
        "!cp kaggle.json ~/.kaggle/\n",
        "!chmod 600 ~/.kaggle/kaggle.json"
      ],
      "execution_count": 0,
      "outputs": [
        {
          "output_type": "stream",
          "text": [
            "kaggle.json  sample_data\n",
            "/content\n"
          ],
          "name": "stdout"
        }
      ]
    },
    {
      "metadata": {
        "id": "sCsOskTxhYxy",
        "colab_type": "code",
        "outputId": "40a4346c-7460-44d5-fa77-76d9c8a1a361",
        "colab": {
          "base_uri": "https://localhost:8080/",
          "height": 374
        }
      },
      "cell_type": "code",
      "source": [
        "!kaggle competitions download -c instacart-market-basket-analysis"
      ],
      "execution_count": 0,
      "outputs": [
        {
          "output_type": "stream",
          "text": [
            "Downloading departments.csv.zip to /content\n",
            "\r  0% 0.00/804 [00:00<?, ?B/s]\n",
            "100% 804/804 [00:00<00:00, 776kB/s]\n",
            "Downloading aisles.csv.zip to /content\n",
            "  0% 0.00/1.87k [00:00<?, ?B/s]\n",
            "100% 1.87k/1.87k [00:00<00:00, 1.78MB/s]\n",
            "Downloading order_products__train.csv.zip to /content\n",
            "  0% 0.00/6.90M [00:00<?, ?B/s]\n",
            "100% 6.90M/6.90M [00:00<00:00, 63.4MB/s]\n",
            "Downloading products.csv.zip to /content\n",
            "  0% 0.00/795k [00:00<?, ?B/s]\n",
            "100% 795k/795k [00:00<00:00, 111MB/s]\n",
            "Downloading orders.csv.zip to /content\n",
            " 77% 24.0M/31.3M [00:00<00:00, 25.5MB/s]\n",
            "100% 31.3M/31.3M [00:00<00:00, 70.6MB/s]\n",
            "Downloading order_products__prior.csv.zip to /content\n",
            "100% 157M/157M [00:01<00:00, 111MB/s] \n",
            "100% 157M/157M [00:01<00:00, 101MB/s]\n",
            "Downloading sample_submission.csv.zip to /content\n",
            "  0% 0.00/220k [00:00<?, ?B/s]\n",
            "100% 220k/220k [00:00<00:00, 193MB/s]\n"
          ],
          "name": "stdout"
        }
      ]
    },
    {
      "metadata": {
        "id": "yzqWrQsIhZen",
        "colab_type": "code",
        "outputId": "660d9471-9a16-4855-a5a1-41af0ce6139e",
        "colab": {
          "base_uri": "https://localhost:8080/",
          "height": 340
        }
      },
      "cell_type": "code",
      "source": [
        "!ls\n",
        "!unzip order_products__prior.csv\n",
        "!unzip orders.csv\n",
        "!unzip products.csv\n",
        "!unzip aisles.csv\n",
        "!unzip departments.csv"
      ],
      "execution_count": 0,
      "outputs": [
        {
          "output_type": "stream",
          "text": [
            "aisles.csv.zip\t     order_products__prior.csv.zip  products.csv.zip\n",
            "departments.csv.zip  order_products__train.csv.zip  sample_data\n",
            "kaggle.json\t     orders.csv.zip\t\t    sample_submission.csv.zip\n",
            "Archive:  order_products__prior.csv.zip\n",
            "  inflating: order_products__prior.csv  \n",
            "   creating: __MACOSX/\n",
            "  inflating: __MACOSX/._order_products__prior.csv  \n",
            "Archive:  orders.csv.zip\n",
            "  inflating: orders.csv              \n",
            "  inflating: __MACOSX/._orders.csv   \n",
            "Archive:  products.csv.zip\n",
            "  inflating: products.csv            \n",
            "  inflating: __MACOSX/._products.csv  \n",
            "Archive:  aisles.csv.zip\n",
            "  inflating: aisles.csv              \n",
            "  inflating: __MACOSX/._aisles.csv   \n",
            "Archive:  departments.csv.zip\n",
            "  inflating: departments.csv         \n",
            "  inflating: __MACOSX/._departments.csv  \n"
          ],
          "name": "stdout"
        }
      ]
    },
    {
      "metadata": {
        "id": "DeTQ7yoIh4RB",
        "colab_type": "text"
      },
      "cell_type": "markdown",
      "source": [
        "## 2. Data Preprocessing"
      ]
    },
    {
      "metadata": {
        "id": "uMxwsYjahqq-",
        "colab_type": "code",
        "outputId": "3d196579-e7a0-49b8-f7c1-0095b5503986",
        "colab": {
          "base_uri": "https://localhost:8080/",
          "height": 221
        }
      },
      "cell_type": "code",
      "source": [
        "import pandas as pd\n",
        "import numpy as np\n",
        "import sys\n",
        "from itertools import combinations, groupby\n",
        "from collections import Counter\n",
        "from IPython.display import display\n",
        "\n",
        "# Function that returns the size of an object in MB\n",
        "def size(obj):\n",
        "    return \"{0:.2f} MB\".format(sys.getsizeof(obj) / (1000 * 1000))\n",
        "\n",
        "orders = pd.read_csv('order_products__prior.csv')\n",
        "print('orders -- dimensions: {0};   size: {1}'.format(orders.shape, size(orders)))\n",
        "display(orders.head())"
      ],
      "execution_count": 0,
      "outputs": [
        {
          "output_type": "stream",
          "text": [
            "orders -- dimensions: (32434489, 4);   size: 1037.90 MB\n"
          ],
          "name": "stdout"
        },
        {
          "output_type": "display_data",
          "data": {
            "text/html": [
              "<div>\n",
              "<style scoped>\n",
              "    .dataframe tbody tr th:only-of-type {\n",
              "        vertical-align: middle;\n",
              "    }\n",
              "\n",
              "    .dataframe tbody tr th {\n",
              "        vertical-align: top;\n",
              "    }\n",
              "\n",
              "    .dataframe thead th {\n",
              "        text-align: right;\n",
              "    }\n",
              "</style>\n",
              "<table border=\"1\" class=\"dataframe\">\n",
              "  <thead>\n",
              "    <tr style=\"text-align: right;\">\n",
              "      <th></th>\n",
              "      <th>order_id</th>\n",
              "      <th>product_id</th>\n",
              "      <th>add_to_cart_order</th>\n",
              "      <th>reordered</th>\n",
              "    </tr>\n",
              "  </thead>\n",
              "  <tbody>\n",
              "    <tr>\n",
              "      <th>0</th>\n",
              "      <td>2</td>\n",
              "      <td>33120</td>\n",
              "      <td>1</td>\n",
              "      <td>1</td>\n",
              "    </tr>\n",
              "    <tr>\n",
              "      <th>1</th>\n",
              "      <td>2</td>\n",
              "      <td>28985</td>\n",
              "      <td>2</td>\n",
              "      <td>1</td>\n",
              "    </tr>\n",
              "    <tr>\n",
              "      <th>2</th>\n",
              "      <td>2</td>\n",
              "      <td>9327</td>\n",
              "      <td>3</td>\n",
              "      <td>0</td>\n",
              "    </tr>\n",
              "    <tr>\n",
              "      <th>3</th>\n",
              "      <td>2</td>\n",
              "      <td>45918</td>\n",
              "      <td>4</td>\n",
              "      <td>1</td>\n",
              "    </tr>\n",
              "    <tr>\n",
              "      <th>4</th>\n",
              "      <td>2</td>\n",
              "      <td>30035</td>\n",
              "      <td>5</td>\n",
              "      <td>0</td>\n",
              "    </tr>\n",
              "  </tbody>\n",
              "</table>\n",
              "</div>"
            ],
            "text/plain": [
              "   order_id  product_id  add_to_cart_order  reordered\n",
              "0         2       33120                  1          1\n",
              "1         2       28985                  2          1\n",
              "2         2        9327                  3          0\n",
              "3         2       45918                  4          1\n",
              "4         2       30035                  5          0"
            ]
          },
          "metadata": {
            "tags": []
          }
        }
      ]
    },
    {
      "metadata": {
        "id": "Gw0rpn4piZpx",
        "colab_type": "text"
      },
      "cell_type": "markdown",
      "source": [
        "### 2.1 Convert order data into format expected by the association rules function"
      ]
    },
    {
      "metadata": {
        "id": "sFmVTjjxiUb2",
        "colab_type": "code",
        "outputId": "f3bfa5cf-307f-46c2-873f-2cec84eb764a",
        "colab": {
          "base_uri": "https://localhost:8080/",
          "height": 238
        }
      },
      "cell_type": "code",
      "source": [
        "# Convert from DataFrame to a Series, with order_id as index and item_id as value\n",
        "orders = orders.set_index('order_id')['product_id'].rename('item_id')\n",
        "display(orders.head(10))\n",
        "type(orders)"
      ],
      "execution_count": 0,
      "outputs": [
        {
          "output_type": "display_data",
          "data": {
            "text/plain": [
              "order_id\n",
              "2    33120\n",
              "2    28985\n",
              "2     9327\n",
              "2    45918\n",
              "2    30035\n",
              "2    17794\n",
              "2    40141\n",
              "2     1819\n",
              "2    43668\n",
              "3    33754\n",
              "Name: item_id, dtype: int64"
            ]
          },
          "metadata": {
            "tags": []
          }
        },
        {
          "output_type": "execute_result",
          "data": {
            "text/plain": [
              "pandas.core.series.Series"
            ]
          },
          "metadata": {
            "tags": []
          },
          "execution_count": 5
        }
      ]
    },
    {
      "metadata": {
        "id": "lhAcSLEPig8l",
        "colab_type": "text"
      },
      "cell_type": "markdown",
      "source": [
        "### 2.2  Display summary statistics for order data"
      ]
    },
    {
      "metadata": {
        "id": "LeuU-x33iiLu",
        "colab_type": "code",
        "outputId": "869747be-c2ba-4058-aa21-fed49072fda0",
        "colab": {
          "base_uri": "https://localhost:8080/",
          "height": 34
        }
      },
      "cell_type": "code",
      "source": [
        "print('dimensions: {0};   size: {1};   unique_orders: {2};   unique_items: {3}'\n",
        "      .format(orders.shape, size(orders), len(orders.index.unique()), len(orders.value_counts())))"
      ],
      "execution_count": 0,
      "outputs": [
        {
          "output_type": "stream",
          "text": [
            "dimensions: (32434489,);   size: 518.95 MB;   unique_orders: 3214874;   unique_items: 49677\n"
          ],
          "name": "stdout"
        }
      ]
    },
    {
      "metadata": {
        "id": "0unlusyeilZw",
        "colab_type": "text"
      },
      "cell_type": "markdown",
      "source": [
        "## 3 Association Rules Function"
      ]
    },
    {
      "metadata": {
        "id": "E247ApS7i2y0",
        "colab_type": "text"
      },
      "cell_type": "markdown",
      "source": [
        "### 3.1 Helper functions to the main association rules function"
      ]
    },
    {
      "metadata": {
        "id": "GqPlExbOio1h",
        "colab_type": "code",
        "colab": {}
      },
      "cell_type": "code",
      "source": [
        "# Returns frequency counts for items and item pairs\n",
        "def freq(iterable):\n",
        "    if type(iterable) == pd.core.series.Series:\n",
        "        return iterable.value_counts().rename(\"freq\")\n",
        "    else: \n",
        "        return pd.Series(Counter(iterable)).rename(\"freq\")\n",
        "\n",
        "    \n",
        "# Returns number of unique orders\n",
        "def order_count(order_item):\n",
        "    return len(set(order_item.index))\n",
        "\n",
        "\n",
        "# Returns generator that yields item pairs, one at a time\n",
        "def get_item_pairs(order_item):\n",
        "    order_item = order_item.reset_index().as_matrix()\n",
        "    for order_id, order_object in groupby(order_item, lambda x: x[0]):\n",
        "        item_list = [item[1] for item in order_object]\n",
        "              \n",
        "        for item_pair in combinations(item_list, 2):\n",
        "            yield item_pair\n",
        "            \n",
        "\n",
        "# Returns frequency and support associated with item\n",
        "def merge_item_stats(item_pairs, item_stats):\n",
        "    return (item_pairs\n",
        "                .merge(item_stats.rename(columns={'freq': 'freqA', 'support': 'supportA'}), left_on='item_A', right_index=True)\n",
        "                .merge(item_stats.rename(columns={'freq': 'freqB', 'support': 'supportB'}), left_on='item_B', right_index=True))\n",
        "\n",
        "\n",
        "# Returns name associated with item\n",
        "def merge_item_name(rules, item_name):\n",
        "    columns = ['itemA','itemB','freqAB','supportAB','freqA','supportA','freqB','supportB', \n",
        "               'confidenceAtoB','confidenceBtoA','lift']\n",
        "    rules = (rules\n",
        "                .merge(item_name.rename(columns={'item_name': 'itemA'}), left_on='item_A', right_on='item_id')\n",
        "                .merge(item_name.rename(columns={'item_name': 'itemB'}), left_on='item_B', right_on='item_id'))\n",
        "    return rules[columns]     "
      ],
      "execution_count": 0,
      "outputs": []
    },
    {
      "metadata": {
        "id": "PutroDuci4Yj",
        "colab_type": "text"
      },
      "cell_type": "markdown",
      "source": [
        "### 3.2 Association rules function"
      ]
    },
    {
      "metadata": {
        "id": "6c2aLq6oi8k4",
        "colab_type": "code",
        "colab": {}
      },
      "cell_type": "code",
      "source": [
        "def association_rules(order_item, min_support):\n",
        "\n",
        "    print(\"Starting order_item: {:22d}\".format(len(order_item)))\n",
        "\n",
        "\n",
        "    # Calculate item frequency and support\n",
        "    item_stats             = freq(order_item).to_frame(\"freq\")\n",
        "    item_stats['support']  = item_stats['freq'] / order_count(order_item) * 100\n",
        "\n",
        "\n",
        "    # Filter from order_item items below min support \n",
        "    qualifying_items       = item_stats[item_stats['support'] >= min_support].index\n",
        "    order_item             = order_item[order_item.isin(qualifying_items)]\n",
        "\n",
        "    print(\"Items with support >= {}: {:15d}\".format(min_support, len(qualifying_items)))\n",
        "    print(\"Remaining order_item: {:21d}\".format(len(order_item)))\n",
        "\n",
        "\n",
        "    # Filter from order_item orders with less than 2 items\n",
        "    order_size             = freq(order_item.index)\n",
        "    qualifying_orders      = order_size[order_size >= 2].index\n",
        "    order_item             = order_item[order_item.index.isin(qualifying_orders)]\n",
        "\n",
        "    print(\"Remaining orders with 2+ items: {:11d}\".format(len(qualifying_orders)))\n",
        "    print(\"Remaining order_item: {:21d}\".format(len(order_item)))\n",
        "\n",
        "\n",
        "    # Recalculate item frequency and support\n",
        "    item_stats             = freq(order_item).to_frame(\"freq\")\n",
        "    item_stats['support']  = item_stats['freq'] / order_count(order_item) * 100\n",
        "\n",
        "\n",
        "    # Get item pairs generator\n",
        "    item_pair_gen          = get_item_pairs(order_item)\n",
        "\n",
        "\n",
        "    # Calculate item pair frequency and support\n",
        "    item_pairs              = freq(item_pair_gen).to_frame(\"freqAB\")\n",
        "    item_pairs['supportAB'] = item_pairs['freqAB'] / len(qualifying_orders) * 100\n",
        "\n",
        "    print(\"Item pairs: {:31d}\".format(len(item_pairs)))\n",
        "\n",
        "\n",
        "    # Filter from item_pairs those below min support\n",
        "    item_pairs              = item_pairs[item_pairs['supportAB'] >= min_support]\n",
        "\n",
        "    print(\"Item pairs with support >= {}: {:10d}\\n\".format(min_support, len(item_pairs)))\n",
        "\n",
        "\n",
        "    # Create table of association rules and compute relevant metrics\n",
        "    item_pairs = item_pairs.reset_index().rename(columns={'level_0': 'item_A', 'level_1': 'item_B'})\n",
        "    item_pairs = merge_item_stats(item_pairs, item_stats)\n",
        "    \n",
        "    item_pairs['confidenceAtoB'] = item_pairs['supportAB'] / item_pairs['supportA']\n",
        "    item_pairs['confidenceBtoA'] = item_pairs['supportAB'] / item_pairs['supportB']\n",
        "    item_pairs['lift']           = item_pairs['supportAB'] / (item_pairs['supportA'] * item_pairs['supportB'])\n",
        "    \n",
        "    \n",
        "    # Return association rules sorted by lift in descending order\n",
        "    return item_pairs.sort_values('lift', ascending=False)"
      ],
      "execution_count": 0,
      "outputs": []
    },
    {
      "metadata": {
        "id": "naQG17bKi_O3",
        "colab_type": "text"
      },
      "cell_type": "markdown",
      "source": [
        "### 3.3 Association Rule Mining"
      ]
    },
    {
      "metadata": {
        "id": "UkVjTsmIjCTC",
        "colab_type": "code",
        "outputId": "2356df82-c84d-4db2-829d-787ef0efbbe8",
        "colab": {
          "base_uri": "https://localhost:8080/",
          "height": 187
        }
      },
      "cell_type": "code",
      "source": [
        "%%time\n",
        "rules = association_rules(orders, 0.01)  "
      ],
      "execution_count": 0,
      "outputs": [
        {
          "output_type": "stream",
          "text": [
            "Starting order_item:               32434489\n",
            "Items with support >= 0.01:           10906\n",
            "Remaining order_item:              29843570\n",
            "Remaining orders with 2+ items:     3013325\n",
            "Remaining order_item:              29662716\n",
            "Item pairs:                        30622410\n",
            "Item pairs with support >= 0.01:      48751\n",
            "\n",
            "CPU times: user 7min 27s, sys: 10.9 s, total: 7min 38s\n",
            "Wall time: 7min 38s\n"
          ],
          "name": "stdout"
        }
      ]
    },
    {
      "metadata": {
        "id": "qGsuQ-z0jEMG",
        "colab_type": "code",
        "outputId": "1210df45-4775-44d4-eb61-e9aefa27d4bd",
        "colab": {
          "base_uri": "https://localhost:8080/",
          "height": 4026
        }
      },
      "cell_type": "code",
      "source": [
        "# Replace item ID with item name and display association rules\n",
        "item_name   = pd.read_csv('products.csv')\n",
        "item_name   = item_name.rename(columns={'product_id':'item_id', 'product_name':'item_name'})\n",
        "rules_final = merge_item_name(rules, item_name).sort_values('lift', ascending=False)\n",
        "display(rules_final)"
      ],
      "execution_count": 0,
      "outputs": [
        {
          "output_type": "display_data",
          "data": {
            "text/html": [
              "<div>\n",
              "<style scoped>\n",
              "    .dataframe tbody tr th:only-of-type {\n",
              "        vertical-align: middle;\n",
              "    }\n",
              "\n",
              "    .dataframe tbody tr th {\n",
              "        vertical-align: top;\n",
              "    }\n",
              "\n",
              "    .dataframe thead th {\n",
              "        text-align: right;\n",
              "    }\n",
              "</style>\n",
              "<table border=\"1\" class=\"dataframe\">\n",
              "  <thead>\n",
              "    <tr style=\"text-align: right;\">\n",
              "      <th></th>\n",
              "      <th>itemA</th>\n",
              "      <th>itemB</th>\n",
              "      <th>freqAB</th>\n",
              "      <th>supportAB</th>\n",
              "      <th>freqA</th>\n",
              "      <th>supportA</th>\n",
              "      <th>freqB</th>\n",
              "      <th>supportB</th>\n",
              "      <th>confidenceAtoB</th>\n",
              "      <th>confidenceBtoA</th>\n",
              "      <th>lift</th>\n",
              "    </tr>\n",
              "  </thead>\n",
              "  <tbody>\n",
              "    <tr>\n",
              "      <th>0</th>\n",
              "      <td>Organic Strawberry Chia Lowfat 2% Cottage Cheese</td>\n",
              "      <td>Organic Cottage Cheese Blueberry Acai Chia</td>\n",
              "      <td>306</td>\n",
              "      <td>0.010155</td>\n",
              "      <td>1163</td>\n",
              "      <td>0.038595</td>\n",
              "      <td>839</td>\n",
              "      <td>0.027843</td>\n",
              "      <td>0.263113</td>\n",
              "      <td>0.364720</td>\n",
              "      <td>9.449868</td>\n",
              "    </tr>\n",
              "    <tr>\n",
              "      <th>1</th>\n",
              "      <td>Grain Free Chicken Formula Cat Food</td>\n",
              "      <td>Grain Free Turkey Formula Cat Food</td>\n",
              "      <td>318</td>\n",
              "      <td>0.010553</td>\n",
              "      <td>1809</td>\n",
              "      <td>0.060033</td>\n",
              "      <td>879</td>\n",
              "      <td>0.029170</td>\n",
              "      <td>0.175788</td>\n",
              "      <td>0.361775</td>\n",
              "      <td>6.026229</td>\n",
              "    </tr>\n",
              "    <tr>\n",
              "      <th>3</th>\n",
              "      <td>Organic Fruit Yogurt Smoothie Mixed Berry</td>\n",
              "      <td>Apple Blueberry Fruit Yogurt Smoothie</td>\n",
              "      <td>349</td>\n",
              "      <td>0.011582</td>\n",
              "      <td>1518</td>\n",
              "      <td>0.050376</td>\n",
              "      <td>1249</td>\n",
              "      <td>0.041449</td>\n",
              "      <td>0.229908</td>\n",
              "      <td>0.279424</td>\n",
              "      <td>5.546732</td>\n",
              "    </tr>\n",
              "    <tr>\n",
              "      <th>9</th>\n",
              "      <td>Nonfat Strawberry With Fruit On The Bottom Gre...</td>\n",
              "      <td>0% Greek, Blueberry on the Bottom Yogurt</td>\n",
              "      <td>409</td>\n",
              "      <td>0.013573</td>\n",
              "      <td>1666</td>\n",
              "      <td>0.055288</td>\n",
              "      <td>1391</td>\n",
              "      <td>0.046162</td>\n",
              "      <td>0.245498</td>\n",
              "      <td>0.294033</td>\n",
              "      <td>5.318230</td>\n",
              "    </tr>\n",
              "    <tr>\n",
              "      <th>10</th>\n",
              "      <td>Organic Grapefruit Ginger Sparkling Yerba Mate</td>\n",
              "      <td>Cranberry Pomegranate Sparkling Yerba Mate</td>\n",
              "      <td>351</td>\n",
              "      <td>0.011648</td>\n",
              "      <td>1731</td>\n",
              "      <td>0.057445</td>\n",
              "      <td>1149</td>\n",
              "      <td>0.038131</td>\n",
              "      <td>0.202773</td>\n",
              "      <td>0.305483</td>\n",
              "      <td>5.317849</td>\n",
              "    </tr>\n",
              "    <tr>\n",
              "      <th>11</th>\n",
              "      <td>Baby Food Pouch - Roasted Carrot Spinach &amp; Beans</td>\n",
              "      <td>Baby Food Pouch - Butternut Squash, Carrot &amp; C...</td>\n",
              "      <td>332</td>\n",
              "      <td>0.011018</td>\n",
              "      <td>1503</td>\n",
              "      <td>0.049878</td>\n",
              "      <td>1290</td>\n",
              "      <td>0.042810</td>\n",
              "      <td>0.220892</td>\n",
              "      <td>0.257364</td>\n",
              "      <td>5.159830</td>\n",
              "    </tr>\n",
              "    <tr>\n",
              "      <th>12</th>\n",
              "      <td>Unsweetened Whole Milk Mixed Berry Greek Yogurt</td>\n",
              "      <td>Unsweetened Whole Milk Blueberry Greek Yogurt</td>\n",
              "      <td>438</td>\n",
              "      <td>0.014535</td>\n",
              "      <td>1622</td>\n",
              "      <td>0.053828</td>\n",
              "      <td>1621</td>\n",
              "      <td>0.053794</td>\n",
              "      <td>0.270037</td>\n",
              "      <td>0.270204</td>\n",
              "      <td>5.019798</td>\n",
              "    </tr>\n",
              "    <tr>\n",
              "      <th>23</th>\n",
              "      <td>Uncured Cracked Pepper Beef</td>\n",
              "      <td>Chipotle Beef &amp; Pork Realstick</td>\n",
              "      <td>410</td>\n",
              "      <td>0.013606</td>\n",
              "      <td>1839</td>\n",
              "      <td>0.061029</td>\n",
              "      <td>1370</td>\n",
              "      <td>0.045465</td>\n",
              "      <td>0.222947</td>\n",
              "      <td>0.299270</td>\n",
              "      <td>4.903741</td>\n",
              "    </tr>\n",
              "    <tr>\n",
              "      <th>24</th>\n",
              "      <td>Organic Mango Yogurt</td>\n",
              "      <td>Organic Whole Milk Washington Black Cherry Yogurt</td>\n",
              "      <td>334</td>\n",
              "      <td>0.011084</td>\n",
              "      <td>1675</td>\n",
              "      <td>0.055586</td>\n",
              "      <td>1390</td>\n",
              "      <td>0.046128</td>\n",
              "      <td>0.199403</td>\n",
              "      <td>0.240288</td>\n",
              "      <td>4.322777</td>\n",
              "    </tr>\n",
              "    <tr>\n",
              "      <th>2</th>\n",
              "      <td>Grain Free Chicken Formula Cat Food</td>\n",
              "      <td>Grain Free Turkey &amp; Salmon Formula Cat Food</td>\n",
              "      <td>391</td>\n",
              "      <td>0.012976</td>\n",
              "      <td>1809</td>\n",
              "      <td>0.060033</td>\n",
              "      <td>1553</td>\n",
              "      <td>0.051538</td>\n",
              "      <td>0.216142</td>\n",
              "      <td>0.251771</td>\n",
              "      <td>4.193848</td>\n",
              "    </tr>\n",
              "    <tr>\n",
              "      <th>25</th>\n",
              "      <td>Raspberry Essence Water</td>\n",
              "      <td>Unsweetened Pomegranate Essence Water</td>\n",
              "      <td>366</td>\n",
              "      <td>0.012146</td>\n",
              "      <td>2025</td>\n",
              "      <td>0.067202</td>\n",
              "      <td>1304</td>\n",
              "      <td>0.043274</td>\n",
              "      <td>0.180741</td>\n",
              "      <td>0.280675</td>\n",
              "      <td>4.176615</td>\n",
              "    </tr>\n",
              "    <tr>\n",
              "      <th>13</th>\n",
              "      <td>Unsweetened Whole Milk Strawberry Yogurt</td>\n",
              "      <td>Unsweetened Whole Milk Blueberry Greek Yogurt</td>\n",
              "      <td>440</td>\n",
              "      <td>0.014602</td>\n",
              "      <td>1965</td>\n",
              "      <td>0.065210</td>\n",
              "      <td>1621</td>\n",
              "      <td>0.053794</td>\n",
              "      <td>0.223919</td>\n",
              "      <td>0.271437</td>\n",
              "      <td>4.162489</td>\n",
              "    </tr>\n",
              "    <tr>\n",
              "      <th>14</th>\n",
              "      <td>Unsweetened Whole Milk Peach Greek Yogurt</td>\n",
              "      <td>Unsweetened Whole Milk Blueberry Greek Yogurt</td>\n",
              "      <td>421</td>\n",
              "      <td>0.013971</td>\n",
              "      <td>1922</td>\n",
              "      <td>0.063783</td>\n",
              "      <td>1621</td>\n",
              "      <td>0.053794</td>\n",
              "      <td>0.219043</td>\n",
              "      <td>0.259716</td>\n",
              "      <td>4.071849</td>\n",
              "    </tr>\n",
              "    <tr>\n",
              "      <th>44</th>\n",
              "      <td>Oh My Yog! Pacific Coast Strawberry Trilayer Y...</td>\n",
              "      <td>Oh My Yog! Organic Wild Quebec Blueberry Cream...</td>\n",
              "      <td>860</td>\n",
              "      <td>0.028540</td>\n",
              "      <td>2857</td>\n",
              "      <td>0.094812</td>\n",
              "      <td>2271</td>\n",
              "      <td>0.075365</td>\n",
              "      <td>0.301015</td>\n",
              "      <td>0.378688</td>\n",
              "      <td>3.994083</td>\n",
              "    </tr>\n",
              "    <tr>\n",
              "      <th>55</th>\n",
              "      <td>Mighty 4 Kale, Strawberry, Amaranth &amp; Greek Yo...</td>\n",
              "      <td>Mighty 4 Essential Tots Spinach, Kiwi, Barley ...</td>\n",
              "      <td>390</td>\n",
              "      <td>0.012943</td>\n",
              "      <td>2206</td>\n",
              "      <td>0.073208</td>\n",
              "      <td>1337</td>\n",
              "      <td>0.044370</td>\n",
              "      <td>0.176791</td>\n",
              "      <td>0.291698</td>\n",
              "      <td>3.984498</td>\n",
              "    </tr>\n",
              "    <tr>\n",
              "      <th>20</th>\n",
              "      <td>Unsweetened Whole Milk Peach Greek Yogurt</td>\n",
              "      <td>Unsweetened Whole Milk Strawberry Yogurt</td>\n",
              "      <td>499</td>\n",
              "      <td>0.016560</td>\n",
              "      <td>1922</td>\n",
              "      <td>0.063783</td>\n",
              "      <td>1965</td>\n",
              "      <td>0.065210</td>\n",
              "      <td>0.259625</td>\n",
              "      <td>0.253944</td>\n",
              "      <td>3.981352</td>\n",
              "    </tr>\n",
              "    <tr>\n",
              "      <th>65</th>\n",
              "      <td>0% Greek, Blueberry on the Bottom Yogurt</td>\n",
              "      <td>Nonfat Strawberry With Fruit On The Bottom Gre...</td>\n",
              "      <td>305</td>\n",
              "      <td>0.010122</td>\n",
              "      <td>1391</td>\n",
              "      <td>0.046162</td>\n",
              "      <td>1666</td>\n",
              "      <td>0.055288</td>\n",
              "      <td>0.219267</td>\n",
              "      <td>0.183073</td>\n",
              "      <td>3.965918</td>\n",
              "    </tr>\n",
              "    <tr>\n",
              "      <th>15</th>\n",
              "      <td>Unsweetened Whole Milk Mixed Berry Greek Yogurt</td>\n",
              "      <td>Unsweetened Whole Milk Peach Greek Yogurt</td>\n",
              "      <td>410</td>\n",
              "      <td>0.013606</td>\n",
              "      <td>1622</td>\n",
              "      <td>0.053828</td>\n",
              "      <td>1922</td>\n",
              "      <td>0.063783</td>\n",
              "      <td>0.252774</td>\n",
              "      <td>0.213319</td>\n",
              "      <td>3.963014</td>\n",
              "    </tr>\n",
              "    <tr>\n",
              "      <th>43</th>\n",
              "      <td>Unsweetened Whole Milk Peach Greek Yogurt</td>\n",
              "      <td>Unsweetened Whole Milk Mixed Berry Greek Yogurt</td>\n",
              "      <td>407</td>\n",
              "      <td>0.013507</td>\n",
              "      <td>1922</td>\n",
              "      <td>0.063783</td>\n",
              "      <td>1622</td>\n",
              "      <td>0.053828</td>\n",
              "      <td>0.211759</td>\n",
              "      <td>0.250925</td>\n",
              "      <td>3.934016</td>\n",
              "    </tr>\n",
              "    <tr>\n",
              "      <th>26</th>\n",
              "      <td>Unsweetened Blackberry Water</td>\n",
              "      <td>Unsweetened Pomegranate Essence Water</td>\n",
              "      <td>494</td>\n",
              "      <td>0.016394</td>\n",
              "      <td>3114</td>\n",
              "      <td>0.103341</td>\n",
              "      <td>1304</td>\n",
              "      <td>0.043274</td>\n",
              "      <td>0.158638</td>\n",
              "      <td>0.378834</td>\n",
              "      <td>3.665867</td>\n",
              "    </tr>\n",
              "    <tr>\n",
              "      <th>19</th>\n",
              "      <td>Unsweetened Whole Milk Mixed Berry Greek Yogurt</td>\n",
              "      <td>Unsweetened Whole Milk Strawberry Yogurt</td>\n",
              "      <td>383</td>\n",
              "      <td>0.012710</td>\n",
              "      <td>1622</td>\n",
              "      <td>0.053828</td>\n",
              "      <td>1965</td>\n",
              "      <td>0.065210</td>\n",
              "      <td>0.236128</td>\n",
              "      <td>0.194911</td>\n",
              "      <td>3.621024</td>\n",
              "    </tr>\n",
              "    <tr>\n",
              "      <th>16</th>\n",
              "      <td>Unsweetened Whole Milk Strawberry Yogurt</td>\n",
              "      <td>Unsweetened Whole Milk Peach Greek Yogurt</td>\n",
              "      <td>444</td>\n",
              "      <td>0.014735</td>\n",
              "      <td>1965</td>\n",
              "      <td>0.065210</td>\n",
              "      <td>1922</td>\n",
              "      <td>0.063783</td>\n",
              "      <td>0.225954</td>\n",
              "      <td>0.231009</td>\n",
              "      <td>3.542526</td>\n",
              "    </tr>\n",
              "    <tr>\n",
              "      <th>56</th>\n",
              "      <td>Mighty 4 Sweet Potato, Blueberry, Millet &amp; Gre...</td>\n",
              "      <td>Mighty 4 Essential Tots Spinach, Kiwi, Barley ...</td>\n",
              "      <td>398</td>\n",
              "      <td>0.013208</td>\n",
              "      <td>2534</td>\n",
              "      <td>0.084093</td>\n",
              "      <td>1337</td>\n",
              "      <td>0.044370</td>\n",
              "      <td>0.157064</td>\n",
              "      <td>0.297681</td>\n",
              "      <td>3.539900</td>\n",
              "    </tr>\n",
              "    <tr>\n",
              "      <th>74</th>\n",
              "      <td>Sweet Potatoes Stage 2</td>\n",
              "      <td>Organic Stage 2 Winter Squash Baby Food Puree</td>\n",
              "      <td>322</td>\n",
              "      <td>0.010686</td>\n",
              "      <td>2077</td>\n",
              "      <td>0.068927</td>\n",
              "      <td>1322</td>\n",
              "      <td>0.043872</td>\n",
              "      <td>0.155031</td>\n",
              "      <td>0.243570</td>\n",
              "      <td>3.533734</td>\n",
              "    </tr>\n",
              "    <tr>\n",
              "      <th>79</th>\n",
              "      <td>Compostable Forks</td>\n",
              "      <td>Plastic Spoons</td>\n",
              "      <td>321</td>\n",
              "      <td>0.010653</td>\n",
              "      <td>1528</td>\n",
              "      <td>0.050708</td>\n",
              "      <td>1838</td>\n",
              "      <td>0.060996</td>\n",
              "      <td>0.210079</td>\n",
              "      <td>0.174646</td>\n",
              "      <td>3.444151</td>\n",
              "    </tr>\n",
              "    <tr>\n",
              "      <th>75</th>\n",
              "      <td>Organic Stage 2 Carrots Baby Food</td>\n",
              "      <td>Organic Stage 2 Winter Squash Baby Food Puree</td>\n",
              "      <td>337</td>\n",
              "      <td>0.011184</td>\n",
              "      <td>2306</td>\n",
              "      <td>0.076527</td>\n",
              "      <td>1322</td>\n",
              "      <td>0.043872</td>\n",
              "      <td>0.146141</td>\n",
              "      <td>0.254917</td>\n",
              "      <td>3.331080</td>\n",
              "    </tr>\n",
              "    <tr>\n",
              "      <th>42</th>\n",
              "      <td>Unsweetened Whole Milk Strawberry Yogurt</td>\n",
              "      <td>Unsweetened Whole Milk Mixed Berry Greek Yogurt</td>\n",
              "      <td>352</td>\n",
              "      <td>0.011681</td>\n",
              "      <td>1965</td>\n",
              "      <td>0.065210</td>\n",
              "      <td>1622</td>\n",
              "      <td>0.053828</td>\n",
              "      <td>0.179135</td>\n",
              "      <td>0.217016</td>\n",
              "      <td>3.327938</td>\n",
              "    </tr>\n",
              "    <tr>\n",
              "      <th>21</th>\n",
              "      <td>Unsweetened Whole Milk Blueberry Greek Yogurt</td>\n",
              "      <td>Unsweetened Whole Milk Strawberry Yogurt</td>\n",
              "      <td>350</td>\n",
              "      <td>0.011615</td>\n",
              "      <td>1621</td>\n",
              "      <td>0.053794</td>\n",
              "      <td>1965</td>\n",
              "      <td>0.065210</td>\n",
              "      <td>0.215916</td>\n",
              "      <td>0.178117</td>\n",
              "      <td>3.311071</td>\n",
              "    </tr>\n",
              "    <tr>\n",
              "      <th>17</th>\n",
              "      <td>Unsweetened Whole Milk Blueberry Greek Yogurt</td>\n",
              "      <td>Unsweetened Whole Milk Peach Greek Yogurt</td>\n",
              "      <td>341</td>\n",
              "      <td>0.011316</td>\n",
              "      <td>1621</td>\n",
              "      <td>0.053794</td>\n",
              "      <td>1922</td>\n",
              "      <td>0.063783</td>\n",
              "      <td>0.210364</td>\n",
              "      <td>0.177419</td>\n",
              "      <td>3.298101</td>\n",
              "    </tr>\n",
              "    <tr>\n",
              "      <th>83</th>\n",
              "      <td>Cream Top Blueberry Yogurt</td>\n",
              "      <td>Cream Top Peach on the Bottom Yogurt</td>\n",
              "      <td>313</td>\n",
              "      <td>0.010387</td>\n",
              "      <td>1676</td>\n",
              "      <td>0.055620</td>\n",
              "      <td>1748</td>\n",
              "      <td>0.058009</td>\n",
              "      <td>0.186754</td>\n",
              "      <td>0.179062</td>\n",
              "      <td>3.219399</td>\n",
              "    </tr>\n",
              "    <tr>\n",
              "      <th>...</th>\n",
              "      <td>...</td>\n",
              "      <td>...</td>\n",
              "      <td>...</td>\n",
              "      <td>...</td>\n",
              "      <td>...</td>\n",
              "      <td>...</td>\n",
              "      <td>...</td>\n",
              "      <td>...</td>\n",
              "      <td>...</td>\n",
              "      <td>...</td>\n",
              "      <td>...</td>\n",
              "    </tr>\n",
              "    <tr>\n",
              "      <th>22444</th>\n",
              "      <td>Large Lemon</td>\n",
              "      <td>Hass Avocados</td>\n",
              "      <td>468</td>\n",
              "      <td>0.015531</td>\n",
              "      <td>152177</td>\n",
              "      <td>5.050136</td>\n",
              "      <td>49246</td>\n",
              "      <td>1.634274</td>\n",
              "      <td>0.003075</td>\n",
              "      <td>0.009503</td>\n",
              "      <td>0.001882</td>\n",
              "    </tr>\n",
              "    <tr>\n",
              "      <th>2577</th>\n",
              "      <td>Red Onion</td>\n",
              "      <td>Bag of Organic Bananas</td>\n",
              "      <td>1008</td>\n",
              "      <td>0.033451</td>\n",
              "      <td>42906</td>\n",
              "      <td>1.423876</td>\n",
              "      <td>376367</td>\n",
              "      <td>12.490090</td>\n",
              "      <td>0.023493</td>\n",
              "      <td>0.002678</td>\n",
              "      <td>0.001881</td>\n",
              "    </tr>\n",
              "    <tr>\n",
              "      <th>250</th>\n",
              "      <td>Roasted Pine Nut Hummus</td>\n",
              "      <td>Banana</td>\n",
              "      <td>327</td>\n",
              "      <td>0.010852</td>\n",
              "      <td>11176</td>\n",
              "      <td>0.370886</td>\n",
              "      <td>470096</td>\n",
              "      <td>15.600574</td>\n",
              "      <td>0.029259</td>\n",
              "      <td>0.000696</td>\n",
              "      <td>0.001876</td>\n",
              "    </tr>\n",
              "    <tr>\n",
              "      <th>655</th>\n",
              "      <td>Organic Large Green Asparagus</td>\n",
              "      <td>Banana</td>\n",
              "      <td>556</td>\n",
              "      <td>0.018451</td>\n",
              "      <td>19228</td>\n",
              "      <td>0.638099</td>\n",
              "      <td>470096</td>\n",
              "      <td>15.600574</td>\n",
              "      <td>0.028916</td>\n",
              "      <td>0.001183</td>\n",
              "      <td>0.001854</td>\n",
              "    </tr>\n",
              "    <tr>\n",
              "      <th>40897</th>\n",
              "      <td>Banana</td>\n",
              "      <td>Organic Extra Virgin Olive Oil</td>\n",
              "      <td>369</td>\n",
              "      <td>0.012246</td>\n",
              "      <td>470096</td>\n",
              "      <td>15.600574</td>\n",
              "      <td>12788</td>\n",
              "      <td>0.424382</td>\n",
              "      <td>0.000785</td>\n",
              "      <td>0.028855</td>\n",
              "      <td>0.001850</td>\n",
              "    </tr>\n",
              "    <tr>\n",
              "      <th>2652</th>\n",
              "      <td>Spinach</td>\n",
              "      <td>Bag of Organic Bananas</td>\n",
              "      <td>383</td>\n",
              "      <td>0.012710</td>\n",
              "      <td>16766</td>\n",
              "      <td>0.556395</td>\n",
              "      <td>376367</td>\n",
              "      <td>12.490090</td>\n",
              "      <td>0.022844</td>\n",
              "      <td>0.001018</td>\n",
              "      <td>0.001829</td>\n",
              "    </tr>\n",
              "    <tr>\n",
              "      <th>2722</th>\n",
              "      <td>Sour Cream</td>\n",
              "      <td>Bag of Organic Bananas</td>\n",
              "      <td>486</td>\n",
              "      <td>0.016128</td>\n",
              "      <td>21481</td>\n",
              "      <td>0.712867</td>\n",
              "      <td>376367</td>\n",
              "      <td>12.490090</td>\n",
              "      <td>0.022625</td>\n",
              "      <td>0.001291</td>\n",
              "      <td>0.001811</td>\n",
              "    </tr>\n",
              "    <tr>\n",
              "      <th>11143</th>\n",
              "      <td>Organic Blueberries</td>\n",
              "      <td>Blueberries</td>\n",
              "      <td>329</td>\n",
              "      <td>0.010918</td>\n",
              "      <td>99359</td>\n",
              "      <td>3.297321</td>\n",
              "      <td>55703</td>\n",
              "      <td>1.848556</td>\n",
              "      <td>0.003311</td>\n",
              "      <td>0.005906</td>\n",
              "      <td>0.001791</td>\n",
              "    </tr>\n",
              "    <tr>\n",
              "      <th>2537</th>\n",
              "      <td>Green Onions</td>\n",
              "      <td>Bag of Organic Bananas</td>\n",
              "      <td>592</td>\n",
              "      <td>0.019646</td>\n",
              "      <td>26467</td>\n",
              "      <td>0.878332</td>\n",
              "      <td>376367</td>\n",
              "      <td>12.490090</td>\n",
              "      <td>0.022367</td>\n",
              "      <td>0.001573</td>\n",
              "      <td>0.001791</td>\n",
              "    </tr>\n",
              "    <tr>\n",
              "      <th>1386</th>\n",
              "      <td>2% Reduced Fat Milk</td>\n",
              "      <td>Organic Strawberries</td>\n",
              "      <td>574</td>\n",
              "      <td>0.019049</td>\n",
              "      <td>36768</td>\n",
              "      <td>1.220180</td>\n",
              "      <td>263416</td>\n",
              "      <td>8.741706</td>\n",
              "      <td>0.015611</td>\n",
              "      <td>0.002179</td>\n",
              "      <td>0.001786</td>\n",
              "    </tr>\n",
              "    <tr>\n",
              "      <th>3291</th>\n",
              "      <td>2% Reduced Fat Milk</td>\n",
              "      <td>Organic Baby Spinach</td>\n",
              "      <td>523</td>\n",
              "      <td>0.017356</td>\n",
              "      <td>36768</td>\n",
              "      <td>1.220180</td>\n",
              "      <td>240637</td>\n",
              "      <td>7.985763</td>\n",
              "      <td>0.014224</td>\n",
              "      <td>0.002173</td>\n",
              "      <td>0.001781</td>\n",
              "    </tr>\n",
              "    <tr>\n",
              "      <th>530</th>\n",
              "      <td>Chocolate Chip Cookies</td>\n",
              "      <td>Banana</td>\n",
              "      <td>377</td>\n",
              "      <td>0.012511</td>\n",
              "      <td>13688</td>\n",
              "      <td>0.454249</td>\n",
              "      <td>470096</td>\n",
              "      <td>15.600574</td>\n",
              "      <td>0.027542</td>\n",
              "      <td>0.000802</td>\n",
              "      <td>0.001765</td>\n",
              "    </tr>\n",
              "    <tr>\n",
              "      <th>10681</th>\n",
              "      <td>Half &amp; Half</td>\n",
              "      <td>Organic Half &amp; Half</td>\n",
              "      <td>302</td>\n",
              "      <td>0.010022</td>\n",
              "      <td>68842</td>\n",
              "      <td>2.284586</td>\n",
              "      <td>75334</td>\n",
              "      <td>2.500029</td>\n",
              "      <td>0.004387</td>\n",
              "      <td>0.004009</td>\n",
              "      <td>0.001755</td>\n",
              "    </tr>\n",
              "    <tr>\n",
              "      <th>5446</th>\n",
              "      <td>Organic Reduced Fat 2% Milk</td>\n",
              "      <td>Organic Whole Milk</td>\n",
              "      <td>379</td>\n",
              "      <td>0.012577</td>\n",
              "      <td>47593</td>\n",
              "      <td>1.579418</td>\n",
              "      <td>136832</td>\n",
              "      <td>4.540898</td>\n",
              "      <td>0.007963</td>\n",
              "      <td>0.002770</td>\n",
              "      <td>0.001754</td>\n",
              "    </tr>\n",
              "    <tr>\n",
              "      <th>11455</th>\n",
              "      <td>Banana</td>\n",
              "      <td>Soda</td>\n",
              "      <td>864</td>\n",
              "      <td>0.028673</td>\n",
              "      <td>470096</td>\n",
              "      <td>15.600574</td>\n",
              "      <td>33008</td>\n",
              "      <td>1.095401</td>\n",
              "      <td>0.001838</td>\n",
              "      <td>0.026175</td>\n",
              "      <td>0.001678</td>\n",
              "    </tr>\n",
              "    <tr>\n",
              "      <th>11421</th>\n",
              "      <td>Bag of Organic Bananas</td>\n",
              "      <td>Fridge Pack Cola</td>\n",
              "      <td>366</td>\n",
              "      <td>0.012146</td>\n",
              "      <td>376367</td>\n",
              "      <td>12.490090</td>\n",
              "      <td>18005</td>\n",
              "      <td>0.597513</td>\n",
              "      <td>0.000972</td>\n",
              "      <td>0.020328</td>\n",
              "      <td>0.001628</td>\n",
              "    </tr>\n",
              "    <tr>\n",
              "      <th>2568</th>\n",
              "      <td>Asparation/Broccolini/Baby Broccoli</td>\n",
              "      <td>Bag of Organic Bananas</td>\n",
              "      <td>317</td>\n",
              "      <td>0.010520</td>\n",
              "      <td>16480</td>\n",
              "      <td>0.546904</td>\n",
              "      <td>376367</td>\n",
              "      <td>12.490090</td>\n",
              "      <td>0.019235</td>\n",
              "      <td>0.000842</td>\n",
              "      <td>0.001540</td>\n",
              "    </tr>\n",
              "    <tr>\n",
              "      <th>19596</th>\n",
              "      <td>Banana</td>\n",
              "      <td>Organic Tortilla Chips</td>\n",
              "      <td>320</td>\n",
              "      <td>0.010619</td>\n",
              "      <td>470096</td>\n",
              "      <td>15.600574</td>\n",
              "      <td>13458</td>\n",
              "      <td>0.446616</td>\n",
              "      <td>0.000681</td>\n",
              "      <td>0.023778</td>\n",
              "      <td>0.001524</td>\n",
              "    </tr>\n",
              "    <tr>\n",
              "      <th>2319</th>\n",
              "      <td>Fridge Pack Cola</td>\n",
              "      <td>Bag of Organic Bananas</td>\n",
              "      <td>341</td>\n",
              "      <td>0.011316</td>\n",
              "      <td>18005</td>\n",
              "      <td>0.597513</td>\n",
              "      <td>376367</td>\n",
              "      <td>12.490090</td>\n",
              "      <td>0.018939</td>\n",
              "      <td>0.000906</td>\n",
              "      <td>0.001516</td>\n",
              "    </tr>\n",
              "    <tr>\n",
              "      <th>11017</th>\n",
              "      <td>Organic Baby Spinach</td>\n",
              "      <td>2% Reduced Fat Milk</td>\n",
              "      <td>403</td>\n",
              "      <td>0.013374</td>\n",
              "      <td>240637</td>\n",
              "      <td>7.985763</td>\n",
              "      <td>36768</td>\n",
              "      <td>1.220180</td>\n",
              "      <td>0.001675</td>\n",
              "      <td>0.010961</td>\n",
              "      <td>0.001373</td>\n",
              "    </tr>\n",
              "    <tr>\n",
              "      <th>22572</th>\n",
              "      <td>Organic Raspberries</td>\n",
              "      <td>Raspberries</td>\n",
              "      <td>322</td>\n",
              "      <td>0.010686</td>\n",
              "      <td>136621</td>\n",
              "      <td>4.533895</td>\n",
              "      <td>56858</td>\n",
              "      <td>1.886886</td>\n",
              "      <td>0.002357</td>\n",
              "      <td>0.005663</td>\n",
              "      <td>0.001249</td>\n",
              "    </tr>\n",
              "    <tr>\n",
              "      <th>11012</th>\n",
              "      <td>Organic Strawberries</td>\n",
              "      <td>2% Reduced Fat Milk</td>\n",
              "      <td>371</td>\n",
              "      <td>0.012312</td>\n",
              "      <td>263416</td>\n",
              "      <td>8.741706</td>\n",
              "      <td>36768</td>\n",
              "      <td>1.220180</td>\n",
              "      <td>0.001408</td>\n",
              "      <td>0.010090</td>\n",
              "      <td>0.001154</td>\n",
              "    </tr>\n",
              "    <tr>\n",
              "      <th>246</th>\n",
              "      <td>Soda</td>\n",
              "      <td>Banana</td>\n",
              "      <td>531</td>\n",
              "      <td>0.017622</td>\n",
              "      <td>33008</td>\n",
              "      <td>1.095401</td>\n",
              "      <td>470096</td>\n",
              "      <td>15.600574</td>\n",
              "      <td>0.016087</td>\n",
              "      <td>0.001130</td>\n",
              "      <td>0.001031</td>\n",
              "    </tr>\n",
              "    <tr>\n",
              "      <th>11555</th>\n",
              "      <td>Banana</td>\n",
              "      <td>Clementines</td>\n",
              "      <td>397</td>\n",
              "      <td>0.013175</td>\n",
              "      <td>470096</td>\n",
              "      <td>15.600574</td>\n",
              "      <td>29798</td>\n",
              "      <td>0.988874</td>\n",
              "      <td>0.000845</td>\n",
              "      <td>0.013323</td>\n",
              "      <td>0.000854</td>\n",
              "    </tr>\n",
              "    <tr>\n",
              "      <th>1474</th>\n",
              "      <td>Strawberries</td>\n",
              "      <td>Organic Strawberries</td>\n",
              "      <td>706</td>\n",
              "      <td>0.023429</td>\n",
              "      <td>141805</td>\n",
              "      <td>4.705931</td>\n",
              "      <td>263416</td>\n",
              "      <td>8.741706</td>\n",
              "      <td>0.004979</td>\n",
              "      <td>0.002680</td>\n",
              "      <td>0.000570</td>\n",
              "    </tr>\n",
              "    <tr>\n",
              "      <th>7271</th>\n",
              "      <td>Organic Strawberries</td>\n",
              "      <td>Strawberries</td>\n",
              "      <td>640</td>\n",
              "      <td>0.021239</td>\n",
              "      <td>263416</td>\n",
              "      <td>8.741706</td>\n",
              "      <td>141805</td>\n",
              "      <td>4.705931</td>\n",
              "      <td>0.002430</td>\n",
              "      <td>0.004513</td>\n",
              "      <td>0.000516</td>\n",
              "    </tr>\n",
              "    <tr>\n",
              "      <th>6763</th>\n",
              "      <td>Organic Hass Avocado</td>\n",
              "      <td>Organic Avocado</td>\n",
              "      <td>464</td>\n",
              "      <td>0.015398</td>\n",
              "      <td>212785</td>\n",
              "      <td>7.061469</td>\n",
              "      <td>176241</td>\n",
              "      <td>5.848722</td>\n",
              "      <td>0.002181</td>\n",
              "      <td>0.002633</td>\n",
              "      <td>0.000373</td>\n",
              "    </tr>\n",
              "    <tr>\n",
              "      <th>4387</th>\n",
              "      <td>Organic Avocado</td>\n",
              "      <td>Organic Hass Avocado</td>\n",
              "      <td>443</td>\n",
              "      <td>0.014701</td>\n",
              "      <td>176241</td>\n",
              "      <td>5.848722</td>\n",
              "      <td>212785</td>\n",
              "      <td>7.061469</td>\n",
              "      <td>0.002514</td>\n",
              "      <td>0.002082</td>\n",
              "      <td>0.000356</td>\n",
              "    </tr>\n",
              "    <tr>\n",
              "      <th>2596</th>\n",
              "      <td>Banana</td>\n",
              "      <td>Bag of Organic Bananas</td>\n",
              "      <td>654</td>\n",
              "      <td>0.021704</td>\n",
              "      <td>470096</td>\n",
              "      <td>15.600574</td>\n",
              "      <td>376367</td>\n",
              "      <td>12.490090</td>\n",
              "      <td>0.001391</td>\n",
              "      <td>0.001738</td>\n",
              "      <td>0.000111</td>\n",
              "    </tr>\n",
              "    <tr>\n",
              "      <th>670</th>\n",
              "      <td>Bag of Organic Bananas</td>\n",
              "      <td>Banana</td>\n",
              "      <td>522</td>\n",
              "      <td>0.017323</td>\n",
              "      <td>376367</td>\n",
              "      <td>12.490090</td>\n",
              "      <td>470096</td>\n",
              "      <td>15.600574</td>\n",
              "      <td>0.001387</td>\n",
              "      <td>0.001110</td>\n",
              "      <td>0.000089</td>\n",
              "    </tr>\n",
              "  </tbody>\n",
              "</table>\n",
              "<p>48751 rows × 11 columns</p>\n",
              "</div>"
            ],
            "text/plain": [
              "                                                   itemA  \\\n",
              "0       Organic Strawberry Chia Lowfat 2% Cottage Cheese   \n",
              "1                    Grain Free Chicken Formula Cat Food   \n",
              "3              Organic Fruit Yogurt Smoothie Mixed Berry   \n",
              "9      Nonfat Strawberry With Fruit On The Bottom Gre...   \n",
              "10        Organic Grapefruit Ginger Sparkling Yerba Mate   \n",
              "11      Baby Food Pouch - Roasted Carrot Spinach & Beans   \n",
              "12       Unsweetened Whole Milk Mixed Berry Greek Yogurt   \n",
              "23                           Uncured Cracked Pepper Beef   \n",
              "24                                  Organic Mango Yogurt   \n",
              "2                    Grain Free Chicken Formula Cat Food   \n",
              "25                               Raspberry Essence Water   \n",
              "13              Unsweetened Whole Milk Strawberry Yogurt   \n",
              "14             Unsweetened Whole Milk Peach Greek Yogurt   \n",
              "44     Oh My Yog! Pacific Coast Strawberry Trilayer Y...   \n",
              "55     Mighty 4 Kale, Strawberry, Amaranth & Greek Yo...   \n",
              "20             Unsweetened Whole Milk Peach Greek Yogurt   \n",
              "65              0% Greek, Blueberry on the Bottom Yogurt   \n",
              "15       Unsweetened Whole Milk Mixed Berry Greek Yogurt   \n",
              "43             Unsweetened Whole Milk Peach Greek Yogurt   \n",
              "26                          Unsweetened Blackberry Water   \n",
              "19       Unsweetened Whole Milk Mixed Berry Greek Yogurt   \n",
              "16              Unsweetened Whole Milk Strawberry Yogurt   \n",
              "56     Mighty 4 Sweet Potato, Blueberry, Millet & Gre...   \n",
              "74                                Sweet Potatoes Stage 2   \n",
              "79                                     Compostable Forks   \n",
              "75                     Organic Stage 2 Carrots Baby Food   \n",
              "42              Unsweetened Whole Milk Strawberry Yogurt   \n",
              "21         Unsweetened Whole Milk Blueberry Greek Yogurt   \n",
              "17         Unsweetened Whole Milk Blueberry Greek Yogurt   \n",
              "83                            Cream Top Blueberry Yogurt   \n",
              "...                                                  ...   \n",
              "22444                                        Large Lemon   \n",
              "2577                                           Red Onion   \n",
              "250                              Roasted Pine Nut Hummus   \n",
              "655                        Organic Large Green Asparagus   \n",
              "40897                                             Banana   \n",
              "2652                                             Spinach   \n",
              "2722                                          Sour Cream   \n",
              "11143                                Organic Blueberries   \n",
              "2537                                        Green Onions   \n",
              "1386                                 2% Reduced Fat Milk   \n",
              "3291                                 2% Reduced Fat Milk   \n",
              "530                               Chocolate Chip Cookies   \n",
              "10681                                        Half & Half   \n",
              "5446                         Organic Reduced Fat 2% Milk   \n",
              "11455                                             Banana   \n",
              "11421                             Bag of Organic Bananas   \n",
              "2568                 Asparation/Broccolini/Baby Broccoli   \n",
              "19596                                             Banana   \n",
              "2319                                    Fridge Pack Cola   \n",
              "11017                               Organic Baby Spinach   \n",
              "22572                                Organic Raspberries   \n",
              "11012                               Organic Strawberries   \n",
              "246                                                 Soda   \n",
              "11555                                             Banana   \n",
              "1474                                        Strawberries   \n",
              "7271                                Organic Strawberries   \n",
              "6763                                Organic Hass Avocado   \n",
              "4387                                     Organic Avocado   \n",
              "2596                                              Banana   \n",
              "670                               Bag of Organic Bananas   \n",
              "\n",
              "                                                   itemB  freqAB  supportAB  \\\n",
              "0             Organic Cottage Cheese Blueberry Acai Chia     306   0.010155   \n",
              "1                     Grain Free Turkey Formula Cat Food     318   0.010553   \n",
              "3                  Apple Blueberry Fruit Yogurt Smoothie     349   0.011582   \n",
              "9               0% Greek, Blueberry on the Bottom Yogurt     409   0.013573   \n",
              "10            Cranberry Pomegranate Sparkling Yerba Mate     351   0.011648   \n",
              "11     Baby Food Pouch - Butternut Squash, Carrot & C...     332   0.011018   \n",
              "12         Unsweetened Whole Milk Blueberry Greek Yogurt     438   0.014535   \n",
              "23                        Chipotle Beef & Pork Realstick     410   0.013606   \n",
              "24     Organic Whole Milk Washington Black Cherry Yogurt     334   0.011084   \n",
              "2            Grain Free Turkey & Salmon Formula Cat Food     391   0.012976   \n",
              "25                 Unsweetened Pomegranate Essence Water     366   0.012146   \n",
              "13         Unsweetened Whole Milk Blueberry Greek Yogurt     440   0.014602   \n",
              "14         Unsweetened Whole Milk Blueberry Greek Yogurt     421   0.013971   \n",
              "44     Oh My Yog! Organic Wild Quebec Blueberry Cream...     860   0.028540   \n",
              "55     Mighty 4 Essential Tots Spinach, Kiwi, Barley ...     390   0.012943   \n",
              "20              Unsweetened Whole Milk Strawberry Yogurt     499   0.016560   \n",
              "65     Nonfat Strawberry With Fruit On The Bottom Gre...     305   0.010122   \n",
              "15             Unsweetened Whole Milk Peach Greek Yogurt     410   0.013606   \n",
              "43       Unsweetened Whole Milk Mixed Berry Greek Yogurt     407   0.013507   \n",
              "26                 Unsweetened Pomegranate Essence Water     494   0.016394   \n",
              "19              Unsweetened Whole Milk Strawberry Yogurt     383   0.012710   \n",
              "16             Unsweetened Whole Milk Peach Greek Yogurt     444   0.014735   \n",
              "56     Mighty 4 Essential Tots Spinach, Kiwi, Barley ...     398   0.013208   \n",
              "74         Organic Stage 2 Winter Squash Baby Food Puree     322   0.010686   \n",
              "79                                        Plastic Spoons     321   0.010653   \n",
              "75         Organic Stage 2 Winter Squash Baby Food Puree     337   0.011184   \n",
              "42       Unsweetened Whole Milk Mixed Berry Greek Yogurt     352   0.011681   \n",
              "21              Unsweetened Whole Milk Strawberry Yogurt     350   0.011615   \n",
              "17             Unsweetened Whole Milk Peach Greek Yogurt     341   0.011316   \n",
              "83                  Cream Top Peach on the Bottom Yogurt     313   0.010387   \n",
              "...                                                  ...     ...        ...   \n",
              "22444                                      Hass Avocados     468   0.015531   \n",
              "2577                              Bag of Organic Bananas    1008   0.033451   \n",
              "250                                               Banana     327   0.010852   \n",
              "655                                               Banana     556   0.018451   \n",
              "40897                     Organic Extra Virgin Olive Oil     369   0.012246   \n",
              "2652                              Bag of Organic Bananas     383   0.012710   \n",
              "2722                              Bag of Organic Bananas     486   0.016128   \n",
              "11143                                        Blueberries     329   0.010918   \n",
              "2537                              Bag of Organic Bananas     592   0.019646   \n",
              "1386                                Organic Strawberries     574   0.019049   \n",
              "3291                                Organic Baby Spinach     523   0.017356   \n",
              "530                                               Banana     377   0.012511   \n",
              "10681                                Organic Half & Half     302   0.010022   \n",
              "5446                                  Organic Whole Milk     379   0.012577   \n",
              "11455                                               Soda     864   0.028673   \n",
              "11421                                   Fridge Pack Cola     366   0.012146   \n",
              "2568                              Bag of Organic Bananas     317   0.010520   \n",
              "19596                             Organic Tortilla Chips     320   0.010619   \n",
              "2319                              Bag of Organic Bananas     341   0.011316   \n",
              "11017                                2% Reduced Fat Milk     403   0.013374   \n",
              "22572                                        Raspberries     322   0.010686   \n",
              "11012                                2% Reduced Fat Milk     371   0.012312   \n",
              "246                                               Banana     531   0.017622   \n",
              "11555                                        Clementines     397   0.013175   \n",
              "1474                                Organic Strawberries     706   0.023429   \n",
              "7271                                        Strawberries     640   0.021239   \n",
              "6763                                     Organic Avocado     464   0.015398   \n",
              "4387                                Organic Hass Avocado     443   0.014701   \n",
              "2596                              Bag of Organic Bananas     654   0.021704   \n",
              "670                                               Banana     522   0.017323   \n",
              "\n",
              "        freqA   supportA   freqB   supportB  confidenceAtoB  confidenceBtoA  \\\n",
              "0        1163   0.038595     839   0.027843        0.263113        0.364720   \n",
              "1        1809   0.060033     879   0.029170        0.175788        0.361775   \n",
              "3        1518   0.050376    1249   0.041449        0.229908        0.279424   \n",
              "9        1666   0.055288    1391   0.046162        0.245498        0.294033   \n",
              "10       1731   0.057445    1149   0.038131        0.202773        0.305483   \n",
              "11       1503   0.049878    1290   0.042810        0.220892        0.257364   \n",
              "12       1622   0.053828    1621   0.053794        0.270037        0.270204   \n",
              "23       1839   0.061029    1370   0.045465        0.222947        0.299270   \n",
              "24       1675   0.055586    1390   0.046128        0.199403        0.240288   \n",
              "2        1809   0.060033    1553   0.051538        0.216142        0.251771   \n",
              "25       2025   0.067202    1304   0.043274        0.180741        0.280675   \n",
              "13       1965   0.065210    1621   0.053794        0.223919        0.271437   \n",
              "14       1922   0.063783    1621   0.053794        0.219043        0.259716   \n",
              "44       2857   0.094812    2271   0.075365        0.301015        0.378688   \n",
              "55       2206   0.073208    1337   0.044370        0.176791        0.291698   \n",
              "20       1922   0.063783    1965   0.065210        0.259625        0.253944   \n",
              "65       1391   0.046162    1666   0.055288        0.219267        0.183073   \n",
              "15       1622   0.053828    1922   0.063783        0.252774        0.213319   \n",
              "43       1922   0.063783    1622   0.053828        0.211759        0.250925   \n",
              "26       3114   0.103341    1304   0.043274        0.158638        0.378834   \n",
              "19       1622   0.053828    1965   0.065210        0.236128        0.194911   \n",
              "16       1965   0.065210    1922   0.063783        0.225954        0.231009   \n",
              "56       2534   0.084093    1337   0.044370        0.157064        0.297681   \n",
              "74       2077   0.068927    1322   0.043872        0.155031        0.243570   \n",
              "79       1528   0.050708    1838   0.060996        0.210079        0.174646   \n",
              "75       2306   0.076527    1322   0.043872        0.146141        0.254917   \n",
              "42       1965   0.065210    1622   0.053828        0.179135        0.217016   \n",
              "21       1621   0.053794    1965   0.065210        0.215916        0.178117   \n",
              "17       1621   0.053794    1922   0.063783        0.210364        0.177419   \n",
              "83       1676   0.055620    1748   0.058009        0.186754        0.179062   \n",
              "...       ...        ...     ...        ...             ...             ...   \n",
              "22444  152177   5.050136   49246   1.634274        0.003075        0.009503   \n",
              "2577    42906   1.423876  376367  12.490090        0.023493        0.002678   \n",
              "250     11176   0.370886  470096  15.600574        0.029259        0.000696   \n",
              "655     19228   0.638099  470096  15.600574        0.028916        0.001183   \n",
              "40897  470096  15.600574   12788   0.424382        0.000785        0.028855   \n",
              "2652    16766   0.556395  376367  12.490090        0.022844        0.001018   \n",
              "2722    21481   0.712867  376367  12.490090        0.022625        0.001291   \n",
              "11143   99359   3.297321   55703   1.848556        0.003311        0.005906   \n",
              "2537    26467   0.878332  376367  12.490090        0.022367        0.001573   \n",
              "1386    36768   1.220180  263416   8.741706        0.015611        0.002179   \n",
              "3291    36768   1.220180  240637   7.985763        0.014224        0.002173   \n",
              "530     13688   0.454249  470096  15.600574        0.027542        0.000802   \n",
              "10681   68842   2.284586   75334   2.500029        0.004387        0.004009   \n",
              "5446    47593   1.579418  136832   4.540898        0.007963        0.002770   \n",
              "11455  470096  15.600574   33008   1.095401        0.001838        0.026175   \n",
              "11421  376367  12.490090   18005   0.597513        0.000972        0.020328   \n",
              "2568    16480   0.546904  376367  12.490090        0.019235        0.000842   \n",
              "19596  470096  15.600574   13458   0.446616        0.000681        0.023778   \n",
              "2319    18005   0.597513  376367  12.490090        0.018939        0.000906   \n",
              "11017  240637   7.985763   36768   1.220180        0.001675        0.010961   \n",
              "22572  136621   4.533895   56858   1.886886        0.002357        0.005663   \n",
              "11012  263416   8.741706   36768   1.220180        0.001408        0.010090   \n",
              "246     33008   1.095401  470096  15.600574        0.016087        0.001130   \n",
              "11555  470096  15.600574   29798   0.988874        0.000845        0.013323   \n",
              "1474   141805   4.705931  263416   8.741706        0.004979        0.002680   \n",
              "7271   263416   8.741706  141805   4.705931        0.002430        0.004513   \n",
              "6763   212785   7.061469  176241   5.848722        0.002181        0.002633   \n",
              "4387   176241   5.848722  212785   7.061469        0.002514        0.002082   \n",
              "2596   470096  15.600574  376367  12.490090        0.001391        0.001738   \n",
              "670    376367  12.490090  470096  15.600574        0.001387        0.001110   \n",
              "\n",
              "           lift  \n",
              "0      9.449868  \n",
              "1      6.026229  \n",
              "3      5.546732  \n",
              "9      5.318230  \n",
              "10     5.317849  \n",
              "11     5.159830  \n",
              "12     5.019798  \n",
              "23     4.903741  \n",
              "24     4.322777  \n",
              "2      4.193848  \n",
              "25     4.176615  \n",
              "13     4.162489  \n",
              "14     4.071849  \n",
              "44     3.994083  \n",
              "55     3.984498  \n",
              "20     3.981352  \n",
              "65     3.965918  \n",
              "15     3.963014  \n",
              "43     3.934016  \n",
              "26     3.665867  \n",
              "19     3.621024  \n",
              "16     3.542526  \n",
              "56     3.539900  \n",
              "74     3.533734  \n",
              "79     3.444151  \n",
              "75     3.331080  \n",
              "42     3.327938  \n",
              "21     3.311071  \n",
              "17     3.298101  \n",
              "83     3.219399  \n",
              "...         ...  \n",
              "22444  0.001882  \n",
              "2577   0.001881  \n",
              "250    0.001876  \n",
              "655    0.001854  \n",
              "40897  0.001850  \n",
              "2652   0.001829  \n",
              "2722   0.001811  \n",
              "11143  0.001791  \n",
              "2537   0.001791  \n",
              "1386   0.001786  \n",
              "3291   0.001781  \n",
              "530    0.001765  \n",
              "10681  0.001755  \n",
              "5446   0.001754  \n",
              "11455  0.001678  \n",
              "11421  0.001628  \n",
              "2568   0.001540  \n",
              "19596  0.001524  \n",
              "2319   0.001516  \n",
              "11017  0.001373  \n",
              "22572  0.001249  \n",
              "11012  0.001154  \n",
              "246    0.001031  \n",
              "11555  0.000854  \n",
              "1474   0.000570  \n",
              "7271   0.000516  \n",
              "6763   0.000373  \n",
              "4387   0.000356  \n",
              "2596   0.000111  \n",
              "670    0.000089  \n",
              "\n",
              "[48751 rows x 11 columns]"
            ]
          },
          "metadata": {
            "tags": []
          }
        }
      ]
    },
    {
      "metadata": {
        "id": "Spf5bg-jjIOA",
        "colab_type": "text"
      },
      "cell_type": "markdown",
      "source": [
        "## 4. Conclusion"
      ]
    },
    {
      "metadata": {
        "id": "z-59fSfrjLXl",
        "colab_type": "text"
      },
      "cell_type": "markdown",
      "source": [
        "From the output above, we see that the top associations are not surprising, with one flavor of an item being purchased with another flavor from the same item family (eg: Strawberry Chia Cottage Cheese with Blueberry Acai Cottage Cheese, Chicken Cat Food with Turkey Cat Food, etc). As mentioned, one common application of association rules mining is in the domain of recommender systems. Once item pairs have been identified as having positive relationship, recommendations can be made to customers in order to increase sales. And hopefully, along the way, also introduce customers to items they never would have tried before or even imagined existed!"
      ]
    },
    {
      "metadata": {
        "id": "IxNGJReFjglG",
        "colab_type": "text"
      },
      "cell_type": "markdown",
      "source": [
        "# Developing Word-Based Neural Language Models in Python with Keras"
      ]
    },
    {
      "metadata": {
        "id": "OtpImxlkjoAk",
        "colab_type": "code",
        "outputId": "08acbcab-cdc4-4181-b932-6ea25a1b82f7",
        "colab": {
          "base_uri": "https://localhost:8080/",
          "height": 204
        }
      },
      "cell_type": "code",
      "source": [
        "item_name.head()"
      ],
      "execution_count": 0,
      "outputs": [
        {
          "output_type": "execute_result",
          "data": {
            "text/html": [
              "<div>\n",
              "<style scoped>\n",
              "    .dataframe tbody tr th:only-of-type {\n",
              "        vertical-align: middle;\n",
              "    }\n",
              "\n",
              "    .dataframe tbody tr th {\n",
              "        vertical-align: top;\n",
              "    }\n",
              "\n",
              "    .dataframe thead th {\n",
              "        text-align: right;\n",
              "    }\n",
              "</style>\n",
              "<table border=\"1\" class=\"dataframe\">\n",
              "  <thead>\n",
              "    <tr style=\"text-align: right;\">\n",
              "      <th></th>\n",
              "      <th>item_id</th>\n",
              "      <th>item_name</th>\n",
              "      <th>aisle_id</th>\n",
              "      <th>department_id</th>\n",
              "    </tr>\n",
              "  </thead>\n",
              "  <tbody>\n",
              "    <tr>\n",
              "      <th>0</th>\n",
              "      <td>1</td>\n",
              "      <td>Chocolate Sandwich Cookies</td>\n",
              "      <td>61</td>\n",
              "      <td>19</td>\n",
              "    </tr>\n",
              "    <tr>\n",
              "      <th>1</th>\n",
              "      <td>2</td>\n",
              "      <td>All-Seasons Salt</td>\n",
              "      <td>104</td>\n",
              "      <td>13</td>\n",
              "    </tr>\n",
              "    <tr>\n",
              "      <th>2</th>\n",
              "      <td>3</td>\n",
              "      <td>Robust Golden Unsweetened Oolong Tea</td>\n",
              "      <td>94</td>\n",
              "      <td>7</td>\n",
              "    </tr>\n",
              "    <tr>\n",
              "      <th>3</th>\n",
              "      <td>4</td>\n",
              "      <td>Smart Ones Classic Favorites Mini Rigatoni Wit...</td>\n",
              "      <td>38</td>\n",
              "      <td>1</td>\n",
              "    </tr>\n",
              "    <tr>\n",
              "      <th>4</th>\n",
              "      <td>5</td>\n",
              "      <td>Green Chile Anytime Sauce</td>\n",
              "      <td>5</td>\n",
              "      <td>13</td>\n",
              "    </tr>\n",
              "  </tbody>\n",
              "</table>\n",
              "</div>"
            ],
            "text/plain": [
              "   item_id                                          item_name  aisle_id  \\\n",
              "0        1                         Chocolate Sandwich Cookies        61   \n",
              "1        2                                   All-Seasons Salt       104   \n",
              "2        3               Robust Golden Unsweetened Oolong Tea        94   \n",
              "3        4  Smart Ones Classic Favorites Mini Rigatoni Wit...        38   \n",
              "4        5                          Green Chile Anytime Sauce         5   \n",
              "\n",
              "   department_id  \n",
              "0             19  \n",
              "1             13  \n",
              "2              7  \n",
              "3              1  \n",
              "4             13  "
            ]
          },
          "metadata": {
            "tags": []
          },
          "execution_count": 11
        }
      ]
    },
    {
      "metadata": {
        "id": "OhQ6rO4ctBUt",
        "colab_type": "code",
        "outputId": "68061ed8-3436-495a-ba9e-62102a23f93c",
        "colab": {
          "base_uri": "https://localhost:8080/",
          "height": 136
        }
      },
      "cell_type": "code",
      "source": [
        "orders.head()"
      ],
      "execution_count": 0,
      "outputs": [
        {
          "output_type": "execute_result",
          "data": {
            "text/plain": [
              "order_id\n",
              "2    33120\n",
              "2    28985\n",
              "2     9327\n",
              "2    45918\n",
              "2    30035\n",
              "Name: item_id, dtype: int64"
            ]
          },
          "metadata": {
            "tags": []
          },
          "execution_count": 12
        }
      ]
    },
    {
      "metadata": {
        "id": "96kczYd2w1s5",
        "colab_type": "code",
        "outputId": "718e85d9-ba19-4894-fc91-f093b2e23ee9",
        "colab": {
          "base_uri": "https://localhost:8080/",
          "height": 102
        }
      },
      "cell_type": "code",
      "source": [
        "item_name.head()\n",
        "item_name.loc[100]"
      ],
      "execution_count": 0,
      "outputs": [
        {
          "output_type": "execute_result",
          "data": {
            "text/plain": [
              "item_id                                 101\n",
              "item_name        Bread, Healthy Whole Grain\n",
              "aisle_id                                112\n",
              "department_id                             3\n",
              "Name: 100, dtype: object"
            ]
          },
          "metadata": {
            "tags": []
          },
          "execution_count": 13
        }
      ]
    },
    {
      "metadata": {
        "id": "8Lc4-3y2x5fU",
        "colab_type": "code",
        "outputId": "f9df7a65-1934-4360-8ff3-ad6a9399dda4",
        "colab": {
          "base_uri": "https://localhost:8080/",
          "height": 340
        }
      },
      "cell_type": "code",
      "source": [
        "rules_final.head() "
      ],
      "execution_count": 0,
      "outputs": [
        {
          "output_type": "execute_result",
          "data": {
            "text/html": [
              "<div>\n",
              "<style scoped>\n",
              "    .dataframe tbody tr th:only-of-type {\n",
              "        vertical-align: middle;\n",
              "    }\n",
              "\n",
              "    .dataframe tbody tr th {\n",
              "        vertical-align: top;\n",
              "    }\n",
              "\n",
              "    .dataframe thead th {\n",
              "        text-align: right;\n",
              "    }\n",
              "</style>\n",
              "<table border=\"1\" class=\"dataframe\">\n",
              "  <thead>\n",
              "    <tr style=\"text-align: right;\">\n",
              "      <th></th>\n",
              "      <th>itemA</th>\n",
              "      <th>itemB</th>\n",
              "      <th>freqAB</th>\n",
              "      <th>supportAB</th>\n",
              "      <th>freqA</th>\n",
              "      <th>supportA</th>\n",
              "      <th>freqB</th>\n",
              "      <th>supportB</th>\n",
              "      <th>confidenceAtoB</th>\n",
              "      <th>confidenceBtoA</th>\n",
              "      <th>lift</th>\n",
              "    </tr>\n",
              "  </thead>\n",
              "  <tbody>\n",
              "    <tr>\n",
              "      <th>0</th>\n",
              "      <td>Organic Strawberry Chia Lowfat 2% Cottage Cheese</td>\n",
              "      <td>Organic Cottage Cheese Blueberry Acai Chia</td>\n",
              "      <td>306</td>\n",
              "      <td>0.010155</td>\n",
              "      <td>1163</td>\n",
              "      <td>0.038595</td>\n",
              "      <td>839</td>\n",
              "      <td>0.027843</td>\n",
              "      <td>0.263113</td>\n",
              "      <td>0.364720</td>\n",
              "      <td>9.449868</td>\n",
              "    </tr>\n",
              "    <tr>\n",
              "      <th>1</th>\n",
              "      <td>Grain Free Chicken Formula Cat Food</td>\n",
              "      <td>Grain Free Turkey Formula Cat Food</td>\n",
              "      <td>318</td>\n",
              "      <td>0.010553</td>\n",
              "      <td>1809</td>\n",
              "      <td>0.060033</td>\n",
              "      <td>879</td>\n",
              "      <td>0.029170</td>\n",
              "      <td>0.175788</td>\n",
              "      <td>0.361775</td>\n",
              "      <td>6.026229</td>\n",
              "    </tr>\n",
              "    <tr>\n",
              "      <th>3</th>\n",
              "      <td>Organic Fruit Yogurt Smoothie Mixed Berry</td>\n",
              "      <td>Apple Blueberry Fruit Yogurt Smoothie</td>\n",
              "      <td>349</td>\n",
              "      <td>0.011582</td>\n",
              "      <td>1518</td>\n",
              "      <td>0.050376</td>\n",
              "      <td>1249</td>\n",
              "      <td>0.041449</td>\n",
              "      <td>0.229908</td>\n",
              "      <td>0.279424</td>\n",
              "      <td>5.546732</td>\n",
              "    </tr>\n",
              "    <tr>\n",
              "      <th>9</th>\n",
              "      <td>Nonfat Strawberry With Fruit On The Bottom Gre...</td>\n",
              "      <td>0% Greek, Blueberry on the Bottom Yogurt</td>\n",
              "      <td>409</td>\n",
              "      <td>0.013573</td>\n",
              "      <td>1666</td>\n",
              "      <td>0.055288</td>\n",
              "      <td>1391</td>\n",
              "      <td>0.046162</td>\n",
              "      <td>0.245498</td>\n",
              "      <td>0.294033</td>\n",
              "      <td>5.318230</td>\n",
              "    </tr>\n",
              "    <tr>\n",
              "      <th>10</th>\n",
              "      <td>Organic Grapefruit Ginger Sparkling Yerba Mate</td>\n",
              "      <td>Cranberry Pomegranate Sparkling Yerba Mate</td>\n",
              "      <td>351</td>\n",
              "      <td>0.011648</td>\n",
              "      <td>1731</td>\n",
              "      <td>0.057445</td>\n",
              "      <td>1149</td>\n",
              "      <td>0.038131</td>\n",
              "      <td>0.202773</td>\n",
              "      <td>0.305483</td>\n",
              "      <td>5.317849</td>\n",
              "    </tr>\n",
              "  </tbody>\n",
              "</table>\n",
              "</div>"
            ],
            "text/plain": [
              "                                                itemA  \\\n",
              "0    Organic Strawberry Chia Lowfat 2% Cottage Cheese   \n",
              "1                 Grain Free Chicken Formula Cat Food   \n",
              "3           Organic Fruit Yogurt Smoothie Mixed Berry   \n",
              "9   Nonfat Strawberry With Fruit On The Bottom Gre...   \n",
              "10     Organic Grapefruit Ginger Sparkling Yerba Mate   \n",
              "\n",
              "                                         itemB  freqAB  supportAB  freqA  \\\n",
              "0   Organic Cottage Cheese Blueberry Acai Chia     306   0.010155   1163   \n",
              "1           Grain Free Turkey Formula Cat Food     318   0.010553   1809   \n",
              "3        Apple Blueberry Fruit Yogurt Smoothie     349   0.011582   1518   \n",
              "9     0% Greek, Blueberry on the Bottom Yogurt     409   0.013573   1666   \n",
              "10  Cranberry Pomegranate Sparkling Yerba Mate     351   0.011648   1731   \n",
              "\n",
              "    supportA  freqB  supportB  confidenceAtoB  confidenceBtoA      lift  \n",
              "0   0.038595    839  0.027843        0.263113        0.364720  9.449868  \n",
              "1   0.060033    879  0.029170        0.175788        0.361775  6.026229  \n",
              "3   0.050376   1249  0.041449        0.229908        0.279424  5.546732  \n",
              "9   0.055288   1391  0.046162        0.245498        0.294033  5.318230  \n",
              "10  0.057445   1149  0.038131        0.202773        0.305483  5.317849  "
            ]
          },
          "metadata": {
            "tags": []
          },
          "execution_count": 14
        }
      ]
    }
  ]
}