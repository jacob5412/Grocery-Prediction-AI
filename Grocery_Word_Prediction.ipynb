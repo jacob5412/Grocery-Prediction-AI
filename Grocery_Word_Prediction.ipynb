{
  "nbformat": 4,
  "nbformat_minor": 0,
  "metadata": {
    "colab": {
      "name": "Grocery-Word-Prediction.ipynb",
      "version": "0.3.2",
      "provenance": [],
      "collapsed_sections": []
    },
    "kernelspec": {
      "name": "python3",
      "display_name": "Python 3"
    },
    "accelerator": "GPU"
  },
  "cells": [
    {
      "metadata": {
        "id": "bvPVnSq5m5KW",
        "colab_type": "text"
      },
      "cell_type": "markdown",
      "source": [
        "# Prediction groceries using a Word-Based Neural Language Model in Python with Keras"
      ]
    },
    {
      "metadata": {
        "id": "cnPPxyeAnAoA",
        "colab_type": "text"
      },
      "cell_type": "markdown",
      "source": [
        "## Testing One-Word-In, One-Word-Out Sequences with a toy corpus"
      ]
    },
    {
      "metadata": {
        "id": "OzsAGLjcF_V1",
        "colab_type": "code",
        "colab": {}
      },
      "cell_type": "code",
      "source": [
        "from numpy import array\n",
        "from keras.preprocessing.text import Tokenizer\n",
        "from keras.utils import to_categorical\n",
        "from keras.preprocessing.sequence import pad_sequences\n",
        "from keras.models import Sequential\n",
        "from keras.layers import Dense\n",
        "from keras.layers import LSTM\n",
        "from keras.layers import Embedding\n",
        "\n",
        "# generate a sequence from the model\n",
        "def generate_seq2(model, tokenizer, seed_text, n_words):\n",
        "\tin_text, result = seed_text, seed_text\n",
        "\t# generate a fixed number of words\n",
        "\tfor _ in range(n_words):\n",
        "\t\t# encode the text as integer\n",
        "\t\tencoded = tokenizer.texts_to_sequences([in_text])[0]\n",
        "\t\tencoded = array(encoded)\n",
        "\t\t# predict a word in the vocabulary\n",
        "\t\tyhat = model.predict_classes(encoded, verbose=0)\n",
        "\t\t# map predicted word index to word\n",
        "\t\tout_word = ''\n",
        "\t\tfor word, index in tokenizer.word_index.items():\n",
        "\t\t\tif index == yhat:\n",
        "\t\t\t\tout_word = word\n",
        "\t\t\t\tbreak\n",
        "\t\t# append to input\n",
        "\t\tin_text, result = out_word, result + ' ' + out_word\n",
        "\treturn result\n",
        "\n",
        "# generate a sequence from a language model\n",
        "def generate_seq(model, tokenizer, max_length, seed_text, n_words):\n",
        "\tin_text = seed_text\n",
        "\t# generate a fixed number of words\n",
        "\tfor _ in range(n_words):\n",
        "\t\t# encode the text as integer\n",
        "\t\tencoded = tokenizer.texts_to_sequences([in_text])[0]\n",
        "\t\t# pre-pad sequences to a fixed length\n",
        "\t\tencoded = pad_sequences([encoded], maxlen=max_length, padding='pre')\n",
        "\t\t# predict probabilities for each word\n",
        "\t\tyhat = model.predict_classes(encoded, verbose=0)\n",
        "\t\t# map predicted word index to word\n",
        "\t\tout_word = ''\n",
        "\t\tfor word, index in tokenizer.word_index.items():\n",
        "\t\t\tif index == yhat:\n",
        "\t\t\t\tout_word = word\n",
        "\t\t\t\tbreak\n",
        "\t\t# append to input\n",
        "\t\tin_text += ' ' + out_word\n",
        "\treturn in_text"
      ],
      "execution_count": 0,
      "outputs": []
    },
    {
      "metadata": {
        "id": "1z_T3Biro7NP",
        "colab_type": "text"
      },
      "cell_type": "markdown",
      "source": [
        "The first step is to encode the text as integers.\n",
        "\n",
        "Each lowercase word in the source text is assigned a unique integer and we can convert the sequences of words to sequences of integers.\n",
        "\n",
        "Keras provides the Tokenizer class that can be used to perform this encoding. First, the Tokenizer is fit on the source text to develop the mapping from words to unique integers. Then sequences of text can be converted to sequences of integers by calling the `texts_to_sequences()` function."
      ]
    },
    {
      "metadata": {
        "id": "AEctf6WlGd_-",
        "colab_type": "code",
        "colab": {}
      },
      "cell_type": "code",
      "source": [
        "# source text\n",
        "data2 = \"\"\" Jack and Jill went up the hill\\n\n",
        "\t\tTo fetch a pail of water\\n\n",
        "\t\tJack fell down and broke his crown\\n\n",
        "\t\tAnd Jill came tumbling after\\n \"\"\"\n",
        "\n",
        "# integer encode text\n",
        "tokenizer3 = Tokenizer()\n",
        "tokenizer3.fit_on_texts([data2])\n",
        "encoded3 = tokenizer3.texts_to_sequences([data2])[0]\n"
      ],
      "execution_count": 0,
      "outputs": []
    },
    {
      "metadata": {
        "id": "QBy7MOAqo_x2",
        "colab_type": "text"
      },
      "cell_type": "markdown",
      "source": [
        "We will need to know the size of the vocabulary later for both defining the word embedding layer in the model, and for encoding output words using a one hot encoding.\n",
        "\n",
        "The size of the vocabulary can be retrieved from the trained Tokenizer by accessing the `word_index` attribute."
      ]
    },
    {
      "metadata": {
        "id": "F-Sq1K-8GH1Z",
        "colab_type": "code",
        "colab": {
          "base_uri": "https://localhost:8080/",
          "height": 34
        },
        "outputId": "0974fc3a-2a24-4c40-ac6c-c497fa625d8c"
      },
      "cell_type": "code",
      "source": [
        "# determine the vocabulary size\n",
        "vocab_size3 = len(tokenizer3.word_index) + 1\n",
        "print('Vocabulary Size: %d' % vocab_size3)\n"
      ],
      "execution_count": 58,
      "outputs": [
        {
          "output_type": "stream",
          "text": [
            "Vocabulary Size: 22\n"
          ],
          "name": "stdout"
        }
      ]
    },
    {
      "metadata": {
        "id": "7KfMLqhkpC3W",
        "colab_type": "text"
      },
      "cell_type": "markdown",
      "source": [
        "Running this example, we can see that the size of the vocabulary is 21 words.\n",
        "\n",
        "We add one, because we will need to specify the integer for the largest encoded word as an array index, e.g. words encoded 1 to 21 with array indicies 0 to 21 or 22 positions.\n",
        "\n",
        "Next, we need to create sequences of words to fit the model with one word as input and one word as output."
      ]
    },
    {
      "metadata": {
        "id": "xxq8VzNdGJYO",
        "colab_type": "code",
        "colab": {
          "base_uri": "https://localhost:8080/",
          "height": 34
        },
        "outputId": "84db9257-9f13-4615-8767-3aeb592eca53"
      },
      "cell_type": "code",
      "source": [
        "# create word -> word sequences\n",
        "sequences3 = list()\n",
        "for i in range(1, len(encoded3)):\n",
        "\tsequence3 = encoded3[i-1:i+1]\n",
        "\tsequences3.append(sequence3)\n",
        "print('Total Sequences: %d' % len(sequences3))\n"
      ],
      "execution_count": 59,
      "outputs": [
        {
          "output_type": "stream",
          "text": [
            "Total Sequences: 24\n"
          ],
          "name": "stdout"
        }
      ]
    },
    {
      "metadata": {
        "id": "Zj5bGcnTpIn-",
        "colab_type": "text"
      },
      "cell_type": "markdown",
      "source": [
        "We can then split the sequences into input (X) and output elements (y). This is straightforward as we only have two columns in the data."
      ]
    },
    {
      "metadata": {
        "id": "jdMqfq5bGKai",
        "colab_type": "code",
        "colab": {}
      },
      "cell_type": "code",
      "source": [
        "# split into X and y elements\n",
        "sequences3 = array(sequences3)\n",
        "X3, y3 = sequences3[:,0],sequences3[:,1]\n"
      ],
      "execution_count": 0,
      "outputs": []
    },
    {
      "metadata": {
        "id": "KAcsPMwOpLCl",
        "colab_type": "text"
      },
      "cell_type": "markdown",
      "source": [
        "We will fit our model to predict a probability distribution across all words in the vocabulary. That means that we need to turn the output element from a single integer into a one hot encoding with a 0 for every word in the vocabulary and a 1 for the actual word that the value. This gives the network a ground truth to aim for from which we can calculate error and update the model.\n",
        "\n",
        "Keras provides the to_categorical() function that we can use to convert the integer to a one hot encoding while specifying the number of classes as the vocabulary size."
      ]
    },
    {
      "metadata": {
        "id": "LelZSz0VnbCX",
        "colab_type": "code",
        "colab": {}
      },
      "cell_type": "code",
      "source": [
        "# one hot encode outputs\n",
        "y3 = to_categorical(y3, num_classes=vocab_size3)\n"
      ],
      "execution_count": 0,
      "outputs": []
    },
    {
      "metadata": {
        "id": "T1kO64mapObF",
        "colab_type": "text"
      },
      "cell_type": "markdown",
      "source": [
        "We are now ready to define the neural network model.\n",
        "\n",
        "The model uses a learned word embedding in the input layer. This has one real-valued vector for each word in the vocabulary, where each word vector has a specified length. In this case we will use a 10-dimensional projection. The input sequence contains a single word, therefore the input_length=1.\n",
        "\n",
        "The model has a single hidden LSTM layer with 50 units. This is far more than is needed. The output layer is comprised of one neuron for each word in the vocabulary and uses a softmax activation function to ensure the output is normalized to look like a probability."
      ]
    },
    {
      "metadata": {
        "id": "sR_MA-2tGLQ2",
        "colab_type": "code",
        "colab": {
          "base_uri": "https://localhost:8080/",
          "height": 255
        },
        "outputId": "e84cc24e-7662-484b-c2e0-27bc02e88f6c"
      },
      "cell_type": "code",
      "source": [
        "# define model\n",
        "model3 = Sequential()\n",
        "model3.add(Embedding(vocab_size3, 10, input_length=1))\n",
        "model3.add(LSTM(50))\n",
        "model3.add(Dense(vocab_size3, activation='softmax'))\n",
        "print(model3.summary())\n",
        "\n"
      ],
      "execution_count": 62,
      "outputs": [
        {
          "output_type": "stream",
          "text": [
            "_________________________________________________________________\n",
            "Layer (type)                 Output Shape              Param #   \n",
            "=================================================================\n",
            "embedding_6 (Embedding)      (None, 1, 10)             220       \n",
            "_________________________________________________________________\n",
            "lstm_6 (LSTM)                (None, 50)                12200     \n",
            "_________________________________________________________________\n",
            "dense_6 (Dense)              (None, 22)                1122      \n",
            "=================================================================\n",
            "Total params: 13,542\n",
            "Trainable params: 13,542\n",
            "Non-trainable params: 0\n",
            "_________________________________________________________________\n",
            "None\n"
          ],
          "name": "stdout"
        }
      ]
    },
    {
      "metadata": {
        "id": "S_dD-9I8pSLC",
        "colab_type": "text"
      },
      "cell_type": "markdown",
      "source": [
        "We will use this same general network structure for each example in this tutorial, with minor changes to the learned embedding layer.\n",
        "\n",
        "Next, we can compile and fit the network on the encoded text data. Technically, we are modeling a multi-class classification problem (predict the word in the vocabulary), therefore using the categorical cross entropy loss function. We use the efficient Adam implementation of gradient descent and track accuracy at the end of each epoch. The model is fit for 500 training epochs, again, perhaps more than is needed.\n",
        "\n",
        "The network configuration was not tuned for this and later experiments; an over-prescribed configuration was chosen to ensure that we could focus on the framing of the language model."
      ]
    },
    {
      "metadata": {
        "id": "7LpvSX3CGMLI",
        "colab_type": "code",
        "colab": {}
      },
      "cell_type": "code",
      "source": [
        "# compile network\n",
        "model3.compile(loss='categorical_crossentropy', optimizer='adam', metrics=['accuracy'])\n"
      ],
      "execution_count": 0,
      "outputs": []
    },
    {
      "metadata": {
        "id": "2h4MvfXUGM_x",
        "colab_type": "code",
        "colab": {
          "base_uri": "https://localhost:8080/",
          "height": 17034
        },
        "outputId": "3b28d1a0-c566-486f-fdec-22fc174bad24"
      },
      "cell_type": "code",
      "source": [
        "# fit network\n",
        "model3.fit(X3, y3, epochs=500, verbose=2)\n"
      ],
      "execution_count": 65,
      "outputs": [
        {
          "output_type": "stream",
          "text": [
            "Epoch 1/500\n",
            " - 2s - loss: 3.0899 - acc: 0.0833\n",
            "Epoch 2/500\n",
            " - 0s - loss: 3.0891 - acc: 0.1250\n",
            "Epoch 3/500\n",
            " - 0s - loss: 3.0884 - acc: 0.2083\n",
            "Epoch 4/500\n",
            " - 0s - loss: 3.0876 - acc: 0.2083\n",
            "Epoch 5/500\n",
            " - 0s - loss: 3.0869 - acc: 0.2083\n",
            "Epoch 6/500\n",
            " - 0s - loss: 3.0861 - acc: 0.2083\n",
            "Epoch 7/500\n",
            " - 0s - loss: 3.0853 - acc: 0.2083\n",
            "Epoch 8/500\n",
            " - 0s - loss: 3.0845 - acc: 0.2083\n",
            "Epoch 9/500\n",
            " - 0s - loss: 3.0837 - acc: 0.2083\n",
            "Epoch 10/500\n",
            " - 0s - loss: 3.0829 - acc: 0.2083\n",
            "Epoch 11/500\n",
            " - 0s - loss: 3.0821 - acc: 0.2083\n",
            "Epoch 12/500\n",
            " - 0s - loss: 3.0812 - acc: 0.2083\n",
            "Epoch 13/500\n",
            " - 0s - loss: 3.0804 - acc: 0.2083\n",
            "Epoch 14/500\n",
            " - 0s - loss: 3.0795 - acc: 0.2083\n",
            "Epoch 15/500\n",
            " - 0s - loss: 3.0786 - acc: 0.2083\n",
            "Epoch 16/500\n",
            " - 0s - loss: 3.0777 - acc: 0.2083\n",
            "Epoch 17/500\n",
            " - 0s - loss: 3.0768 - acc: 0.2083\n",
            "Epoch 18/500\n",
            " - 0s - loss: 3.0758 - acc: 0.2083\n",
            "Epoch 19/500\n",
            " - 0s - loss: 3.0749 - acc: 0.2083\n",
            "Epoch 20/500\n",
            " - 0s - loss: 3.0739 - acc: 0.2083\n",
            "Epoch 21/500\n",
            " - 0s - loss: 3.0729 - acc: 0.2083\n",
            "Epoch 22/500\n",
            " - 0s - loss: 3.0718 - acc: 0.2083\n",
            "Epoch 23/500\n",
            " - 0s - loss: 3.0708 - acc: 0.2083\n",
            "Epoch 24/500\n",
            " - 0s - loss: 3.0697 - acc: 0.2083\n",
            "Epoch 25/500\n",
            " - 0s - loss: 3.0686 - acc: 0.2083\n",
            "Epoch 26/500\n",
            " - 0s - loss: 3.0674 - acc: 0.2083\n",
            "Epoch 27/500\n",
            " - 0s - loss: 3.0662 - acc: 0.2083\n",
            "Epoch 28/500\n",
            " - 0s - loss: 3.0650 - acc: 0.2083\n",
            "Epoch 29/500\n",
            " - 0s - loss: 3.0638 - acc: 0.2083\n",
            "Epoch 30/500\n",
            " - 0s - loss: 3.0625 - acc: 0.2083\n",
            "Epoch 31/500\n",
            " - 0s - loss: 3.0612 - acc: 0.2083\n",
            "Epoch 32/500\n",
            " - 0s - loss: 3.0599 - acc: 0.2083\n",
            "Epoch 33/500\n",
            " - 0s - loss: 3.0585 - acc: 0.2083\n",
            "Epoch 34/500\n",
            " - 0s - loss: 3.0570 - acc: 0.2083\n",
            "Epoch 35/500\n",
            " - 0s - loss: 3.0556 - acc: 0.2083\n",
            "Epoch 36/500\n",
            " - 0s - loss: 3.0541 - acc: 0.2083\n",
            "Epoch 37/500\n",
            " - 0s - loss: 3.0525 - acc: 0.2083\n",
            "Epoch 38/500\n",
            " - 0s - loss: 3.0509 - acc: 0.2083\n",
            "Epoch 39/500\n",
            " - 0s - loss: 3.0493 - acc: 0.2083\n",
            "Epoch 40/500\n",
            " - 0s - loss: 3.0476 - acc: 0.2083\n",
            "Epoch 41/500\n",
            " - 0s - loss: 3.0459 - acc: 0.2083\n",
            "Epoch 42/500\n",
            " - 0s - loss: 3.0441 - acc: 0.2083\n",
            "Epoch 43/500\n",
            " - 0s - loss: 3.0423 - acc: 0.2083\n",
            "Epoch 44/500\n",
            " - 0s - loss: 3.0404 - acc: 0.2083\n",
            "Epoch 45/500\n",
            " - 0s - loss: 3.0384 - acc: 0.2083\n",
            "Epoch 46/500\n",
            " - 0s - loss: 3.0364 - acc: 0.2083\n",
            "Epoch 47/500\n",
            " - 0s - loss: 3.0344 - acc: 0.2083\n",
            "Epoch 48/500\n",
            " - 0s - loss: 3.0323 - acc: 0.2083\n",
            "Epoch 49/500\n",
            " - 0s - loss: 3.0301 - acc: 0.2083\n",
            "Epoch 50/500\n",
            " - 0s - loss: 3.0278 - acc: 0.2083\n",
            "Epoch 51/500\n",
            " - 0s - loss: 3.0255 - acc: 0.2083\n",
            "Epoch 52/500\n",
            " - 0s - loss: 3.0232 - acc: 0.2083\n",
            "Epoch 53/500\n",
            " - 0s - loss: 3.0207 - acc: 0.2083\n",
            "Epoch 54/500\n",
            " - 0s - loss: 3.0182 - acc: 0.2083\n",
            "Epoch 55/500\n",
            " - 0s - loss: 3.0156 - acc: 0.2083\n",
            "Epoch 56/500\n",
            " - 0s - loss: 3.0129 - acc: 0.2083\n",
            "Epoch 57/500\n",
            " - 0s - loss: 3.0102 - acc: 0.2083\n",
            "Epoch 58/500\n",
            " - 0s - loss: 3.0074 - acc: 0.2083\n",
            "Epoch 59/500\n",
            " - 0s - loss: 3.0045 - acc: 0.2083\n",
            "Epoch 60/500\n",
            " - 0s - loss: 3.0015 - acc: 0.2083\n",
            "Epoch 61/500\n",
            " - 0s - loss: 2.9984 - acc: 0.2083\n",
            "Epoch 62/500\n",
            " - 0s - loss: 2.9953 - acc: 0.2083\n",
            "Epoch 63/500\n",
            " - 0s - loss: 2.9920 - acc: 0.2083\n",
            "Epoch 64/500\n",
            " - 0s - loss: 2.9887 - acc: 0.2083\n",
            "Epoch 65/500\n",
            " - 0s - loss: 2.9853 - acc: 0.2083\n",
            "Epoch 66/500\n",
            " - 0s - loss: 2.9818 - acc: 0.2083\n",
            "Epoch 67/500\n",
            " - 0s - loss: 2.9781 - acc: 0.2083\n",
            "Epoch 68/500\n",
            " - 0s - loss: 2.9744 - acc: 0.2083\n",
            "Epoch 69/500\n",
            " - 0s - loss: 2.9706 - acc: 0.2083\n",
            "Epoch 70/500\n",
            " - 0s - loss: 2.9667 - acc: 0.2083\n",
            "Epoch 71/500\n",
            " - 0s - loss: 2.9627 - acc: 0.2083\n",
            "Epoch 72/500\n",
            " - 0s - loss: 2.9585 - acc: 0.2083\n",
            "Epoch 73/500\n",
            " - 0s - loss: 2.9543 - acc: 0.2083\n",
            "Epoch 74/500\n",
            " - 0s - loss: 2.9499 - acc: 0.2083\n",
            "Epoch 75/500\n",
            " - 0s - loss: 2.9454 - acc: 0.2083\n",
            "Epoch 76/500\n",
            " - 0s - loss: 2.9408 - acc: 0.2083\n",
            "Epoch 77/500\n",
            " - 0s - loss: 2.9361 - acc: 0.2083\n",
            "Epoch 78/500\n",
            " - 0s - loss: 2.9313 - acc: 0.2083\n",
            "Epoch 79/500\n",
            " - 0s - loss: 2.9263 - acc: 0.2083\n",
            "Epoch 80/500\n",
            " - 0s - loss: 2.9212 - acc: 0.2083\n",
            "Epoch 81/500\n",
            " - 0s - loss: 2.9160 - acc: 0.2083\n",
            "Epoch 82/500\n",
            " - 0s - loss: 2.9106 - acc: 0.2083\n",
            "Epoch 83/500\n",
            " - 0s - loss: 2.9051 - acc: 0.2083\n",
            "Epoch 84/500\n",
            " - 0s - loss: 2.8995 - acc: 0.2083\n",
            "Epoch 85/500\n",
            " - 0s - loss: 2.8938 - acc: 0.2083\n",
            "Epoch 86/500\n",
            " - 0s - loss: 2.8878 - acc: 0.2083\n",
            "Epoch 87/500\n",
            " - 0s - loss: 2.8818 - acc: 0.2083\n",
            "Epoch 88/500\n",
            " - 0s - loss: 2.8756 - acc: 0.2083\n",
            "Epoch 89/500\n",
            " - 0s - loss: 2.8693 - acc: 0.2083\n",
            "Epoch 90/500\n",
            " - 0s - loss: 2.8628 - acc: 0.2083\n",
            "Epoch 91/500\n",
            " - 0s - loss: 2.8561 - acc: 0.2083\n",
            "Epoch 92/500\n",
            " - 0s - loss: 2.8493 - acc: 0.2083\n",
            "Epoch 93/500\n",
            " - 0s - loss: 2.8424 - acc: 0.2083\n",
            "Epoch 94/500\n",
            " - 0s - loss: 2.8353 - acc: 0.2083\n",
            "Epoch 95/500\n",
            " - 0s - loss: 2.8280 - acc: 0.2083\n",
            "Epoch 96/500\n",
            " - 0s - loss: 2.8206 - acc: 0.2083\n",
            "Epoch 97/500\n",
            " - 0s - loss: 2.8130 - acc: 0.2083\n",
            "Epoch 98/500\n",
            " - 0s - loss: 2.8053 - acc: 0.2083\n",
            "Epoch 99/500\n",
            " - 0s - loss: 2.7974 - acc: 0.2083\n",
            "Epoch 100/500\n",
            " - 0s - loss: 2.7893 - acc: 0.2083\n",
            "Epoch 101/500\n",
            " - 0s - loss: 2.7810 - acc: 0.2083\n",
            "Epoch 102/500\n",
            " - 0s - loss: 2.7726 - acc: 0.2083\n",
            "Epoch 103/500\n",
            " - 0s - loss: 2.7640 - acc: 0.2083\n",
            "Epoch 104/500\n",
            " - 0s - loss: 2.7553 - acc: 0.2083\n",
            "Epoch 105/500\n",
            " - 0s - loss: 2.7464 - acc: 0.2083\n",
            "Epoch 106/500\n",
            " - 0s - loss: 2.7373 - acc: 0.2083\n",
            "Epoch 107/500\n",
            " - 0s - loss: 2.7280 - acc: 0.2083\n",
            "Epoch 108/500\n",
            " - 0s - loss: 2.7186 - acc: 0.2083\n",
            "Epoch 109/500\n",
            " - 0s - loss: 2.7090 - acc: 0.2083\n",
            "Epoch 110/500\n",
            " - 0s - loss: 2.6992 - acc: 0.2083\n",
            "Epoch 111/500\n",
            " - 0s - loss: 2.6893 - acc: 0.2083\n",
            "Epoch 112/500\n",
            " - 0s - loss: 2.6791 - acc: 0.2083\n",
            "Epoch 113/500\n",
            " - 0s - loss: 2.6689 - acc: 0.2083\n",
            "Epoch 114/500\n",
            " - 0s - loss: 2.6584 - acc: 0.2083\n",
            "Epoch 115/500\n",
            " - 0s - loss: 2.6478 - acc: 0.2083\n",
            "Epoch 116/500\n",
            " - 0s - loss: 2.6370 - acc: 0.2083\n",
            "Epoch 117/500\n",
            " - 0s - loss: 2.6260 - acc: 0.2083\n",
            "Epoch 118/500\n",
            " - 0s - loss: 2.6149 - acc: 0.2083\n",
            "Epoch 119/500\n",
            " - 0s - loss: 2.6036 - acc: 0.2083\n",
            "Epoch 120/500\n",
            " - 0s - loss: 2.5922 - acc: 0.2083\n",
            "Epoch 121/500\n",
            " - 0s - loss: 2.5806 - acc: 0.2083\n",
            "Epoch 122/500\n",
            " - 0s - loss: 2.5688 - acc: 0.2083\n",
            "Epoch 123/500\n",
            " - 0s - loss: 2.5569 - acc: 0.2083\n",
            "Epoch 124/500\n",
            " - 0s - loss: 2.5449 - acc: 0.2083\n",
            "Epoch 125/500\n",
            " - 0s - loss: 2.5327 - acc: 0.2083\n",
            "Epoch 126/500\n",
            " - 0s - loss: 2.5203 - acc: 0.2083\n",
            "Epoch 127/500\n",
            " - 0s - loss: 2.5078 - acc: 0.2083\n",
            "Epoch 128/500\n",
            " - 0s - loss: 2.4952 - acc: 0.2083\n",
            "Epoch 129/500\n",
            " - 0s - loss: 2.4824 - acc: 0.2083\n",
            "Epoch 130/500\n",
            " - 0s - loss: 2.4695 - acc: 0.2083\n",
            "Epoch 131/500\n",
            " - 0s - loss: 2.4565 - acc: 0.2083\n",
            "Epoch 132/500\n",
            " - 0s - loss: 2.4433 - acc: 0.2083\n",
            "Epoch 133/500\n",
            " - 0s - loss: 2.4301 - acc: 0.2083\n",
            "Epoch 134/500\n",
            " - 0s - loss: 2.4167 - acc: 0.2083\n",
            "Epoch 135/500\n",
            " - 0s - loss: 2.4032 - acc: 0.2083\n",
            "Epoch 136/500\n",
            " - 0s - loss: 2.3896 - acc: 0.2083\n",
            "Epoch 137/500\n",
            " - 0s - loss: 2.3759 - acc: 0.2083\n",
            "Epoch 138/500\n",
            " - 0s - loss: 2.3621 - acc: 0.2083\n",
            "Epoch 139/500\n",
            " - 0s - loss: 2.3482 - acc: 0.2083\n",
            "Epoch 140/500\n",
            " - 0s - loss: 2.3342 - acc: 0.2500\n",
            "Epoch 141/500\n",
            " - 0s - loss: 2.3202 - acc: 0.2500\n",
            "Epoch 142/500\n",
            " - 0s - loss: 2.3061 - acc: 0.2500\n",
            "Epoch 143/500\n",
            " - 0s - loss: 2.2918 - acc: 0.2917\n",
            "Epoch 144/500\n",
            " - 0s - loss: 2.2776 - acc: 0.2917\n",
            "Epoch 145/500\n",
            " - 0s - loss: 2.2632 - acc: 0.2917\n",
            "Epoch 146/500\n",
            " - 0s - loss: 2.2489 - acc: 0.3333\n",
            "Epoch 147/500\n",
            " - 0s - loss: 2.2344 - acc: 0.3333\n",
            "Epoch 148/500\n",
            " - 0s - loss: 2.2199 - acc: 0.3333\n",
            "Epoch 149/500\n",
            " - 0s - loss: 2.2054 - acc: 0.3333\n",
            "Epoch 150/500\n",
            " - 0s - loss: 2.1908 - acc: 0.3333\n",
            "Epoch 151/500\n",
            " - 0s - loss: 2.1762 - acc: 0.3333\n",
            "Epoch 152/500\n",
            " - 0s - loss: 2.1616 - acc: 0.3333\n",
            "Epoch 153/500\n",
            " - 0s - loss: 2.1470 - acc: 0.3333\n",
            "Epoch 154/500\n",
            " - 0s - loss: 2.1323 - acc: 0.3333\n",
            "Epoch 155/500\n",
            " - 0s - loss: 2.1176 - acc: 0.3750\n",
            "Epoch 156/500\n",
            " - 0s - loss: 2.1029 - acc: 0.3750\n",
            "Epoch 157/500\n",
            " - 0s - loss: 2.0882 - acc: 0.3750\n",
            "Epoch 158/500\n",
            " - 0s - loss: 2.0735 - acc: 0.3750\n",
            "Epoch 159/500\n",
            " - 0s - loss: 2.0588 - acc: 0.3750\n",
            "Epoch 160/500\n",
            " - 0s - loss: 2.0441 - acc: 0.4167\n",
            "Epoch 161/500\n",
            " - 0s - loss: 2.0295 - acc: 0.4167\n",
            "Epoch 162/500\n",
            " - 0s - loss: 2.0148 - acc: 0.4167\n",
            "Epoch 163/500\n",
            " - 0s - loss: 2.0001 - acc: 0.4167\n",
            "Epoch 164/500\n",
            " - 0s - loss: 1.9855 - acc: 0.4167\n",
            "Epoch 165/500\n",
            " - 0s - loss: 1.9709 - acc: 0.4167\n",
            "Epoch 166/500\n",
            " - 0s - loss: 1.9563 - acc: 0.4167\n",
            "Epoch 167/500\n",
            " - 0s - loss: 1.9418 - acc: 0.4167\n",
            "Epoch 168/500\n",
            " - 0s - loss: 1.9272 - acc: 0.4167\n",
            "Epoch 169/500\n",
            " - 0s - loss: 1.9127 - acc: 0.4167\n",
            "Epoch 170/500\n",
            " - 0s - loss: 1.8983 - acc: 0.4167\n",
            "Epoch 171/500\n",
            " - 0s - loss: 1.8839 - acc: 0.5000\n",
            "Epoch 172/500\n",
            " - 0s - loss: 1.8695 - acc: 0.5417\n",
            "Epoch 173/500\n",
            " - 0s - loss: 1.8552 - acc: 0.5417\n",
            "Epoch 174/500\n",
            " - 0s - loss: 1.8409 - acc: 0.5417\n",
            "Epoch 175/500\n",
            " - 0s - loss: 1.8266 - acc: 0.5417\n",
            "Epoch 176/500\n",
            " - 0s - loss: 1.8124 - acc: 0.5417\n",
            "Epoch 177/500\n",
            " - 0s - loss: 1.7983 - acc: 0.5833\n",
            "Epoch 178/500\n",
            " - 0s - loss: 1.7842 - acc: 0.5833\n",
            "Epoch 179/500\n",
            " - 0s - loss: 1.7701 - acc: 0.5833\n",
            "Epoch 180/500\n",
            " - 0s - loss: 1.7561 - acc: 0.5833\n",
            "Epoch 181/500\n",
            " - 0s - loss: 1.7422 - acc: 0.5833\n",
            "Epoch 182/500\n",
            " - 0s - loss: 1.7283 - acc: 0.5833\n",
            "Epoch 183/500\n",
            " - 0s - loss: 1.7145 - acc: 0.6250\n",
            "Epoch 184/500\n",
            " - 0s - loss: 1.7007 - acc: 0.6667\n",
            "Epoch 185/500\n",
            " - 0s - loss: 1.6870 - acc: 0.6667\n",
            "Epoch 186/500\n",
            " - 0s - loss: 1.6733 - acc: 0.6667\n",
            "Epoch 187/500\n",
            " - 0s - loss: 1.6597 - acc: 0.6667\n",
            "Epoch 188/500\n",
            " - 0s - loss: 1.6462 - acc: 0.6667\n",
            "Epoch 189/500\n",
            " - 0s - loss: 1.6327 - acc: 0.6667\n",
            "Epoch 190/500\n",
            " - 0s - loss: 1.6192 - acc: 0.6667\n",
            "Epoch 191/500\n",
            " - 0s - loss: 1.6059 - acc: 0.6667\n",
            "Epoch 192/500\n",
            " - 0s - loss: 1.5926 - acc: 0.6667\n",
            "Epoch 193/500\n",
            " - 0s - loss: 1.5793 - acc: 0.6667\n",
            "Epoch 194/500\n",
            " - 0s - loss: 1.5661 - acc: 0.6667\n",
            "Epoch 195/500\n",
            " - 0s - loss: 1.5530 - acc: 0.6667\n",
            "Epoch 196/500\n",
            " - 0s - loss: 1.5400 - acc: 0.6667\n",
            "Epoch 197/500\n",
            " - 0s - loss: 1.5270 - acc: 0.6667\n",
            "Epoch 198/500\n",
            " - 0s - loss: 1.5140 - acc: 0.6667\n",
            "Epoch 199/500\n",
            " - 0s - loss: 1.5012 - acc: 0.6667\n",
            "Epoch 200/500\n",
            " - 0s - loss: 1.4884 - acc: 0.6667\n",
            "Epoch 201/500\n",
            " - 0s - loss: 1.4756 - acc: 0.7083\n",
            "Epoch 202/500\n",
            " - 0s - loss: 1.4630 - acc: 0.7083\n",
            "Epoch 203/500\n",
            " - 0s - loss: 1.4504 - acc: 0.7083\n",
            "Epoch 204/500\n",
            " - 0s - loss: 1.4378 - acc: 0.7083\n",
            "Epoch 205/500\n",
            " - 0s - loss: 1.4253 - acc: 0.7500\n",
            "Epoch 206/500\n",
            " - 0s - loss: 1.4129 - acc: 0.7500\n",
            "Epoch 207/500\n",
            " - 0s - loss: 1.4006 - acc: 0.7500\n",
            "Epoch 208/500\n",
            " - 0s - loss: 1.3883 - acc: 0.7500\n",
            "Epoch 209/500\n",
            " - 0s - loss: 1.3761 - acc: 0.7917\n",
            "Epoch 210/500\n",
            " - 0s - loss: 1.3639 - acc: 0.8333\n",
            "Epoch 211/500\n",
            " - 0s - loss: 1.3519 - acc: 0.8333\n",
            "Epoch 212/500\n",
            " - 0s - loss: 1.3398 - acc: 0.8333\n",
            "Epoch 213/500\n",
            " - 0s - loss: 1.3279 - acc: 0.8333\n",
            "Epoch 214/500\n",
            " - 0s - loss: 1.3160 - acc: 0.8333\n",
            "Epoch 215/500\n",
            " - 0s - loss: 1.3042 - acc: 0.8333\n",
            "Epoch 216/500\n",
            " - 0s - loss: 1.2925 - acc: 0.8333\n",
            "Epoch 217/500\n",
            " - 0s - loss: 1.2808 - acc: 0.8333\n",
            "Epoch 218/500\n",
            " - 0s - loss: 1.2692 - acc: 0.8333\n",
            "Epoch 219/500\n",
            " - 0s - loss: 1.2577 - acc: 0.8333\n",
            "Epoch 220/500\n",
            " - 0s - loss: 1.2462 - acc: 0.8333\n",
            "Epoch 221/500\n",
            " - 0s - loss: 1.2349 - acc: 0.8333\n",
            "Epoch 222/500\n",
            " - 0s - loss: 1.2235 - acc: 0.8333\n",
            "Epoch 223/500\n",
            " - 0s - loss: 1.2123 - acc: 0.8333\n",
            "Epoch 224/500\n",
            " - 0s - loss: 1.2011 - acc: 0.8333\n",
            "Epoch 225/500\n",
            " - 0s - loss: 1.1900 - acc: 0.8333\n",
            "Epoch 226/500\n",
            " - 0s - loss: 1.1790 - acc: 0.8333\n",
            "Epoch 227/500\n",
            " - 0s - loss: 1.1681 - acc: 0.8333\n",
            "Epoch 228/500\n",
            " - 0s - loss: 1.1572 - acc: 0.8750\n",
            "Epoch 229/500\n",
            " - 0s - loss: 1.1464 - acc: 0.8750\n",
            "Epoch 230/500\n",
            " - 0s - loss: 1.1356 - acc: 0.8750\n",
            "Epoch 231/500\n",
            " - 0s - loss: 1.1250 - acc: 0.8750\n",
            "Epoch 232/500\n",
            " - 0s - loss: 1.1144 - acc: 0.8750\n",
            "Epoch 233/500\n",
            " - 0s - loss: 1.1039 - acc: 0.8750\n",
            "Epoch 234/500\n",
            " - 0s - loss: 1.0935 - acc: 0.8750\n",
            "Epoch 235/500\n",
            " - 0s - loss: 1.0831 - acc: 0.8750\n",
            "Epoch 236/500\n",
            " - 0s - loss: 1.0729 - acc: 0.8750\n",
            "Epoch 237/500\n",
            " - 0s - loss: 1.0627 - acc: 0.8750\n",
            "Epoch 238/500\n",
            " - 0s - loss: 1.0525 - acc: 0.8750\n",
            "Epoch 239/500\n",
            " - 0s - loss: 1.0425 - acc: 0.8750\n",
            "Epoch 240/500\n",
            " - 0s - loss: 1.0325 - acc: 0.8750\n",
            "Epoch 241/500\n",
            " - 0s - loss: 1.0226 - acc: 0.8750\n",
            "Epoch 242/500\n",
            " - 0s - loss: 1.0128 - acc: 0.8750\n",
            "Epoch 243/500\n",
            " - 0s - loss: 1.0031 - acc: 0.8750\n",
            "Epoch 244/500\n",
            " - 0s - loss: 0.9935 - acc: 0.8750\n",
            "Epoch 245/500\n",
            " - 0s - loss: 0.9839 - acc: 0.8750\n",
            "Epoch 246/500\n",
            " - 0s - loss: 0.9744 - acc: 0.8750\n",
            "Epoch 247/500\n",
            " - 0s - loss: 0.9650 - acc: 0.8750\n",
            "Epoch 248/500\n",
            " - 0s - loss: 0.9556 - acc: 0.8750\n",
            "Epoch 249/500\n",
            " - 0s - loss: 0.9464 - acc: 0.8750\n",
            "Epoch 250/500\n",
            " - 0s - loss: 0.9372 - acc: 0.8750\n",
            "Epoch 251/500\n",
            " - 0s - loss: 0.9281 - acc: 0.8750\n",
            "Epoch 252/500\n",
            " - 0s - loss: 0.9191 - acc: 0.8750\n",
            "Epoch 253/500\n",
            " - 0s - loss: 0.9102 - acc: 0.8750\n",
            "Epoch 254/500\n",
            " - 0s - loss: 0.9014 - acc: 0.8750\n",
            "Epoch 255/500\n",
            " - 0s - loss: 0.8926 - acc: 0.8750\n",
            "Epoch 256/500\n",
            " - 0s - loss: 0.8839 - acc: 0.8750\n",
            "Epoch 257/500\n",
            " - 0s - loss: 0.8753 - acc: 0.8750\n",
            "Epoch 258/500\n",
            " - 0s - loss: 0.8668 - acc: 0.8750\n",
            "Epoch 259/500\n",
            " - 0s - loss: 0.8583 - acc: 0.8750\n",
            "Epoch 260/500\n",
            " - 0s - loss: 0.8500 - acc: 0.8750\n",
            "Epoch 261/500\n",
            " - 0s - loss: 0.8417 - acc: 0.8750\n",
            "Epoch 262/500\n",
            " - 0s - loss: 0.8335 - acc: 0.8750\n",
            "Epoch 263/500\n",
            " - 0s - loss: 0.8254 - acc: 0.8750\n",
            "Epoch 264/500\n",
            " - 0s - loss: 0.8174 - acc: 0.8750\n",
            "Epoch 265/500\n",
            " - 0s - loss: 0.8094 - acc: 0.8750\n",
            "Epoch 266/500\n",
            " - 0s - loss: 0.8015 - acc: 0.8750\n",
            "Epoch 267/500\n",
            " - 0s - loss: 0.7938 - acc: 0.8750\n",
            "Epoch 268/500\n",
            " - 0s - loss: 0.7860 - acc: 0.8750\n",
            "Epoch 269/500\n",
            " - 0s - loss: 0.7784 - acc: 0.8750\n",
            "Epoch 270/500\n",
            " - 0s - loss: 0.7709 - acc: 0.8750\n",
            "Epoch 271/500\n",
            " - 0s - loss: 0.7634 - acc: 0.8750\n",
            "Epoch 272/500\n",
            " - 0s - loss: 0.7560 - acc: 0.8750\n",
            "Epoch 273/500\n",
            " - 0s - loss: 0.7487 - acc: 0.8750\n",
            "Epoch 274/500\n",
            " - 0s - loss: 0.7415 - acc: 0.8750\n",
            "Epoch 275/500\n",
            " - 0s - loss: 0.7343 - acc: 0.8750\n",
            "Epoch 276/500\n",
            " - 0s - loss: 0.7272 - acc: 0.8750\n",
            "Epoch 277/500\n",
            " - 0s - loss: 0.7202 - acc: 0.8750\n",
            "Epoch 278/500\n",
            " - 0s - loss: 0.7133 - acc: 0.8750\n",
            "Epoch 279/500\n",
            " - 0s - loss: 0.7065 - acc: 0.8750\n",
            "Epoch 280/500\n",
            " - 0s - loss: 0.6997 - acc: 0.8750\n",
            "Epoch 281/500\n",
            " - 0s - loss: 0.6930 - acc: 0.8750\n",
            "Epoch 282/500\n",
            " - 0s - loss: 0.6864 - acc: 0.8750\n",
            "Epoch 283/500\n",
            " - 0s - loss: 0.6799 - acc: 0.8750\n",
            "Epoch 284/500\n",
            " - 0s - loss: 0.6734 - acc: 0.8750\n",
            "Epoch 285/500\n",
            " - 0s - loss: 0.6670 - acc: 0.8750\n",
            "Epoch 286/500\n",
            " - 0s - loss: 0.6607 - acc: 0.8750\n",
            "Epoch 287/500\n",
            " - 0s - loss: 0.6545 - acc: 0.8750\n",
            "Epoch 288/500\n",
            " - 0s - loss: 0.6483 - acc: 0.8750\n",
            "Epoch 289/500\n",
            " - 0s - loss: 0.6422 - acc: 0.8750\n",
            "Epoch 290/500\n",
            " - 0s - loss: 0.6362 - acc: 0.8750\n",
            "Epoch 291/500\n",
            " - 0s - loss: 0.6302 - acc: 0.8750\n",
            "Epoch 292/500\n",
            " - 0s - loss: 0.6243 - acc: 0.8750\n",
            "Epoch 293/500\n",
            " - 0s - loss: 0.6185 - acc: 0.8750\n",
            "Epoch 294/500\n",
            " - 0s - loss: 0.6128 - acc: 0.8750\n",
            "Epoch 295/500\n",
            " - 0s - loss: 0.6071 - acc: 0.8750\n",
            "Epoch 296/500\n",
            " - 0s - loss: 0.6015 - acc: 0.8750\n",
            "Epoch 297/500\n",
            " - 0s - loss: 0.5960 - acc: 0.8750\n",
            "Epoch 298/500\n",
            " - 0s - loss: 0.5905 - acc: 0.8750\n",
            "Epoch 299/500\n",
            " - 0s - loss: 0.5851 - acc: 0.8750\n",
            "Epoch 300/500\n",
            " - 0s - loss: 0.5798 - acc: 0.8750\n",
            "Epoch 301/500\n",
            " - 0s - loss: 0.5745 - acc: 0.8750\n",
            "Epoch 302/500\n",
            " - 0s - loss: 0.5693 - acc: 0.8750\n",
            "Epoch 303/500\n",
            " - 0s - loss: 0.5642 - acc: 0.8750\n",
            "Epoch 304/500\n",
            " - 0s - loss: 0.5591 - acc: 0.8750\n",
            "Epoch 305/500\n",
            " - 0s - loss: 0.5541 - acc: 0.8750\n",
            "Epoch 306/500\n",
            " - 0s - loss: 0.5492 - acc: 0.8750\n",
            "Epoch 307/500\n",
            " - 0s - loss: 0.5443 - acc: 0.8750\n",
            "Epoch 308/500\n",
            " - 0s - loss: 0.5395 - acc: 0.8750\n",
            "Epoch 309/500\n",
            " - 0s - loss: 0.5347 - acc: 0.8750\n",
            "Epoch 310/500\n",
            " - 0s - loss: 0.5300 - acc: 0.8750\n",
            "Epoch 311/500\n",
            " - 0s - loss: 0.5254 - acc: 0.8750\n",
            "Epoch 312/500\n",
            " - 0s - loss: 0.5209 - acc: 0.8750\n",
            "Epoch 313/500\n",
            " - 0s - loss: 0.5163 - acc: 0.8750\n",
            "Epoch 314/500\n",
            " - 0s - loss: 0.5119 - acc: 0.8750\n",
            "Epoch 315/500\n",
            " - 0s - loss: 0.5075 - acc: 0.8750\n",
            "Epoch 316/500\n",
            " - 0s - loss: 0.5032 - acc: 0.8750\n",
            "Epoch 317/500\n",
            " - 0s - loss: 0.4989 - acc: 0.8750\n",
            "Epoch 318/500\n",
            " - 0s - loss: 0.4947 - acc: 0.8750\n",
            "Epoch 319/500\n",
            " - 0s - loss: 0.4905 - acc: 0.8750\n",
            "Epoch 320/500\n",
            " - 0s - loss: 0.4864 - acc: 0.8750\n",
            "Epoch 321/500\n",
            " - 0s - loss: 0.4824 - acc: 0.8750\n",
            "Epoch 322/500\n",
            " - 0s - loss: 0.4784 - acc: 0.8750\n",
            "Epoch 323/500\n",
            " - 0s - loss: 0.4745 - acc: 0.8750\n",
            "Epoch 324/500\n",
            " - 0s - loss: 0.4706 - acc: 0.8750\n",
            "Epoch 325/500\n",
            " - 0s - loss: 0.4668 - acc: 0.8750\n",
            "Epoch 326/500\n",
            " - 0s - loss: 0.4630 - acc: 0.8750\n",
            "Epoch 327/500\n",
            " - 0s - loss: 0.4593 - acc: 0.8750\n",
            "Epoch 328/500\n",
            " - 0s - loss: 0.4556 - acc: 0.8750\n",
            "Epoch 329/500\n",
            " - 0s - loss: 0.4520 - acc: 0.8750\n",
            "Epoch 330/500\n",
            " - 0s - loss: 0.4485 - acc: 0.8750\n",
            "Epoch 331/500\n",
            " - 0s - loss: 0.4450 - acc: 0.8750\n",
            "Epoch 332/500\n",
            " - 0s - loss: 0.4415 - acc: 0.8750\n",
            "Epoch 333/500\n",
            " - 0s - loss: 0.4381 - acc: 0.8750\n",
            "Epoch 334/500\n",
            " - 0s - loss: 0.4347 - acc: 0.8750\n",
            "Epoch 335/500\n",
            " - 0s - loss: 0.4314 - acc: 0.8750\n",
            "Epoch 336/500\n",
            " - 0s - loss: 0.4282 - acc: 0.8750\n",
            "Epoch 337/500\n",
            " - 0s - loss: 0.4250 - acc: 0.8750\n",
            "Epoch 338/500\n",
            " - 0s - loss: 0.4218 - acc: 0.8750\n",
            "Epoch 339/500\n",
            " - 0s - loss: 0.4187 - acc: 0.8750\n",
            "Epoch 340/500\n",
            " - 0s - loss: 0.4156 - acc: 0.8750\n",
            "Epoch 341/500\n",
            " - 0s - loss: 0.4126 - acc: 0.8750\n",
            "Epoch 342/500\n",
            " - 0s - loss: 0.4096 - acc: 0.8750\n",
            "Epoch 343/500\n",
            " - 0s - loss: 0.4067 - acc: 0.8750\n",
            "Epoch 344/500\n",
            " - 0s - loss: 0.4038 - acc: 0.8750\n",
            "Epoch 345/500\n",
            " - 0s - loss: 0.4010 - acc: 0.8750\n",
            "Epoch 346/500\n",
            " - 0s - loss: 0.3982 - acc: 0.8750\n",
            "Epoch 347/500\n",
            " - 0s - loss: 0.3954 - acc: 0.8750\n",
            "Epoch 348/500\n",
            " - 0s - loss: 0.3927 - acc: 0.8750\n",
            "Epoch 349/500\n",
            " - 0s - loss: 0.3900 - acc: 0.8750\n",
            "Epoch 350/500\n",
            " - 0s - loss: 0.3874 - acc: 0.8750\n",
            "Epoch 351/500\n",
            " - 0s - loss: 0.3848 - acc: 0.8750\n",
            "Epoch 352/500\n",
            " - 0s - loss: 0.3822 - acc: 0.8750\n",
            "Epoch 353/500\n",
            " - 0s - loss: 0.3797 - acc: 0.8750\n",
            "Epoch 354/500\n",
            " - 0s - loss: 0.3773 - acc: 0.8750\n",
            "Epoch 355/500\n",
            " - 0s - loss: 0.3748 - acc: 0.8750\n",
            "Epoch 356/500\n",
            " - 0s - loss: 0.3724 - acc: 0.8750\n",
            "Epoch 357/500\n",
            " - 0s - loss: 0.3701 - acc: 0.8750\n",
            "Epoch 358/500\n",
            " - 0s - loss: 0.3678 - acc: 0.8750\n",
            "Epoch 359/500\n",
            " - 0s - loss: 0.3655 - acc: 0.8750\n",
            "Epoch 360/500\n",
            " - 0s - loss: 0.3632 - acc: 0.8750\n",
            "Epoch 361/500\n",
            " - 0s - loss: 0.3610 - acc: 0.8750\n",
            "Epoch 362/500\n",
            " - 0s - loss: 0.3588 - acc: 0.8750\n",
            "Epoch 363/500\n",
            " - 0s - loss: 0.3567 - acc: 0.8750\n",
            "Epoch 364/500\n",
            " - 0s - loss: 0.3546 - acc: 0.8750\n",
            "Epoch 365/500\n",
            " - 0s - loss: 0.3525 - acc: 0.8750\n",
            "Epoch 366/500\n",
            " - 0s - loss: 0.3505 - acc: 0.8750\n",
            "Epoch 367/500\n",
            " - 0s - loss: 0.3485 - acc: 0.8750\n",
            "Epoch 368/500\n",
            " - 0s - loss: 0.3465 - acc: 0.8750\n",
            "Epoch 369/500\n",
            " - 0s - loss: 0.3446 - acc: 0.8750\n",
            "Epoch 370/500\n",
            " - 0s - loss: 0.3427 - acc: 0.8750\n",
            "Epoch 371/500\n",
            " - 0s - loss: 0.3408 - acc: 0.8750\n",
            "Epoch 372/500\n",
            " - 0s - loss: 0.3389 - acc: 0.8750\n",
            "Epoch 373/500\n",
            " - 0s - loss: 0.3371 - acc: 0.8750\n",
            "Epoch 374/500\n",
            " - 0s - loss: 0.3353 - acc: 0.8750\n",
            "Epoch 375/500\n",
            " - 0s - loss: 0.3336 - acc: 0.8750\n",
            "Epoch 376/500\n",
            " - 0s - loss: 0.3318 - acc: 0.8750\n",
            "Epoch 377/500\n",
            " - 0s - loss: 0.3301 - acc: 0.8750\n",
            "Epoch 378/500\n",
            " - 0s - loss: 0.3284 - acc: 0.8750\n",
            "Epoch 379/500\n",
            " - 0s - loss: 0.3268 - acc: 0.8750\n",
            "Epoch 380/500\n",
            " - 0s - loss: 0.3252 - acc: 0.8750\n",
            "Epoch 381/500\n",
            " - 0s - loss: 0.3236 - acc: 0.8750\n",
            "Epoch 382/500\n",
            " - 0s - loss: 0.3220 - acc: 0.8750\n",
            "Epoch 383/500\n",
            " - 0s - loss: 0.3205 - acc: 0.8750\n",
            "Epoch 384/500\n",
            " - 0s - loss: 0.3189 - acc: 0.8750\n",
            "Epoch 385/500\n",
            " - 0s - loss: 0.3174 - acc: 0.8750\n",
            "Epoch 386/500\n",
            " - 0s - loss: 0.3160 - acc: 0.8750\n",
            "Epoch 387/500\n",
            " - 0s - loss: 0.3145 - acc: 0.8750\n",
            "Epoch 388/500\n",
            " - 0s - loss: 0.3131 - acc: 0.8750\n",
            "Epoch 389/500\n",
            " - 0s - loss: 0.3117 - acc: 0.8750\n",
            "Epoch 390/500\n",
            " - 0s - loss: 0.3103 - acc: 0.8750\n",
            "Epoch 391/500\n",
            " - 0s - loss: 0.3090 - acc: 0.8750\n",
            "Epoch 392/500\n",
            " - 0s - loss: 0.3076 - acc: 0.8750\n",
            "Epoch 393/500\n",
            " - 0s - loss: 0.3063 - acc: 0.8750\n",
            "Epoch 394/500\n",
            " - 0s - loss: 0.3050 - acc: 0.8750\n",
            "Epoch 395/500\n",
            " - 0s - loss: 0.3037 - acc: 0.8750\n",
            "Epoch 396/500\n",
            " - 0s - loss: 0.3025 - acc: 0.8750\n",
            "Epoch 397/500\n",
            " - 0s - loss: 0.3012 - acc: 0.8750\n",
            "Epoch 398/500\n",
            " - 0s - loss: 0.3000 - acc: 0.8750\n",
            "Epoch 399/500\n",
            " - 0s - loss: 0.2988 - acc: 0.8750\n",
            "Epoch 400/500\n",
            " - 0s - loss: 0.2977 - acc: 0.8750\n",
            "Epoch 401/500\n",
            " - 0s - loss: 0.2965 - acc: 0.8750\n",
            "Epoch 402/500\n",
            " - 0s - loss: 0.2954 - acc: 0.8750\n",
            "Epoch 403/500\n",
            " - 0s - loss: 0.2943 - acc: 0.8750\n",
            "Epoch 404/500\n",
            " - 0s - loss: 0.2932 - acc: 0.8750\n",
            "Epoch 405/500\n",
            " - 0s - loss: 0.2921 - acc: 0.8750\n",
            "Epoch 406/500\n",
            " - 0s - loss: 0.2910 - acc: 0.8750\n",
            "Epoch 407/500\n",
            " - 0s - loss: 0.2900 - acc: 0.8750\n",
            "Epoch 408/500\n",
            " - 0s - loss: 0.2889 - acc: 0.8750\n",
            "Epoch 409/500\n",
            " - 0s - loss: 0.2879 - acc: 0.8750\n",
            "Epoch 410/500\n",
            " - 0s - loss: 0.2869 - acc: 0.8750\n",
            "Epoch 411/500\n",
            " - 0s - loss: 0.2860 - acc: 0.8750\n",
            "Epoch 412/500\n",
            " - 0s - loss: 0.2850 - acc: 0.8750\n",
            "Epoch 413/500\n",
            " - 0s - loss: 0.2840 - acc: 0.8750\n",
            "Epoch 414/500\n",
            " - 0s - loss: 0.2831 - acc: 0.8750\n",
            "Epoch 415/500\n",
            " - 0s - loss: 0.2822 - acc: 0.8750\n",
            "Epoch 416/500\n",
            " - 0s - loss: 0.2813 - acc: 0.8750\n",
            "Epoch 417/500\n",
            " - 0s - loss: 0.2804 - acc: 0.8750\n",
            "Epoch 418/500\n",
            " - 0s - loss: 0.2795 - acc: 0.8750\n",
            "Epoch 419/500\n",
            " - 0s - loss: 0.2786 - acc: 0.8750\n",
            "Epoch 420/500\n",
            " - 0s - loss: 0.2778 - acc: 0.8750\n",
            "Epoch 421/500\n",
            " - 0s - loss: 0.2769 - acc: 0.8750\n",
            "Epoch 422/500\n",
            " - 0s - loss: 0.2761 - acc: 0.8750\n",
            "Epoch 423/500\n",
            " - 0s - loss: 0.2753 - acc: 0.8750\n",
            "Epoch 424/500\n",
            " - 0s - loss: 0.2745 - acc: 0.8750\n",
            "Epoch 425/500\n",
            " - 0s - loss: 0.2737 - acc: 0.8750\n",
            "Epoch 426/500\n",
            " - 0s - loss: 0.2729 - acc: 0.8750\n",
            "Epoch 427/500\n",
            " - 0s - loss: 0.2722 - acc: 0.8750\n",
            "Epoch 428/500\n",
            " - 0s - loss: 0.2714 - acc: 0.8750\n",
            "Epoch 429/500\n",
            " - 0s - loss: 0.2707 - acc: 0.8750\n",
            "Epoch 430/500\n",
            " - 0s - loss: 0.2699 - acc: 0.8750\n",
            "Epoch 431/500\n",
            " - 0s - loss: 0.2692 - acc: 0.8750\n",
            "Epoch 432/500\n",
            " - 0s - loss: 0.2685 - acc: 0.8750\n",
            "Epoch 433/500\n",
            " - 0s - loss: 0.2678 - acc: 0.8750\n",
            "Epoch 434/500\n",
            " - 0s - loss: 0.2671 - acc: 0.8750\n",
            "Epoch 435/500\n",
            " - 0s - loss: 0.2664 - acc: 0.8750\n",
            "Epoch 436/500\n",
            " - 0s - loss: 0.2657 - acc: 0.8750\n",
            "Epoch 437/500\n",
            " - 0s - loss: 0.2650 - acc: 0.8750\n",
            "Epoch 438/500\n",
            " - 0s - loss: 0.2644 - acc: 0.8750\n",
            "Epoch 439/500\n",
            " - 0s - loss: 0.2637 - acc: 0.8750\n",
            "Epoch 440/500\n",
            " - 0s - loss: 0.2631 - acc: 0.8750\n",
            "Epoch 441/500\n",
            " - 0s - loss: 0.2625 - acc: 0.8750\n",
            "Epoch 442/500\n",
            " - 0s - loss: 0.2618 - acc: 0.8750\n",
            "Epoch 443/500\n",
            " - 0s - loss: 0.2612 - acc: 0.8750\n",
            "Epoch 444/500\n",
            " - 0s - loss: 0.2606 - acc: 0.8750\n",
            "Epoch 445/500\n",
            " - 0s - loss: 0.2600 - acc: 0.8750\n",
            "Epoch 446/500\n",
            " - 0s - loss: 0.2594 - acc: 0.8750\n",
            "Epoch 447/500\n",
            " - 0s - loss: 0.2589 - acc: 0.8750\n",
            "Epoch 448/500\n",
            " - 0s - loss: 0.2583 - acc: 0.8750\n",
            "Epoch 449/500\n",
            " - 0s - loss: 0.2577 - acc: 0.8750\n",
            "Epoch 450/500\n",
            " - 0s - loss: 0.2572 - acc: 0.8750\n",
            "Epoch 451/500\n",
            " - 0s - loss: 0.2566 - acc: 0.8750\n",
            "Epoch 452/500\n",
            " - 0s - loss: 0.2561 - acc: 0.8750\n",
            "Epoch 453/500\n",
            " - 0s - loss: 0.2555 - acc: 0.8750\n",
            "Epoch 454/500\n",
            " - 0s - loss: 0.2550 - acc: 0.8750\n",
            "Epoch 455/500\n",
            " - 0s - loss: 0.2545 - acc: 0.8750\n",
            "Epoch 456/500\n",
            " - 0s - loss: 0.2540 - acc: 0.8750\n",
            "Epoch 457/500\n",
            " - 0s - loss: 0.2534 - acc: 0.8750\n",
            "Epoch 458/500\n",
            " - 0s - loss: 0.2529 - acc: 0.8750\n",
            "Epoch 459/500\n",
            " - 0s - loss: 0.2524 - acc: 0.8750\n",
            "Epoch 460/500\n",
            " - 0s - loss: 0.2520 - acc: 0.8750\n",
            "Epoch 461/500\n",
            " - 0s - loss: 0.2515 - acc: 0.8750\n",
            "Epoch 462/500\n",
            " - 0s - loss: 0.2510 - acc: 0.8750\n",
            "Epoch 463/500\n",
            " - 0s - loss: 0.2505 - acc: 0.8750\n",
            "Epoch 464/500\n",
            " - 0s - loss: 0.2501 - acc: 0.8750\n",
            "Epoch 465/500\n",
            " - 0s - loss: 0.2496 - acc: 0.8750\n",
            "Epoch 466/500\n",
            " - 0s - loss: 0.2492 - acc: 0.8750\n",
            "Epoch 467/500\n",
            " - 0s - loss: 0.2487 - acc: 0.8750\n",
            "Epoch 468/500\n",
            " - 0s - loss: 0.2483 - acc: 0.8750\n",
            "Epoch 469/500\n",
            " - 0s - loss: 0.2478 - acc: 0.8750\n",
            "Epoch 470/500\n",
            " - 0s - loss: 0.2474 - acc: 0.8750\n",
            "Epoch 471/500\n",
            " - 0s - loss: 0.2470 - acc: 0.8750\n",
            "Epoch 472/500\n",
            " - 0s - loss: 0.2466 - acc: 0.8750\n",
            "Epoch 473/500\n",
            " - 0s - loss: 0.2461 - acc: 0.8750\n",
            "Epoch 474/500\n",
            " - 0s - loss: 0.2457 - acc: 0.8750\n",
            "Epoch 475/500\n",
            " - 0s - loss: 0.2453 - acc: 0.8750\n",
            "Epoch 476/500\n",
            " - 0s - loss: 0.2449 - acc: 0.8750\n",
            "Epoch 477/500\n",
            " - 0s - loss: 0.2445 - acc: 0.8750\n",
            "Epoch 478/500\n",
            " - 0s - loss: 0.2441 - acc: 0.8750\n",
            "Epoch 479/500\n",
            " - 0s - loss: 0.2438 - acc: 0.8750\n",
            "Epoch 480/500\n",
            " - 0s - loss: 0.2434 - acc: 0.8750\n",
            "Epoch 481/500\n",
            " - 0s - loss: 0.2430 - acc: 0.8750\n",
            "Epoch 482/500\n",
            " - 0s - loss: 0.2426 - acc: 0.8750\n",
            "Epoch 483/500\n",
            " - 0s - loss: 0.2423 - acc: 0.8750\n",
            "Epoch 484/500\n",
            " - 0s - loss: 0.2419 - acc: 0.8750\n",
            "Epoch 485/500\n",
            " - 0s - loss: 0.2416 - acc: 0.8750\n",
            "Epoch 486/500\n",
            " - 0s - loss: 0.2412 - acc: 0.8750\n",
            "Epoch 487/500\n",
            " - 0s - loss: 0.2409 - acc: 0.8750\n",
            "Epoch 488/500\n",
            " - 0s - loss: 0.2405 - acc: 0.8750\n",
            "Epoch 489/500\n",
            " - 0s - loss: 0.2402 - acc: 0.8750\n",
            "Epoch 490/500\n",
            " - 0s - loss: 0.2398 - acc: 0.8750\n",
            "Epoch 491/500\n",
            " - 0s - loss: 0.2395 - acc: 0.8750\n",
            "Epoch 492/500\n",
            " - 0s - loss: 0.2392 - acc: 0.8750\n",
            "Epoch 493/500\n",
            " - 0s - loss: 0.2388 - acc: 0.8750\n",
            "Epoch 494/500\n",
            " - 0s - loss: 0.2385 - acc: 0.8750\n",
            "Epoch 495/500\n",
            " - 0s - loss: 0.2382 - acc: 0.8750\n",
            "Epoch 496/500\n",
            " - 0s - loss: 0.2379 - acc: 0.8750\n",
            "Epoch 497/500\n",
            " - 0s - loss: 0.2376 - acc: 0.8750\n",
            "Epoch 498/500\n",
            " - 0s - loss: 0.2373 - acc: 0.8750\n",
            "Epoch 499/500\n",
            " - 0s - loss: 0.2370 - acc: 0.8750\n",
            "Epoch 500/500\n",
            " - 0s - loss: 0.2367 - acc: 0.8750\n"
          ],
          "name": "stdout"
        },
        {
          "output_type": "execute_result",
          "data": {
            "text/plain": [
              "<keras.callbacks.History at 0x7f9dde1ff518>"
            ]
          },
          "metadata": {
            "tags": []
          },
          "execution_count": 65
        }
      ]
    },
    {
      "metadata": {
        "id": "Ikd4Y2i_pY0j",
        "colab_type": "text"
      },
      "cell_type": "markdown",
      "source": [
        "After the model is fit, we test it by passing it a given word from the vocabulary and having the model predict the next word. Here we pass in ‘Jack‘ by encoding it and calling model.predict_classes() to get the integer output for the predicted word. This is then looked up in the vocabulary mapping to give the associated word."
      ]
    },
    {
      "metadata": {
        "id": "cjJF-2YdnhNy",
        "colab_type": "code",
        "colab": {
          "base_uri": "https://localhost:8080/",
          "height": 34
        },
        "outputId": "d3dabb2d-d5fc-413c-c458-a64ef4f43532"
      },
      "cell_type": "code",
      "source": [
        "# evaluate\n",
        "print(generate_seq2(model3, tokenizer3, 'Jack', 6))"
      ],
      "execution_count": 70,
      "outputs": [
        {
          "output_type": "stream",
          "text": [
            "Jack and jill went up the hill\n"
          ],
          "name": "stdout"
        }
      ]
    },
    {
      "metadata": {
        "id": "JbDhi_ydnMCT",
        "colab_type": "text"
      },
      "cell_type": "markdown",
      "source": [
        "## Downloading grocery dataset"
      ]
    },
    {
      "metadata": {
        "id": "C6Wakir6eQIU",
        "colab_type": "code",
        "outputId": "e62a4c76-2aba-4305-b335-a592735d4f7e",
        "colab": {
          "base_uri": "https://localhost:8080/",
          "height": 204
        }
      },
      "cell_type": "code",
      "source": [
        "import os\n",
        "!pip install kaggle"
      ],
      "execution_count": 1,
      "outputs": [
        {
          "output_type": "stream",
          "text": [
            "Requirement already satisfied: kaggle in /usr/local/lib/python3.6/dist-packages (1.5.3)\n",
            "Requirement already satisfied: urllib3<1.25,>=1.21.1 in /usr/local/lib/python3.6/dist-packages (from kaggle) (1.22)\n",
            "Requirement already satisfied: six>=1.10 in /usr/local/lib/python3.6/dist-packages (from kaggle) (1.11.0)\n",
            "Requirement already satisfied: certifi in /usr/local/lib/python3.6/dist-packages (from kaggle) (2019.3.9)\n",
            "Requirement already satisfied: python-dateutil in /usr/local/lib/python3.6/dist-packages (from kaggle) (2.5.3)\n",
            "Requirement already satisfied: requests in /usr/local/lib/python3.6/dist-packages (from kaggle) (2.18.4)\n",
            "Requirement already satisfied: tqdm in /usr/local/lib/python3.6/dist-packages (from kaggle) (4.28.1)\n",
            "Requirement already satisfied: python-slugify in /usr/local/lib/python3.6/dist-packages (from kaggle) (3.0.1)\n",
            "Requirement already satisfied: idna<2.7,>=2.5 in /usr/local/lib/python3.6/dist-packages (from requests->kaggle) (2.6)\n",
            "Requirement already satisfied: chardet<3.1.0,>=3.0.2 in /usr/local/lib/python3.6/dist-packages (from requests->kaggle) (3.0.4)\n",
            "Requirement already satisfied: text-unidecode==1.2 in /usr/local/lib/python3.6/dist-packages (from python-slugify->kaggle) (1.2)\n"
          ],
          "name": "stdout"
        }
      ]
    },
    {
      "metadata": {
        "id": "DqmHM_37hQcO",
        "colab_type": "code",
        "outputId": "f821a671-3e80-444d-d59c-054ea2c33e18",
        "colab": {
          "resources": {
            "http://localhost:8080/nbextensions/google.colab/files.js": {
              "data": "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",
              "ok": true,
              "headers": [
                [
                  "content-type",
                  "application/javascript"
                ]
              ],
              "status": 200,
              "status_text": ""
            }
          },
          "base_uri": "https://localhost:8080/",
          "height": 88
        }
      },
      "cell_type": "code",
      "source": [
        "from google.colab import files\n",
        "files.upload()"
      ],
      "execution_count": 2,
      "outputs": [
        {
          "output_type": "display_data",
          "data": {
            "text/html": [
              "\n",
              "     <input type=\"file\" id=\"files-733827b8-5931-4098-ae2c-a05aecddc39a\" name=\"files[]\" multiple disabled />\n",
              "     <output id=\"result-733827b8-5931-4098-ae2c-a05aecddc39a\">\n",
              "      Upload widget is only available when the cell has been executed in the\n",
              "      current browser session. Please rerun this cell to enable.\n",
              "      </output>\n",
              "      <script src=\"/nbextensions/google.colab/files.js\"></script> "
            ],
            "text/plain": [
              "<IPython.core.display.HTML object>"
            ]
          },
          "metadata": {
            "tags": []
          }
        },
        {
          "output_type": "stream",
          "text": [
            "Saving kaggle.json to kaggle (1).json\n"
          ],
          "name": "stdout"
        },
        {
          "output_type": "execute_result",
          "data": {
            "text/plain": [
              "{'kaggle.json': b'{\"username\":\"jacobjohn2016\",\"key\":\"0206904f95d5d7e082b1af55b711e3f4\"}'}"
            ]
          },
          "metadata": {
            "tags": []
          },
          "execution_count": 2
        }
      ]
    },
    {
      "metadata": {
        "id": "NGHW_KUWhRb0",
        "colab_type": "code",
        "outputId": "89206105-5956-4e64-99ac-63f424f5cf67",
        "colab": {
          "base_uri": "https://localhost:8080/",
          "height": 34
        }
      },
      "cell_type": "code",
      "source": [
        "!ls -lha kaggle.json"
      ],
      "execution_count": 3,
      "outputs": [
        {
          "output_type": "stream",
          "text": [
            "-rw-r--r-- 1 root root 69 Apr  3 13:16 kaggle.json\n"
          ],
          "name": "stdout"
        }
      ]
    },
    {
      "metadata": {
        "id": "twJkA5KPhSsh",
        "colab_type": "code",
        "outputId": "03d050f8-1f05-4b88-a365-3d074fe2dc50",
        "colab": {
          "base_uri": "https://localhost:8080/",
          "height": 170
        }
      },
      "cell_type": "code",
      "source": [
        "!ls\n",
        "!pwd\n",
        "!mkdir -p ~/.kaggle\n",
        "!cp kaggle.json ~/.kaggle/\n",
        "!chmod 600 ~/.kaggle/kaggle.json"
      ],
      "execution_count": 4,
      "outputs": [
        {
          "output_type": "stream",
          "text": [
            " aisles.csv\t\t     order_products__prior.csv.zip\n",
            " aisles.csv.zip\t\t     order_products__train.csv.zip\n",
            " departments.csv\t     orders.csv\n",
            " departments.csv.zip\t     orders.csv.zip\n",
            "'kaggle (1).json'\t     products.csv\n",
            " kaggle.json\t\t     products.csv.zip\n",
            " __MACOSX\t\t     sample_data\n",
            " order_products__prior.csv   sample_submission.csv.zip\n",
            "/content\n"
          ],
          "name": "stdout"
        }
      ]
    },
    {
      "metadata": {
        "id": "sCsOskTxhYxy",
        "colab_type": "code",
        "outputId": "d6a47185-5c58-4c1c-d116-540b2bd799f1",
        "colab": {
          "base_uri": "https://localhost:8080/",
          "height": 136
        }
      },
      "cell_type": "code",
      "source": [
        "!kaggle competitions download -c instacart-market-basket-analysis"
      ],
      "execution_count": 5,
      "outputs": [
        {
          "output_type": "stream",
          "text": [
            "departments.csv.zip: Skipping, found more recently modified local copy (use --force to force download)\n",
            "aisles.csv.zip: Skipping, found more recently modified local copy (use --force to force download)\n",
            "order_products__train.csv.zip: Skipping, found more recently modified local copy (use --force to force download)\n",
            "products.csv.zip: Skipping, found more recently modified local copy (use --force to force download)\n",
            "orders.csv.zip: Skipping, found more recently modified local copy (use --force to force download)\n",
            "order_products__prior.csv.zip: Skipping, found more recently modified local copy (use --force to force download)\n",
            "sample_submission.csv.zip: Skipping, found more recently modified local copy (use --force to force download)\n"
          ],
          "name": "stdout"
        }
      ]
    },
    {
      "metadata": {
        "id": "yzqWrQsIhZen",
        "colab_type": "code",
        "outputId": "e24b4bcd-b9ec-442e-c8a2-465429753603",
        "colab": {
          "base_uri": "https://localhost:8080/",
          "height": 833
        }
      },
      "cell_type": "code",
      "source": [
        "!ls\n",
        "!unzip order_products__prior.csv\n",
        "!unzip orders.csv\n",
        "!unzip products.csv\n",
        "!unzip aisles.csv\n",
        "!unzip departments.csv"
      ],
      "execution_count": 6,
      "outputs": [
        {
          "output_type": "stream",
          "text": [
            " aisles.csv\t\t     order_products__prior.csv.zip\n",
            " aisles.csv.zip\t\t     order_products__train.csv.zip\n",
            " departments.csv\t     orders.csv\n",
            " departments.csv.zip\t     orders.csv.zip\n",
            "'kaggle (1).json'\t     products.csv\n",
            " kaggle.json\t\t     products.csv.zip\n",
            " __MACOSX\t\t     sample_data\n",
            " order_products__prior.csv   sample_submission.csv.zip\n",
            "Archive:  order_products__prior.csv\n",
            "  End-of-central-directory signature not found.  Either this file is not\n",
            "  a zipfile, or it constitutes one disk of a multi-part archive.  In the\n",
            "  latter case the central directory and zipfile comment will be found on\n",
            "  the last disk(s) of this archive.\n",
            "Archive:  order_products__prior.csv.zip\n",
            "replace order_products__prior.csv? [y]es, [n]o, [A]ll, [N]one, [r]ename: n\n",
            "replace __MACOSX/._order_products__prior.csv? [y]es, [n]o, [A]ll, [N]one, [r]ename: n\n",
            "Archive:  orders.csv\n",
            "  End-of-central-directory signature not found.  Either this file is not\n",
            "  a zipfile, or it constitutes one disk of a multi-part archive.  In the\n",
            "  latter case the central directory and zipfile comment will be found on\n",
            "  the last disk(s) of this archive.\n",
            "Archive:  orders.csv.zip\n",
            "replace orders.csv? [y]es, [n]o, [A]ll, [N]one, [r]ename: n\n",
            "replace __MACOSX/._orders.csv? [y]es, [n]o, [A]ll, [N]one, [r]ename: n\n",
            "Archive:  products.csv\n",
            "  End-of-central-directory signature not found.  Either this file is not\n",
            "  a zipfile, or it constitutes one disk of a multi-part archive.  In the\n",
            "  latter case the central directory and zipfile comment will be found on\n",
            "  the last disk(s) of this archive.\n",
            "Archive:  products.csv.zip\n",
            "replace products.csv? [y]es, [n]o, [A]ll, [N]one, [r]ename: n\n",
            "replace __MACOSX/._products.csv? [y]es, [n]o, [A]ll, [N]one, [r]ename: n\n",
            "Archive:  aisles.csv\n",
            "  End-of-central-directory signature not found.  Either this file is not\n",
            "  a zipfile, or it constitutes one disk of a multi-part archive.  In the\n",
            "  latter case the central directory and zipfile comment will be found on\n",
            "  the last disk(s) of this archive.\n",
            "Archive:  aisles.csv.zip\n",
            "replace aisles.csv? [y]es, [n]o, [A]ll, [N]one, [r]ename: n\n",
            "replace __MACOSX/._aisles.csv? [y]es, [n]o, [A]ll, [N]one, [r]ename: n\n",
            "Archive:  departments.csv\n",
            "  End-of-central-directory signature not found.  Either this file is not\n",
            "  a zipfile, or it constitutes one disk of a multi-part archive.  In the\n",
            "  latter case the central directory and zipfile comment will be found on\n",
            "  the last disk(s) of this archive.\n",
            "Archive:  departments.csv.zip\n",
            "replace departments.csv? [y]es, [n]o, [A]ll, [N]one, [r]ename: n\n",
            "replace __MACOSX/._departments.csv? [y]es, [n]o, [A]ll, [N]one, [r]ename: n\n"
          ],
          "name": "stdout"
        }
      ]
    },
    {
      "metadata": {
        "id": "DeTQ7yoIh4RB",
        "colab_type": "text"
      },
      "cell_type": "markdown",
      "source": [
        "## Data Preprocessing"
      ]
    },
    {
      "metadata": {
        "id": "uMxwsYjahqq-",
        "colab_type": "code",
        "outputId": "7bb4daee-f13d-440d-b232-6d3662715314",
        "colab": {
          "base_uri": "https://localhost:8080/",
          "height": 221
        }
      },
      "cell_type": "code",
      "source": [
        "import pandas as pd\n",
        "import numpy as np\n",
        "import sys\n",
        "from itertools import combinations, groupby\n",
        "from collections import Counter\n",
        "from IPython.display import display\n",
        "\n",
        "# Function that returns the size of an object in MB\n",
        "def size(obj):\n",
        "    return \"{0:.2f} MB\".format(sys.getsizeof(obj) / (1000 * 1000))\n",
        "\n",
        "orders = pd.read_csv('order_products__prior.csv')\n",
        "print('orders -- dimensions: {0};   size: {1}'.format(orders.shape, size(orders)))\n",
        "display(orders.head())"
      ],
      "execution_count": 71,
      "outputs": [
        {
          "output_type": "stream",
          "text": [
            "orders -- dimensions: (32434489, 4);   size: 1037.90 MB\n"
          ],
          "name": "stdout"
        },
        {
          "output_type": "display_data",
          "data": {
            "text/html": [
              "<div>\n",
              "<style scoped>\n",
              "    .dataframe tbody tr th:only-of-type {\n",
              "        vertical-align: middle;\n",
              "    }\n",
              "\n",
              "    .dataframe tbody tr th {\n",
              "        vertical-align: top;\n",
              "    }\n",
              "\n",
              "    .dataframe thead th {\n",
              "        text-align: right;\n",
              "    }\n",
              "</style>\n",
              "<table border=\"1\" class=\"dataframe\">\n",
              "  <thead>\n",
              "    <tr style=\"text-align: right;\">\n",
              "      <th></th>\n",
              "      <th>order_id</th>\n",
              "      <th>product_id</th>\n",
              "      <th>add_to_cart_order</th>\n",
              "      <th>reordered</th>\n",
              "    </tr>\n",
              "  </thead>\n",
              "  <tbody>\n",
              "    <tr>\n",
              "      <th>0</th>\n",
              "      <td>2</td>\n",
              "      <td>33120</td>\n",
              "      <td>1</td>\n",
              "      <td>1</td>\n",
              "    </tr>\n",
              "    <tr>\n",
              "      <th>1</th>\n",
              "      <td>2</td>\n",
              "      <td>28985</td>\n",
              "      <td>2</td>\n",
              "      <td>1</td>\n",
              "    </tr>\n",
              "    <tr>\n",
              "      <th>2</th>\n",
              "      <td>2</td>\n",
              "      <td>9327</td>\n",
              "      <td>3</td>\n",
              "      <td>0</td>\n",
              "    </tr>\n",
              "    <tr>\n",
              "      <th>3</th>\n",
              "      <td>2</td>\n",
              "      <td>45918</td>\n",
              "      <td>4</td>\n",
              "      <td>1</td>\n",
              "    </tr>\n",
              "    <tr>\n",
              "      <th>4</th>\n",
              "      <td>2</td>\n",
              "      <td>30035</td>\n",
              "      <td>5</td>\n",
              "      <td>0</td>\n",
              "    </tr>\n",
              "  </tbody>\n",
              "</table>\n",
              "</div>"
            ],
            "text/plain": [
              "   order_id  product_id  add_to_cart_order  reordered\n",
              "0         2       33120                  1          1\n",
              "1         2       28985                  2          1\n",
              "2         2        9327                  3          0\n",
              "3         2       45918                  4          1\n",
              "4         2       30035                  5          0"
            ]
          },
          "metadata": {
            "tags": []
          }
        }
      ]
    },
    {
      "metadata": {
        "id": "Gw0rpn4piZpx",
        "colab_type": "text"
      },
      "cell_type": "markdown",
      "source": [
        "### 2.1 Convert order data into format expected by the association rules function"
      ]
    },
    {
      "metadata": {
        "id": "sFmVTjjxiUb2",
        "colab_type": "code",
        "outputId": "1939d56b-45cb-4a98-c339-bb2c3274ee66",
        "colab": {
          "base_uri": "https://localhost:8080/",
          "height": 238
        }
      },
      "cell_type": "code",
      "source": [
        "# Convert from DataFrame to a Series, with order_id as index and item_id as value\n",
        "orders = orders.set_index('order_id')['product_id'].rename('item_id')\n",
        "display(orders.head(10))\n",
        "type(orders)"
      ],
      "execution_count": 72,
      "outputs": [
        {
          "output_type": "display_data",
          "data": {
            "text/plain": [
              "order_id\n",
              "2    33120\n",
              "2    28985\n",
              "2     9327\n",
              "2    45918\n",
              "2    30035\n",
              "2    17794\n",
              "2    40141\n",
              "2     1819\n",
              "2    43668\n",
              "3    33754\n",
              "Name: item_id, dtype: int64"
            ]
          },
          "metadata": {
            "tags": []
          }
        },
        {
          "output_type": "execute_result",
          "data": {
            "text/plain": [
              "pandas.core.series.Series"
            ]
          },
          "metadata": {
            "tags": []
          },
          "execution_count": 72
        }
      ]
    },
    {
      "metadata": {
        "id": "7Z2sj4dWM3iR",
        "colab_type": "code",
        "colab": {
          "base_uri": "https://localhost:8080/",
          "height": 204
        },
        "outputId": "fada5dc2-31f1-4a64-c40c-fb996677131a"
      },
      "cell_type": "code",
      "source": [
        "item_name = pd.read_csv('products.csv')\n",
        "item_name = item_name.rename(columns={'product_id':'item_id', 'product_name':'item_name'})\n",
        "item_name.tail()"
      ],
      "execution_count": 73,
      "outputs": [
        {
          "output_type": "execute_result",
          "data": {
            "text/html": [
              "<div>\n",
              "<style scoped>\n",
              "    .dataframe tbody tr th:only-of-type {\n",
              "        vertical-align: middle;\n",
              "    }\n",
              "\n",
              "    .dataframe tbody tr th {\n",
              "        vertical-align: top;\n",
              "    }\n",
              "\n",
              "    .dataframe thead th {\n",
              "        text-align: right;\n",
              "    }\n",
              "</style>\n",
              "<table border=\"1\" class=\"dataframe\">\n",
              "  <thead>\n",
              "    <tr style=\"text-align: right;\">\n",
              "      <th></th>\n",
              "      <th>item_id</th>\n",
              "      <th>item_name</th>\n",
              "      <th>aisle_id</th>\n",
              "      <th>department_id</th>\n",
              "    </tr>\n",
              "  </thead>\n",
              "  <tbody>\n",
              "    <tr>\n",
              "      <th>49683</th>\n",
              "      <td>49684</td>\n",
              "      <td>Vodka, Triple Distilled, Twist of Vanilla</td>\n",
              "      <td>124</td>\n",
              "      <td>5</td>\n",
              "    </tr>\n",
              "    <tr>\n",
              "      <th>49684</th>\n",
              "      <td>49685</td>\n",
              "      <td>En Croute Roast Hazelnut Cranberry</td>\n",
              "      <td>42</td>\n",
              "      <td>1</td>\n",
              "    </tr>\n",
              "    <tr>\n",
              "      <th>49685</th>\n",
              "      <td>49686</td>\n",
              "      <td>Artisan Baguette</td>\n",
              "      <td>112</td>\n",
              "      <td>3</td>\n",
              "    </tr>\n",
              "    <tr>\n",
              "      <th>49686</th>\n",
              "      <td>49687</td>\n",
              "      <td>Smartblend Healthy Metabolism Dry Cat Food</td>\n",
              "      <td>41</td>\n",
              "      <td>8</td>\n",
              "    </tr>\n",
              "    <tr>\n",
              "      <th>49687</th>\n",
              "      <td>49688</td>\n",
              "      <td>Fresh Foaming Cleanser</td>\n",
              "      <td>73</td>\n",
              "      <td>11</td>\n",
              "    </tr>\n",
              "  </tbody>\n",
              "</table>\n",
              "</div>"
            ],
            "text/plain": [
              "       item_id                                   item_name  aisle_id  \\\n",
              "49683    49684   Vodka, Triple Distilled, Twist of Vanilla       124   \n",
              "49684    49685          En Croute Roast Hazelnut Cranberry        42   \n",
              "49685    49686                            Artisan Baguette       112   \n",
              "49686    49687  Smartblend Healthy Metabolism Dry Cat Food        41   \n",
              "49687    49688                      Fresh Foaming Cleanser        73   \n",
              "\n",
              "       department_id  \n",
              "49683              5  \n",
              "49684              1  \n",
              "49685              3  \n",
              "49686              8  \n",
              "49687             11  "
            ]
          },
          "metadata": {
            "tags": []
          },
          "execution_count": 73
        }
      ]
    },
    {
      "metadata": {
        "id": "yiQ3oKGbi_2X",
        "colab_type": "text"
      },
      "cell_type": "markdown",
      "source": [
        "# Line-by-Line Sequence\n"
      ]
    },
    {
      "metadata": {
        "id": "NMXSS0F0pc5y",
        "colab_type": "text"
      },
      "cell_type": "markdown",
      "source": [
        "Another approach is to split up the source text line-by-line, then break each line down into a series of words that build up.\n",
        "\n",
        "This approach may allow the model to use the context of each line to help the model in those cases where a simple one-word-in-and-out model creates ambiguity.\n",
        "\n",
        "In this case, this comes at the cost of predicting words across lines, which might be fine for now if we are only interested in modeling and generating lines of text.\n",
        "\n",
        "Note that in this representation, we will require a padding of sequences to ensure they meet a fixed length input. This is a requirement when using Keras.\n",
        "\n",
        "First, we can create the sequences of integers, line-by-line by using the Tokenizer already fit on the source text."
      ]
    },
    {
      "metadata": {
        "id": "ETMHCe4FNiYv",
        "colab_type": "code",
        "colab": {}
      },
      "cell_type": "code",
      "source": [
        "data = \"\"\n",
        "indexset = set()\n",
        "\n",
        "for i in orders.index:\n",
        "  if len(indexset) < 2000:\n",
        "    for itemid in orders[i].data:\n",
        "      data += item_name.loc[itemid].item_name + \" \"\n",
        "      indexset.add(itemid)\n",
        "    data += \"\\n\"\n",
        "    \n",
        "vocab_size = len(indexset)"
      ],
      "execution_count": 0,
      "outputs": []
    },
    {
      "metadata": {
        "id": "AILyxUBFN6Iw",
        "colab_type": "code",
        "colab": {
          "base_uri": "https://localhost:8080/",
          "height": 51
        },
        "outputId": "6e2d07bc-078c-42fa-a118-8c9d5048116b"
      },
      "cell_type": "code",
      "source": [
        "# prepare the tokenizer on the source text\n",
        "tokenizer = Tokenizer()\n",
        "tokenizer.fit_on_texts([data])\n",
        "\n",
        "# determine the vocabulary size\n",
        "vocab_size = len(tokenizer.word_index) + 1\n",
        "print('Vocabulary Size: %d' % vocab_size)\n",
        "\n",
        "# create line-based sequences\n",
        "sequences = list()\n",
        "for line in data.split('\\n'):\n",
        "\tencoded = tokenizer.texts_to_sequences([line])[0]\n",
        "\tfor i in range(len(encoded)-2, len(encoded)):\n",
        "\t\tsequence = encoded[:i+1]\n",
        "\t\tsequences.append(sequence)\n",
        "print('Total Sequences: %d' % len(sequences))"
      ],
      "execution_count": 75,
      "outputs": [
        {
          "output_type": "stream",
          "text": [
            "Vocabulary Size: 2450\n",
            "Total Sequences: 6090\n"
          ],
          "name": "stdout"
        }
      ]
    },
    {
      "metadata": {
        "id": "-4iy0Mc8pi9C",
        "colab_type": "text"
      },
      "cell_type": "markdown",
      "source": [
        "Next, we can pad the prepared sequences. We can do this using the `pad_sequences()` function provided in Keras. This first involves finding the longest sequence, then using that as the length by which to pad-out all other sequences.\n",
        "\n",
        "The model can then be defined as before, except the input sequences are now longer than a single word. Specifically, they are `max_length`-1 in length, -1 because when we calculated the maximum length of sequences, they included the input and output elements."
      ]
    },
    {
      "metadata": {
        "colab_type": "code",
        "outputId": "09c4318e-b9c3-4a63-d132-ed4039ed1f9d",
        "id": "cTgyBKkwOEmo",
        "colab": {
          "base_uri": "https://localhost:8080/",
          "height": 34
        }
      },
      "cell_type": "code",
      "source": [
        "# pad input sequences\n",
        "max_length = max([len(seq) for seq in sequences])\n",
        "sequences = pad_sequences(sequences, maxlen=max_length, padding='pre')\n",
        "print('Max Sequence Length: %d' % max_length)"
      ],
      "execution_count": 76,
      "outputs": [
        {
          "output_type": "stream",
          "text": [
            "Max Sequence Length: 173\n"
          ],
          "name": "stdout"
        }
      ]
    },
    {
      "metadata": {
        "colab_type": "code",
        "id": "Wv-0WEMpOEms",
        "colab": {}
      },
      "cell_type": "code",
      "source": [
        "# split into input and output elements\n",
        "sequences = array(sequences)\n",
        "X, y = sequences[:,:-1],sequences[:,-1]\n",
        "y = to_categorical(y, num_classes=vocab_size)\n"
      ],
      "execution_count": 0,
      "outputs": []
    },
    {
      "metadata": {
        "colab_type": "code",
        "outputId": "dccf9186-054a-4d1e-c956-69bde1ef724f",
        "id": "TEsWcVyzOEmu",
        "colab": {
          "base_uri": "https://localhost:8080/",
          "height": 255
        }
      },
      "cell_type": "code",
      "source": [
        "# define model\n",
        "model = Sequential()\n",
        "model.add(Embedding(vocab_size, 10, input_length=max_length-1))\n",
        "model.add(LSTM(50))\n",
        "model.add(Dense(vocab_size, activation='softmax'))\n",
        "print(model.summary())\n"
      ],
      "execution_count": 78,
      "outputs": [
        {
          "output_type": "stream",
          "text": [
            "_________________________________________________________________\n",
            "Layer (type)                 Output Shape              Param #   \n",
            "=================================================================\n",
            "embedding_7 (Embedding)      (None, 172, 10)           24500     \n",
            "_________________________________________________________________\n",
            "lstm_7 (LSTM)                (None, 50)                12200     \n",
            "_________________________________________________________________\n",
            "dense_7 (Dense)              (None, 2450)              124950    \n",
            "=================================================================\n",
            "Total params: 161,650\n",
            "Trainable params: 161,650\n",
            "Non-trainable params: 0\n",
            "_________________________________________________________________\n",
            "None\n"
          ],
          "name": "stdout"
        }
      ]
    },
    {
      "metadata": {
        "colab_type": "code",
        "id": "SMQAlPOrOEm2",
        "colab": {}
      },
      "cell_type": "code",
      "source": [
        "# compile network\n",
        "model.compile(loss='categorical_crossentropy', optimizer='adam', metrics=['accuracy'])\n"
      ],
      "execution_count": 0,
      "outputs": []
    },
    {
      "metadata": {
        "colab_type": "code",
        "outputId": "acecbe02-aa9e-43cb-c405-ae8af7556383",
        "id": "NqiInhZ3OEm5",
        "colab": {
          "base_uri": "https://localhost:8080/",
          "height": 1734
        }
      },
      "cell_type": "code",
      "source": [
        "# fit network\n",
        "model.fit(X, y, epochs=50, verbose=2)\n"
      ],
      "execution_count": 80,
      "outputs": [
        {
          "output_type": "stream",
          "text": [
            "Epoch 1/50\n",
            " - 63s - loss: 6.3393 - acc: 0.0172\n",
            "Epoch 2/50\n",
            " - 61s - loss: 5.7334 - acc: 0.0197\n",
            "Epoch 3/50\n",
            " - 60s - loss: 5.7096 - acc: 0.0200\n",
            "Epoch 4/50\n",
            " - 60s - loss: 5.6646 - acc: 0.0190\n",
            "Epoch 5/50\n",
            " - 61s - loss: 5.5838 - acc: 0.0207\n",
            "Epoch 6/50\n",
            " - 61s - loss: 5.4907 - acc: 0.0263\n",
            "Epoch 7/50\n",
            " - 61s - loss: 5.3854 - acc: 0.0264\n",
            "Epoch 8/50\n",
            " - 61s - loss: 5.2664 - acc: 0.0291\n",
            "Epoch 9/50\n",
            " - 61s - loss: 5.0806 - acc: 0.0412\n",
            "Epoch 10/50\n",
            " - 61s - loss: 4.7595 - acc: 0.0691\n",
            "Epoch 11/50\n",
            " - 61s - loss: 4.4180 - acc: 0.1010\n",
            "Epoch 12/50\n",
            " - 61s - loss: 4.0973 - acc: 0.1557\n",
            "Epoch 13/50\n",
            " - 61s - loss: 3.8001 - acc: 0.2059\n",
            "Epoch 14/50\n",
            " - 61s - loss: 3.5202 - acc: 0.2690\n",
            "Epoch 15/50\n",
            " - 61s - loss: 3.2599 - acc: 0.3255\n",
            "Epoch 16/50\n",
            " - 61s - loss: 3.0103 - acc: 0.4011\n",
            "Epoch 17/50\n",
            " - 61s - loss: 2.7724 - acc: 0.4695\n",
            "Epoch 18/50\n",
            " - 61s - loss: 2.5503 - acc: 0.5184\n",
            "Epoch 19/50\n",
            " - 62s - loss: 2.3473 - acc: 0.5704\n",
            "Epoch 20/50\n",
            " - 62s - loss: 2.1421 - acc: 0.6046\n",
            "Epoch 21/50\n",
            " - 62s - loss: 1.9544 - acc: 0.6532\n",
            "Epoch 22/50\n",
            " - 62s - loss: 1.7930 - acc: 0.7016\n",
            "Epoch 23/50\n",
            " - 62s - loss: 1.6204 - acc: 0.7461\n",
            "Epoch 24/50\n",
            " - 62s - loss: 1.4668 - acc: 0.7933\n",
            "Epoch 25/50\n",
            " - 62s - loss: 1.3284 - acc: 0.8250\n",
            "Epoch 26/50\n",
            " - 62s - loss: 1.2014 - acc: 0.8463\n",
            "Epoch 27/50\n",
            " - 62s - loss: 1.0858 - acc: 0.8736\n",
            "Epoch 28/50\n",
            " - 61s - loss: 1.0274 - acc: 0.8787\n",
            "Epoch 29/50\n",
            " - 61s - loss: 0.8803 - acc: 0.9122\n",
            "Epoch 30/50\n",
            " - 61s - loss: 0.7891 - acc: 0.9228\n",
            "Epoch 31/50\n",
            " - 61s - loss: 0.7091 - acc: 0.9358\n",
            "Epoch 32/50\n",
            " - 61s - loss: 0.6382 - acc: 0.9407\n",
            "Epoch 33/50\n",
            " - 61s - loss: 0.5765 - acc: 0.9509\n",
            "Epoch 34/50\n",
            " - 61s - loss: 0.5215 - acc: 0.9558\n",
            "Epoch 35/50\n",
            " - 61s - loss: 0.4633 - acc: 0.9632\n",
            "Epoch 36/50\n",
            " - 61s - loss: 0.4143 - acc: 0.9658\n",
            "Epoch 37/50\n",
            " - 61s - loss: 0.3727 - acc: 0.9731\n",
            "Epoch 38/50\n",
            " - 61s - loss: 0.3358 - acc: 0.9770\n",
            "Epoch 39/50\n",
            " - 61s - loss: 0.3030 - acc: 0.9793\n",
            "Epoch 40/50\n",
            " - 61s - loss: 0.2733 - acc: 0.9813\n",
            "Epoch 41/50\n",
            " - 61s - loss: 0.2471 - acc: 0.9844\n",
            "Epoch 42/50\n",
            " - 61s - loss: 0.2230 - acc: 0.9880\n",
            "Epoch 43/50\n",
            " - 61s - loss: 0.2023 - acc: 0.9880\n",
            "Epoch 44/50\n",
            " - 61s - loss: 0.1836 - acc: 0.9913\n",
            "Epoch 45/50\n",
            " - 61s - loss: 0.1757 - acc: 0.9898\n",
            "Epoch 46/50\n",
            " - 61s - loss: 0.1483 - acc: 0.9952\n",
            "Epoch 47/50\n",
            " - 61s - loss: 0.1338 - acc: 0.9951\n",
            "Epoch 48/50\n",
            " - 61s - loss: 0.1214 - acc: 0.9946\n",
            "Epoch 49/50\n",
            " - 61s - loss: 0.1095 - acc: 0.9969\n",
            "Epoch 50/50\n",
            " - 61s - loss: 0.0990 - acc: 0.9967\n"
          ],
          "name": "stdout"
        },
        {
          "output_type": "execute_result",
          "data": {
            "text/plain": [
              "<keras.callbacks.History at 0x7f9ddd788748>"
            ]
          },
          "metadata": {
            "tags": []
          },
          "execution_count": 80
        }
      ]
    },
    {
      "metadata": {
        "id": "TlTp2T58puOa",
        "colab_type": "text"
      },
      "cell_type": "markdown",
      "source": [
        "We can use the model to generate new sequences as before. The `generate_seq()` function can be updated to build up an input sequence by adding predictions to the list of input words each iteration."
      ]
    },
    {
      "metadata": {
        "id": "ajXiVXbgOPgj",
        "colab_type": "code",
        "colab": {
          "base_uri": "https://localhost:8080/",
          "height": 51
        },
        "outputId": "6c39af57-4de3-4699-9323-403d1374d578"
      },
      "cell_type": "code",
      "source": [
        "# evaluate model\n",
        "print(generate_seq(model, tokenizer, max_length-1, 'Strawberry', 4))\n",
        "print(generate_seq(model, tokenizer, max_length-1, 'sandwiches', 4))\n"
      ],
      "execution_count": 81,
      "outputs": [
        {
          "output_type": "stream",
          "text": [
            "Strawberry drink bags carrots potatoes\n",
            "sandwiches ranchera filberts soup santa\n"
          ],
          "name": "stdout"
        }
      ]
    },
    {
      "metadata": {
        "id": "HJqgB90qjEvW",
        "colab_type": "text"
      },
      "cell_type": "markdown",
      "source": [
        "# Two-Words-In, One-Word-Out Sequence"
      ]
    },
    {
      "metadata": {
        "id": "yEnrfTHJp0Mt",
        "colab_type": "text"
      },
      "cell_type": "markdown",
      "source": [
        "We can use an intermediate between the one-word-in and the whole-sentence-in approaches and pass in a sub-sequences of words as input.\n",
        "\n",
        "This will provide a trade-off between the two framings allowing new lines to be generated and for generation to be picked up mid line.\n",
        "\n",
        "We will use 3 words as input to predict one word as output. The preparation of the sequences is much like the first example, except with different offsets in the source sequence arrays, as follows:"
      ]
    },
    {
      "metadata": {
        "id": "9SkUJaIwjM-A",
        "colab_type": "code",
        "colab": {}
      },
      "cell_type": "code",
      "source": [
        "# integer encode sequences of words\n",
        "tokenizer2 = Tokenizer()\n",
        "tokenizer2.fit_on_texts([data])\n",
        "encoded2 = tokenizer2.texts_to_sequences([data])[0]\n"
      ],
      "execution_count": 0,
      "outputs": []
    },
    {
      "metadata": {
        "id": "wQL3MiELjtJo",
        "colab_type": "code",
        "colab": {
          "base_uri": "https://localhost:8080/",
          "height": 34
        },
        "outputId": "34c42227-bc5a-48cc-9763-3d420b1f4e56"
      },
      "cell_type": "code",
      "source": [
        "# retrieve vocabulary size\n",
        "vocab_size2 = len(tokenizer2.word_index) + 1\n",
        "print('Vocabulary Size: %d' % vocab_size2)\n"
      ],
      "execution_count": 48,
      "outputs": [
        {
          "output_type": "stream",
          "text": [
            "Vocabulary Size: 2450\n"
          ],
          "name": "stdout"
        }
      ]
    },
    {
      "metadata": {
        "id": "S5G3h9w3juIq",
        "colab_type": "code",
        "colab": {
          "base_uri": "https://localhost:8080/",
          "height": 34
        },
        "outputId": "1f073645-0486-4943-e9db-618219e95c4f"
      },
      "cell_type": "code",
      "source": [
        "# encode 2 words -> 1 word\n",
        "sequences2 = list()\n",
        "for i in range(2, 6090):\n",
        "\tsequence2 = encoded2[i-2:i+1]\n",
        "\tsequences2.append(sequence2)\n",
        "print('Total Sequences: %d' % len(sequences2))\n"
      ],
      "execution_count": 49,
      "outputs": [
        {
          "output_type": "stream",
          "text": [
            "Total Sequences: 6088\n"
          ],
          "name": "stdout"
        }
      ]
    },
    {
      "metadata": {
        "id": "JocE2GfEju-t",
        "colab_type": "code",
        "colab": {
          "base_uri": "https://localhost:8080/",
          "height": 34
        },
        "outputId": "d57d9336-a396-40a5-8a9f-c8834db3dd59"
      },
      "cell_type": "code",
      "source": [
        "# pad sequences\n",
        "max_length2 = max([len(seq) for seq in sequences2])\n",
        "sequences2 = pad_sequences(sequences2, maxlen=max_length2, padding='pre')\n",
        "print('Max Sequence Length: %d' % max_length2)\n"
      ],
      "execution_count": 50,
      "outputs": [
        {
          "output_type": "stream",
          "text": [
            "Max Sequence Length: 3\n"
          ],
          "name": "stdout"
        }
      ]
    },
    {
      "metadata": {
        "id": "uENASO9bjweI",
        "colab_type": "code",
        "colab": {}
      },
      "cell_type": "code",
      "source": [
        "# split into input and output elements\n",
        "sequences2 = array(sequences2)\n",
        "X2, y2 = sequences2[:,:-1],sequences2[:,-1]\n",
        "y2 = to_categorical(y2, num_classes=vocab_size2)\n"
      ],
      "execution_count": 0,
      "outputs": []
    },
    {
      "metadata": {
        "id": "PbjgAO3YjxTT",
        "colab_type": "code",
        "colab": {
          "base_uri": "https://localhost:8080/",
          "height": 255
        },
        "outputId": "563d330c-37b9-4a47-a062-c0f7c0a5d9a8"
      },
      "cell_type": "code",
      "source": [
        "# define model\n",
        "model2 = Sequential()\n",
        "model2.add(Embedding(vocab_size2, 10, input_length=max_length2-1))\n",
        "model2.add(LSTM(50))\n",
        "model2.add(Dense(vocab_size2, activation='softmax'))\n",
        "print(model2.summary())\n"
      ],
      "execution_count": 52,
      "outputs": [
        {
          "output_type": "stream",
          "text": [
            "_________________________________________________________________\n",
            "Layer (type)                 Output Shape              Param #   \n",
            "=================================================================\n",
            "embedding_5 (Embedding)      (None, 2, 10)             24500     \n",
            "_________________________________________________________________\n",
            "lstm_5 (LSTM)                (None, 50)                12200     \n",
            "_________________________________________________________________\n",
            "dense_5 (Dense)              (None, 2450)              124950    \n",
            "=================================================================\n",
            "Total params: 161,650\n",
            "Trainable params: 161,650\n",
            "Non-trainable params: 0\n",
            "_________________________________________________________________\n",
            "None\n"
          ],
          "name": "stdout"
        }
      ]
    },
    {
      "metadata": {
        "id": "h8mCklumjyLY",
        "colab_type": "code",
        "colab": {}
      },
      "cell_type": "code",
      "source": [
        "# compile network\n",
        "model2.compile(loss='categorical_crossentropy', optimizer='adam', metrics=['accuracy'])\n"
      ],
      "execution_count": 0,
      "outputs": []
    },
    {
      "metadata": {
        "id": "D-Un3-iCjzMC",
        "colab_type": "code",
        "colab": {
          "base_uri": "https://localhost:8080/",
          "height": 1734
        },
        "outputId": "2b6c9621-8a83-4573-b807-d78a74ddac51"
      },
      "cell_type": "code",
      "source": [
        "# fit network\n",
        "model2.fit(X2, y2, epochs=50, verbose=2)"
      ],
      "execution_count": 54,
      "outputs": [
        {
          "output_type": "stream",
          "text": [
            "Epoch 1/50\n",
            " - 3s - loss: 6.7099 - acc: 0.0227\n",
            "Epoch 2/50\n",
            " - 2s - loss: 5.4353 - acc: 0.0235\n",
            "Epoch 3/50\n",
            " - 2s - loss: 5.3245 - acc: 0.0218\n",
            "Epoch 4/50\n",
            " - 2s - loss: 5.2675 - acc: 0.0232\n",
            "Epoch 5/50\n",
            " - 2s - loss: 5.2141 - acc: 0.0230\n",
            "Epoch 6/50\n",
            " - 2s - loss: 5.1119 - acc: 0.0238\n",
            "Epoch 7/50\n",
            " - 2s - loss: 4.7985 - acc: 0.0348\n",
            "Epoch 8/50\n",
            " - 2s - loss: 4.2641 - acc: 0.0971\n",
            "Epoch 9/50\n",
            " - 2s - loss: 3.6493 - acc: 0.2221\n",
            "Epoch 10/50\n",
            " - 2s - loss: 3.0628 - acc: 0.3883\n",
            "Epoch 11/50\n",
            " - 2s - loss: 2.5205 - acc: 0.5309\n",
            "Epoch 12/50\n",
            " - 2s - loss: 2.0587 - acc: 0.6590\n",
            "Epoch 13/50\n",
            " - 2s - loss: 1.6781 - acc: 0.7372\n",
            "Epoch 14/50\n",
            " - 2s - loss: 1.3708 - acc: 0.8134\n",
            "Epoch 15/50\n",
            " - 2s - loss: 1.1273 - acc: 0.8530\n",
            "Epoch 16/50\n",
            " - 2s - loss: 0.9313 - acc: 0.8955\n",
            "Epoch 17/50\n",
            " - 2s - loss: 0.7741 - acc: 0.9156\n",
            "Epoch 18/50\n",
            " - 2s - loss: 0.6458 - acc: 0.9379\n",
            "Epoch 19/50\n",
            " - 2s - loss: 0.5419 - acc: 0.9497\n",
            "Epoch 20/50\n",
            " - 2s - loss: 0.4555 - acc: 0.9614\n",
            "Epoch 21/50\n",
            " - 2s - loss: 0.3881 - acc: 0.9662\n",
            "Epoch 22/50\n",
            " - 2s - loss: 0.3323 - acc: 0.9688\n",
            "Epoch 23/50\n",
            " - 2s - loss: 0.2884 - acc: 0.9713\n",
            "Epoch 24/50\n",
            " - 2s - loss: 0.2524 - acc: 0.9740\n",
            "Epoch 25/50\n",
            " - 2s - loss: 0.2209 - acc: 0.9798\n",
            "Epoch 26/50\n",
            " - 2s - loss: 0.1959 - acc: 0.9818\n",
            "Epoch 27/50\n",
            " - 2s - loss: 0.1744 - acc: 0.9849\n",
            "Epoch 28/50\n",
            " - 2s - loss: 0.1559 - acc: 0.9870\n",
            "Epoch 29/50\n",
            " - 2s - loss: 0.1409 - acc: 0.9883\n",
            "Epoch 30/50\n",
            " - 2s - loss: 0.1276 - acc: 0.9888\n",
            "Epoch 31/50\n",
            " - 2s - loss: 0.1161 - acc: 0.9901\n",
            "Epoch 32/50\n",
            " - 2s - loss: 0.1061 - acc: 0.9901\n",
            "Epoch 33/50\n",
            " - 2s - loss: 0.0971 - acc: 0.9906\n",
            "Epoch 34/50\n",
            " - 2s - loss: 0.0892 - acc: 0.9908\n",
            "Epoch 35/50\n",
            " - 2s - loss: 0.0822 - acc: 0.9911\n",
            "Epoch 36/50\n",
            " - 2s - loss: 0.0759 - acc: 0.9920\n",
            "Epoch 37/50\n",
            " - 2s - loss: 0.0705 - acc: 0.9924\n",
            "Epoch 38/50\n",
            " - 2s - loss: 0.0652 - acc: 0.9924\n",
            "Epoch 39/50\n",
            " - 2s - loss: 0.0603 - acc: 0.9926\n",
            "Epoch 40/50\n",
            " - 2s - loss: 0.0563 - acc: 0.9931\n",
            "Epoch 41/50\n",
            " - 2s - loss: 0.0522 - acc: 0.9938\n",
            "Epoch 42/50\n",
            " - 2s - loss: 0.0485 - acc: 0.9943\n",
            "Epoch 43/50\n",
            " - 2s - loss: 0.0455 - acc: 0.9943\n",
            "Epoch 44/50\n",
            " - 2s - loss: 0.0428 - acc: 0.9941\n",
            "Epoch 45/50\n",
            " - 2s - loss: 0.0403 - acc: 0.9939\n",
            "Epoch 46/50\n",
            " - 2s - loss: 0.0380 - acc: 0.9944\n",
            "Epoch 47/50\n",
            " - 2s - loss: 0.0358 - acc: 0.9946\n",
            "Epoch 48/50\n",
            " - 2s - loss: 0.0337 - acc: 0.9946\n",
            "Epoch 49/50\n",
            " - 2s - loss: 0.0320 - acc: 0.9943\n",
            "Epoch 50/50\n",
            " - 2s - loss: 0.0307 - acc: 0.9944\n"
          ],
          "name": "stdout"
        },
        {
          "output_type": "execute_result",
          "data": {
            "text/plain": [
              "<keras.callbacks.History at 0x7f9de00bfba8>"
            ]
          },
          "metadata": {
            "tags": []
          },
          "execution_count": 54
        }
      ]
    },
    {
      "metadata": {
        "id": "ABFP-Q_TkGFb",
        "colab_type": "code",
        "colab": {
          "base_uri": "https://localhost:8080/",
          "height": 51
        },
        "outputId": "adb2b81b-d52d-4fff-988c-8ebe4b8a3058"
      },
      "cell_type": "code",
      "source": [
        "# evaluate model\n",
        "print(generate_seq(model2, tokenizer2, max_length2-1, 'Strawberry', 4))\n",
        "print(generate_seq(model2, tokenizer2, max_length2-1, 'sandwiches', 4))"
      ],
      "execution_count": 55,
      "outputs": [
        {
          "output_type": "stream",
          "text": [
            "Strawberry cake style traditional with\n",
            "sandwiches ground activated ultracube pizza\n"
          ],
          "name": "stdout"
        }
      ]
    },
    {
      "metadata": {
        "id": "FXjWTZnzlBbE",
        "colab_type": "code",
        "colab": {}
      },
      "cell_type": "code",
      "source": [
        ""
      ],
      "execution_count": 0,
      "outputs": []
    }
  ]
}